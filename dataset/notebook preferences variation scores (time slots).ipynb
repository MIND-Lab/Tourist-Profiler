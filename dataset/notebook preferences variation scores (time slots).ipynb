{
 "cells": [
  {
   "cell_type": "code",
   "execution_count": 1,
   "metadata": {},
   "outputs": [
    {
     "data": {
      "text/plain": [
       "False"
      ]
     },
     "execution_count": 1,
     "metadata": {},
     "output_type": "execute_result"
    }
   ],
   "source": [
    "import torch\n",
    "import random\n",
    "import numpy as np\n",
    "import pandas as pd\n",
    "import seaborn as sns\n",
    "import matplotlib.pyplot as plt\n",
    "\n",
    "from Dataset import Dataset\n",
    "from Setting import Setting\n",
    "\n",
    "torch.cuda.is_available()"
   ]
  },
  {
   "cell_type": "markdown",
   "metadata": {},
   "source": [
    "# General settings"
   ]
  },
  {
   "cell_type": "code",
   "execution_count": 2,
   "metadata": {},
   "outputs": [],
   "source": [
    "# Set the random seed for reproducibility.\n",
    "random_seed = 1\n",
    "#tf.random.set_random_seed(random_seed)\n",
    "torch.manual_seed(random_seed)\n",
    "random.seed(random_seed)\n",
    "np.random.seed(random_seed)\n",
    "\n",
    "args = Setting()\n",
    "device = args.device\n",
    "dataset = Dataset(args.dataset_path, args.batch_size, args.fast_testing)"
   ]
  },
  {
   "cell_type": "markdown",
   "metadata": {},
   "source": [
    "# Preprocess dataframe"
   ]
  },
  {
   "cell_type": "code",
   "execution_count": 3,
   "metadata": {},
   "outputs": [
    {
     "data": {
      "text/html": [
       "<div>\n",
       "<style scoped>\n",
       "    .dataframe tbody tr th:only-of-type {\n",
       "        vertical-align: middle;\n",
       "    }\n",
       "\n",
       "    .dataframe tbody tr th {\n",
       "        vertical-align: top;\n",
       "    }\n",
       "\n",
       "    .dataframe thead th {\n",
       "        text-align: right;\n",
       "    }\n",
       "</style>\n",
       "<table border=\"1\" class=\"dataframe\">\n",
       "  <thead>\n",
       "    <tr style=\"text-align: right;\">\n",
       "      <th></th>\n",
       "      <th>UserID</th>\n",
       "      <th>MovieID</th>\n",
       "      <th>CategoryID</th>\n",
       "      <th>Rating</th>\n",
       "      <th>Timestamp</th>\n",
       "    </tr>\n",
       "  </thead>\n",
       "  <tbody>\n",
       "    <tr>\n",
       "      <th>474</th>\n",
       "      <td>101</td>\n",
       "      <td>177</td>\n",
       "      <td>4</td>\n",
       "      <td>4</td>\n",
       "      <td>874724710</td>\n",
       "    </tr>\n",
       "    <tr>\n",
       "      <th>178269</th>\n",
       "      <td>101</td>\n",
       "      <td>289</td>\n",
       "      <td>7</td>\n",
       "      <td>4</td>\n",
       "      <td>874724727</td>\n",
       "    </tr>\n",
       "    <tr>\n",
       "      <th>90841</th>\n",
       "      <td>101</td>\n",
       "      <td>153</td>\n",
       "      <td>0</td>\n",
       "      <td>4</td>\n",
       "      <td>874724754</td>\n",
       "    </tr>\n",
       "    <tr>\n",
       "      <th>45079</th>\n",
       "      <td>101</td>\n",
       "      <td>361</td>\n",
       "      <td>10</td>\n",
       "      <td>4</td>\n",
       "      <td>874724781</td>\n",
       "    </tr>\n",
       "    <tr>\n",
       "      <th>175466</th>\n",
       "      <td>101</td>\n",
       "      <td>321</td>\n",
       "      <td>0</td>\n",
       "      <td>4</td>\n",
       "      <td>874724843</td>\n",
       "    </tr>\n",
       "    <tr>\n",
       "      <th>...</th>\n",
       "      <td>...</td>\n",
       "      <td>...</td>\n",
       "      <td>...</td>\n",
       "      <td>...</td>\n",
       "      <td>...</td>\n",
       "    </tr>\n",
       "    <tr>\n",
       "      <th>98754</th>\n",
       "      <td>724</td>\n",
       "      <td>890</td>\n",
       "      <td>0</td>\n",
       "      <td>4</td>\n",
       "      <td>893286638</td>\n",
       "    </tr>\n",
       "    <tr>\n",
       "      <th>157460</th>\n",
       "      <td>724</td>\n",
       "      <td>652</td>\n",
       "      <td>0</td>\n",
       "      <td>4</td>\n",
       "      <td>893286638</td>\n",
       "    </tr>\n",
       "    <tr>\n",
       "      <th>98345</th>\n",
       "      <td>724</td>\n",
       "      <td>98</td>\n",
       "      <td>0</td>\n",
       "      <td>3</td>\n",
       "      <td>893286638</td>\n",
       "    </tr>\n",
       "    <tr>\n",
       "      <th>168106</th>\n",
       "      <td>724</td>\n",
       "      <td>130</td>\n",
       "      <td>7</td>\n",
       "      <td>4</td>\n",
       "      <td>893286638</td>\n",
       "    </tr>\n",
       "    <tr>\n",
       "      <th>154748</th>\n",
       "      <td>724</td>\n",
       "      <td>719</td>\n",
       "      <td>0</td>\n",
       "      <td>3</td>\n",
       "      <td>893286638</td>\n",
       "    </tr>\n",
       "  </tbody>\n",
       "</table>\n",
       "<p>100000 rows × 5 columns</p>\n",
       "</div>"
      ],
      "text/plain": [
       "        UserID  MovieID  CategoryID  Rating  Timestamp\n",
       "474        101      177           4       4  874724710\n",
       "178269     101      289           7       4  874724727\n",
       "90841      101      153           0       4  874724754\n",
       "45079      101      361          10       4  874724781\n",
       "175466     101      321           0       4  874724843\n",
       "...        ...      ...         ...     ...        ...\n",
       "98754      724      890           0       4  893286638\n",
       "157460     724      652           0       4  893286638\n",
       "98345      724       98           0       3  893286638\n",
       "168106     724      130           7       4  893286638\n",
       "154748     724      719           0       3  893286638\n",
       "\n",
       "[100000 rows x 5 columns]"
      ]
     },
     "execution_count": 3,
     "metadata": {},
     "output_type": "execute_result"
    }
   ],
   "source": [
    "dataframe = dataset.data_full.drop_duplicates(subset=['UserID', 'MovieID', 'Timestamp'])\n",
    "dataframe"
   ]
  },
  {
   "cell_type": "code",
   "execution_count": 4,
   "metadata": {},
   "outputs": [
    {
     "data": {
      "text/html": [
       "<div>\n",
       "<style scoped>\n",
       "    .dataframe tbody tr th:only-of-type {\n",
       "        vertical-align: middle;\n",
       "    }\n",
       "\n",
       "    .dataframe tbody tr th {\n",
       "        vertical-align: top;\n",
       "    }\n",
       "\n",
       "    .dataframe thead th {\n",
       "        text-align: right;\n",
       "    }\n",
       "</style>\n",
       "<table border=\"1\" class=\"dataframe\">\n",
       "  <thead>\n",
       "    <tr style=\"text-align: right;\">\n",
       "      <th></th>\n",
       "      <th>UserID</th>\n",
       "      <th>MovieID</th>\n",
       "      <th>CategoryID</th>\n",
       "      <th>Rating</th>\n",
       "      <th>Timestamp</th>\n",
       "      <th>Month</th>\n",
       "    </tr>\n",
       "  </thead>\n",
       "  <tbody>\n",
       "    <tr>\n",
       "      <th>474</th>\n",
       "      <td>101</td>\n",
       "      <td>177</td>\n",
       "      <td>4</td>\n",
       "      <td>4</td>\n",
       "      <td>1997-09-20 03:05:10</td>\n",
       "      <td>1997-09</td>\n",
       "    </tr>\n",
       "    <tr>\n",
       "      <th>178269</th>\n",
       "      <td>101</td>\n",
       "      <td>289</td>\n",
       "      <td>7</td>\n",
       "      <td>4</td>\n",
       "      <td>1997-09-20 03:05:27</td>\n",
       "      <td>1997-09</td>\n",
       "    </tr>\n",
       "    <tr>\n",
       "      <th>90841</th>\n",
       "      <td>101</td>\n",
       "      <td>153</td>\n",
       "      <td>0</td>\n",
       "      <td>4</td>\n",
       "      <td>1997-09-20 03:05:54</td>\n",
       "      <td>1997-09</td>\n",
       "    </tr>\n",
       "    <tr>\n",
       "      <th>45079</th>\n",
       "      <td>101</td>\n",
       "      <td>361</td>\n",
       "      <td>10</td>\n",
       "      <td>4</td>\n",
       "      <td>1997-09-20 03:06:21</td>\n",
       "      <td>1997-09</td>\n",
       "    </tr>\n",
       "    <tr>\n",
       "      <th>175466</th>\n",
       "      <td>101</td>\n",
       "      <td>321</td>\n",
       "      <td>0</td>\n",
       "      <td>4</td>\n",
       "      <td>1997-09-20 03:07:23</td>\n",
       "      <td>1997-09</td>\n",
       "    </tr>\n",
       "    <tr>\n",
       "      <th>...</th>\n",
       "      <td>...</td>\n",
       "      <td>...</td>\n",
       "      <td>...</td>\n",
       "      <td>...</td>\n",
       "      <td>...</td>\n",
       "      <td>...</td>\n",
       "    </tr>\n",
       "    <tr>\n",
       "      <th>98754</th>\n",
       "      <td>724</td>\n",
       "      <td>890</td>\n",
       "      <td>0</td>\n",
       "      <td>4</td>\n",
       "      <td>1998-04-22 23:10:38</td>\n",
       "      <td>1998-04</td>\n",
       "    </tr>\n",
       "    <tr>\n",
       "      <th>157460</th>\n",
       "      <td>724</td>\n",
       "      <td>652</td>\n",
       "      <td>0</td>\n",
       "      <td>4</td>\n",
       "      <td>1998-04-22 23:10:38</td>\n",
       "      <td>1998-04</td>\n",
       "    </tr>\n",
       "    <tr>\n",
       "      <th>98345</th>\n",
       "      <td>724</td>\n",
       "      <td>98</td>\n",
       "      <td>0</td>\n",
       "      <td>3</td>\n",
       "      <td>1998-04-22 23:10:38</td>\n",
       "      <td>1998-04</td>\n",
       "    </tr>\n",
       "    <tr>\n",
       "      <th>168106</th>\n",
       "      <td>724</td>\n",
       "      <td>130</td>\n",
       "      <td>7</td>\n",
       "      <td>4</td>\n",
       "      <td>1998-04-22 23:10:38</td>\n",
       "      <td>1998-04</td>\n",
       "    </tr>\n",
       "    <tr>\n",
       "      <th>154748</th>\n",
       "      <td>724</td>\n",
       "      <td>719</td>\n",
       "      <td>0</td>\n",
       "      <td>3</td>\n",
       "      <td>1998-04-22 23:10:38</td>\n",
       "      <td>1998-04</td>\n",
       "    </tr>\n",
       "  </tbody>\n",
       "</table>\n",
       "<p>100000 rows × 6 columns</p>\n",
       "</div>"
      ],
      "text/plain": [
       "        UserID  MovieID  CategoryID  Rating           Timestamp    Month\n",
       "474        101      177           4       4 1997-09-20 03:05:10  1997-09\n",
       "178269     101      289           7       4 1997-09-20 03:05:27  1997-09\n",
       "90841      101      153           0       4 1997-09-20 03:05:54  1997-09\n",
       "45079      101      361          10       4 1997-09-20 03:06:21  1997-09\n",
       "175466     101      321           0       4 1997-09-20 03:07:23  1997-09\n",
       "...        ...      ...         ...     ...                 ...      ...\n",
       "98754      724      890           0       4 1998-04-22 23:10:38  1998-04\n",
       "157460     724      652           0       4 1998-04-22 23:10:38  1998-04\n",
       "98345      724       98           0       3 1998-04-22 23:10:38  1998-04\n",
       "168106     724      130           7       4 1998-04-22 23:10:38  1998-04\n",
       "154748     724      719           0       3 1998-04-22 23:10:38  1998-04\n",
       "\n",
       "[100000 rows x 6 columns]"
      ]
     },
     "execution_count": 4,
     "metadata": {},
     "output_type": "execute_result"
    }
   ],
   "source": [
    "# Converts timestamp in a DateTime object.\n",
    "dataframe['Timestamp'] = pd.to_datetime(dataframe['Timestamp'], unit='s')\n",
    "dataframe = dataframe.sort_values(by='Timestamp')\n",
    "dataframe['Month'] = dataframe['Timestamp'].dt.to_period('M')\n",
    "dataframe"
   ]
  },
  {
   "cell_type": "code",
   "execution_count": 5,
   "metadata": {},
   "outputs": [
    {
     "data": {
      "text/plain": [
       "1997-09     6704\n",
       "1997-10    10304\n",
       "1997-11    23980\n",
       "1997-12    11911\n",
       "1998-01    14095\n",
       "1998-02    10991\n",
       "1998-03    12656\n",
       "1998-04     9359\n",
       "Freq: M, Name: Month, dtype: int64"
      ]
     },
     "execution_count": 5,
     "metadata": {},
     "output_type": "execute_result"
    }
   ],
   "source": [
    "distribution_per_month = dataframe['Month'].value_counts().sort_index()\n",
    "distribution_per_month"
   ]
  },
  {
   "cell_type": "markdown",
   "metadata": {},
   "source": [
    "# Preference change from first slot"
   ]
  },
  {
   "cell_type": "code",
   "execution_count": 6,
   "metadata": {},
   "outputs": [],
   "source": [
    "def get_user_distribution(user_dataframe, user_items):\n",
    "    \n",
    "    user_movies_data = dataset.movies_data[dataset.movies_data['MovieID'].isin(user_items)]\n",
    "    \n",
    "    # We merge the relevant items with their categories. Then we drop useless attributes.\n",
    "    merged_df = pd.merge(user_dataframe, user_movies_data, on='MovieID', how='inner')\n",
    "    merged_df  = merged_df.drop('Timestamp', axis=1) \n",
    "    merged_df  = merged_df.drop('UserID', axis=1)\n",
    "    merged_df  = merged_df.drop('CategoryID', axis=1)\n",
    "    \n",
    "    # We assign the rating of the item to each of its categories. \n",
    "    for i in range(dataset.n_categories):\n",
    "        category_col = f'Category_{i}'\n",
    "        rating_col = 'Rating'\n",
    "        merged_df[category_col] *= merged_df[rating_col]\n",
    "    merged_df = merged_df.drop('Rating', axis=1)\n",
    "    merged_df = merged_df.drop_duplicates()\n",
    "    \n",
    "    # We compute the mean value for each category. This is the user profile.\n",
    "    categories = [f'Category_{i}' for i in range(dataset.n_categories)]\n",
    "    category_values = []\n",
    "    for category in categories:\n",
    "        # We compute the mean only for the values that are not 0,\n",
    "        # since we consider 0 as an absence of value.\n",
    "        values = merged_df[category].values\n",
    "        values = values[values != 0]\n",
    "        if len(values) > 0:\n",
    "            values = np.mean(values)\n",
    "            values = round(values)\n",
    "        else:\n",
    "            values = 0\n",
    "        category_values.append(values)\n",
    "        \n",
    "    if all(value == 0 for value in category_values):\n",
    "        active_user = False\n",
    "    else:\n",
    "        active_user = True\n",
    "\n",
    "    user_distribution = torch.nn.functional.softmax(torch.FloatTensor(category_values), dim=0)\n",
    "    \n",
    "    return user_distribution, active_user"
   ]
  },
  {
   "cell_type": "markdown",
   "metadata": {},
   "source": [
    "## First time slot"
   ]
  },
  {
   "cell_type": "code",
   "execution_count": 7,
   "metadata": {},
   "outputs": [
    {
     "data": {
      "text/html": [
       "<div>\n",
       "<style scoped>\n",
       "    .dataframe tbody tr th:only-of-type {\n",
       "        vertical-align: middle;\n",
       "    }\n",
       "\n",
       "    .dataframe tbody tr th {\n",
       "        vertical-align: top;\n",
       "    }\n",
       "\n",
       "    .dataframe thead th {\n",
       "        text-align: right;\n",
       "    }\n",
       "</style>\n",
       "<table border=\"1\" class=\"dataframe\">\n",
       "  <thead>\n",
       "    <tr style=\"text-align: right;\">\n",
       "      <th></th>\n",
       "      <th>UserID</th>\n",
       "      <th>MovieID</th>\n",
       "      <th>CategoryID</th>\n",
       "      <th>Rating</th>\n",
       "      <th>Timestamp</th>\n",
       "      <th>Month</th>\n",
       "    </tr>\n",
       "  </thead>\n",
       "  <tbody>\n",
       "    <tr>\n",
       "      <th>474</th>\n",
       "      <td>101</td>\n",
       "      <td>177</td>\n",
       "      <td>4</td>\n",
       "      <td>4</td>\n",
       "      <td>1997-09-20 03:05:10</td>\n",
       "      <td>1997-09</td>\n",
       "    </tr>\n",
       "    <tr>\n",
       "      <th>178269</th>\n",
       "      <td>101</td>\n",
       "      <td>289</td>\n",
       "      <td>7</td>\n",
       "      <td>4</td>\n",
       "      <td>1997-09-20 03:05:27</td>\n",
       "      <td>1997-09</td>\n",
       "    </tr>\n",
       "    <tr>\n",
       "      <th>90841</th>\n",
       "      <td>101</td>\n",
       "      <td>153</td>\n",
       "      <td>0</td>\n",
       "      <td>4</td>\n",
       "      <td>1997-09-20 03:05:54</td>\n",
       "      <td>1997-09</td>\n",
       "    </tr>\n",
       "    <tr>\n",
       "      <th>45079</th>\n",
       "      <td>101</td>\n",
       "      <td>361</td>\n",
       "      <td>10</td>\n",
       "      <td>4</td>\n",
       "      <td>1997-09-20 03:06:21</td>\n",
       "      <td>1997-09</td>\n",
       "    </tr>\n",
       "    <tr>\n",
       "      <th>175466</th>\n",
       "      <td>101</td>\n",
       "      <td>321</td>\n",
       "      <td>0</td>\n",
       "      <td>4</td>\n",
       "      <td>1997-09-20 03:07:23</td>\n",
       "      <td>1997-09</td>\n",
       "    </tr>\n",
       "    <tr>\n",
       "      <th>...</th>\n",
       "      <td>...</td>\n",
       "      <td>...</td>\n",
       "      <td>...</td>\n",
       "      <td>...</td>\n",
       "      <td>...</td>\n",
       "      <td>...</td>\n",
       "    </tr>\n",
       "    <tr>\n",
       "      <th>45918</th>\n",
       "      <td>92</td>\n",
       "      <td>204</td>\n",
       "      <td>7</td>\n",
       "      <td>4</td>\n",
       "      <td>1997-10-31 23:41:55</td>\n",
       "      <td>1997-10</td>\n",
       "    </tr>\n",
       "    <tr>\n",
       "      <th>45419</th>\n",
       "      <td>92</td>\n",
       "      <td>24</td>\n",
       "      <td>2</td>\n",
       "      <td>4</td>\n",
       "      <td>1997-10-31 23:41:55</td>\n",
       "      <td>1997-10</td>\n",
       "    </tr>\n",
       "    <tr>\n",
       "      <th>2661</th>\n",
       "      <td>92</td>\n",
       "      <td>68</td>\n",
       "      <td>7</td>\n",
       "      <td>4</td>\n",
       "      <td>1997-10-31 23:42:23</td>\n",
       "      <td>1997-10</td>\n",
       "    </tr>\n",
       "    <tr>\n",
       "      <th>39628</th>\n",
       "      <td>92</td>\n",
       "      <td>452</td>\n",
       "      <td>0</td>\n",
       "      <td>4</td>\n",
       "      <td>1997-10-31 23:42:23</td>\n",
       "      <td>1997-10</td>\n",
       "    </tr>\n",
       "    <tr>\n",
       "      <th>184904</th>\n",
       "      <td>92</td>\n",
       "      <td>103</td>\n",
       "      <td>1</td>\n",
       "      <td>4</td>\n",
       "      <td>1997-10-31 23:42:50</td>\n",
       "      <td>1997-10</td>\n",
       "    </tr>\n",
       "  </tbody>\n",
       "</table>\n",
       "<p>17008 rows × 6 columns</p>\n",
       "</div>"
      ],
      "text/plain": [
       "        UserID  MovieID  CategoryID  Rating           Timestamp    Month\n",
       "474        101      177           4       4 1997-09-20 03:05:10  1997-09\n",
       "178269     101      289           7       4 1997-09-20 03:05:27  1997-09\n",
       "90841      101      153           0       4 1997-09-20 03:05:54  1997-09\n",
       "45079      101      361          10       4 1997-09-20 03:06:21  1997-09\n",
       "175466     101      321           0       4 1997-09-20 03:07:23  1997-09\n",
       "...        ...      ...         ...     ...                 ...      ...\n",
       "45918       92      204           7       4 1997-10-31 23:41:55  1997-10\n",
       "45419       92       24           2       4 1997-10-31 23:41:55  1997-10\n",
       "2661        92       68           7       4 1997-10-31 23:42:23  1997-10\n",
       "39628       92      452           0       4 1997-10-31 23:42:23  1997-10\n",
       "184904      92      103           1       4 1997-10-31 23:42:50  1997-10\n",
       "\n",
       "[17008 rows x 6 columns]"
      ]
     },
     "execution_count": 7,
     "metadata": {},
     "output_type": "execute_result"
    }
   ],
   "source": [
    "start_date_slot_1 = pd.to_datetime('1997-09-20')\n",
    "end_date_slot_1 = pd.to_datetime('1997-11-01')\n",
    "dataframe_1 = dataframe[dataframe['Timestamp'].between(start_date_slot_1, end_date_slot_1)]\n",
    "dataframe_1 = dataframe_1.sort_values(by='Timestamp')\n",
    "dataframe_1"
   ]
  },
  {
   "cell_type": "code",
   "execution_count": 8,
   "metadata": {},
   "outputs": [
    {
     "name": "stdout",
     "output_type": "stream",
     "text": [
      "torch.Size([943, 18])\n",
      "tensor([[0.0556, 0.0556, 0.0556,  ..., 0.0556, 0.0556, 0.0556],\n",
      "        [0.0556, 0.0556, 0.0556,  ..., 0.0556, 0.0556, 0.0556],\n",
      "        [0.0556, 0.0556, 0.0556,  ..., 0.0556, 0.0556, 0.0556],\n",
      "        ...,\n",
      "        [0.0556, 0.0556, 0.0556,  ..., 0.0556, 0.0556, 0.0556],\n",
      "        [0.0556, 0.0556, 0.0556,  ..., 0.0556, 0.0556, 0.0556],\n",
      "        [0.0517, 0.0517, 0.1406,  ..., 0.0517, 0.1406, 0.0009]])\n",
      "190\n",
      "[11, 12, 18, 20, 22, 26, 27, 28, 29, 34, 37, 39, 42, 49, 56, 65, 70, 74, 75, 76, 82, 84, 92, 95, 98, 101, 107, 108, 110, 111, 116, 118, 121, 125, 131, 133, 137, 139, 143, 144, 146, 147, 149, 153, 158, 161, 175, 178, 192, 194, 198, 207, 214, 219, 220, 224, 239, 246, 255, 263, 264, 274, 278, 286, 289, 299, 301, 315, 317, 322, 329, 334, 335, 339, 342, 345, 361, 363, 364, 367, 368, 378, 380, 383, 391, 392, 393, 397, 405, 407, 409, 416, 432, 436, 446, 448, 461, 463, 465, 472, 477, 484, 487, 490, 501, 504, 512, 523, 527, 535, 537, 542, 545, 551, 574, 578, 587, 593, 594, 596, 602, 618, 621, 627, 630, 635, 639, 645, 652, 658, 662, 668, 676, 679, 681, 683, 685, 689, 690, 691, 701, 703, 705, 706, 711, 713, 721, 727, 728, 738, 749, 759, 767, 770, 771, 772, 773, 776, 781, 792, 793, 795, 800, 809, 810, 813, 826, 830, 834, 838, 845, 852, 860, 862, 864, 867, 869, 878, 882, 883, 889, 895, 905, 909, 912, 915, 928, 935, 937, 942]\n"
     ]
    }
   ],
   "source": [
    "first_slot_distributions = []\n",
    "first_slot_active_users = []\n",
    "for user_id in range(dataset.n_users):\n",
    "    user_dataframe = dataframe_1[dataframe_1['UserID'] == user_id]\n",
    "    user_items = user_dataframe['MovieID'].values\n",
    "    user_distribution, active_user = get_user_distribution(user_dataframe, user_items)\n",
    "    first_slot_distributions.append(user_distribution)\n",
    "    if active_user:\n",
    "        first_slot_active_users.append(user_id)\n",
    "first_slot_distributions = torch.vstack(first_slot_distributions)\n",
    "print(first_slot_distributions.shape)\n",
    "print(first_slot_distributions)\n",
    "print(len(first_slot_active_users))\n",
    "print(first_slot_active_users)"
   ]
  },
  {
   "cell_type": "markdown",
   "metadata": {},
   "source": [
    "## Second time slot"
   ]
  },
  {
   "cell_type": "code",
   "execution_count": 9,
   "metadata": {},
   "outputs": [
    {
     "data": {
      "text/html": [
       "<div>\n",
       "<style scoped>\n",
       "    .dataframe tbody tr th:only-of-type {\n",
       "        vertical-align: middle;\n",
       "    }\n",
       "\n",
       "    .dataframe tbody tr th {\n",
       "        vertical-align: top;\n",
       "    }\n",
       "\n",
       "    .dataframe thead th {\n",
       "        text-align: right;\n",
       "    }\n",
       "</style>\n",
       "<table border=\"1\" class=\"dataframe\">\n",
       "  <thead>\n",
       "    <tr style=\"text-align: right;\">\n",
       "      <th></th>\n",
       "      <th>UserID</th>\n",
       "      <th>MovieID</th>\n",
       "      <th>CategoryID</th>\n",
       "      <th>Rating</th>\n",
       "      <th>Timestamp</th>\n",
       "      <th>Month</th>\n",
       "    </tr>\n",
       "  </thead>\n",
       "  <tbody>\n",
       "    <tr>\n",
       "      <th>130824</th>\n",
       "      <td>92</td>\n",
       "      <td>198</td>\n",
       "      <td>4</td>\n",
       "      <td>3</td>\n",
       "      <td>1997-11-01 01:07:11</td>\n",
       "      <td>1997-11</td>\n",
       "    </tr>\n",
       "    <tr>\n",
       "      <th>56644</th>\n",
       "      <td>92</td>\n",
       "      <td>86</td>\n",
       "      <td>4</td>\n",
       "      <td>2</td>\n",
       "      <td>1997-11-01 01:07:11</td>\n",
       "      <td>1997-11</td>\n",
       "    </tr>\n",
       "    <tr>\n",
       "      <th>25403</th>\n",
       "      <td>92</td>\n",
       "      <td>416</td>\n",
       "      <td>7</td>\n",
       "      <td>3</td>\n",
       "      <td>1997-11-01 01:07:50</td>\n",
       "      <td>1997-11</td>\n",
       "    </tr>\n",
       "    <tr>\n",
       "      <th>74845</th>\n",
       "      <td>92</td>\n",
       "      <td>136</td>\n",
       "      <td>0</td>\n",
       "      <td>3</td>\n",
       "      <td>1997-11-01 01:08:32</td>\n",
       "      <td>1997-11</td>\n",
       "    </tr>\n",
       "    <tr>\n",
       "      <th>5411</th>\n",
       "      <td>92</td>\n",
       "      <td>861</td>\n",
       "      <td>4</td>\n",
       "      <td>4</td>\n",
       "      <td>1997-11-01 01:08:52</td>\n",
       "      <td>1997-11</td>\n",
       "    </tr>\n",
       "    <tr>\n",
       "      <th>...</th>\n",
       "      <td>...</td>\n",
       "      <td>...</td>\n",
       "      <td>...</td>\n",
       "      <td>...</td>\n",
       "      <td>...</td>\n",
       "      <td>...</td>\n",
       "    </tr>\n",
       "    <tr>\n",
       "      <th>152165</th>\n",
       "      <td>288</td>\n",
       "      <td>48</td>\n",
       "      <td>5</td>\n",
       "      <td>4</td>\n",
       "      <td>1997-12-31 23:38:02</td>\n",
       "      <td>1997-12</td>\n",
       "    </tr>\n",
       "    <tr>\n",
       "      <th>38809</th>\n",
       "      <td>288</td>\n",
       "      <td>1167</td>\n",
       "      <td>2</td>\n",
       "      <td>3</td>\n",
       "      <td>1997-12-31 23:38:33</td>\n",
       "      <td>1997-12</td>\n",
       "    </tr>\n",
       "    <tr>\n",
       "      <th>62684</th>\n",
       "      <td>92</td>\n",
       "      <td>719</td>\n",
       "      <td>0</td>\n",
       "      <td>4</td>\n",
       "      <td>1997-12-31 23:51:08</td>\n",
       "      <td>1997-12</td>\n",
       "    </tr>\n",
       "    <tr>\n",
       "      <th>386</th>\n",
       "      <td>92</td>\n",
       "      <td>95</td>\n",
       "      <td>4</td>\n",
       "      <td>4</td>\n",
       "      <td>1997-12-31 23:52:36</td>\n",
       "      <td>1997-12</td>\n",
       "    </tr>\n",
       "    <tr>\n",
       "      <th>91731</th>\n",
       "      <td>92</td>\n",
       "      <td>153</td>\n",
       "      <td>0</td>\n",
       "      <td>2</td>\n",
       "      <td>1997-12-31 23:58:46</td>\n",
       "      <td>1997-12</td>\n",
       "    </tr>\n",
       "  </tbody>\n",
       "</table>\n",
       "<p>35891 rows × 6 columns</p>\n",
       "</div>"
      ],
      "text/plain": [
       "        UserID  MovieID  CategoryID  Rating           Timestamp    Month\n",
       "130824      92      198           4       3 1997-11-01 01:07:11  1997-11\n",
       "56644       92       86           4       2 1997-11-01 01:07:11  1997-11\n",
       "25403       92      416           7       3 1997-11-01 01:07:50  1997-11\n",
       "74845       92      136           0       3 1997-11-01 01:08:32  1997-11\n",
       "5411        92      861           4       4 1997-11-01 01:08:52  1997-11\n",
       "...        ...      ...         ...     ...                 ...      ...\n",
       "152165     288       48           5       4 1997-12-31 23:38:02  1997-12\n",
       "38809      288     1167           2       3 1997-12-31 23:38:33  1997-12\n",
       "62684       92      719           0       4 1997-12-31 23:51:08  1997-12\n",
       "386         92       95           4       4 1997-12-31 23:52:36  1997-12\n",
       "91731       92      153           0       2 1997-12-31 23:58:46  1997-12\n",
       "\n",
       "[35891 rows x 6 columns]"
      ]
     },
     "execution_count": 9,
     "metadata": {},
     "output_type": "execute_result"
    }
   ],
   "source": [
    "start_date_slot_2 = pd.to_datetime('1997-11-01')\n",
    "end_date_slot_2 = pd.to_datetime('1998-01-01')\n",
    "dataframe_2 = dataframe[dataframe['Timestamp'].between(start_date_slot_2, end_date_slot_2)]\n",
    "dataframe_2 = dataframe_2.sort_values(by='Timestamp')\n",
    "dataframe_2"
   ]
  },
  {
   "cell_type": "code",
   "execution_count": 10,
   "metadata": {},
   "outputs": [
    {
     "name": "stdout",
     "output_type": "stream",
     "text": [
      "torch.Size([943, 18])\n",
      "tensor([[0.0189, 0.0189, 0.0026,  ..., 0.0026, 0.0514, 0.0026],\n",
      "        [0.0355, 0.0355, 0.0965,  ..., 0.0965, 0.0355, 0.2622],\n",
      "        [0.0733, 0.0270, 0.0013,  ..., 0.0733, 0.0733, 0.0733],\n",
      "        ...,\n",
      "        [0.0835, 0.0307, 0.0307,  ..., 0.0835, 0.0835, 0.0042],\n",
      "        [0.0556, 0.0556, 0.0556,  ..., 0.0556, 0.0556, 0.0556],\n",
      "        [0.0556, 0.0556, 0.0556,  ..., 0.0556, 0.0556, 0.0556]])\n",
      "399\n",
      "[0, 1, 2, 3, 6, 9, 10, 11, 15, 16, 17, 22, 24, 26, 30, 31, 32, 35, 37, 39, 44, 45, 47, 53, 54, 55, 56, 57, 58, 59, 60, 64, 65, 70, 71, 73, 75, 76, 77, 78, 81, 82, 89, 91, 92, 95, 96, 98, 99, 101, 102, 103, 106, 111, 112, 113, 114, 116, 117, 118, 120, 121, 122, 123, 126, 127, 128, 129, 130, 135, 137, 138, 139, 141, 143, 144, 147, 149, 150, 151, 152, 156, 159, 166, 173, 174, 181, 182, 183, 185, 186, 187, 188, 192, 197, 199, 200, 202, 204, 207, 212, 213, 215, 221, 222, 223, 225, 227, 228, 233, 235, 237, 239, 240, 241, 242, 243, 244, 249, 251, 253, 256, 257, 260, 261, 263, 265, 270, 272, 273, 278, 279, 281, 282, 283, 284, 288, 290, 295, 298, 299, 300, 302, 303, 304, 310, 320, 321, 327, 332, 343, 346, 349, 352, 354, 356, 358, 360, 363, 365, 366, 369, 374, 377, 384, 386, 389, 390, 393, 394, 401, 404, 405, 406, 408, 409, 413, 414, 416, 417, 418, 419, 421, 423, 425, 429, 430, 434, 435, 436, 437, 440, 441, 442, 443, 444, 445, 447, 450, 453, 454, 457, 458, 460, 464, 468, 469, 470, 473, 476, 477, 478, 479, 482, 486, 488, 491, 493, 494, 498, 501, 502, 504, 513, 517, 518, 521, 523, 526, 528, 530, 531, 532, 539, 540, 548, 549, 550, 551, 552, 553, 555, 557, 558, 559, 560, 564, 565, 566, 567, 569, 570, 572, 573, 581, 583, 584, 586, 588, 589, 590, 591, 592, 599, 602, 603, 609, 611, 614, 617, 618, 620, 622, 624, 626, 628, 630, 634, 636, 640, 644, 647, 649, 661, 663, 665, 666, 668, 672, 676, 677, 680, 682, 683, 684, 687, 692, 694, 696, 702, 703, 704, 708, 710, 711, 716, 722, 726, 729, 731, 732, 733, 735, 736, 737, 740, 742, 743, 746, 752, 753, 754, 755, 756, 758, 762, 763, 764, 766, 770, 773, 779, 782, 783, 787, 789, 791, 793, 794, 797, 798, 801, 802, 803, 805, 808, 814, 815, 816, 817, 822, 826, 833, 835, 841, 845, 846, 847, 848, 849, 850, 851, 856, 860, 861, 863, 865, 866, 867, 870, 873, 875, 876, 878, 881, 885, 888, 890, 891, 892, 894, 898, 899, 901, 903, 904, 906, 907, 913, 914, 915, 918, 919, 920, 922, 924, 932, 938, 940]\n"
     ]
    }
   ],
   "source": [
    "second_slot_distributions = []\n",
    "second_slot_active_users = []\n",
    "for user_id in range(dataset.n_users):\n",
    "    user_dataframe = dataframe_2[dataframe_2['UserID'] == user_id]\n",
    "    user_items = user_dataframe['MovieID'].values\n",
    "    user_distribution, active_user = get_user_distribution(user_dataframe, user_items)\n",
    "    second_slot_distributions.append(user_distribution)\n",
    "    if active_user:\n",
    "        second_slot_active_users.append(user_id)\n",
    "second_slot_distributions = torch.vstack(second_slot_distributions)\n",
    "print(second_slot_distributions.shape)\n",
    "print(second_slot_distributions)\n",
    "print(len(second_slot_active_users))\n",
    "print(second_slot_active_users)"
   ]
  },
  {
   "cell_type": "code",
   "execution_count": 11,
   "metadata": {},
   "outputs": [
    {
     "name": "stdout",
     "output_type": "stream",
     "text": [
      "59\n",
      "[770, 773, 263, 137, 393, 523, 11, 139, 143, 144, 147, 915, 149, 22, 278, 405, 793, 26, 409, 668, 416, 676, 37, 39, 551, 683, 299, 436, 56, 826, 703, 192, 65, 70, 711, 75, 76, 845, 207, 82, 602, 92, 860, 477, 95, 98, 867, 101, 618, 363, 878, 111, 239, 116, 501, 118, 630, 504, 121]\n"
     ]
    }
   ],
   "source": [
    "common_users_first_second_slot = list(set(first_slot_active_users) & set(second_slot_active_users))\n",
    "print(len(common_users_first_second_slot))\n",
    "print(common_users_first_second_slot)"
   ]
  },
  {
   "cell_type": "code",
   "execution_count": 12,
   "metadata": {},
   "outputs": [
    {
     "data": {
      "text/plain": [
       "tensor([[0.0591, 0.0591, 0.1608,  ..., 0.0591, 0.0591, 0.0029],\n",
       "        [0.0606, 0.0606, 0.1647,  ..., 0.0606, 0.1647, 0.0011],\n",
       "        [0.0764, 0.0103, 0.0014,  ..., 0.0764, 0.2078, 0.0764],\n",
       "        ...,\n",
       "        [0.0966, 0.0355, 0.0355,  ..., 0.0355, 0.0966, 0.0355],\n",
       "        [0.0576, 0.0576, 0.0576,  ..., 0.0576, 0.0576, 0.0576],\n",
       "        [0.0466, 0.0466, 0.0466,  ..., 0.0466, 0.1268, 0.0466]])"
      ]
     },
     "execution_count": 12,
     "metadata": {},
     "output_type": "execute_result"
    }
   ],
   "source": [
    "filtered_first_slot_distributions = first_slot_distributions[common_users_first_second_slot]\n",
    "filtered_first_slot_distributions"
   ]
  },
  {
   "cell_type": "code",
   "execution_count": 13,
   "metadata": {},
   "outputs": [
    {
     "data": {
      "text/plain": [
       "tensor([[0.0133, 0.0133, 0.0133,  ..., 0.2669, 0.0133, 0.0133],\n",
       "        [0.0986, 0.0986, 0.0018,  ..., 0.0986, 0.0986, 0.0018],\n",
       "        [0.0730, 0.0268, 0.0036,  ..., 0.0730, 0.0730, 0.0036],\n",
       "        ...,\n",
       "        [0.0742, 0.0037, 0.0037,  ..., 0.2018, 0.0037, 0.0037],\n",
       "        [0.1091, 0.1091, 0.0020,  ..., 0.1091, 0.0020, 0.0020],\n",
       "        [0.0244, 0.1799, 0.0244,  ..., 0.0662, 0.1799, 0.0662]])"
      ]
     },
     "execution_count": 13,
     "metadata": {},
     "output_type": "execute_result"
    }
   ],
   "source": [
    "filtered_second_slot_distributions = second_slot_distributions[common_users_first_second_slot]\n",
    "filtered_second_slot_distributions"
   ]
  },
  {
   "cell_type": "code",
   "execution_count": 14,
   "metadata": {},
   "outputs": [
    {
     "name": "stdout",
     "output_type": "stream",
     "text": [
      "torch.Size([59, 18])\n",
      "tensor([[0.0229, 0.0229, 0.0737,  ..., 0.1039, 0.0229, 0.0052],\n",
      "        [0.0190, 0.0190, 0.0814,  ..., 0.0190, 0.0331, 0.0003],\n",
      "        [0.0017, 0.0083, 0.0011,  ..., 0.0017, 0.0674, 0.0364],\n",
      "        ...,\n",
      "        [0.0112, 0.0159, 0.0159,  ..., 0.0831, 0.0465, 0.0159],\n",
      "        [0.0258, 0.0258, 0.0278,  ..., 0.0258, 0.0278, 0.0278],\n",
      "        [0.0111, 0.0666, 0.0111,  ..., 0.0098, 0.0266, 0.0098]])\n"
     ]
    }
   ],
   "source": [
    "variation_distance = torch.abs(filtered_first_slot_distributions - filtered_second_slot_distributions) / 2\n",
    "print(variation_distance.shape)\n",
    "print(variation_distance)"
   ]
  },
  {
   "cell_type": "code",
   "execution_count": 15,
   "metadata": {},
   "outputs": [
    {
     "name": "stdout",
     "output_type": "stream",
     "text": [
      "torch.Size([18])\n",
      "tensor([0.0224, 0.0239, 0.0266, 0.0247, 0.0344, 0.0250, 0.0168, 0.0299, 0.0193,\n",
      "        0.0345, 0.0263, 0.0288, 0.0329, 0.0280, 0.0240, 0.0313, 0.0390, 0.0228])\n"
     ]
    }
   ],
   "source": [
    "variation_distance = torch.mean(variation_distance, dim=0)\n",
    "print(variation_distance.shape)\n",
    "print(variation_distance)"
   ]
  },
  {
   "cell_type": "code",
   "execution_count": 16,
   "metadata": {},
   "outputs": [
    {
     "data": {
      "text/plain": [
       "0     0.022388\n",
       "1     0.023858\n",
       "2     0.026554\n",
       "3     0.024735\n",
       "4     0.034376\n",
       "5     0.024961\n",
       "6     0.016797\n",
       "7     0.029940\n",
       "8     0.019274\n",
       "9     0.034482\n",
       "10    0.026280\n",
       "11    0.028781\n",
       "12    0.032854\n",
       "13    0.027988\n",
       "14    0.024049\n",
       "15    0.031342\n",
       "16    0.039028\n",
       "17    0.022793\n",
       "dtype: float32"
      ]
     },
     "execution_count": 16,
     "metadata": {},
     "output_type": "execute_result"
    }
   ],
   "source": [
    "first_second_series = pd.Series(variation_distance)\n",
    "first_second_series"
   ]
  },
  {
   "cell_type": "markdown",
   "metadata": {},
   "source": [
    "## Third time slot"
   ]
  },
  {
   "cell_type": "code",
   "execution_count": 17,
   "metadata": {},
   "outputs": [
    {
     "data": {
      "text/html": [
       "<div>\n",
       "<style scoped>\n",
       "    .dataframe tbody tr th:only-of-type {\n",
       "        vertical-align: middle;\n",
       "    }\n",
       "\n",
       "    .dataframe tbody tr th {\n",
       "        vertical-align: top;\n",
       "    }\n",
       "\n",
       "    .dataframe thead th {\n",
       "        text-align: right;\n",
       "    }\n",
       "</style>\n",
       "<table border=\"1\" class=\"dataframe\">\n",
       "  <thead>\n",
       "    <tr style=\"text-align: right;\">\n",
       "      <th></th>\n",
       "      <th>UserID</th>\n",
       "      <th>MovieID</th>\n",
       "      <th>CategoryID</th>\n",
       "      <th>Rating</th>\n",
       "      <th>Timestamp</th>\n",
       "      <th>Month</th>\n",
       "    </tr>\n",
       "  </thead>\n",
       "  <tbody>\n",
       "    <tr>\n",
       "      <th>74064</th>\n",
       "      <td>92</td>\n",
       "      <td>1077</td>\n",
       "      <td>4</td>\n",
       "      <td>3</td>\n",
       "      <td>1998-01-01 00:03:25</td>\n",
       "      <td>1998-01</td>\n",
       "    </tr>\n",
       "    <tr>\n",
       "      <th>33150</th>\n",
       "      <td>92</td>\n",
       "      <td>166</td>\n",
       "      <td>4</td>\n",
       "      <td>1</td>\n",
       "      <td>1998-01-01 00:08:17</td>\n",
       "      <td>1998-01</td>\n",
       "    </tr>\n",
       "    <tr>\n",
       "      <th>84204</th>\n",
       "      <td>92</td>\n",
       "      <td>315</td>\n",
       "      <td>0</td>\n",
       "      <td>1</td>\n",
       "      <td>1998-01-01 00:08:17</td>\n",
       "      <td>1998-01</td>\n",
       "    </tr>\n",
       "    <tr>\n",
       "      <th>68512</th>\n",
       "      <td>92</td>\n",
       "      <td>580</td>\n",
       "      <td>4</td>\n",
       "      <td>1</td>\n",
       "      <td>1998-01-01 00:08:18</td>\n",
       "      <td>1998-01</td>\n",
       "    </tr>\n",
       "    <tr>\n",
       "      <th>37983</th>\n",
       "      <td>92</td>\n",
       "      <td>514</td>\n",
       "      <td>4</td>\n",
       "      <td>1</td>\n",
       "      <td>1998-01-01 00:08:18</td>\n",
       "      <td>1998-01</td>\n",
       "    </tr>\n",
       "    <tr>\n",
       "      <th>...</th>\n",
       "      <td>...</td>\n",
       "      <td>...</td>\n",
       "      <td>...</td>\n",
       "      <td>...</td>\n",
       "      <td>...</td>\n",
       "      <td>...</td>\n",
       "    </tr>\n",
       "    <tr>\n",
       "      <th>35133</th>\n",
       "      <td>232</td>\n",
       "      <td>181</td>\n",
       "      <td>0</td>\n",
       "      <td>4</td>\n",
       "      <td>1998-02-28 22:45:39</td>\n",
       "      <td>1998-02</td>\n",
       "    </tr>\n",
       "    <tr>\n",
       "      <th>1563</th>\n",
       "      <td>232</td>\n",
       "      <td>464</td>\n",
       "      <td>1</td>\n",
       "      <td>3</td>\n",
       "      <td>1998-02-28 22:46:06</td>\n",
       "      <td>1998-02</td>\n",
       "    </tr>\n",
       "    <tr>\n",
       "      <th>179112</th>\n",
       "      <td>232</td>\n",
       "      <td>1104</td>\n",
       "      <td>7</td>\n",
       "      <td>3</td>\n",
       "      <td>1998-02-28 22:46:28</td>\n",
       "      <td>1998-02</td>\n",
       "    </tr>\n",
       "    <tr>\n",
       "      <th>5506</th>\n",
       "      <td>232</td>\n",
       "      <td>514</td>\n",
       "      <td>4</td>\n",
       "      <td>2</td>\n",
       "      <td>1998-02-28 22:47:17</td>\n",
       "      <td>1998-02</td>\n",
       "    </tr>\n",
       "    <tr>\n",
       "      <th>33154</th>\n",
       "      <td>253</td>\n",
       "      <td>719</td>\n",
       "      <td>0</td>\n",
       "      <td>4</td>\n",
       "      <td>1998-02-28 22:47:55</td>\n",
       "      <td>1998-02</td>\n",
       "    </tr>\n",
       "  </tbody>\n",
       "</table>\n",
       "<p>25086 rows × 6 columns</p>\n",
       "</div>"
      ],
      "text/plain": [
       "        UserID  MovieID  CategoryID  Rating           Timestamp    Month\n",
       "74064       92     1077           4       3 1998-01-01 00:03:25  1998-01\n",
       "33150       92      166           4       1 1998-01-01 00:08:17  1998-01\n",
       "84204       92      315           0       1 1998-01-01 00:08:17  1998-01\n",
       "68512       92      580           4       1 1998-01-01 00:08:18  1998-01\n",
       "37983       92      514           4       1 1998-01-01 00:08:18  1998-01\n",
       "...        ...      ...         ...     ...                 ...      ...\n",
       "35133      232      181           0       4 1998-02-28 22:45:39  1998-02\n",
       "1563       232      464           1       3 1998-02-28 22:46:06  1998-02\n",
       "179112     232     1104           7       3 1998-02-28 22:46:28  1998-02\n",
       "5506       232      514           4       2 1998-02-28 22:47:17  1998-02\n",
       "33154      253      719           0       4 1998-02-28 22:47:55  1998-02\n",
       "\n",
       "[25086 rows x 6 columns]"
      ]
     },
     "execution_count": 17,
     "metadata": {},
     "output_type": "execute_result"
    }
   ],
   "source": [
    "start_date_slot_3 = pd.to_datetime('1998-01-01')\n",
    "end_date_slot_3 = pd.to_datetime('1998-03-01')\n",
    "dataframe_3 = dataframe[dataframe['Timestamp'].between(start_date_slot_3, end_date_slot_3)]\n",
    "dataframe_3 = dataframe_3.sort_values(by='Timestamp')\n",
    "dataframe_3"
   ]
  },
  {
   "cell_type": "code",
   "execution_count": 18,
   "metadata": {},
   "outputs": [
    {
     "name": "stdout",
     "output_type": "stream",
     "text": [
      "torch.Size([943, 18])\n",
      "tensor([[0.0556, 0.0556, 0.0556,  ..., 0.0556, 0.0556, 0.0556],\n",
      "        [0.0556, 0.0556, 0.0556,  ..., 0.0556, 0.0556, 0.0556],\n",
      "        [0.0556, 0.0556, 0.0556,  ..., 0.0556, 0.0556, 0.0556],\n",
      "        ...,\n",
      "        [0.0556, 0.0556, 0.0556,  ..., 0.0556, 0.0556, 0.0556],\n",
      "        [0.0747, 0.0747, 0.0037,  ..., 0.0747, 0.0275, 0.0037],\n",
      "        [0.0556, 0.0556, 0.0556,  ..., 0.0556, 0.0556, 0.0556]])\n",
      "328\n",
      "[4, 5, 8, 9, 11, 12, 13, 14, 20, 22, 23, 24, 26, 33, 34, 37, 40, 41, 42, 43, 46, 47, 48, 51, 52, 58, 61, 65, 66, 67, 69, 70, 75, 76, 79, 81, 83, 85, 86, 87, 88, 90, 92, 93, 95, 97, 98, 101, 102, 105, 109, 112, 116, 118, 121, 122, 127, 130, 136, 137, 139, 143, 144, 153, 154, 157, 160, 163, 167, 168, 169, 172, 185, 188, 191, 192, 193, 194, 198, 201, 203, 204, 206, 207, 210, 211, 218, 226, 229, 230, 231, 232, 233, 236, 238, 239, 247, 252, 253, 258, 259, 262, 268, 275, 277, 278, 285, 286, 288, 293, 297, 306, 309, 311, 313, 314, 318, 336, 340, 341, 342, 347, 351, 355, 366, 369, 372, 373, 374, 375, 377, 379, 382, 384, 387, 393, 395, 399, 402, 403, 404, 405, 407, 409, 411, 413, 422, 428, 431, 433, 442, 446, 447, 448, 449, 450, 454, 455, 456, 459, 463, 467, 476, 477, 479, 480, 481, 483, 486, 489, 494, 496, 497, 498, 499, 500, 501, 504, 505, 507, 508, 509, 511, 515, 516, 517, 519, 520, 521, 522, 523, 524, 525, 530, 533, 534, 536, 538, 539, 542, 544, 547, 556, 559, 563, 568, 569, 575, 579, 584, 585, 587, 595, 597, 598, 601, 602, 604, 605, 607, 610, 615, 618, 619, 620, 629, 630, 632, 633, 635, 636, 638, 644, 648, 649, 650, 656, 659, 660, 662, 668, 671, 673, 674, 675, 685, 686, 688, 694, 696, 697, 698, 703, 704, 709, 711, 712, 715, 717, 719, 720, 734, 739, 741, 744, 745, 748, 750, 752, 761, 763, 764, 765, 769, 784, 786, 791, 796, 802, 808, 812, 815, 816, 817, 818, 820, 822, 824, 826, 827, 829, 832, 833, 837, 839, 842, 845, 853, 855, 858, 860, 862, 867, 868, 871, 877, 879, 884, 886, 887, 892, 893, 896, 899, 900, 902, 910, 912, 913, 914, 921, 929, 931, 933, 936, 937, 939, 941]\n"
     ]
    }
   ],
   "source": [
    "third_slot_distributions = []\n",
    "third_slot_active_users = []\n",
    "for user_id in range(dataset.n_users):\n",
    "    user_dataframe = dataframe_3[dataframe_3['UserID'] == user_id]\n",
    "    user_items = user_dataframe['MovieID'].values\n",
    "    user_distribution, active_user = get_user_distribution(user_dataframe, user_items)\n",
    "    third_slot_distributions.append(user_distribution)\n",
    "    if active_user:\n",
    "        third_slot_active_users.append(user_id)\n",
    "third_slot_distributions = torch.vstack(third_slot_distributions)\n",
    "print(third_slot_distributions.shape)\n",
    "print(third_slot_distributions)\n",
    "print(len(third_slot_active_users))\n",
    "print(third_slot_active_users)"
   ]
  },
  {
   "cell_type": "code",
   "execution_count": 19,
   "metadata": {},
   "outputs": [
    {
     "name": "stdout",
     "output_type": "stream",
     "text": [
      "61\n",
      "[137, 393, 523, 11, 12, 139, 143, 144, 912, 20, 405, 22, 662, 278, 153, 26, 407, 668, 409, 542, 286, 34, 37, 937, 42, 685, 826, 446, 703, 192, 65, 194, 448, 70, 198, 711, 75, 76, 587, 845, 207, 463, 342, 602, 92, 860, 862, 95, 477, 98, 867, 101, 618, 239, 116, 501, 118, 630, 504, 121, 635]\n"
     ]
    }
   ],
   "source": [
    "common_users_first_third_slot = list(set(first_slot_active_users) & set(third_slot_active_users))\n",
    "print(len(common_users_first_third_slot))\n",
    "print(common_users_first_third_slot)"
   ]
  },
  {
   "cell_type": "code",
   "execution_count": 20,
   "metadata": {},
   "outputs": [
    {
     "data": {
      "text/plain": [
       "tensor([[0.0454, 0.0454, 0.1234,  ..., 0.0454, 0.0167, 0.0008],\n",
       "        [0.0588, 0.0588, 0.0588,  ..., 0.0588, 0.0216, 0.0216],\n",
       "        [0.0274, 0.0274, 0.0101,  ..., 0.0744, 0.0744, 0.0744],\n",
       "        ...,\n",
       "        [0.0576, 0.0576, 0.0576,  ..., 0.0576, 0.0576, 0.0576],\n",
       "        [0.0466, 0.0466, 0.0466,  ..., 0.0466, 0.1268, 0.0466],\n",
       "        [0.0423, 0.0423, 0.1150,  ..., 0.0423, 0.1150, 0.0008]])"
      ]
     },
     "execution_count": 20,
     "metadata": {},
     "output_type": "execute_result"
    }
   ],
   "source": [
    "filtered_first_slot_distributions = first_slot_distributions[common_users_first_third_slot]\n",
    "filtered_first_slot_distributions"
   ]
  },
  {
   "cell_type": "code",
   "execution_count": 21,
   "metadata": {},
   "outputs": [
    {
     "data": {
      "text/plain": [
       "tensor([[0.0432, 0.0432, 0.0432,  ..., 0.0432, 0.0432, 0.0432],\n",
       "        [0.0464, 0.0464, 0.0464,  ..., 0.0464, 0.1262, 0.0464],\n",
       "        [0.0707, 0.0707, 0.0707,  ..., 0.0707, 0.0707, 0.0707],\n",
       "        ...,\n",
       "        [0.0506, 0.0186, 0.0025,  ..., 0.0506, 0.0506, 0.0506],\n",
       "        [0.1029, 0.0051, 0.0051,  ..., 0.0378, 0.0051, 0.0051],\n",
       "        [0.0527, 0.0527, 0.0010,  ..., 0.0527, 0.0010, 0.0010]])"
      ]
     },
     "execution_count": 21,
     "metadata": {},
     "output_type": "execute_result"
    }
   ],
   "source": [
    "filtered_third_slot_distributions = third_slot_distributions[common_users_first_third_slot]\n",
    "filtered_third_slot_distributions"
   ]
  },
  {
   "cell_type": "code",
   "execution_count": 22,
   "metadata": {},
   "outputs": [
    {
     "name": "stdout",
     "output_type": "stream",
     "text": [
      "torch.Size([61, 18])\n",
      "tensor([[1.0999e-03, 1.0999e-03, 4.0094e-02,  ..., 1.0999e-03, 1.3245e-02,\n",
      "         2.1178e-02],\n",
      "        [6.1800e-03, 6.1800e-03, 6.1800e-03,  ..., 6.1800e-03, 5.2283e-02,\n",
      "         1.2399e-02],\n",
      "        [2.1681e-02, 2.1681e-02, 3.0328e-02,  ..., 1.8228e-03, 1.8228e-03,\n",
      "         1.8228e-03],\n",
      "        ...,\n",
      "        [3.5030e-03, 1.9487e-02, 2.7530e-02,  ..., 3.5030e-03, 3.5030e-03,\n",
      "         3.5030e-03],\n",
      "        [2.8116e-02, 2.0764e-02, 2.0764e-02,  ..., 4.4008e-03, 6.0842e-02,\n",
      "         2.0764e-02],\n",
      "        [5.1944e-03, 5.1944e-03, 5.6995e-02,  ..., 5.1944e-03, 5.6995e-02,\n",
      "         9.5139e-05]])\n"
     ]
    }
   ],
   "source": [
    "variation_distance = torch.abs(filtered_first_slot_distributions - filtered_third_slot_distributions) / 2\n",
    "print(variation_distance.shape)\n",
    "print(variation_distance)"
   ]
  },
  {
   "cell_type": "code",
   "execution_count": 23,
   "metadata": {},
   "outputs": [
    {
     "name": "stdout",
     "output_type": "stream",
     "text": [
      "torch.Size([18])\n",
      "tensor([0.0252, 0.0188, 0.0247, 0.0190, 0.0285, 0.0388, 0.0197, 0.0376, 0.0181,\n",
      "        0.0270, 0.0201, 0.0241, 0.0267, 0.0351, 0.0230, 0.0221, 0.0358, 0.0214])\n"
     ]
    }
   ],
   "source": [
    "variation_distance = torch.mean(variation_distance, dim=0)\n",
    "print(variation_distance.shape)\n",
    "print(variation_distance)"
   ]
  },
  {
   "cell_type": "code",
   "execution_count": 24,
   "metadata": {},
   "outputs": [
    {
     "data": {
      "text/plain": [
       "0     0.025223\n",
       "1     0.018833\n",
       "2     0.024663\n",
       "3     0.019021\n",
       "4     0.028509\n",
       "5     0.038801\n",
       "6     0.019711\n",
       "7     0.037560\n",
       "8     0.018118\n",
       "9     0.027022\n",
       "10    0.020142\n",
       "11    0.024065\n",
       "12    0.026651\n",
       "13    0.035063\n",
       "14    0.022969\n",
       "15    0.022145\n",
       "16    0.035768\n",
       "17    0.021365\n",
       "dtype: float32"
      ]
     },
     "execution_count": 24,
     "metadata": {},
     "output_type": "execute_result"
    }
   ],
   "source": [
    "first_third_series = pd.Series(variation_distance)\n",
    "first_third_series"
   ]
  },
  {
   "cell_type": "markdown",
   "metadata": {},
   "source": [
    "## Fourth time slot"
   ]
  },
  {
   "cell_type": "code",
   "execution_count": 25,
   "metadata": {},
   "outputs": [
    {
     "data": {
      "text/html": [
       "<div>\n",
       "<style scoped>\n",
       "    .dataframe tbody tr th:only-of-type {\n",
       "        vertical-align: middle;\n",
       "    }\n",
       "\n",
       "    .dataframe tbody tr th {\n",
       "        vertical-align: top;\n",
       "    }\n",
       "\n",
       "    .dataframe thead th {\n",
       "        text-align: right;\n",
       "    }\n",
       "</style>\n",
       "<table border=\"1\" class=\"dataframe\">\n",
       "  <thead>\n",
       "    <tr style=\"text-align: right;\">\n",
       "      <th></th>\n",
       "      <th>UserID</th>\n",
       "      <th>MovieID</th>\n",
       "      <th>CategoryID</th>\n",
       "      <th>Rating</th>\n",
       "      <th>Timestamp</th>\n",
       "      <th>Month</th>\n",
       "    </tr>\n",
       "  </thead>\n",
       "  <tbody>\n",
       "    <tr>\n",
       "      <th>152377</th>\n",
       "      <td>752</td>\n",
       "      <td>214</td>\n",
       "      <td>7</td>\n",
       "      <td>3</td>\n",
       "      <td>1998-03-01 01:23:10</td>\n",
       "      <td>1998-03</td>\n",
       "    </tr>\n",
       "    <tr>\n",
       "      <th>179273</th>\n",
       "      <td>561</td>\n",
       "      <td>1</td>\n",
       "      <td>5</td>\n",
       "      <td>3</td>\n",
       "      <td>1998-03-01 02:13:35</td>\n",
       "      <td>1998-03</td>\n",
       "    </tr>\n",
       "    <tr>\n",
       "      <th>158949</th>\n",
       "      <td>561</td>\n",
       "      <td>130</td>\n",
       "      <td>7</td>\n",
       "      <td>3</td>\n",
       "      <td>1998-03-01 02:13:35</td>\n",
       "      <td>1998-03</td>\n",
       "    </tr>\n",
       "    <tr>\n",
       "      <th>128487</th>\n",
       "      <td>561</td>\n",
       "      <td>719</td>\n",
       "      <td>0</td>\n",
       "      <td>4</td>\n",
       "      <td>1998-03-01 02:13:35</td>\n",
       "      <td>1998-03</td>\n",
       "    </tr>\n",
       "    <tr>\n",
       "      <th>143467</th>\n",
       "      <td>561</td>\n",
       "      <td>928</td>\n",
       "      <td>0</td>\n",
       "      <td>2</td>\n",
       "      <td>1998-03-01 02:14:03</td>\n",
       "      <td>1998-03</td>\n",
       "    </tr>\n",
       "    <tr>\n",
       "      <th>...</th>\n",
       "      <td>...</td>\n",
       "      <td>...</td>\n",
       "      <td>...</td>\n",
       "      <td>...</td>\n",
       "      <td>...</td>\n",
       "      <td>...</td>\n",
       "    </tr>\n",
       "    <tr>\n",
       "      <th>168106</th>\n",
       "      <td>724</td>\n",
       "      <td>130</td>\n",
       "      <td>7</td>\n",
       "      <td>4</td>\n",
       "      <td>1998-04-22 23:10:38</td>\n",
       "      <td>1998-04</td>\n",
       "    </tr>\n",
       "    <tr>\n",
       "      <th>110040</th>\n",
       "      <td>724</td>\n",
       "      <td>280</td>\n",
       "      <td>12</td>\n",
       "      <td>4</td>\n",
       "      <td>1998-04-22 23:10:38</td>\n",
       "      <td>1998-04</td>\n",
       "    </tr>\n",
       "    <tr>\n",
       "      <th>136132</th>\n",
       "      <td>724</td>\n",
       "      <td>175</td>\n",
       "      <td>0</td>\n",
       "      <td>4</td>\n",
       "      <td>1998-04-22 23:10:38</td>\n",
       "      <td>1998-04</td>\n",
       "    </tr>\n",
       "    <tr>\n",
       "      <th>98754</th>\n",
       "      <td>724</td>\n",
       "      <td>890</td>\n",
       "      <td>0</td>\n",
       "      <td>4</td>\n",
       "      <td>1998-04-22 23:10:38</td>\n",
       "      <td>1998-04</td>\n",
       "    </tr>\n",
       "    <tr>\n",
       "      <th>154748</th>\n",
       "      <td>724</td>\n",
       "      <td>719</td>\n",
       "      <td>0</td>\n",
       "      <td>3</td>\n",
       "      <td>1998-04-22 23:10:38</td>\n",
       "      <td>1998-04</td>\n",
       "    </tr>\n",
       "  </tbody>\n",
       "</table>\n",
       "<p>22015 rows × 6 columns</p>\n",
       "</div>"
      ],
      "text/plain": [
       "        UserID  MovieID  CategoryID  Rating           Timestamp    Month\n",
       "152377     752      214           7       3 1998-03-01 01:23:10  1998-03\n",
       "179273     561        1           5       3 1998-03-01 02:13:35  1998-03\n",
       "158949     561      130           7       3 1998-03-01 02:13:35  1998-03\n",
       "128487     561      719           0       4 1998-03-01 02:13:35  1998-03\n",
       "143467     561      928           0       2 1998-03-01 02:14:03  1998-03\n",
       "...        ...      ...         ...     ...                 ...      ...\n",
       "168106     724      130           7       4 1998-04-22 23:10:38  1998-04\n",
       "110040     724      280          12       4 1998-04-22 23:10:38  1998-04\n",
       "136132     724      175           0       4 1998-04-22 23:10:38  1998-04\n",
       "98754      724      890           0       4 1998-04-22 23:10:38  1998-04\n",
       "154748     724      719           0       3 1998-04-22 23:10:38  1998-04\n",
       "\n",
       "[22015 rows x 6 columns]"
      ]
     },
     "execution_count": 25,
     "metadata": {},
     "output_type": "execute_result"
    }
   ],
   "source": [
    "start_date_slot_4 = pd.to_datetime('1998-03-01')\n",
    "end_date_slot_4 = pd.to_datetime('1998-05-01')\n",
    "dataframe_4 = dataframe[dataframe['Timestamp'].between(start_date_slot_4, end_date_slot_4)]\n",
    "dataframe_4 = dataframe_4.sort_values(by='Timestamp')\n",
    "dataframe_4"
   ]
  },
  {
   "cell_type": "code",
   "execution_count": 26,
   "metadata": {},
   "outputs": [
    {
     "name": "stdout",
     "output_type": "stream",
     "text": [
      "torch.Size([943, 18])\n",
      "tensor([[0.0556, 0.0556, 0.0556,  ..., 0.0556, 0.0556, 0.0556],\n",
      "        [0.1117, 0.1117, 0.0020,  ..., 0.0411, 0.0020, 0.1117],\n",
      "        [0.0556, 0.0556, 0.0556,  ..., 0.0556, 0.0556, 0.0556],\n",
      "        ...,\n",
      "        [0.0556, 0.0556, 0.0556,  ..., 0.0556, 0.0556, 0.0556],\n",
      "        [0.0556, 0.0556, 0.0556,  ..., 0.0556, 0.0556, 0.0556],\n",
      "        [0.0556, 0.0556, 0.0556,  ..., 0.0556, 0.0556, 0.0556]])\n",
      "327\n",
      "[1, 7, 11, 12, 13, 19, 20, 21, 22, 24, 25, 26, 36, 37, 38, 47, 50, 58, 60, 62, 63, 65, 68, 72, 75, 76, 80, 88, 90, 94, 97, 98, 100, 101, 102, 104, 115, 116, 118, 119, 121, 122, 124, 126, 127, 130, 132, 133, 134, 137, 139, 140, 142, 145, 148, 153, 155, 162, 163, 164, 165, 170, 171, 176, 177, 179, 180, 182, 184, 189, 190, 192, 193, 195, 196, 205, 206, 207, 208, 209, 216, 217, 229, 233, 234, 239, 245, 248, 250, 254, 266, 267, 269, 271, 276, 280, 287, 291, 292, 294, 296, 299, 305, 307, 308, 312, 313, 316, 318, 319, 323, 324, 325, 326, 328, 330, 331, 333, 337, 338, 340, 344, 348, 350, 353, 357, 359, 362, 369, 370, 371, 374, 376, 381, 385, 387, 388, 393, 396, 398, 400, 405, 409, 410, 412, 415, 417, 420, 422, 424, 426, 427, 428, 438, 439, 442, 447, 448, 450, 451, 452, 455, 462, 463, 465, 466, 471, 474, 475, 476, 477, 485, 486, 492, 494, 495, 496, 498, 499, 500, 501, 503, 504, 506, 510, 514, 523, 524, 527, 529, 530, 541, 542, 543, 546, 554, 556, 561, 562, 569, 571, 576, 577, 580, 582, 587, 595, 600, 602, 606, 608, 612, 613, 616, 618, 620, 623, 625, 630, 631, 633, 635, 637, 641, 642, 643, 646, 648, 649, 650, 651, 653, 654, 655, 657, 662, 664, 666, 667, 669, 670, 673, 678, 685, 693, 694, 695, 696, 699, 700, 701, 703, 707, 711, 714, 718, 723, 724, 725, 728, 730, 739, 747, 748, 751, 752, 757, 760, 764, 767, 768, 774, 775, 777, 778, 780, 784, 785, 788, 790, 799, 804, 806, 807, 811, 815, 816, 817, 819, 821, 823, 825, 828, 829, 831, 833, 836, 840, 843, 844, 845, 854, 857, 859, 860, 862, 867, 872, 874, 875, 880, 891, 892, 897, 908, 911, 915, 916, 917, 921, 923, 925, 926, 927, 930, 931, 934]\n"
     ]
    }
   ],
   "source": [
    "fourth_slot_distributions = []\n",
    "fourth_slot_active_users = []\n",
    "for user_id in range(dataset.n_users):\n",
    "    user_dataframe = dataframe_4[dataframe_4['UserID'] == user_id]\n",
    "    user_items = user_dataframe['MovieID'].values\n",
    "    user_distribution, active_user = get_user_distribution(user_dataframe, user_items)\n",
    "    fourth_slot_distributions.append(user_distribution)\n",
    "    if active_user:\n",
    "        fourth_slot_active_users.append(user_id)\n",
    "fourth_slot_distributions = torch.vstack(fourth_slot_distributions)\n",
    "print(fourth_slot_distributions.shape)\n",
    "print(fourth_slot_distributions)\n",
    "print(len(fourth_slot_active_users))\n",
    "print(fourth_slot_active_users)"
   ]
  },
  {
   "cell_type": "code",
   "execution_count": 27,
   "metadata": {},
   "outputs": [
    {
     "name": "stdout",
     "output_type": "stream",
     "text": [
      "51\n",
      "[133, 137, 393, 523, 11, 12, 139, 527, 915, 20, 405, 22, 662, 153, 26, 409, 542, 37, 299, 685, 701, 703, 192, 65, 448, 711, 75, 76, 587, 845, 207, 463, 465, 728, 602, 860, 477, 862, 98, 867, 101, 618, 239, 116, 501, 118, 630, 504, 121, 635, 767]\n"
     ]
    }
   ],
   "source": [
    "common_users_first_fourth_slot = list(set(first_slot_active_users) & set(fourth_slot_active_users))\n",
    "print(len(common_users_first_fourth_slot))\n",
    "print(common_users_first_fourth_slot)"
   ]
  },
  {
   "cell_type": "code",
   "execution_count": 28,
   "metadata": {},
   "outputs": [
    {
     "data": {
      "text/plain": [
       "tensor([[6.7218e-02, 6.7218e-02, 6.7218e-02, 1.8272e-01, 6.7218e-02, 6.7218e-02,\n",
       "         1.2311e-03, 6.7218e-02, 1.2311e-03, 2.4728e-02, 6.7218e-02, 2.4728e-02,\n",
       "         6.7218e-02, 6.7218e-02, 6.7218e-02, 2.4728e-02, 6.7218e-02, 1.2311e-03],\n",
       "        [4.5387e-02, 4.5387e-02, 1.2338e-01, 1.2338e-01, 4.5387e-02, 1.2338e-01,\n",
       "         8.3130e-04, 4.5387e-02, 8.3130e-04, 8.3130e-04, 4.5387e-02, 1.2338e-01,\n",
       "         1.2338e-01, 4.5387e-02, 4.5387e-02, 4.5387e-02, 1.6697e-02, 8.3130e-04],\n",
       "        [5.8783e-02, 5.8783e-02, 5.8783e-02, 5.8783e-02, 5.8783e-02, 1.5979e-01,\n",
       "         2.1625e-02, 1.5979e-01, 2.1625e-02, 2.1625e-02, 2.1625e-02, 5.8783e-02,\n",
       "         5.8783e-02, 5.8783e-02, 2.1625e-02, 5.8783e-02, 2.1625e-02, 2.1625e-02],\n",
       "        [2.7358e-02, 2.7358e-02, 1.0064e-02, 2.7358e-02, 2.7358e-02, 7.4366e-02,\n",
       "         1.3621e-03, 7.4366e-02, 2.7358e-02, 2.0215e-01, 7.4366e-02, 7.4366e-02,\n",
       "         7.4366e-02, 2.7358e-02, 2.7358e-02, 7.4366e-02, 7.4366e-02, 7.4366e-02],\n",
       "        [6.2098e-02, 2.2844e-02, 6.2098e-02, 6.2098e-02, 6.2098e-02, 6.2098e-02,\n",
       "         2.2844e-02, 6.2098e-02, 2.2844e-02, 6.2098e-02, 6.2098e-02, 6.2098e-02,\n",
       "         6.2098e-02, 6.2098e-02, 6.2098e-02, 6.2098e-02, 6.2098e-02, 6.2098e-02],\n",
       "        [7.0533e-02, 7.0533e-02, 7.0533e-02, 7.0533e-02, 7.0533e-02, 1.2919e-03,\n",
       "         1.2919e-03, 7.0533e-02, 2.5948e-02, 1.2919e-03, 1.2919e-03, 7.0533e-02,\n",
       "         1.2919e-03, 7.0533e-02, 7.0533e-02, 7.0533e-02, 1.9173e-01, 7.0533e-02],\n",
       "        [4.3188e-02, 4.3188e-02, 4.3188e-02, 4.3188e-02, 4.3188e-02, 4.3188e-02,\n",
       "         1.1740e-01, 4.3188e-02, 4.3188e-02, 4.3188e-02, 4.3188e-02, 4.3188e-02,\n",
       "         4.3188e-02, 4.3188e-02, 4.3188e-02, 4.3188e-02, 1.1740e-01, 1.1740e-01],\n",
       "        [2.6965e-02, 2.6965e-02, 2.6965e-02, 2.6965e-02, 5.4160e-01, 2.6965e-02,\n",
       "         2.6965e-02, 2.6965e-02, 2.6965e-02, 2.6965e-02, 2.6965e-02, 2.6965e-02,\n",
       "         2.6965e-02, 2.6965e-02, 2.6965e-02, 2.6965e-02, 2.6965e-02, 2.6965e-02],\n",
       "        [3.0537e-01, 5.5930e-03, 5.5930e-03, 5.5930e-03, 3.0537e-01, 5.5930e-03,\n",
       "         5.5930e-03, 3.0537e-01, 5.5930e-03, 5.5930e-03, 5.5930e-03, 5.5930e-03,\n",
       "         5.5930e-03, 5.5930e-03, 5.5930e-03, 5.5930e-03, 5.5930e-03, 5.5930e-03],\n",
       "        [5.8402e-02, 5.8402e-02, 2.1485e-02, 5.8402e-02, 5.8402e-02, 5.8402e-02,\n",
       "         5.8402e-02, 5.8402e-02, 5.8402e-02, 5.8402e-02, 1.0697e-03, 5.8402e-02,\n",
       "         5.8402e-02, 5.8402e-02, 5.8402e-02, 5.8402e-02, 1.5875e-01, 1.0697e-03],\n",
       "        [2.7816e-02, 7.5611e-02, 7.5611e-02, 7.5611e-02, 2.7816e-02, 7.5611e-02,\n",
       "         1.3849e-03, 7.5611e-02, 7.5611e-02, 7.5611e-02, 2.7816e-02, 7.5611e-02,\n",
       "         7.5611e-02, 2.7816e-02, 2.7816e-02, 7.5611e-02, 7.5611e-02, 2.7816e-02],\n",
       "        [3.1500e-02, 3.1500e-02, 3.1500e-02, 3.1500e-02, 3.1500e-02, 8.5625e-02,\n",
       "         8.5625e-02, 8.5625e-02, 3.1500e-02, 8.5625e-02, 3.1500e-02, 3.1500e-02,\n",
       "         8.5625e-02, 3.1500e-02, 3.1500e-02, 8.5625e-02, 8.5625e-02, 8.5625e-02],\n",
       "        [5.3371e-02, 5.3371e-02, 5.3371e-02, 5.3371e-02, 5.3371e-02, 1.4508e-01,\n",
       "         5.3371e-02, 5.3371e-02, 5.3371e-02, 5.3371e-02, 5.3371e-02, 5.3371e-02,\n",
       "         5.3371e-02, 5.3371e-02, 5.3371e-02, 5.3371e-02, 5.3371e-02, 9.7753e-04],\n",
       "        [2.5593e-02, 6.9569e-02, 6.9569e-02, 6.9569e-02, 6.9569e-02, 6.9569e-02,\n",
       "         2.5593e-02, 6.9569e-02, 9.4151e-03, 6.9569e-02, 9.4151e-03, 6.9569e-02,\n",
       "         6.9569e-02, 6.9569e-02, 6.9569e-02, 6.9569e-02, 6.9569e-02, 2.5593e-02],\n",
       "        [5.8516e-02, 2.9134e-03, 2.9134e-03, 2.9134e-03, 1.5906e-01, 5.8516e-02,\n",
       "         2.9134e-03, 1.5906e-01, 2.9134e-03, 2.9134e-03, 2.9134e-03, 1.5906e-01,\n",
       "         2.9134e-03, 1.5906e-01, 1.5906e-01, 5.8516e-02, 2.9134e-03, 2.9134e-03],\n",
       "        [3.5552e-02, 3.5552e-02, 9.6641e-02, 3.5552e-02, 3.5552e-02, 9.6641e-02,\n",
       "         1.7700e-03, 3.5552e-02, 9.6641e-02, 1.7700e-03, 9.6641e-02, 3.5552e-02,\n",
       "         9.6641e-02, 3.5552e-02, 9.6641e-02, 3.5552e-02, 3.5552e-02, 9.6641e-02],\n",
       "        [2.9212e-02, 2.9212e-02, 7.9406e-02, 7.9406e-02, 2.9212e-02, 7.9406e-02,\n",
       "         1.4544e-03, 7.9406e-02, 2.9212e-02, 7.9406e-02, 7.9406e-02, 2.9212e-02,\n",
       "         7.9406e-02, 7.9406e-02, 2.9212e-02, 7.9406e-02, 7.9406e-02, 2.9212e-02],\n",
       "        [2.7099e-02, 2.7099e-02, 7.3664e-02, 7.3664e-02, 2.7099e-02, 7.3664e-02,\n",
       "         7.3664e-02, 7.3664e-02, 7.3664e-02, 7.3664e-02, 2.7099e-02, 7.3664e-02,\n",
       "         2.7099e-02, 7.3664e-02, 7.3664e-02, 2.7099e-02, 7.3664e-02, 2.7099e-02],\n",
       "        [1.0100e-01, 1.8498e-03, 1.8498e-03, 1.8498e-03, 1.0100e-01, 1.0100e-01,\n",
       "         1.8498e-03, 1.0100e-01, 1.8498e-03, 1.0100e-01, 1.8498e-03, 1.8498e-03,\n",
       "         1.0100e-01, 1.8498e-03, 1.8498e-03, 1.0100e-01, 2.7453e-01, 1.8498e-03],\n",
       "        [4.0204e-02, 4.0204e-02, 1.0929e-01, 4.0204e-02, 4.0204e-02, 4.0204e-02,\n",
       "         1.0929e-01, 4.0204e-02, 4.0204e-02, 1.0929e-01, 4.0204e-02, 4.0204e-02,\n",
       "         4.0204e-02, 4.0204e-02, 4.0204e-02, 4.0204e-02, 4.0204e-02, 1.0929e-01],\n",
       "        [1.0311e-01, 1.0311e-01, 1.0311e-01, 3.7932e-02, 3.7932e-02, 3.7932e-02,\n",
       "         1.8885e-03, 1.0311e-01, 1.8885e-03, 1.8885e-03, 1.8885e-03, 1.3954e-02,\n",
       "         1.0311e-01, 1.0311e-01, 1.0311e-01, 3.7932e-02, 1.0311e-01, 1.8885e-03],\n",
       "        [4.4591e-02, 1.2121e-01, 2.2200e-03, 1.2121e-01, 4.4591e-02, 2.2200e-03,\n",
       "         2.2200e-03, 1.2121e-01, 2.2200e-03, 2.2200e-03, 1.2121e-01, 2.2200e-03,\n",
       "         2.2200e-03, 1.2121e-01, 4.4591e-02, 1.2121e-01, 1.2121e-01, 2.2200e-03],\n",
       "        [4.1801e-02, 4.1801e-02, 1.1363e-01, 4.1801e-02, 4.1801e-02, 4.1801e-02,\n",
       "         1.1363e-01, 4.1801e-02, 2.0811e-03, 4.1801e-02, 4.1801e-02, 1.1363e-01,\n",
       "         4.1801e-02, 4.1801e-02, 4.1801e-02, 4.1801e-02, 4.1801e-02, 1.1363e-01],\n",
       "        [4.3188e-02, 4.3188e-02, 4.3188e-02, 4.3188e-02, 4.3188e-02, 4.3188e-02,\n",
       "         4.3188e-02, 1.1740e-01, 4.3188e-02, 1.1740e-01, 4.3188e-02, 4.3188e-02,\n",
       "         4.3188e-02, 4.3188e-02, 4.3188e-02, 4.3188e-02, 1.1740e-01, 4.3188e-02],\n",
       "        [8.4074e-02, 3.0929e-02, 1.5399e-03, 3.0929e-02, 3.0929e-02, 8.4074e-02,\n",
       "         8.4074e-02, 8.4074e-02, 8.4074e-02, 1.5399e-03, 8.4074e-02, 3.0929e-02,\n",
       "         1.5399e-03, 8.4074e-02, 8.4074e-02, 8.4074e-02, 8.4074e-02, 3.0929e-02],\n",
       "        [2.3122e-01, 4.2349e-03, 4.2349e-03, 4.2349e-03, 3.1292e-02, 4.2349e-03,\n",
       "         4.2349e-03, 8.5060e-02, 4.2349e-03, 4.2349e-03, 2.3122e-01, 3.1292e-02,\n",
       "         4.2349e-03, 8.5060e-02, 3.1292e-02, 2.3122e-01, 4.2349e-03, 4.2349e-03],\n",
       "        [8.2793e-02, 8.2793e-02, 8.2793e-02, 3.0458e-02, 8.2793e-02, 3.0458e-02,\n",
       "         1.1205e-02, 3.0458e-02, 3.0458e-02, 8.2793e-02, 3.0458e-02, 8.2793e-02,\n",
       "         8.2793e-02, 3.0458e-02, 8.2793e-02, 8.2793e-02, 3.0458e-02, 3.0458e-02],\n",
       "        [8.4063e-02, 3.0925e-02, 8.4063e-02, 1.1377e-02, 8.4063e-02, 8.4063e-02,\n",
       "         1.5397e-03, 3.0925e-02, 1.1377e-02, 3.0925e-02, 8.4063e-02, 1.1377e-02,\n",
       "         8.4063e-02, 3.0925e-02, 8.4063e-02, 8.4063e-02, 8.4063e-02, 8.4063e-02],\n",
       "        [2.4903e-02, 6.7694e-02, 6.7694e-02, 6.7694e-02, 6.7694e-02, 6.7694e-02,\n",
       "         1.2399e-03, 6.7694e-02, 6.7694e-02, 1.2399e-03, 6.7694e-02, 6.7694e-02,\n",
       "         6.7694e-02, 6.7694e-02, 6.7694e-02, 6.7694e-02, 6.7694e-02, 2.4903e-02],\n",
       "        [7.0386e-02, 2.5894e-02, 7.0386e-02, 2.5894e-02, 2.5894e-02, 7.0386e-02,\n",
       "         7.0386e-02, 7.0386e-02, 2.5894e-02, 2.5894e-02, 7.0386e-02, 7.0386e-02,\n",
       "         7.0386e-02, 2.5894e-02, 7.0386e-02, 7.0386e-02, 7.0386e-02, 7.0386e-02],\n",
       "        [2.1728e-03, 2.1728e-03, 2.1728e-03, 2.1728e-03, 2.1728e-03, 2.1728e-03,\n",
       "         2.1728e-03, 3.2247e-01, 2.1728e-03, 2.1728e-03, 2.1728e-03, 2.1728e-03,\n",
       "         2.1728e-03, 3.2247e-01, 2.1728e-03, 2.1728e-03, 3.2247e-01, 2.1728e-03],\n",
       "        [5.6893e-02, 5.6893e-02, 2.0930e-02, 2.0930e-02, 5.6893e-02, 1.5465e-01,\n",
       "         1.0420e-03, 5.6893e-02, 2.0930e-02, 1.0420e-03, 5.6893e-02, 5.6893e-02,\n",
       "         5.6893e-02, 1.5465e-01, 5.6893e-02, 5.6893e-02, 5.6893e-02, 5.6893e-02],\n",
       "        [2.7971e-02, 2.7971e-02, 2.7971e-02, 2.7971e-02, 2.7971e-02, 7.6034e-02,\n",
       "         7.6034e-02, 7.6034e-02, 2.7971e-02, 2.0668e-01, 1.3926e-03, 2.7971e-02,\n",
       "         2.0668e-01, 2.7971e-02, 7.6034e-02, 2.7971e-02, 2.7971e-02, 1.3926e-03],\n",
       "        [3.3506e-02, 3.3506e-02, 9.1077e-02, 3.3506e-02, 9.1077e-02, 3.3506e-02,\n",
       "         1.6681e-03, 9.1077e-02, 3.3506e-02, 1.6681e-03, 3.3506e-02, 9.1077e-02,\n",
       "         3.3506e-02, 9.1077e-02, 9.1077e-02, 3.3506e-02, 9.1077e-02, 9.1077e-02],\n",
       "        [7.4398e-02, 7.4398e-02, 7.4398e-02, 7.4398e-02, 7.4398e-02, 7.4398e-02,\n",
       "         1.3627e-03, 7.4398e-02, 1.3627e-03, 1.3627e-03, 2.7370e-02, 7.4398e-02,\n",
       "         7.4398e-02, 7.4398e-02, 7.4398e-02, 7.4398e-02, 7.4398e-02, 1.3627e-03],\n",
       "        [1.2220e-01, 2.2382e-03, 2.2382e-03, 2.2382e-03, 2.2382e-03, 1.2220e-01,\n",
       "         2.2382e-03, 1.2220e-01, 2.2382e-03, 1.2220e-01, 2.2382e-03, 2.2382e-03,\n",
       "         1.2220e-01, 1.2220e-01, 2.2382e-03, 1.2220e-01, 1.2220e-01, 2.2382e-03],\n",
       "        [1.3967e-02, 1.3967e-02, 1.3967e-02, 1.3967e-02, 7.6256e-01, 1.3967e-02,\n",
       "         1.3967e-02, 1.3967e-02, 1.3967e-02, 1.3967e-02, 1.3967e-02, 1.3967e-02,\n",
       "         1.3967e-02, 1.3967e-02, 1.3967e-02, 1.3967e-02, 1.3967e-02, 1.3967e-02],\n",
       "        [1.0414e-01, 3.8312e-02, 1.0414e-01, 3.8312e-02, 3.8312e-02, 1.0414e-01,\n",
       "         7.0172e-04, 3.8312e-02, 7.0172e-04, 7.0172e-04, 1.0414e-01, 3.8312e-02,\n",
       "         1.0414e-01, 1.0414e-01, 1.0414e-01, 3.8312e-02, 3.8312e-02, 7.0172e-04],\n",
       "        [6.5829e-02, 6.5829e-02, 6.5829e-02, 6.5829e-02, 6.5829e-02, 6.5829e-02,\n",
       "         1.7894e-01, 6.5829e-02, 1.2057e-03, 1.2057e-03, 3.2774e-03, 2.4217e-02,\n",
       "         6.5829e-02, 6.5829e-02, 6.5829e-02, 6.5829e-02, 6.5829e-02, 1.2057e-03],\n",
       "        [6.1027e-02, 6.1027e-02, 6.1027e-02, 6.1027e-02, 6.1027e-02, 6.1027e-02,\n",
       "         6.1027e-02, 6.1027e-02, 1.1177e-03, 6.1027e-02, 6.1027e-02, 2.2451e-02,\n",
       "         6.1027e-02, 6.1027e-02, 6.1027e-02, 6.1027e-02, 6.1027e-02, 6.1027e-02],\n",
       "        [6.2909e-02, 6.2909e-02, 1.1522e-03, 1.1522e-03, 6.2909e-02, 1.7100e-01,\n",
       "         1.1522e-03, 6.2909e-02, 1.1522e-03, 1.1522e-03, 6.2909e-02, 1.7100e-01,\n",
       "         2.3143e-02, 6.2909e-02, 6.2909e-02, 6.2909e-02, 6.2909e-02, 6.2909e-02],\n",
       "        [7.6350e-02, 7.6350e-02, 2.8088e-02, 2.8088e-02, 2.8088e-02, 2.8088e-02,\n",
       "         1.3984e-03, 7.6350e-02, 1.0333e-02, 1.3984e-03, 7.6350e-02, 2.8088e-02,\n",
       "         2.8088e-02, 7.6350e-02, 7.6350e-02, 7.6350e-02, 7.6350e-02, 2.0754e-01],\n",
       "        [2.3405e-02, 6.3622e-02, 1.1653e-03, 6.3622e-02, 2.3405e-02, 1.7294e-01,\n",
       "         1.1653e-03, 6.3622e-02, 1.1653e-03, 1.1653e-03, 2.3405e-02, 1.7294e-01,\n",
       "         6.3622e-02, 6.3622e-02, 6.3622e-02, 2.3405e-02, 1.7294e-01, 1.1653e-03],\n",
       "        [4.8067e-02, 4.8067e-02, 4.8067e-02, 4.8067e-02, 4.8067e-02, 4.8067e-02,\n",
       "         4.8067e-02, 4.8067e-02, 1.3066e-01, 4.8067e-02, 4.8067e-02, 1.3066e-01,\n",
       "         4.8067e-02, 4.8067e-02, 4.8067e-02, 4.8067e-02, 4.8067e-02, 1.7683e-02],\n",
       "        [5.8359e-02, 5.8359e-02, 5.8359e-02, 5.8359e-02, 5.8359e-02, 5.8359e-02,\n",
       "         7.8980e-03, 5.8359e-02, 5.8359e-02, 5.8359e-02, 5.8359e-02, 5.8359e-02,\n",
       "         5.8359e-02, 5.8359e-02, 5.8359e-02, 5.8359e-02, 5.8359e-02, 5.8359e-02],\n",
       "        [5.5784e-02, 2.0522e-02, 5.5784e-02, 2.0522e-02, 5.5784e-02, 2.0522e-02,\n",
       "         1.5164e-01, 5.5784e-02, 1.0217e-03, 1.5164e-01, 5.5784e-02, 2.0522e-02,\n",
       "         5.5784e-02, 5.5784e-02, 5.5784e-02, 5.5784e-02, 5.5784e-02, 5.5784e-02],\n",
       "        [9.6627e-02, 3.5547e-02, 3.5547e-02, 3.5547e-02, 3.5547e-02, 9.6627e-02,\n",
       "         1.3077e-02, 3.5547e-02, 9.6627e-02, 9.6627e-02, 1.3077e-02, 1.3077e-02,\n",
       "         9.6627e-02, 3.5547e-02, 9.6627e-02, 3.5547e-02, 9.6627e-02, 3.5547e-02],\n",
       "        [5.7578e-02, 5.7578e-02, 5.7578e-02, 5.7578e-02, 5.7578e-02, 5.7578e-02,\n",
       "         5.7578e-02, 5.7578e-02, 5.7578e-02, 5.7578e-02, 2.1182e-02, 5.7578e-02,\n",
       "         5.7578e-02, 5.7578e-02, 5.7578e-02, 5.7578e-02, 5.7578e-02, 5.7578e-02],\n",
       "        [4.6649e-02, 4.6649e-02, 4.6649e-02, 4.6649e-02, 4.6649e-02, 4.6649e-02,\n",
       "         4.6649e-02, 4.6649e-02, 4.6649e-02, 4.6649e-02, 4.6649e-02, 1.2681e-01,\n",
       "         4.6649e-02, 4.6649e-02, 4.6649e-02, 4.6649e-02, 1.2681e-01, 4.6649e-02],\n",
       "        [4.2290e-02, 4.2290e-02, 1.1496e-01, 4.2290e-02, 1.1496e-01, 4.2290e-02,\n",
       "         7.7456e-04, 1.1496e-01, 7.7456e-04, 4.2290e-02, 4.2290e-02, 1.1496e-01,\n",
       "         4.2290e-02, 4.2290e-02, 4.2290e-02, 4.2290e-02, 1.1496e-01, 7.7456e-04],\n",
       "        [7.5780e-02, 7.5780e-02, 1.3880e-03, 2.7878e-02, 7.5780e-02, 7.5780e-02,\n",
       "         1.3880e-03, 7.5780e-02, 1.3880e-03, 2.0599e-01, 1.3880e-03, 1.3880e-03,\n",
       "         7.5780e-02, 7.5780e-02, 7.5780e-02, 7.5780e-02, 7.5780e-02, 1.3880e-03]])"
      ]
     },
     "execution_count": 28,
     "metadata": {},
     "output_type": "execute_result"
    }
   ],
   "source": [
    "filtered_first_slot_distributions = first_slot_distributions[common_users_first_fourth_slot]\n",
    "filtered_first_slot_distributions"
   ]
  },
  {
   "cell_type": "code",
   "execution_count": 29,
   "metadata": {},
   "outputs": [
    {
     "data": {
      "text/plain": [
       "tensor([[2.6689e-02, 2.6689e-02, 1.9720e-01, 7.2547e-02, 2.6689e-02, 2.6689e-02,\n",
       "         1.3288e-03, 7.2547e-02, 2.6689e-02, 1.3288e-03, 2.6689e-02, 7.2547e-02,\n",
       "         2.6689e-02, 7.2547e-02, 7.2547e-02, 2.6689e-02, 1.9720e-01, 2.6689e-02],\n",
       "        [4.5604e-02, 1.2396e-01, 4.5604e-02, 4.5604e-02, 4.5604e-02, 1.2396e-01,\n",
       "         1.2396e-01, 4.5604e-02, 8.3526e-04, 1.2396e-01, 8.3526e-04, 4.5604e-02,\n",
       "         4.5604e-02, 4.5604e-02, 4.5604e-02, 4.5604e-02, 4.5604e-02, 8.3526e-04],\n",
       "        [3.2449e-02, 1.6155e-03, 1.6155e-03, 1.6155e-03, 8.8205e-02, 8.8205e-02,\n",
       "         1.6155e-03, 8.8205e-02, 1.6155e-03, 2.3977e-01, 1.6155e-03, 1.6155e-03,\n",
       "         2.3977e-01, 3.2449e-02, 8.8205e-02, 8.8205e-02, 1.6155e-03, 1.6155e-03],\n",
       "        [6.3522e-02, 6.3522e-02, 6.3522e-02, 6.3522e-02, 6.3522e-02, 6.3522e-02,\n",
       "         2.3369e-02, 6.3522e-02, 6.3522e-02, 4.2801e-04, 6.3522e-02, 6.3522e-02,\n",
       "         6.3522e-02, 6.3522e-02, 2.3369e-02, 6.3522e-02, 6.3522e-02, 6.3522e-02],\n",
       "        [5.3938e-02, 1.4662e-01, 1.4662e-01, 1.4662e-01, 5.3938e-02, 1.4662e-01,\n",
       "         2.6854e-03, 5.3938e-02, 2.6854e-03, 2.6854e-03, 2.6854e-03, 5.3938e-02,\n",
       "         2.6854e-03, 5.3938e-02, 5.3938e-02, 5.3938e-02, 1.9843e-02, 2.6854e-03],\n",
       "        [7.3224e-02, 7.3224e-02, 2.6937e-02, 2.6937e-02, 1.9904e-01, 3.6456e-03,\n",
       "         3.6456e-03, 3.6456e-03, 3.6456e-03, 3.6456e-03, 3.6456e-03, 2.6937e-02,\n",
       "         7.3224e-02, 1.9904e-01, 1.9904e-01, 7.3224e-02, 3.6456e-03, 3.6456e-03],\n",
       "        [2.4424e-01, 1.6457e-03, 1.6457e-03, 1.6457e-03, 2.4424e-01, 1.6457e-03,\n",
       "         1.6457e-03, 2.4424e-01, 1.6457e-03, 1.6457e-03, 1.6457e-03, 1.6457e-03,\n",
       "         1.6457e-03, 2.4424e-01, 1.6457e-03, 1.6457e-03, 1.6457e-03, 1.6457e-03],\n",
       "        [1.1235e-01, 4.1331e-02, 1.1235e-01, 4.1331e-02, 4.1331e-02, 4.1331e-02,\n",
       "         2.0578e-03, 1.1235e-01, 1.5205e-02, 1.5205e-02, 2.0578e-03, 1.1235e-01,\n",
       "         4.1331e-02, 4.1331e-02, 1.1235e-01, 4.1331e-02, 1.1235e-01, 2.0578e-03],\n",
       "        [7.9875e-03, 7.9875e-03, 7.9875e-03, 7.9875e-03, 7.9875e-03, 7.9875e-03,\n",
       "         7.9875e-03, 4.3610e-01, 7.9875e-03, 7.9875e-03, 7.9875e-03, 7.9875e-03,\n",
       "         7.9875e-03, 7.9875e-03, 4.3610e-01, 7.9875e-03, 7.9875e-03, 7.9875e-03],\n",
       "        [1.7874e-02, 2.4190e-03, 2.4190e-03, 2.4190e-03, 4.8588e-02, 1.3207e-01,\n",
       "         2.4190e-03, 1.3207e-01, 2.4190e-03, 1.3207e-01, 2.4190e-03, 3.5902e-01,\n",
       "         2.4190e-03, 1.3207e-01, 6.5756e-03, 1.7874e-02, 2.4190e-03, 2.4190e-03],\n",
       "        [1.1720e-01, 2.1465e-03, 2.1465e-03, 2.1465e-03, 1.1720e-01, 2.1465e-03,\n",
       "         2.1465e-03, 1.1720e-01, 2.1465e-03, 2.1465e-03, 1.1720e-01, 2.1465e-03,\n",
       "         2.1465e-03, 4.3114e-02, 1.1720e-01, 1.1720e-01, 1.1720e-01, 1.1720e-01],\n",
       "        [3.5324e-02, 3.5324e-02, 3.5324e-02, 3.5324e-02, 3.5324e-02, 3.5324e-02,\n",
       "         3.5324e-02, 9.6019e-02, 3.5324e-02, 9.6019e-02, 3.5324e-02, 9.6019e-02,\n",
       "         9.6019e-02, 9.6019e-02, 3.5324e-02, 3.5324e-02, 3.5324e-02, 9.6019e-02],\n",
       "        [2.0055e-02, 2.0055e-02, 2.0055e-02, 2.0055e-02, 1.4819e-01, 2.0055e-02,\n",
       "         2.0055e-02, 4.0281e-01, 2.0055e-02, 2.0055e-02, 2.0055e-02, 2.0055e-02,\n",
       "         2.0055e-02, 1.4819e-01, 2.0055e-02, 2.0055e-02, 2.0055e-02, 2.0055e-02],\n",
       "        [2.1290e-01, 2.1290e-01, 1.0600e-02, 1.0600e-02, 2.1290e-01, 1.0600e-02,\n",
       "         1.0600e-02, 1.0600e-02, 1.0600e-02, 1.0600e-02, 1.0600e-02, 1.0600e-02,\n",
       "         1.0600e-02, 1.0600e-02, 2.1290e-01, 1.0600e-02, 1.0600e-02, 1.0600e-02],\n",
       "        [5.6690e-02, 5.6690e-02, 2.8224e-03, 2.0855e-02, 5.6690e-02, 5.6690e-02,\n",
       "         2.8224e-03, 5.6690e-02, 2.0855e-02, 1.5410e-01, 2.0855e-02, 1.5410e-01,\n",
       "         5.6690e-02, 5.6690e-02, 5.6690e-02, 5.6690e-02, 5.6690e-02, 5.6690e-02],\n",
       "        [6.7388e-02, 6.7388e-02, 6.7388e-02, 2.4791e-02, 6.7388e-02, 6.7388e-02,\n",
       "         6.7388e-02, 6.7388e-02, 2.4791e-02, 6.7388e-02, 2.4791e-02, 2.4791e-02,\n",
       "         2.4791e-02, 6.7388e-02, 6.7388e-02, 6.7388e-02, 6.7388e-02, 6.7388e-02],\n",
       "        [1.7708e-01, 1.7708e-01, 8.8162e-03, 8.8162e-03, 8.8162e-03, 8.8162e-03,\n",
       "         8.8162e-03, 8.8162e-03, 8.8162e-03, 8.8162e-03, 8.8162e-03, 8.8162e-03,\n",
       "         1.7708e-01, 8.8162e-03, 1.7708e-01, 1.7708e-01, 8.8162e-03, 8.8162e-03],\n",
       "        [6.2400e-02, 6.2400e-02, 1.1429e-03, 6.2400e-02, 6.2400e-02, 6.2400e-02,\n",
       "         1.1429e-03, 6.2400e-02, 8.4450e-03, 6.2400e-02, 6.2400e-02, 8.4450e-03,\n",
       "         6.2400e-02, 6.2400e-02, 6.2400e-02, 6.2400e-02, 1.6962e-01, 6.2400e-02],\n",
       "        [1.9024e-01, 6.9984e-02, 3.4843e-03, 2.5746e-02, 2.5746e-02, 6.9984e-02,\n",
       "         3.4843e-03, 1.9024e-01, 3.4843e-03, 3.4843e-03, 3.4843e-03, 3.4843e-03,\n",
       "         6.9984e-02, 1.9024e-01, 6.9984e-02, 6.9984e-02, 3.4843e-03, 3.4843e-03],\n",
       "        [1.0600e-02, 1.0600e-02, 1.0600e-02, 1.0600e-02, 1.0600e-02, 1.0600e-02,\n",
       "         1.0600e-02, 2.1290e-01, 1.0600e-02, 1.0600e-02, 1.0600e-02, 2.1290e-01,\n",
       "         2.1290e-01, 1.0600e-02, 1.0600e-02, 2.1290e-01, 1.0600e-02, 1.0600e-02],\n",
       "        [7.0889e-02, 7.0889e-02, 2.6079e-02, 7.0889e-02, 7.0889e-02, 2.6079e-02,\n",
       "         7.0889e-02, 7.0889e-02, 3.5293e-03, 9.5937e-03, 3.5293e-03, 2.6079e-02,\n",
       "         7.0889e-02, 1.9270e-01, 7.0889e-02, 7.0889e-02, 7.0889e-02, 3.5293e-03],\n",
       "        [2.3494e-01, 4.3031e-03, 4.3031e-03, 4.3031e-03, 2.3494e-01, 4.3031e-03,\n",
       "         4.3031e-03, 2.3494e-01, 4.3031e-03, 4.3031e-03, 4.3031e-03, 4.3031e-03,\n",
       "         4.3031e-03, 2.3494e-01, 4.3031e-03, 4.3031e-03, 4.3031e-03, 4.3031e-03],\n",
       "        [9.0321e-02, 1.2224e-02, 1.2224e-02, 1.2224e-02, 9.0321e-02, 9.0321e-02,\n",
       "         1.2224e-02, 2.4552e-01, 1.2224e-02, 1.2224e-02, 1.2224e-02, 1.2224e-02,\n",
       "         9.0321e-02, 9.0321e-02, 9.0321e-02, 9.0321e-02, 1.2224e-02, 1.2224e-02],\n",
       "        [1.9049e-02, 5.1782e-02, 1.4076e-01, 5.1782e-02, 1.9049e-02, 1.4076e-01,\n",
       "         2.5781e-03, 1.4076e-01, 2.5781e-03, 2.5781e-03, 5.1782e-02, 1.4076e-01,\n",
       "         5.1782e-02, 1.4076e-01, 1.9049e-02, 1.9049e-02, 2.5781e-03, 2.5781e-03],\n",
       "        [1.9881e-01, 2.6905e-02, 2.6905e-02, 2.6905e-02, 1.9881e-01, 2.6905e-02,\n",
       "         2.6905e-02, 2.6905e-02, 2.6905e-02, 2.6905e-02, 2.6905e-02, 2.6905e-02,\n",
       "         2.6905e-02, 2.6905e-02, 2.6905e-02, 2.6905e-02, 2.6905e-02, 1.9881e-01],\n",
       "        [2.6689e-01, 1.3288e-02, 1.3288e-02, 1.3288e-02, 1.3288e-02, 1.3288e-02,\n",
       "         1.3288e-02, 2.6689e-01, 1.3288e-02, 1.3288e-02, 1.3288e-02, 1.3288e-02,\n",
       "         1.3288e-02, 1.3288e-02, 1.3288e-02, 2.6689e-01, 1.3288e-02, 1.3288e-02],\n",
       "        [1.4274e-01, 1.4274e-01, 5.2510e-02, 5.2510e-02, 5.2510e-02, 1.9317e-02,\n",
       "         1.9317e-02, 5.2510e-02, 1.9317e-02, 2.6143e-03, 5.2510e-02, 5.2510e-02,\n",
       "         1.9317e-02, 5.2510e-02, 1.4274e-01, 5.2510e-02, 1.9317e-02, 5.2510e-02],\n",
       "        [1.5985e-02, 1.5985e-02, 1.5985e-02, 1.5985e-02, 3.2106e-01, 1.5985e-02,\n",
       "         1.5985e-02, 3.2106e-01, 1.5985e-02, 1.5985e-02, 1.5985e-02, 1.5985e-02,\n",
       "         1.5985e-02, 1.1811e-01, 1.5985e-02, 1.5985e-02, 1.5985e-02, 1.5985e-02],\n",
       "        [1.7897e-01, 1.7897e-01, 3.2779e-03, 3.2779e-03, 3.2779e-03, 3.2779e-03,\n",
       "         3.2779e-03, 1.7897e-01, 3.2779e-03, 3.2779e-03, 3.2779e-03, 3.2779e-03,\n",
       "         3.2779e-03, 1.7897e-01, 3.2779e-03, 1.7897e-01, 6.5838e-02, 3.2779e-03],\n",
       "        [1.1296e-01, 4.1556e-02, 2.0689e-03, 2.0689e-03, 4.1556e-02, 1.1296e-01,\n",
       "         2.0689e-03, 3.0706e-01, 2.0689e-03, 2.0689e-03, 1.5287e-02, 5.6239e-03,\n",
       "         4.1556e-02, 1.1296e-01, 4.1556e-02, 4.1556e-02, 1.1296e-01, 2.0689e-03],\n",
       "        [3.4763e-01, 6.3670e-03, 6.3670e-03, 6.3670e-03, 4.7046e-02, 6.3670e-03,\n",
       "         6.3670e-03, 3.4763e-01, 6.3670e-03, 6.3670e-03, 6.3670e-03, 4.7046e-02,\n",
       "         6.3670e-03, 1.2788e-01, 6.3670e-03, 6.3670e-03, 6.3670e-03, 6.3670e-03],\n",
       "        [7.4656e-02, 7.4656e-02, 7.4656e-02, 7.4656e-02, 7.4656e-02, 7.4656e-02,\n",
       "         5.0303e-04, 7.4656e-02, 7.4656e-02, 5.0303e-04, 2.7464e-02, 7.4656e-02,\n",
       "         5.0303e-04, 7.4656e-02, 7.4656e-02, 7.4656e-02, 7.4656e-02, 5.0303e-04],\n",
       "        [1.2800e-01, 4.7089e-02, 1.7323e-02, 4.7089e-02, 4.7089e-02, 1.2800e-01,\n",
       "         6.3728e-03, 1.2800e-01, 4.7089e-02, 6.3728e-03, 1.7323e-02, 1.7323e-02,\n",
       "         6.3728e-03, 1.2800e-01, 1.2800e-01, 4.7089e-02, 4.7089e-02, 6.3728e-03],\n",
       "        [4.5604e-02, 1.2396e-01, 1.2396e-01, 4.5604e-02, 4.5604e-02, 4.5604e-02,\n",
       "         8.3526e-04, 4.5604e-02, 8.3526e-04, 1.2396e-01, 4.5604e-02, 8.3526e-04,\n",
       "         1.2396e-01, 4.5604e-02, 4.5604e-02, 4.5604e-02, 4.5604e-02, 4.5604e-02],\n",
       "        [2.4445e-01, 4.4772e-03, 4.4772e-03, 4.4772e-03, 8.9927e-02, 3.3082e-02,\n",
       "         4.4772e-03, 2.4445e-01, 4.4772e-03, 4.4772e-03, 4.4772e-03, 4.4772e-03,\n",
       "         4.4772e-03, 8.9927e-02, 4.4772e-03, 4.4772e-03, 2.4445e-01, 4.4772e-03],\n",
       "        [1.4460e-01, 1.4460e-01, 7.1993e-03, 7.1993e-03, 5.3196e-02, 7.1993e-03,\n",
       "         7.1993e-03, 1.4460e-01, 7.1993e-03, 7.1993e-03, 7.1993e-03, 7.1993e-03,\n",
       "         1.4460e-01, 7.1993e-03, 1.4460e-01, 1.4460e-01, 7.1993e-03, 7.1993e-03],\n",
       "        [5.8760e-02, 5.8760e-02, 5.8760e-02, 5.8760e-02, 5.8760e-02, 5.8760e-02,\n",
       "         1.0762e-03, 5.8760e-02, 5.8760e-02, 5.8760e-02, 5.8760e-02, 5.8760e-02,\n",
       "         5.8760e-02, 5.8760e-02, 5.8760e-02, 5.8760e-02, 5.8760e-02, 5.8760e-02],\n",
       "        [5.2394e-02, 5.2394e-02, 5.2394e-02, 5.2394e-02, 5.2394e-02, 5.2394e-02,\n",
       "         1.4242e-01, 5.2394e-02, 5.2394e-02, 1.9275e-02, 5.2394e-02, 5.2394e-02,\n",
       "         5.2394e-02, 5.2394e-02, 5.2394e-02, 5.2394e-02, 5.2394e-02, 5.2394e-02],\n",
       "        [5.0101e-03, 5.0101e-03, 5.0101e-03, 5.0101e-03, 1.0063e-01, 5.0101e-03,\n",
       "         5.0101e-03, 2.7354e-01, 5.0101e-03, 5.0101e-03, 1.3619e-02, 5.0101e-03,\n",
       "         2.7354e-01, 2.7354e-01, 5.0101e-03, 5.0101e-03, 5.0101e-03, 5.0101e-03],\n",
       "        [1.7217e-03, 1.7217e-03, 2.5552e-01, 2.5552e-01, 9.4002e-02, 9.4002e-02,\n",
       "         1.7217e-03, 9.4002e-02, 1.7217e-03, 1.7217e-03, 1.7217e-03, 1.7217e-03,\n",
       "         1.7217e-03, 9.4002e-02, 1.7217e-03, 9.4002e-02, 1.7217e-03, 1.7217e-03],\n",
       "        [1.4453e-01, 5.3170e-02, 2.6472e-03, 2.6472e-03, 1.4453e-01, 1.4453e-01,\n",
       "         2.6472e-03, 2.6472e-03, 2.6472e-03, 1.4453e-01, 2.6472e-03, 2.6472e-03,\n",
       "         1.4453e-01, 2.6472e-03, 1.4453e-01, 2.6472e-03, 5.3170e-02, 2.6472e-03],\n",
       "        [6.5838e-02, 3.2779e-03, 3.2779e-03, 3.2779e-03, 3.2779e-03, 3.2779e-03,\n",
       "         3.2779e-03, 1.7897e-01, 3.2779e-03, 3.2779e-03, 3.2779e-03, 3.2779e-03,\n",
       "         1.7897e-01, 1.7897e-01, 1.7897e-01, 1.7897e-01, 3.2779e-03, 3.2779e-03],\n",
       "        [4.9697e-02, 4.9697e-02, 4.9697e-02, 4.9697e-02, 4.9697e-02, 1.3509e-01,\n",
       "         1.3509e-01, 1.3509e-01, 4.9697e-02, 2.4743e-03, 2.4743e-03, 4.9697e-02,\n",
       "         2.4743e-03, 1.3509e-01, 4.9697e-02, 4.9697e-02, 2.4743e-03, 2.4743e-03],\n",
       "        [4.5660e-03, 4.5660e-03, 4.5660e-03, 4.5660e-03, 4.5660e-03, 4.5660e-03,\n",
       "         4.5660e-03, 6.7765e-01, 4.5660e-03, 4.5660e-03, 2.4929e-01, 4.5660e-03,\n",
       "         4.5660e-03, 4.5660e-03, 4.5660e-03, 4.5660e-03, 4.5660e-03, 4.5660e-03],\n",
       "        [4.1615e-02, 2.0719e-03, 2.0719e-03, 4.1615e-02, 4.1615e-02, 3.0749e-01,\n",
       "         2.0719e-03, 1.1312e-01, 5.6319e-03, 2.0719e-03, 2.0719e-03, 2.0719e-03,\n",
       "         4.1615e-02, 4.1615e-02, 2.0719e-03, 4.1615e-02, 2.0719e-03, 3.0749e-01],\n",
       "        [4.6876e-03, 1.7245e-03, 1.2742e-02, 1.2742e-02, 9.4153e-02, 3.4637e-02,\n",
       "         2.5593e-01, 3.4637e-02, 1.7245e-03, 1.7245e-03, 1.7245e-03, 9.4153e-02,\n",
       "         1.7245e-03, 9.4153e-02, 2.5593e-01, 9.4153e-02, 1.7245e-03, 1.7245e-03],\n",
       "        [3.0128e-03, 3.0128e-03, 3.0128e-03, 3.0128e-03, 6.0515e-02, 3.0128e-03,\n",
       "         3.0128e-03, 4.4715e-01, 3.0128e-03, 3.0128e-03, 3.0128e-03, 3.0128e-03,\n",
       "         3.0128e-03, 3.0128e-03, 3.0128e-03, 4.4715e-01, 3.0128e-03, 3.0128e-03],\n",
       "        [4.0503e-01, 2.7291e-03, 2.7291e-03, 2.7291e-03, 2.7291e-03, 2.7291e-03,\n",
       "         2.7291e-03, 1.4900e-01, 2.7291e-03, 2.7291e-03, 2.7291e-03, 2.7291e-03,\n",
       "         2.7291e-03, 4.0503e-01, 2.7291e-03, 2.7291e-03, 2.7291e-03, 2.7291e-03],\n",
       "        [5.3170e-02, 2.6472e-03, 2.6472e-03, 2.6472e-03, 1.4453e-01, 1.4453e-01,\n",
       "         2.6472e-03, 1.4453e-01, 2.6472e-03, 1.4453e-01, 2.6472e-03, 2.6472e-03,\n",
       "         1.4453e-01, 2.6472e-03, 2.6472e-03, 1.4453e-01, 2.6472e-03, 5.3170e-02],\n",
       "        [8.0930e-02, 2.1999e-01, 1.4823e-03, 1.4823e-03, 2.1999e-01, 1.4823e-03,\n",
       "         1.4823e-03, 1.4823e-03, 1.4823e-03, 8.0930e-02, 2.1999e-01, 1.4823e-03,\n",
       "         1.4823e-03, 1.4823e-03, 8.0930e-02, 8.0930e-02, 1.4823e-03, 1.4823e-03],\n",
       "        [1.0138e-01, 1.0138e-01, 1.8568e-03, 1.8568e-03, 1.0138e-01, 1.0138e-01,\n",
       "         1.8568e-03, 1.0138e-01, 1.8568e-03, 1.8568e-03, 3.7295e-02, 1.8568e-03,\n",
       "         1.0138e-01, 1.0138e-01, 1.0138e-01, 3.7295e-02, 1.0138e-01, 1.8568e-03]])"
      ]
     },
     "execution_count": 29,
     "metadata": {},
     "output_type": "execute_result"
    }
   ],
   "source": [
    "filtered_fourth_slot_distributions = fourth_slot_distributions[common_users_first_fourth_slot]\n",
    "filtered_fourth_slot_distributions"
   ]
  },
  {
   "cell_type": "code",
   "execution_count": 30,
   "metadata": {},
   "outputs": [
    {
     "name": "stdout",
     "output_type": "stream",
     "text": [
      "torch.Size([51, 18])\n",
      "tensor([[2.0265e-02, 2.0265e-02, 6.4993e-02, 5.5086e-02, 2.0265e-02, 2.0265e-02,\n",
      "         4.8801e-05, 2.6644e-03, 1.2729e-02, 1.1700e-02, 2.0265e-02, 2.3910e-02,\n",
      "         2.0265e-02, 2.6644e-03, 2.6644e-03, 9.8019e-04, 6.4993e-02, 1.2729e-02],\n",
      "        [1.0812e-04, 3.9288e-02, 3.8886e-02, 3.8886e-02, 1.0812e-04, 2.9391e-04,\n",
      "         6.1566e-02, 1.0812e-04, 1.9804e-06, 6.1566e-02, 2.2276e-02, 3.8886e-02,\n",
      "         3.8886e-02, 1.0812e-04, 1.0812e-04, 1.0812e-04, 1.4453e-02, 1.9804e-06],\n",
      "        [1.3167e-02, 2.8584e-02, 2.8584e-02, 2.8584e-02, 1.4711e-02, 3.5792e-02,\n",
      "         1.0005e-02, 3.5792e-02, 1.0005e-02, 1.0907e-01, 1.0005e-02, 2.8584e-02,\n",
      "         9.0492e-02, 1.3167e-02, 3.3290e-02, 1.4711e-02, 1.0005e-02, 1.0005e-02],\n",
      "        [1.8082e-02, 1.8082e-02, 2.6729e-02, 1.8082e-02, 1.8082e-02, 5.4216e-03,\n",
      "         1.1003e-02, 5.4216e-03, 1.8082e-02, 1.0086e-01, 5.4216e-03, 5.4216e-03,\n",
      "         5.4216e-03, 1.8082e-02, 1.9945e-03, 5.4216e-03, 5.4216e-03, 5.4216e-03],\n",
      "        [4.0798e-03, 6.1887e-02, 4.2261e-02, 4.2261e-02, 4.0798e-03, 4.2261e-02,\n",
      "         1.0080e-02, 4.0798e-03, 1.0080e-02, 2.9706e-02, 2.9706e-02, 4.0798e-03,\n",
      "         2.9706e-02, 4.0798e-03, 4.0798e-03, 4.0798e-03, 2.1128e-02, 2.9706e-02],\n",
      "        [1.3453e-03, 1.3453e-03, 2.1798e-02, 2.1798e-02, 6.4255e-02, 1.1769e-03,\n",
      "         1.1769e-03, 3.3444e-02, 1.1151e-02, 1.1769e-03, 1.1769e-03, 2.1798e-02,\n",
      "         3.5966e-02, 6.4255e-02, 6.4255e-02, 1.3453e-03, 9.4042e-02, 3.3444e-02],\n",
      "        [1.0053e-01, 2.0771e-02, 2.0771e-02, 2.0771e-02, 1.0053e-01, 2.0771e-02,\n",
      "         5.7875e-02, 1.0053e-01, 2.0771e-02, 2.0771e-02, 2.0771e-02, 2.0771e-02,\n",
      "         2.0771e-02, 1.0053e-01, 2.0771e-02, 2.0771e-02, 5.7875e-02, 5.7875e-02],\n",
      "        [4.2693e-02, 7.1832e-03, 4.2693e-02, 7.1832e-03, 2.5013e-01, 7.1832e-03,\n",
      "         1.2453e-02, 4.2693e-02, 5.8799e-03, 5.8799e-03, 1.2453e-02, 4.2693e-02,\n",
      "         7.1832e-03, 7.1832e-03, 4.2693e-02, 7.1832e-03, 4.2693e-02, 1.2453e-02],\n",
      "        [1.4869e-01, 1.1972e-03, 1.1972e-03, 1.1972e-03, 1.4869e-01, 1.1972e-03,\n",
      "         1.1972e-03, 6.5366e-02, 1.1972e-03, 1.1972e-03, 1.1972e-03, 1.1972e-03,\n",
      "         1.1972e-03, 1.1972e-03, 2.1525e-01, 1.1972e-03, 1.1972e-03, 1.1972e-03],\n",
      "        [2.0264e-02, 2.7991e-02, 9.5329e-03, 2.7991e-02, 4.9070e-03, 3.6837e-02,\n",
      "         2.7991e-02, 3.6837e-02, 2.7991e-02, 3.6837e-02, 6.7469e-04, 1.5031e-01,\n",
      "         2.7991e-02, 3.6837e-02, 2.5913e-02, 2.0264e-02, 7.8167e-02, 6.7469e-04],\n",
      "        [4.4690e-02, 3.6732e-02, 3.6732e-02, 3.6732e-02, 4.4690e-02, 3.6732e-02,\n",
      "         3.8083e-04, 2.0792e-02, 3.6732e-02, 3.6732e-02, 4.4690e-02, 3.6732e-02,\n",
      "         3.6732e-02, 7.6491e-03, 4.4690e-02, 2.0792e-02, 2.0792e-02, 4.4690e-02],\n",
      "        [1.9119e-03, 1.9119e-03, 1.9119e-03, 1.9119e-03, 1.9119e-03, 2.5151e-02,\n",
      "         2.5151e-02, 5.1971e-03, 1.9119e-03, 5.1971e-03, 1.9119e-03, 3.2260e-02,\n",
      "         5.1971e-03, 3.2260e-02, 1.9119e-03, 2.5151e-02, 2.5151e-02, 5.1971e-03],\n",
      "        [1.6658e-02, 1.6658e-02, 1.6658e-02, 1.6658e-02, 4.7407e-02, 6.2512e-02,\n",
      "         1.6658e-02, 1.7472e-01, 1.6658e-02, 1.6658e-02, 1.6658e-02, 1.6658e-02,\n",
      "         1.6658e-02, 4.7407e-02, 1.6658e-02, 1.6658e-02, 1.6658e-02, 9.5386e-03],\n",
      "        [9.3654e-02, 7.1666e-02, 2.9484e-02, 2.9484e-02, 7.1666e-02, 2.9484e-02,\n",
      "         7.4966e-03, 2.9484e-02, 5.9232e-04, 2.9484e-02, 5.9232e-04, 2.9484e-02,\n",
      "         2.9484e-02, 2.9484e-02, 7.1666e-02, 2.9484e-02, 2.9484e-02, 7.4966e-03],\n",
      "        [9.1308e-04, 2.6888e-02, 4.5459e-05, 8.9709e-03, 5.1187e-02, 9.1308e-04,\n",
      "         4.5459e-05, 5.1187e-02, 8.9709e-03, 7.5593e-02, 8.9709e-03, 2.4820e-03,\n",
      "         2.6888e-02, 5.1187e-02, 5.1187e-02, 9.1308e-04, 2.6888e-02, 2.6888e-02],\n",
      "        [1.5918e-02, 1.5918e-02, 1.4627e-02, 5.3808e-03, 1.5918e-02, 1.4627e-02,\n",
      "         3.2809e-02, 1.5918e-02, 3.5925e-02, 3.2809e-02, 3.5925e-02, 5.3808e-03,\n",
      "         3.5925e-02, 1.5918e-02, 1.4627e-02, 1.5918e-02, 1.5918e-02, 1.4627e-02],\n",
      "        [7.3933e-02, 7.3933e-02, 3.5295e-02, 3.5295e-02, 1.0198e-02, 3.5295e-02,\n",
      "         3.6809e-03, 3.5295e-02, 1.0198e-02, 3.5295e-02, 3.5295e-02, 1.0198e-02,\n",
      "         4.8836e-02, 3.5295e-02, 7.3933e-02, 4.8836e-02, 3.5295e-02, 1.0198e-02],\n",
      "        [1.7650e-02, 1.7650e-02, 3.6261e-02, 5.6319e-03, 1.7650e-02, 5.6319e-03,\n",
      "         3.6261e-02, 5.6319e-03, 3.2610e-02, 5.6319e-03, 1.7650e-02, 3.2610e-02,\n",
      "         1.7650e-02, 5.6319e-03, 5.6319e-03, 1.7650e-02, 4.7979e-02, 1.7650e-02],\n",
      "        [4.4621e-02, 3.4067e-02, 8.1726e-04, 1.1948e-02, 3.7625e-02, 1.5506e-02,\n",
      "         8.1726e-04, 4.4621e-02, 8.1726e-04, 4.8756e-02, 8.1726e-04, 8.1726e-04,\n",
      "         1.5506e-02, 9.4194e-02, 3.4067e-02, 1.5506e-02, 1.3552e-01, 8.1726e-04],\n",
      "        [1.4802e-02, 1.4802e-02, 4.9343e-02, 1.4802e-02, 1.4802e-02, 1.4802e-02,\n",
      "         4.9343e-02, 8.6348e-02, 1.4802e-02, 4.9343e-02, 1.4802e-02, 8.6348e-02,\n",
      "         8.6348e-02, 1.4802e-02, 1.4802e-02, 8.6348e-02, 1.4802e-02, 4.9343e-02],\n",
      "        [1.6110e-02, 1.6110e-02, 3.8515e-02, 1.6478e-02, 1.6478e-02, 5.9267e-03,\n",
      "         3.4500e-02, 1.6110e-02, 8.2041e-04, 3.8526e-03, 8.2041e-04, 6.0621e-03,\n",
      "         1.6110e-02, 4.4793e-02, 1.6110e-02, 1.6478e-02, 1.6110e-02, 8.2041e-04],\n",
      "        [9.5174e-02, 5.8453e-02, 1.0415e-03, 5.8453e-02, 9.5174e-02, 1.0415e-03,\n",
      "         1.0415e-03, 5.6865e-02, 1.0415e-03, 1.0415e-03, 5.8453e-02, 1.0415e-03,\n",
      "         1.0415e-03, 5.6865e-02, 2.0144e-02, 5.8453e-02, 5.8453e-02, 1.0415e-03],\n",
      "        [2.4260e-02, 1.4789e-02, 5.0702e-02, 1.4789e-02, 2.4260e-02, 2.4260e-02,\n",
      "         5.0702e-02, 1.0186e-01, 5.0712e-03, 1.4789e-02, 1.4789e-02, 5.0702e-02,\n",
      "         2.4260e-02, 2.4260e-02, 2.4260e-02, 2.4260e-02, 1.4789e-02, 5.0702e-02],\n",
      "        [1.2069e-02, 4.2971e-03, 4.8785e-02, 4.2971e-03, 1.2069e-02, 4.8785e-02,\n",
      "         2.0305e-02, 1.1681e-02, 2.0305e-02, 5.7409e-02, 4.2971e-03, 4.8785e-02,\n",
      "         4.2971e-03, 4.8785e-02, 1.2069e-02, 1.2069e-02, 5.7409e-02, 2.0305e-02],\n",
      "        [5.7366e-02, 2.0117e-03, 1.2683e-02, 2.0117e-03, 8.3939e-02, 2.8584e-02,\n",
      "         2.8584e-02, 2.8584e-02, 2.8584e-02, 1.2683e-02, 2.8584e-02, 2.0117e-03,\n",
      "         1.2683e-02, 2.8584e-02, 2.8584e-02, 2.8584e-02, 2.8584e-02, 8.3939e-02],\n",
      "        [1.7838e-02, 4.5265e-03, 4.5265e-03, 4.5265e-03, 9.0020e-03, 4.5265e-03,\n",
      "         4.5265e-03, 9.0917e-02, 4.5265e-03, 4.5265e-03, 1.0897e-01, 9.0020e-03,\n",
      "         4.5265e-03, 3.5886e-02, 9.0020e-03, 1.7838e-02, 4.5265e-03, 4.5265e-03],\n",
      "        [2.9972e-02, 2.9972e-02, 1.5141e-02, 1.1026e-02, 1.5141e-02, 5.5702e-03,\n",
      "         4.0563e-03, 1.1026e-02, 5.5702e-03, 4.0089e-02, 1.1026e-02, 1.5141e-02,\n",
      "         3.1738e-02, 1.1026e-02, 2.9972e-02, 1.5141e-02, 5.5702e-03, 1.1026e-02],\n",
      "        [3.4039e-02, 7.4702e-03, 3.4039e-02, 2.3040e-03, 1.1850e-01, 3.4039e-02,\n",
      "         7.2225e-03, 1.4507e-01, 2.3040e-03, 7.4702e-03, 3.4039e-02, 2.3040e-03,\n",
      "         3.4039e-02, 4.3593e-02, 3.4039e-02, 3.4039e-02, 3.4039e-02, 3.4039e-02],\n",
      "        [7.7031e-02, 5.5636e-02, 3.2208e-02, 3.2208e-02, 3.2208e-02, 3.2208e-02,\n",
      "         1.0190e-03, 5.5636e-02, 3.2208e-02, 1.0190e-03, 3.2208e-02, 3.2208e-02,\n",
      "         3.2208e-02, 5.5636e-02, 3.2208e-02, 5.5636e-02, 9.2806e-04, 1.0813e-02],\n",
      "        [2.1287e-02, 7.8310e-03, 3.4159e-02, 1.1912e-02, 7.8310e-03, 2.1287e-02,\n",
      "         3.4159e-02, 1.1834e-01, 1.1912e-02, 1.1912e-02, 2.7549e-02, 3.2381e-02,\n",
      "         1.4415e-02, 4.3533e-02, 1.4415e-02, 1.4415e-02, 2.1287e-02, 3.4159e-02],\n",
      "        [1.7273e-01, 2.0971e-03, 2.0971e-03, 2.0971e-03, 2.2437e-02, 2.0971e-03,\n",
      "         2.0971e-03, 1.2578e-02, 2.0971e-03, 2.0971e-03, 2.0971e-03, 2.2437e-02,\n",
      "         2.0971e-03, 9.7292e-02, 2.0971e-03, 2.0971e-03, 1.5805e-01, 2.0971e-03],\n",
      "        [8.8813e-03, 8.8813e-03, 2.6863e-02, 2.6863e-02, 8.8813e-03, 3.9998e-02,\n",
      "         2.6950e-04, 8.8813e-03, 2.6863e-02, 2.6950e-04, 1.4714e-02, 8.8813e-03,\n",
      "         2.8195e-02, 3.9998e-02, 8.8813e-03, 8.8813e-03, 8.8813e-03, 2.8195e-02],\n",
      "        [5.0015e-02, 9.5588e-03, 5.3242e-03, 9.5588e-03, 9.5588e-03, 2.5984e-02,\n",
      "         3.4831e-02, 2.5984e-02, 9.5588e-03, 1.0015e-01, 7.9652e-03, 5.3242e-03,\n",
      "         1.0015e-01, 5.0015e-02, 2.5984e-02, 9.5588e-03, 9.5588e-03, 2.4901e-03],\n",
      "        [6.0491e-03, 4.5229e-02, 1.6443e-02, 6.0491e-03, 2.2737e-02, 6.0491e-03,\n",
      "         4.1644e-04, 2.2737e-02, 1.6335e-02, 6.1148e-02, 6.0491e-03, 4.5121e-02,\n",
      "         4.5229e-02, 2.2737e-02, 2.2737e-02, 6.0491e-03, 2.2737e-02, 2.2737e-02],\n",
      "        [8.5024e-02, 3.4961e-02, 3.4961e-02, 3.4961e-02, 7.7641e-03, 2.0658e-02,\n",
      "         1.5573e-03, 8.5024e-02, 1.5573e-03, 1.5573e-03, 1.1446e-02, 3.4961e-02,\n",
      "         3.4961e-02, 7.7641e-03, 3.4961e-02, 3.4961e-02, 8.5024e-02, 1.5573e-03],\n",
      "        [1.1200e-02, 7.1182e-02, 2.4805e-03, 2.4805e-03, 2.5479e-02, 5.7501e-02,\n",
      "         2.4805e-03, 1.1200e-02, 2.4805e-03, 5.7501e-02, 2.4805e-03, 2.4805e-03,\n",
      "         1.1200e-02, 5.7501e-02, 7.1182e-02, 1.1200e-02, 5.7501e-02, 2.4805e-03],\n",
      "        [2.2397e-02, 2.2397e-02, 2.2397e-02, 2.2397e-02, 3.5190e-01, 2.2397e-02,\n",
      "         6.4453e-03, 2.2397e-02, 2.2397e-02, 2.2397e-02, 2.2397e-02, 2.2397e-02,\n",
      "         2.2397e-02, 2.2397e-02, 2.2397e-02, 2.2397e-02, 2.2397e-02, 2.2397e-02],\n",
      "        [2.5875e-02, 7.0408e-03, 2.5875e-02, 7.0408e-03, 7.0408e-03, 2.5875e-02,\n",
      "         7.0860e-02, 7.0408e-03, 2.5846e-02, 9.2865e-03, 2.5875e-02, 7.0408e-03,\n",
      "         2.5875e-02, 2.5875e-02, 2.5875e-02, 7.0408e-03, 7.0408e-03, 2.5846e-02],\n",
      "        [3.0409e-02, 3.0409e-02, 3.0409e-02, 3.0409e-02, 1.7400e-02, 3.0409e-02,\n",
      "         8.6966e-02, 1.0386e-01, 1.9022e-03, 1.9022e-03, 5.1707e-03, 9.6035e-03,\n",
      "         1.0386e-01, 1.0386e-01, 3.0409e-02, 3.0409e-02, 3.0409e-02, 1.9022e-03],\n",
      "        [2.9653e-02, 2.9653e-02, 9.7249e-02, 9.7249e-02, 1.6488e-02, 1.6488e-02,\n",
      "         2.9653e-02, 1.6488e-02, 3.0198e-04, 2.9653e-02, 2.9653e-02, 1.0364e-02,\n",
      "         2.9653e-02, 1.6488e-02, 2.9653e-02, 1.6488e-02, 2.9653e-02, 2.9653e-02],\n",
      "        [4.0811e-02, 4.8694e-03, 7.4748e-04, 7.4748e-04, 4.0811e-02, 1.3236e-02,\n",
      "         7.4748e-04, 3.0131e-02, 7.4748e-04, 7.1690e-02, 3.0131e-02, 8.4178e-02,\n",
      "         6.0694e-02, 3.0131e-02, 4.0811e-02, 3.0131e-02, 4.8694e-03, 3.0131e-02],\n",
      "        [5.2563e-03, 3.6536e-02, 1.2405e-02, 1.2405e-02, 1.2405e-02, 1.2405e-02,\n",
      "         9.3973e-04, 5.1308e-02, 3.5275e-03, 9.3973e-04, 3.6536e-02, 1.2405e-02,\n",
      "         7.5439e-02, 5.1308e-02, 5.1308e-02, 5.1308e-02, 3.6536e-02, 1.0213e-01],\n",
      "        [1.3146e-02, 6.9624e-03, 2.4266e-02, 6.9624e-03, 1.3146e-02, 1.8926e-02,\n",
      "         6.6962e-02, 3.5734e-02, 2.4266e-02, 6.5449e-04, 1.0465e-02, 6.1622e-02,\n",
      "         3.0574e-02, 3.5734e-02, 6.9624e-03, 1.3146e-02, 8.5234e-02, 6.5449e-04],\n",
      "        [2.1750e-02, 2.1750e-02, 2.1750e-02, 2.1750e-02, 2.1750e-02, 2.1750e-02,\n",
      "         2.1750e-02, 3.1479e-01, 6.3046e-02, 2.1750e-02, 1.0061e-01, 6.3046e-02,\n",
      "         2.1750e-02, 2.1750e-02, 2.1750e-02, 2.1750e-02, 2.1750e-02, 6.5584e-03],\n",
      "        [8.3722e-03, 2.8144e-02, 2.8144e-02, 8.3722e-03, 8.3722e-03, 1.2457e-01,\n",
      "         2.9131e-03, 2.7381e-02, 2.6364e-02, 2.8144e-02, 2.8144e-02, 2.8144e-02,\n",
      "         8.3722e-03, 8.3722e-03, 2.8144e-02, 8.3722e-03, 2.8144e-02, 1.2457e-01],\n",
      "        [2.5548e-02, 9.3986e-03, 2.1521e-02, 3.8897e-03, 1.9185e-02, 7.0577e-03,\n",
      "         5.2150e-02, 1.0573e-02, 3.5138e-04, 7.4956e-02, 2.7030e-02, 3.6816e-02,\n",
      "         2.7030e-02, 1.9185e-02, 1.0008e-01, 1.9185e-02, 2.7030e-02, 2.7030e-02],\n",
      "        [4.6807e-02, 1.6267e-02, 1.6267e-02, 1.6267e-02, 1.2484e-02, 4.6807e-02,\n",
      "         5.0321e-03, 2.0580e-01, 4.6807e-02, 4.6807e-02, 5.0321e-03, 5.0321e-03,\n",
      "         4.6807e-02, 1.6267e-02, 4.6807e-02, 2.0580e-01, 4.6807e-02, 1.6267e-02],\n",
      "        [1.7373e-01, 2.7424e-02, 2.7424e-02, 2.7424e-02, 2.7424e-02, 2.7424e-02,\n",
      "         2.7424e-02, 4.5712e-02, 2.7424e-02, 2.7424e-02, 9.2263e-03, 2.7424e-02,\n",
      "         2.7424e-02, 1.7373e-01, 2.7424e-02, 2.7424e-02, 2.7424e-02, 2.7424e-02],\n",
      "        [3.2604e-03, 2.2001e-02, 2.2001e-02, 2.2001e-02, 4.8941e-02, 4.8941e-02,\n",
      "         2.2001e-02, 4.8941e-02, 2.2001e-02, 4.8941e-02, 2.2001e-02, 6.2079e-02,\n",
      "         4.8941e-02, 2.2001e-02, 2.2001e-02, 4.8941e-02, 6.2079e-02, 3.2604e-03],\n",
      "        [1.9320e-02, 8.8851e-02, 5.6737e-02, 2.0404e-02, 5.2518e-02, 2.0404e-02,\n",
      "         3.5386e-04, 5.6737e-02, 3.5386e-04, 1.9320e-02, 8.8851e-02, 5.6737e-02,\n",
      "         2.0404e-02, 2.0404e-02, 1.9320e-02, 1.9320e-02, 5.6737e-02, 3.5386e-04],\n",
      "        [1.2799e-02, 1.2799e-02, 2.3443e-04, 1.3011e-02, 1.2799e-02, 1.2799e-02,\n",
      "         2.3443e-04, 1.2799e-02, 2.3443e-04, 1.0207e-01, 1.7954e-02, 2.3443e-04,\n",
      "         1.2799e-02, 1.2799e-02, 1.2799e-02, 1.9242e-02, 1.2799e-02, 2.3443e-04]])\n"
     ]
    }
   ],
   "source": [
    "variation_distance = torch.abs(filtered_first_slot_distributions - filtered_fourth_slot_distributions) / 2\n",
    "print(variation_distance.shape)\n",
    "print(variation_distance)"
   ]
  },
  {
   "cell_type": "code",
   "execution_count": 31,
   "metadata": {},
   "outputs": [
    {
     "name": "stdout",
     "output_type": "stream",
     "text": [
      "torch.Size([18])\n",
      "tensor([0.0371, 0.0250, 0.0252, 0.0192, 0.0414, 0.0239, 0.0194, 0.0508, 0.0140,\n",
      "        0.0313, 0.0221, 0.0274, 0.0305, 0.0359, 0.0316, 0.0244, 0.0361, 0.0212])\n"
     ]
    }
   ],
   "source": [
    "variation_distance = torch.mean(variation_distance, dim=0)\n",
    "print(variation_distance.shape)\n",
    "print(variation_distance)"
   ]
  },
  {
   "cell_type": "code",
   "execution_count": 32,
   "metadata": {},
   "outputs": [
    {
     "data": {
      "text/plain": [
       "0     0.037101\n",
       "1     0.024987\n",
       "2     0.025216\n",
       "3     0.019196\n",
       "4     0.041430\n",
       "5     0.023919\n",
       "6     0.019377\n",
       "7     0.050751\n",
       "8     0.013998\n",
       "9     0.031328\n",
       "10    0.022075\n",
       "11    0.027384\n",
       "12    0.030515\n",
       "13    0.035892\n",
       "14    0.031619\n",
       "15    0.024391\n",
       "16    0.036095\n",
       "17    0.021163\n",
       "dtype: float32"
      ]
     },
     "execution_count": 32,
     "metadata": {},
     "output_type": "execute_result"
    }
   ],
   "source": [
    "first_fourth_series = pd.Series(variation_distance)\n",
    "first_fourth_series"
   ]
  },
  {
   "cell_type": "markdown",
   "metadata": {},
   "source": [
    "## Plot"
   ]
  },
  {
   "cell_type": "code",
   "execution_count": 33,
   "metadata": {},
   "outputs": [
    {
     "data": {
      "text/html": [
       "<div>\n",
       "<style scoped>\n",
       "    .dataframe tbody tr th:only-of-type {\n",
       "        vertical-align: middle;\n",
       "    }\n",
       "\n",
       "    .dataframe tbody tr th {\n",
       "        vertical-align: top;\n",
       "    }\n",
       "\n",
       "    .dataframe thead th {\n",
       "        text-align: right;\n",
       "    }\n",
       "</style>\n",
       "<table border=\"1\" class=\"dataframe\">\n",
       "  <thead>\n",
       "    <tr style=\"text-align: right;\">\n",
       "      <th></th>\n",
       "      <th>0</th>\n",
       "      <th>1</th>\n",
       "      <th>2</th>\n",
       "    </tr>\n",
       "  </thead>\n",
       "  <tbody>\n",
       "    <tr>\n",
       "      <th>0</th>\n",
       "      <td>0.022388</td>\n",
       "      <td>0.025223</td>\n",
       "      <td>0.037101</td>\n",
       "    </tr>\n",
       "    <tr>\n",
       "      <th>1</th>\n",
       "      <td>0.023858</td>\n",
       "      <td>0.018833</td>\n",
       "      <td>0.024987</td>\n",
       "    </tr>\n",
       "    <tr>\n",
       "      <th>2</th>\n",
       "      <td>0.026554</td>\n",
       "      <td>0.024663</td>\n",
       "      <td>0.025216</td>\n",
       "    </tr>\n",
       "    <tr>\n",
       "      <th>3</th>\n",
       "      <td>0.024735</td>\n",
       "      <td>0.019021</td>\n",
       "      <td>0.019196</td>\n",
       "    </tr>\n",
       "    <tr>\n",
       "      <th>4</th>\n",
       "      <td>0.034376</td>\n",
       "      <td>0.028509</td>\n",
       "      <td>0.041430</td>\n",
       "    </tr>\n",
       "    <tr>\n",
       "      <th>5</th>\n",
       "      <td>0.024961</td>\n",
       "      <td>0.038801</td>\n",
       "      <td>0.023919</td>\n",
       "    </tr>\n",
       "    <tr>\n",
       "      <th>6</th>\n",
       "      <td>0.016797</td>\n",
       "      <td>0.019711</td>\n",
       "      <td>0.019377</td>\n",
       "    </tr>\n",
       "    <tr>\n",
       "      <th>7</th>\n",
       "      <td>0.029940</td>\n",
       "      <td>0.037560</td>\n",
       "      <td>0.050751</td>\n",
       "    </tr>\n",
       "    <tr>\n",
       "      <th>8</th>\n",
       "      <td>0.019274</td>\n",
       "      <td>0.018118</td>\n",
       "      <td>0.013998</td>\n",
       "    </tr>\n",
       "    <tr>\n",
       "      <th>9</th>\n",
       "      <td>0.034482</td>\n",
       "      <td>0.027022</td>\n",
       "      <td>0.031328</td>\n",
       "    </tr>\n",
       "    <tr>\n",
       "      <th>10</th>\n",
       "      <td>0.026280</td>\n",
       "      <td>0.020142</td>\n",
       "      <td>0.022075</td>\n",
       "    </tr>\n",
       "    <tr>\n",
       "      <th>11</th>\n",
       "      <td>0.028781</td>\n",
       "      <td>0.024065</td>\n",
       "      <td>0.027384</td>\n",
       "    </tr>\n",
       "    <tr>\n",
       "      <th>12</th>\n",
       "      <td>0.032854</td>\n",
       "      <td>0.026651</td>\n",
       "      <td>0.030515</td>\n",
       "    </tr>\n",
       "    <tr>\n",
       "      <th>13</th>\n",
       "      <td>0.027988</td>\n",
       "      <td>0.035063</td>\n",
       "      <td>0.035892</td>\n",
       "    </tr>\n",
       "    <tr>\n",
       "      <th>14</th>\n",
       "      <td>0.024049</td>\n",
       "      <td>0.022969</td>\n",
       "      <td>0.031619</td>\n",
       "    </tr>\n",
       "    <tr>\n",
       "      <th>15</th>\n",
       "      <td>0.031342</td>\n",
       "      <td>0.022145</td>\n",
       "      <td>0.024391</td>\n",
       "    </tr>\n",
       "    <tr>\n",
       "      <th>16</th>\n",
       "      <td>0.039028</td>\n",
       "      <td>0.035768</td>\n",
       "      <td>0.036095</td>\n",
       "    </tr>\n",
       "    <tr>\n",
       "      <th>17</th>\n",
       "      <td>0.022793</td>\n",
       "      <td>0.021365</td>\n",
       "      <td>0.021163</td>\n",
       "    </tr>\n",
       "  </tbody>\n",
       "</table>\n",
       "</div>"
      ],
      "text/plain": [
       "           0         1         2\n",
       "0   0.022388  0.025223  0.037101\n",
       "1   0.023858  0.018833  0.024987\n",
       "2   0.026554  0.024663  0.025216\n",
       "3   0.024735  0.019021  0.019196\n",
       "4   0.034376  0.028509  0.041430\n",
       "5   0.024961  0.038801  0.023919\n",
       "6   0.016797  0.019711  0.019377\n",
       "7   0.029940  0.037560  0.050751\n",
       "8   0.019274  0.018118  0.013998\n",
       "9   0.034482  0.027022  0.031328\n",
       "10  0.026280  0.020142  0.022075\n",
       "11  0.028781  0.024065  0.027384\n",
       "12  0.032854  0.026651  0.030515\n",
       "13  0.027988  0.035063  0.035892\n",
       "14  0.024049  0.022969  0.031619\n",
       "15  0.031342  0.022145  0.024391\n",
       "16  0.039028  0.035768  0.036095\n",
       "17  0.022793  0.021365  0.021163"
      ]
     },
     "execution_count": 33,
     "metadata": {},
     "output_type": "execute_result"
    }
   ],
   "source": [
    "df = pd.concat([first_second_series, first_third_series, first_fourth_series], axis=1)\n",
    "df"
   ]
  },
  {
   "cell_type": "code",
   "execution_count": 34,
   "metadata": {},
   "outputs": [
    {
     "data": {
      "image/png": "[encoded data removed]",
      "text/plain": [
       "<Figure size 640x480 with 1 Axes>"
      ]
     },
     "metadata": {},
     "output_type": "display_data"
    }
   ],
   "source": [
    "colors = sns.color_palette(\"viridis\", n_colors=len(df.columns))\n",
    "ax = df.plot.kde(color=colors, linewidth=2)\n",
    "plt.title('Estimated densities of total variation scores with respect to the first two months')\n",
    "plt.xlabel('Total variation')\n",
    "plt.ylabel('Density')\n",
    "labels = ['M1-2 vs M3-4', 'M1-2 vs M5-6', 'M1-2 vs M7-8']\n",
    "plt.legend(labels)\n",
    "plt.show()"
   ]
  },
  {
   "cell_type": "markdown",
   "metadata": {},
   "source": [
    "# Preference change from previous slot"
   ]
  },
  {
   "cell_type": "markdown",
   "metadata": {},
   "source": [
    "## Third time slot"
   ]
  },
  {
   "cell_type": "code",
   "execution_count": 35,
   "metadata": {},
   "outputs": [
    {
     "name": "stdout",
     "output_type": "stream",
     "text": [
      "101\n",
      "[517, 9, 521, 11, 523, 530, 22, 24, 26, 539, 37, 47, 559, 569, 58, 65, 70, 584, 75, 76, 81, 602, 92, 95, 98, 101, 102, 618, 620, 112, 116, 118, 630, 121, 122, 636, 127, 130, 644, 137, 649, 139, 143, 144, 668, 694, 696, 185, 188, 703, 192, 704, 711, 204, 207, 233, 239, 752, 763, 764, 253, 278, 791, 288, 802, 808, 815, 816, 817, 822, 826, 833, 845, 860, 867, 366, 369, 374, 377, 892, 384, 899, 393, 913, 914, 404, 405, 409, 413, 442, 447, 450, 454, 476, 477, 479, 486, 494, 498, 501, 504]\n"
     ]
    }
   ],
   "source": [
    "common_users_second_third_slot = list(set(second_slot_active_users) & set(third_slot_active_users))\n",
    "print(len(common_users_second_third_slot))\n",
    "print(common_users_second_third_slot)"
   ]
  },
  {
   "cell_type": "code",
   "execution_count": 36,
   "metadata": {},
   "outputs": [
    {
     "data": {
      "text/plain": [
       "tensor([[0.0693, 0.0693, 0.0013,  ..., 0.0693, 0.0693, 0.0693],\n",
       "        [0.0225, 0.0613, 0.0225,  ..., 0.0613, 0.0613, 0.0613],\n",
       "        [0.0531, 0.1445, 0.0010,  ..., 0.0195, 0.1445, 0.0010],\n",
       "        ...,\n",
       "        [0.0504, 0.0504, 0.1371,  ..., 0.0504, 0.0504, 0.0186],\n",
       "        [0.0449, 0.1219, 0.0449,  ..., 0.1219, 0.1219, 0.0022],\n",
       "        [0.1091, 0.1091, 0.0020,  ..., 0.1091, 0.0020, 0.0020]])"
      ]
     },
     "execution_count": 36,
     "metadata": {},
     "output_type": "execute_result"
    }
   ],
   "source": [
    "filtered_second_slot_distributions = second_slot_distributions[common_users_second_third_slot]\n",
    "filtered_second_slot_distributions"
   ]
  },
  {
   "cell_type": "code",
   "execution_count": 37,
   "metadata": {},
   "outputs": [
    {
     "data": {
      "text/plain": [
       "tensor([[0.0140, 0.0140, 0.0140,  ..., 0.0140, 0.0140, 0.0140],\n",
       "        [0.0114, 0.0310, 0.0114,  ..., 0.0114, 0.0114, 0.0114],\n",
       "        [0.0563, 0.0010, 0.0010,  ..., 0.0563, 0.0010, 0.0010],\n",
       "        ...,\n",
       "        [0.3134, 0.0021, 0.0021,  ..., 0.0021, 0.0021, 0.0021],\n",
       "        [0.0374, 0.1017, 0.0019,  ..., 0.1017, 0.2764, 0.0019],\n",
       "        [0.0506, 0.0186, 0.0025,  ..., 0.0506, 0.0506, 0.0506]])"
      ]
     },
     "execution_count": 37,
     "metadata": {},
     "output_type": "execute_result"
    }
   ],
   "source": [
    "filtered_third_slot_distributions = third_slot_distributions[common_users_second_third_slot]\n",
    "filtered_third_slot_distributions"
   ]
  },
  {
   "cell_type": "code",
   "execution_count": 38,
   "metadata": {},
   "outputs": [
    {
     "name": "stdout",
     "output_type": "stream",
     "text": [
      "torch.Size([101, 18])\n",
      "tensor([[2.7684e-02, 2.7684e-02, 6.3485e-03,  ..., 2.7684e-02, 2.7684e-02,\n",
      "         2.7684e-02],\n",
      "        [5.5733e-03, 1.5150e-02, 5.5733e-03,  ..., 2.4934e-02, 2.4934e-02,\n",
      "         2.4934e-02],\n",
      "        [1.5881e-03, 7.1712e-02, 2.9086e-05,  ..., 1.8384e-02, 7.1712e-02,\n",
      "         2.9086e-05],\n",
      "        ...,\n",
      "        [1.3146e-01, 2.4168e-02, 6.7509e-02,  ..., 2.4168e-02, 2.4168e-02,\n",
      "         8.2235e-03],\n",
      "        [3.7234e-03, 1.0121e-02, 2.1496e-02,  ..., 1.0121e-02, 7.7240e-02,\n",
      "         1.8538e-04],\n",
      "        [2.9271e-02, 4.5254e-02, 2.5967e-04,  ..., 2.9271e-02, 2.4287e-02,\n",
      "         2.4287e-02]])\n"
     ]
    }
   ],
   "source": [
    "variation_distance = torch.abs(filtered_second_slot_distributions - filtered_third_slot_distributions) / 2\n",
    "print(variation_distance.shape)\n",
    "print(variation_distance)"
   ]
  },
  {
   "cell_type": "code",
   "execution_count": 39,
   "metadata": {},
   "outputs": [
    {
     "name": "stdout",
     "output_type": "stream",
     "text": [
      "torch.Size([18])\n",
      "tensor([0.0312, 0.0269, 0.0220, 0.0237, 0.0353, 0.0341, 0.0155, 0.0465, 0.0177,\n",
      "        0.0289, 0.0191, 0.0276, 0.0320, 0.0371, 0.0270, 0.0314, 0.0361, 0.0211])\n"
     ]
    }
   ],
   "source": [
    "variation_distance = torch.mean(variation_distance, dim=0)\n",
    "print(variation_distance.shape)\n",
    "print(variation_distance)"
   ]
  },
  {
   "cell_type": "code",
   "execution_count": 40,
   "metadata": {},
   "outputs": [
    {
     "data": {
      "text/plain": [
       "0     0.031230\n",
       "1     0.026870\n",
       "2     0.022021\n",
       "3     0.023692\n",
       "4     0.035348\n",
       "5     0.034104\n",
       "6     0.015485\n",
       "7     0.046458\n",
       "8     0.017702\n",
       "9     0.028868\n",
       "10    0.019133\n",
       "11    0.027580\n",
       "12    0.031982\n",
       "13    0.037053\n",
       "14    0.026991\n",
       "15    0.031398\n",
       "16    0.036087\n",
       "17    0.021060\n",
       "dtype: float32"
      ]
     },
     "execution_count": 40,
     "metadata": {},
     "output_type": "execute_result"
    }
   ],
   "source": [
    "second_third_series = pd.Series(variation_distance)\n",
    "second_third_series"
   ]
  },
  {
   "cell_type": "markdown",
   "metadata": {},
   "source": [
    "## Fourth time slot"
   ]
  },
  {
   "cell_type": "code",
   "execution_count": 41,
   "metadata": {},
   "outputs": [
    {
     "name": "stdout",
     "output_type": "stream",
     "text": [
      "104\n",
      "[11, 12, 13, 523, 524, 530, 20, 22, 24, 26, 542, 37, 556, 47, 569, 58, 65, 75, 76, 587, 595, 88, 90, 602, 97, 98, 101, 102, 618, 620, 116, 118, 630, 633, 121, 635, 122, 127, 130, 648, 137, 649, 139, 650, 662, 153, 673, 163, 685, 694, 696, 703, 192, 193, 711, 206, 207, 739, 229, 233, 748, 239, 752, 764, 784, 815, 816, 817, 313, 829, 318, 833, 845, 340, 860, 862, 867, 369, 374, 892, 387, 393, 405, 409, 921, 931, 422, 428, 442, 447, 448, 450, 455, 463, 476, 477, 486, 494, 496, 498, 499, 500, 501, 504]\n"
     ]
    }
   ],
   "source": [
    "common_users_third_fourth_slot = list(set(third_slot_active_users) & set(fourth_slot_active_users))\n",
    "print(len(common_users_third_fourth_slot))\n",
    "print(common_users_third_fourth_slot)"
   ]
  },
  {
   "cell_type": "code",
   "execution_count": 42,
   "metadata": {},
   "outputs": [
    {
     "data": {
      "text/plain": [
       "tensor([[0.1283, 0.1283, 0.0009,  ..., 0.1283, 0.0009, 0.0009],\n",
       "        [0.0530, 0.0530, 0.0530,  ..., 0.0530, 0.0530, 0.0530],\n",
       "        [0.0534, 0.0534, 0.0534,  ..., 0.0534, 0.0534, 0.0534],\n",
       "        ...,\n",
       "        [0.0563, 0.1531, 0.0076,  ..., 0.0563, 0.1531, 0.0028],\n",
       "        [0.0374, 0.1017, 0.0019,  ..., 0.1017, 0.2764, 0.0019],\n",
       "        [0.0506, 0.0186, 0.0025,  ..., 0.0506, 0.0506, 0.0506]])"
      ]
     },
     "execution_count": 42,
     "metadata": {},
     "output_type": "execute_result"
    }
   ],
   "source": [
    "filtered_third_slot_distributions = third_slot_distributions[common_users_third_fourth_slot]\n",
    "filtered_third_slot_distributions"
   ]
  },
  {
   "cell_type": "code",
   "execution_count": 43,
   "metadata": {},
   "outputs": [
    {
     "data": {
      "text/plain": [
       "tensor([[0.0539, 0.1466, 0.1466,  ..., 0.0539, 0.0198, 0.0027],\n",
       "        [0.0732, 0.0732, 0.0269,  ..., 0.0732, 0.0036, 0.0036],\n",
       "        [0.0709, 0.0013, 0.0013,  ..., 0.0709, 0.0261, 0.1927],\n",
       "        ...,\n",
       "        [0.0364, 0.0989, 0.0364,  ..., 0.0989, 0.0989, 0.0989],\n",
       "        [0.0416, 0.0021, 0.0021,  ..., 0.0416, 0.0021, 0.3075],\n",
       "        [0.4050, 0.0027, 0.0027,  ..., 0.0027, 0.0027, 0.0027]])"
      ]
     },
     "execution_count": 43,
     "metadata": {},
     "output_type": "execute_result"
    }
   ],
   "source": [
    "filtered_fourth_slot_distributions = fourth_slot_distributions[common_users_third_fourth_slot]\n",
    "filtered_fourth_slot_distributions"
   ]
  },
  {
   "cell_type": "code",
   "execution_count": 44,
   "metadata": {},
   "outputs": [
    {
     "name": "stdout",
     "output_type": "stream",
     "text": [
      "torch.Size([104, 18])\n",
      "tensor([[3.7163e-02, 9.1775e-03, 7.2878e-02,  ..., 3.7163e-02, 9.4893e-03,\n",
      "         9.1059e-04],\n",
      "        [1.0092e-02, 1.0092e-02, 1.3051e-02,  ..., 1.0092e-02, 2.4697e-02,\n",
      "         2.4697e-02],\n",
      "        [8.7648e-03, 2.6036e-02, 2.6036e-02,  ..., 8.7648e-03, 1.3644e-02,\n",
      "         6.9679e-02],\n",
      "        ...,\n",
      "        [9.9673e-03, 2.7094e-02, 1.4375e-02,  ..., 2.1279e-02, 2.7094e-02,\n",
      "         4.8030e-02],\n",
      "        [2.1036e-03, 4.9806e-02, 1.0473e-04,  ..., 3.0035e-02, 1.3717e-01,\n",
      "         1.5282e-01],\n",
      "        [1.7723e-01, 7.9376e-03, 1.0563e-04,  ..., 2.3921e-02, 2.3921e-02,\n",
      "         2.3921e-02]])\n"
     ]
    }
   ],
   "source": [
    "variation_distance = torch.abs(filtered_third_slot_distributions - filtered_fourth_slot_distributions) / 2\n",
    "print(variation_distance.shape)\n",
    "print(variation_distance)"
   ]
  },
  {
   "cell_type": "code",
   "execution_count": 45,
   "metadata": {},
   "outputs": [
    {
     "name": "stdout",
     "output_type": "stream",
     "text": [
      "torch.Size([18])\n",
      "tensor([0.0363, 0.0266, 0.0195, 0.0214, 0.0481, 0.0346, 0.0159, 0.0491, 0.0107,\n",
      "        0.0274, 0.0184, 0.0245, 0.0302, 0.0464, 0.0289, 0.0344, 0.0315, 0.0165])\n"
     ]
    }
   ],
   "source": [
    "variation_distance = torch.mean(variation_distance, dim=0)\n",
    "print(variation_distance.shape)\n",
    "print(variation_distance)"
   ]
  },
  {
   "cell_type": "code",
   "execution_count": 46,
   "metadata": {},
   "outputs": [
    {
     "data": {
      "text/plain": [
       "0     0.036279\n",
       "1     0.026620\n",
       "2     0.019519\n",
       "3     0.021375\n",
       "4     0.048078\n",
       "5     0.034637\n",
       "6     0.015864\n",
       "7     0.049089\n",
       "8     0.010724\n",
       "9     0.027370\n",
       "10    0.018408\n",
       "11    0.024515\n",
       "12    0.030203\n",
       "13    0.046360\n",
       "14    0.028882\n",
       "15    0.034422\n",
       "16    0.031484\n",
       "17    0.016523\n",
       "dtype: float32"
      ]
     },
     "execution_count": 46,
     "metadata": {},
     "output_type": "execute_result"
    }
   ],
   "source": [
    "third_fourth_series = pd.Series(variation_distance)\n",
    "third_fourth_series"
   ]
  },
  {
   "cell_type": "markdown",
   "metadata": {},
   "source": [
    "## Plot"
   ]
  },
  {
   "cell_type": "code",
   "execution_count": 47,
   "metadata": {},
   "outputs": [
    {
     "data": {
      "text/html": [
       "<div>\n",
       "<style scoped>\n",
       "    .dataframe tbody tr th:only-of-type {\n",
       "        vertical-align: middle;\n",
       "    }\n",
       "\n",
       "    .dataframe tbody tr th {\n",
       "        vertical-align: top;\n",
       "    }\n",
       "\n",
       "    .dataframe thead th {\n",
       "        text-align: right;\n",
       "    }\n",
       "</style>\n",
       "<table border=\"1\" class=\"dataframe\">\n",
       "  <thead>\n",
       "    <tr style=\"text-align: right;\">\n",
       "      <th></th>\n",
       "      <th>0</th>\n",
       "      <th>1</th>\n",
       "      <th>2</th>\n",
       "    </tr>\n",
       "  </thead>\n",
       "  <tbody>\n",
       "    <tr>\n",
       "      <th>0</th>\n",
       "      <td>0.022388</td>\n",
       "      <td>0.031230</td>\n",
       "      <td>0.036279</td>\n",
       "    </tr>\n",
       "    <tr>\n",
       "      <th>1</th>\n",
       "      <td>0.023858</td>\n",
       "      <td>0.026870</td>\n",
       "      <td>0.026620</td>\n",
       "    </tr>\n",
       "    <tr>\n",
       "      <th>2</th>\n",
       "      <td>0.026554</td>\n",
       "      <td>0.022021</td>\n",
       "      <td>0.019519</td>\n",
       "    </tr>\n",
       "    <tr>\n",
       "      <th>3</th>\n",
       "      <td>0.024735</td>\n",
       "      <td>0.023692</td>\n",
       "      <td>0.021375</td>\n",
       "    </tr>\n",
       "    <tr>\n",
       "      <th>4</th>\n",
       "      <td>0.034376</td>\n",
       "      <td>0.035348</td>\n",
       "      <td>0.048078</td>\n",
       "    </tr>\n",
       "    <tr>\n",
       "      <th>5</th>\n",
       "      <td>0.024961</td>\n",
       "      <td>0.034104</td>\n",
       "      <td>0.034637</td>\n",
       "    </tr>\n",
       "    <tr>\n",
       "      <th>6</th>\n",
       "      <td>0.016797</td>\n",
       "      <td>0.015485</td>\n",
       "      <td>0.015864</td>\n",
       "    </tr>\n",
       "    <tr>\n",
       "      <th>7</th>\n",
       "      <td>0.029940</td>\n",
       "      <td>0.046458</td>\n",
       "      <td>0.049089</td>\n",
       "    </tr>\n",
       "    <tr>\n",
       "      <th>8</th>\n",
       "      <td>0.019274</td>\n",
       "      <td>0.017702</td>\n",
       "      <td>0.010724</td>\n",
       "    </tr>\n",
       "    <tr>\n",
       "      <th>9</th>\n",
       "      <td>0.034482</td>\n",
       "      <td>0.028868</td>\n",
       "      <td>0.027370</td>\n",
       "    </tr>\n",
       "    <tr>\n",
       "      <th>10</th>\n",
       "      <td>0.026280</td>\n",
       "      <td>0.019133</td>\n",
       "      <td>0.018408</td>\n",
       "    </tr>\n",
       "    <tr>\n",
       "      <th>11</th>\n",
       "      <td>0.028781</td>\n",
       "      <td>0.027580</td>\n",
       "      <td>0.024515</td>\n",
       "    </tr>\n",
       "    <tr>\n",
       "      <th>12</th>\n",
       "      <td>0.032854</td>\n",
       "      <td>0.031982</td>\n",
       "      <td>0.030203</td>\n",
       "    </tr>\n",
       "    <tr>\n",
       "      <th>13</th>\n",
       "      <td>0.027988</td>\n",
       "      <td>0.037053</td>\n",
       "      <td>0.046360</td>\n",
       "    </tr>\n",
       "    <tr>\n",
       "      <th>14</th>\n",
       "      <td>0.024049</td>\n",
       "      <td>0.026991</td>\n",
       "      <td>0.028882</td>\n",
       "    </tr>\n",
       "    <tr>\n",
       "      <th>15</th>\n",
       "      <td>0.031342</td>\n",
       "      <td>0.031398</td>\n",
       "      <td>0.034422</td>\n",
       "    </tr>\n",
       "    <tr>\n",
       "      <th>16</th>\n",
       "      <td>0.039028</td>\n",
       "      <td>0.036087</td>\n",
       "      <td>0.031484</td>\n",
       "    </tr>\n",
       "    <tr>\n",
       "      <th>17</th>\n",
       "      <td>0.022793</td>\n",
       "      <td>0.021060</td>\n",
       "      <td>0.016523</td>\n",
       "    </tr>\n",
       "  </tbody>\n",
       "</table>\n",
       "</div>"
      ],
      "text/plain": [
       "           0         1         2\n",
       "0   0.022388  0.031230  0.036279\n",
       "1   0.023858  0.026870  0.026620\n",
       "2   0.026554  0.022021  0.019519\n",
       "3   0.024735  0.023692  0.021375\n",
       "4   0.034376  0.035348  0.048078\n",
       "5   0.024961  0.034104  0.034637\n",
       "6   0.016797  0.015485  0.015864\n",
       "7   0.029940  0.046458  0.049089\n",
       "8   0.019274  0.017702  0.010724\n",
       "9   0.034482  0.028868  0.027370\n",
       "10  0.026280  0.019133  0.018408\n",
       "11  0.028781  0.027580  0.024515\n",
       "12  0.032854  0.031982  0.030203\n",
       "13  0.027988  0.037053  0.046360\n",
       "14  0.024049  0.026991  0.028882\n",
       "15  0.031342  0.031398  0.034422\n",
       "16  0.039028  0.036087  0.031484\n",
       "17  0.022793  0.021060  0.016523"
      ]
     },
     "execution_count": 47,
     "metadata": {},
     "output_type": "execute_result"
    }
   ],
   "source": [
    "df = pd.concat([first_second_series, second_third_series, third_fourth_series], axis=1)\n",
    "df"
   ]
  },
  {
   "cell_type": "code",
   "execution_count": 48,
   "metadata": {},
   "outputs": [
    {
     "data": {
      "image/png": "[encoded data removed]",
      "text/plain": [
       "<Figure size 640x480 with 1 Axes>"
      ]
     },
     "metadata": {},
     "output_type": "display_data"
    }
   ],
   "source": [
    "colors = sns.color_palette(\"viridis\", n_colors=len(df.columns))\n",
    "ax = df.plot.kde(color=colors, linewidth=2)\n",
    "plt.title('Estimated densities of total variation scores with respect to the previous two months')\n",
    "plt.xlabel('Total variation')\n",
    "plt.ylabel('Density')\n",
    "labels = ['M1-2 vs M3-4', 'M3-4 vs M5-6', 'M5-6 vs M7-8']\n",
    "plt.legend(labels)\n",
    "plt.show()"
   ]
  },
  {
   "cell_type": "markdown",
   "metadata": {},
   "source": [
    "# Preference change from previous slot with full history"
   ]
  },
  {
   "cell_type": "markdown",
   "metadata": {},
   "source": [
    "## First time slot"
   ]
  },
  {
   "cell_type": "code",
   "execution_count": 49,
   "metadata": {},
   "outputs": [
    {
     "data": {
      "text/html": [
       "<div>\n",
       "<style scoped>\n",
       "    .dataframe tbody tr th:only-of-type {\n",
       "        vertical-align: middle;\n",
       "    }\n",
       "\n",
       "    .dataframe tbody tr th {\n",
       "        vertical-align: top;\n",
       "    }\n",
       "\n",
       "    .dataframe thead th {\n",
       "        text-align: right;\n",
       "    }\n",
       "</style>\n",
       "<table border=\"1\" class=\"dataframe\">\n",
       "  <thead>\n",
       "    <tr style=\"text-align: right;\">\n",
       "      <th></th>\n",
       "      <th>UserID</th>\n",
       "      <th>MovieID</th>\n",
       "      <th>CategoryID</th>\n",
       "      <th>Rating</th>\n",
       "      <th>Timestamp</th>\n",
       "      <th>Month</th>\n",
       "    </tr>\n",
       "  </thead>\n",
       "  <tbody>\n",
       "    <tr>\n",
       "      <th>474</th>\n",
       "      <td>101</td>\n",
       "      <td>177</td>\n",
       "      <td>4</td>\n",
       "      <td>4</td>\n",
       "      <td>1997-09-20 03:05:10</td>\n",
       "      <td>1997-09</td>\n",
       "    </tr>\n",
       "    <tr>\n",
       "      <th>178269</th>\n",
       "      <td>101</td>\n",
       "      <td>289</td>\n",
       "      <td>7</td>\n",
       "      <td>4</td>\n",
       "      <td>1997-09-20 03:05:27</td>\n",
       "      <td>1997-09</td>\n",
       "    </tr>\n",
       "    <tr>\n",
       "      <th>90841</th>\n",
       "      <td>101</td>\n",
       "      <td>153</td>\n",
       "      <td>0</td>\n",
       "      <td>4</td>\n",
       "      <td>1997-09-20 03:05:54</td>\n",
       "      <td>1997-09</td>\n",
       "    </tr>\n",
       "    <tr>\n",
       "      <th>45079</th>\n",
       "      <td>101</td>\n",
       "      <td>361</td>\n",
       "      <td>10</td>\n",
       "      <td>4</td>\n",
       "      <td>1997-09-20 03:06:21</td>\n",
       "      <td>1997-09</td>\n",
       "    </tr>\n",
       "    <tr>\n",
       "      <th>175466</th>\n",
       "      <td>101</td>\n",
       "      <td>321</td>\n",
       "      <td>0</td>\n",
       "      <td>4</td>\n",
       "      <td>1997-09-20 03:07:23</td>\n",
       "      <td>1997-09</td>\n",
       "    </tr>\n",
       "    <tr>\n",
       "      <th>...</th>\n",
       "      <td>...</td>\n",
       "      <td>...</td>\n",
       "      <td>...</td>\n",
       "      <td>...</td>\n",
       "      <td>...</td>\n",
       "      <td>...</td>\n",
       "    </tr>\n",
       "    <tr>\n",
       "      <th>45918</th>\n",
       "      <td>92</td>\n",
       "      <td>204</td>\n",
       "      <td>7</td>\n",
       "      <td>4</td>\n",
       "      <td>1997-10-31 23:41:55</td>\n",
       "      <td>1997-10</td>\n",
       "    </tr>\n",
       "    <tr>\n",
       "      <th>45419</th>\n",
       "      <td>92</td>\n",
       "      <td>24</td>\n",
       "      <td>2</td>\n",
       "      <td>4</td>\n",
       "      <td>1997-10-31 23:41:55</td>\n",
       "      <td>1997-10</td>\n",
       "    </tr>\n",
       "    <tr>\n",
       "      <th>2661</th>\n",
       "      <td>92</td>\n",
       "      <td>68</td>\n",
       "      <td>7</td>\n",
       "      <td>4</td>\n",
       "      <td>1997-10-31 23:42:23</td>\n",
       "      <td>1997-10</td>\n",
       "    </tr>\n",
       "    <tr>\n",
       "      <th>39628</th>\n",
       "      <td>92</td>\n",
       "      <td>452</td>\n",
       "      <td>0</td>\n",
       "      <td>4</td>\n",
       "      <td>1997-10-31 23:42:23</td>\n",
       "      <td>1997-10</td>\n",
       "    </tr>\n",
       "    <tr>\n",
       "      <th>184904</th>\n",
       "      <td>92</td>\n",
       "      <td>103</td>\n",
       "      <td>1</td>\n",
       "      <td>4</td>\n",
       "      <td>1997-10-31 23:42:50</td>\n",
       "      <td>1997-10</td>\n",
       "    </tr>\n",
       "  </tbody>\n",
       "</table>\n",
       "<p>17008 rows × 6 columns</p>\n",
       "</div>"
      ],
      "text/plain": [
       "        UserID  MovieID  CategoryID  Rating           Timestamp    Month\n",
       "474        101      177           4       4 1997-09-20 03:05:10  1997-09\n",
       "178269     101      289           7       4 1997-09-20 03:05:27  1997-09\n",
       "90841      101      153           0       4 1997-09-20 03:05:54  1997-09\n",
       "45079      101      361          10       4 1997-09-20 03:06:21  1997-09\n",
       "175466     101      321           0       4 1997-09-20 03:07:23  1997-09\n",
       "...        ...      ...         ...     ...                 ...      ...\n",
       "45918       92      204           7       4 1997-10-31 23:41:55  1997-10\n",
       "45419       92       24           2       4 1997-10-31 23:41:55  1997-10\n",
       "2661        92       68           7       4 1997-10-31 23:42:23  1997-10\n",
       "39628       92      452           0       4 1997-10-31 23:42:23  1997-10\n",
       "184904      92      103           1       4 1997-10-31 23:42:50  1997-10\n",
       "\n",
       "[17008 rows x 6 columns]"
      ]
     },
     "execution_count": 49,
     "metadata": {},
     "output_type": "execute_result"
    }
   ],
   "source": [
    "start_date_slot_1 = pd.to_datetime('1997-09-20')\n",
    "end_date_slot_1 = pd.to_datetime('1997-11-01')\n",
    "dataframe_1 = dataframe[dataframe['Timestamp'].between(start_date_slot_1, end_date_slot_1)]\n",
    "dataframe_1 = dataframe_1.sort_values(by='Timestamp')\n",
    "dataframe_1"
   ]
  },
  {
   "cell_type": "code",
   "execution_count": 50,
   "metadata": {},
   "outputs": [
    {
     "name": "stdout",
     "output_type": "stream",
     "text": [
      "torch.Size([943, 18])\n",
      "tensor([[0.0556, 0.0556, 0.0556,  ..., 0.0556, 0.0556, 0.0556],\n",
      "        [0.0556, 0.0556, 0.0556,  ..., 0.0556, 0.0556, 0.0556],\n",
      "        [0.0556, 0.0556, 0.0556,  ..., 0.0556, 0.0556, 0.0556],\n",
      "        ...,\n",
      "        [0.0556, 0.0556, 0.0556,  ..., 0.0556, 0.0556, 0.0556],\n",
      "        [0.0556, 0.0556, 0.0556,  ..., 0.0556, 0.0556, 0.0556],\n",
      "        [0.0517, 0.0517, 0.1406,  ..., 0.0517, 0.1406, 0.0009]])\n",
      "190\n",
      "[11, 12, 18, 20, 22, 26, 27, 28, 29, 34, 37, 39, 42, 49, 56, 65, 70, 74, 75, 76, 82, 84, 92, 95, 98, 101, 107, 108, 110, 111, 116, 118, 121, 125, 131, 133, 137, 139, 143, 144, 146, 147, 149, 153, 158, 161, 175, 178, 192, 194, 198, 207, 214, 219, 220, 224, 239, 246, 255, 263, 264, 274, 278, 286, 289, 299, 301, 315, 317, 322, 329, 334, 335, 339, 342, 345, 361, 363, 364, 367, 368, 378, 380, 383, 391, 392, 393, 397, 405, 407, 409, 416, 432, 436, 446, 448, 461, 463, 465, 472, 477, 484, 487, 490, 501, 504, 512, 523, 527, 535, 537, 542, 545, 551, 574, 578, 587, 593, 594, 596, 602, 618, 621, 627, 630, 635, 639, 645, 652, 658, 662, 668, 676, 679, 681, 683, 685, 689, 690, 691, 701, 703, 705, 706, 711, 713, 721, 727, 728, 738, 749, 759, 767, 770, 771, 772, 773, 776, 781, 792, 793, 795, 800, 809, 810, 813, 826, 830, 834, 838, 845, 852, 860, 862, 864, 867, 869, 878, 882, 883, 889, 895, 905, 909, 912, 915, 928, 935, 937, 942]\n"
     ]
    }
   ],
   "source": [
    "first_slot_distributions = []\n",
    "first_slot_active_users = []\n",
    "for user_id in range(dataset.n_users):\n",
    "    user_dataframe = dataframe_1[dataframe_1['UserID'] == user_id]\n",
    "    user_items = user_dataframe['MovieID'].values\n",
    "    user_distribution, active_user = get_user_distribution(user_dataframe, user_items)\n",
    "    first_slot_distributions.append(user_distribution)\n",
    "    if active_user:\n",
    "        first_slot_active_users.append(user_id)\n",
    "first_slot_distributions = torch.vstack(first_slot_distributions)\n",
    "print(first_slot_distributions.shape)\n",
    "print(first_slot_distributions)\n",
    "print(len(first_slot_active_users))\n",
    "print(first_slot_active_users)"
   ]
  },
  {
   "cell_type": "markdown",
   "metadata": {},
   "source": [
    "## Second time slot"
   ]
  },
  {
   "cell_type": "code",
   "execution_count": 51,
   "metadata": {},
   "outputs": [
    {
     "data": {
      "text/html": [
       "<div>\n",
       "<style scoped>\n",
       "    .dataframe tbody tr th:only-of-type {\n",
       "        vertical-align: middle;\n",
       "    }\n",
       "\n",
       "    .dataframe tbody tr th {\n",
       "        vertical-align: top;\n",
       "    }\n",
       "\n",
       "    .dataframe thead th {\n",
       "        text-align: right;\n",
       "    }\n",
       "</style>\n",
       "<table border=\"1\" class=\"dataframe\">\n",
       "  <thead>\n",
       "    <tr style=\"text-align: right;\">\n",
       "      <th></th>\n",
       "      <th>UserID</th>\n",
       "      <th>MovieID</th>\n",
       "      <th>CategoryID</th>\n",
       "      <th>Rating</th>\n",
       "      <th>Timestamp</th>\n",
       "      <th>Month</th>\n",
       "    </tr>\n",
       "  </thead>\n",
       "  <tbody>\n",
       "    <tr>\n",
       "      <th>474</th>\n",
       "      <td>101</td>\n",
       "      <td>177</td>\n",
       "      <td>4</td>\n",
       "      <td>4</td>\n",
       "      <td>1997-09-20 03:05:10</td>\n",
       "      <td>1997-09</td>\n",
       "    </tr>\n",
       "    <tr>\n",
       "      <th>178269</th>\n",
       "      <td>101</td>\n",
       "      <td>289</td>\n",
       "      <td>7</td>\n",
       "      <td>4</td>\n",
       "      <td>1997-09-20 03:05:27</td>\n",
       "      <td>1997-09</td>\n",
       "    </tr>\n",
       "    <tr>\n",
       "      <th>90841</th>\n",
       "      <td>101</td>\n",
       "      <td>153</td>\n",
       "      <td>0</td>\n",
       "      <td>4</td>\n",
       "      <td>1997-09-20 03:05:54</td>\n",
       "      <td>1997-09</td>\n",
       "    </tr>\n",
       "    <tr>\n",
       "      <th>45079</th>\n",
       "      <td>101</td>\n",
       "      <td>361</td>\n",
       "      <td>10</td>\n",
       "      <td>4</td>\n",
       "      <td>1997-09-20 03:06:21</td>\n",
       "      <td>1997-09</td>\n",
       "    </tr>\n",
       "    <tr>\n",
       "      <th>175466</th>\n",
       "      <td>101</td>\n",
       "      <td>321</td>\n",
       "      <td>0</td>\n",
       "      <td>4</td>\n",
       "      <td>1997-09-20 03:07:23</td>\n",
       "      <td>1997-09</td>\n",
       "    </tr>\n",
       "    <tr>\n",
       "      <th>...</th>\n",
       "      <td>...</td>\n",
       "      <td>...</td>\n",
       "      <td>...</td>\n",
       "      <td>...</td>\n",
       "      <td>...</td>\n",
       "      <td>...</td>\n",
       "    </tr>\n",
       "    <tr>\n",
       "      <th>152165</th>\n",
       "      <td>288</td>\n",
       "      <td>48</td>\n",
       "      <td>5</td>\n",
       "      <td>4</td>\n",
       "      <td>1997-12-31 23:38:02</td>\n",
       "      <td>1997-12</td>\n",
       "    </tr>\n",
       "    <tr>\n",
       "      <th>38809</th>\n",
       "      <td>288</td>\n",
       "      <td>1167</td>\n",
       "      <td>2</td>\n",
       "      <td>3</td>\n",
       "      <td>1997-12-31 23:38:33</td>\n",
       "      <td>1997-12</td>\n",
       "    </tr>\n",
       "    <tr>\n",
       "      <th>62684</th>\n",
       "      <td>92</td>\n",
       "      <td>719</td>\n",
       "      <td>0</td>\n",
       "      <td>4</td>\n",
       "      <td>1997-12-31 23:51:08</td>\n",
       "      <td>1997-12</td>\n",
       "    </tr>\n",
       "    <tr>\n",
       "      <th>386</th>\n",
       "      <td>92</td>\n",
       "      <td>95</td>\n",
       "      <td>4</td>\n",
       "      <td>4</td>\n",
       "      <td>1997-12-31 23:52:36</td>\n",
       "      <td>1997-12</td>\n",
       "    </tr>\n",
       "    <tr>\n",
       "      <th>91731</th>\n",
       "      <td>92</td>\n",
       "      <td>153</td>\n",
       "      <td>0</td>\n",
       "      <td>2</td>\n",
       "      <td>1997-12-31 23:58:46</td>\n",
       "      <td>1997-12</td>\n",
       "    </tr>\n",
       "  </tbody>\n",
       "</table>\n",
       "<p>52899 rows × 6 columns</p>\n",
       "</div>"
      ],
      "text/plain": [
       "        UserID  MovieID  CategoryID  Rating           Timestamp    Month\n",
       "474        101      177           4       4 1997-09-20 03:05:10  1997-09\n",
       "178269     101      289           7       4 1997-09-20 03:05:27  1997-09\n",
       "90841      101      153           0       4 1997-09-20 03:05:54  1997-09\n",
       "45079      101      361          10       4 1997-09-20 03:06:21  1997-09\n",
       "175466     101      321           0       4 1997-09-20 03:07:23  1997-09\n",
       "...        ...      ...         ...     ...                 ...      ...\n",
       "152165     288       48           5       4 1997-12-31 23:38:02  1997-12\n",
       "38809      288     1167           2       3 1997-12-31 23:38:33  1997-12\n",
       "62684       92      719           0       4 1997-12-31 23:51:08  1997-12\n",
       "386         92       95           4       4 1997-12-31 23:52:36  1997-12\n",
       "91731       92      153           0       2 1997-12-31 23:58:46  1997-12\n",
       "\n",
       "[52899 rows x 6 columns]"
      ]
     },
     "execution_count": 51,
     "metadata": {},
     "output_type": "execute_result"
    }
   ],
   "source": [
    "start_date_slot_2 = pd.to_datetime('1997-09-20')\n",
    "end_date_slot_2 = pd.to_datetime('1998-01-01')\n",
    "dataframe_2 = dataframe[dataframe['Timestamp'].between(start_date_slot_2, end_date_slot_2)]\n",
    "dataframe_2 = dataframe_2.sort_values(by='Timestamp')\n",
    "dataframe_2"
   ]
  },
  {
   "cell_type": "code",
   "execution_count": 52,
   "metadata": {},
   "outputs": [
    {
     "name": "stdout",
     "output_type": "stream",
     "text": [
      "torch.Size([943, 18])\n",
      "tensor([[0.0189, 0.0189, 0.0026,  ..., 0.0026, 0.0514, 0.0026],\n",
      "        [0.0355, 0.0355, 0.0965,  ..., 0.0965, 0.0355, 0.2622],\n",
      "        [0.0733, 0.0270, 0.0013,  ..., 0.0733, 0.0733, 0.0733],\n",
      "        ...,\n",
      "        [0.0835, 0.0307, 0.0307,  ..., 0.0835, 0.0835, 0.0042],\n",
      "        [0.0556, 0.0556, 0.0556,  ..., 0.0556, 0.0556, 0.0556],\n",
      "        [0.0517, 0.0517, 0.1406,  ..., 0.0517, 0.1406, 0.0009]])\n",
      "530\n",
      "[0, 1, 2, 3, 6, 9, 10, 11, 12, 15, 16, 17, 18, 20, 22, 24, 26, 27, 28, 29, 30, 31, 32, 34, 35, 37, 39, 42, 44, 45, 47, 49, 53, 54, 55, 56, 57, 58, 59, 60, 64, 65, 70, 71, 73, 74, 75, 76, 77, 78, 81, 82, 84, 89, 91, 92, 95, 96, 98, 99, 101, 102, 103, 106, 107, 108, 110, 111, 112, 113, 114, 116, 117, 118, 120, 121, 122, 123, 125, 126, 127, 128, 129, 130, 131, 133, 135, 137, 138, 139, 141, 143, 144, 146, 147, 149, 150, 151, 152, 153, 156, 158, 159, 161, 166, 173, 174, 175, 178, 181, 182, 183, 185, 186, 187, 188, 192, 194, 197, 198, 199, 200, 202, 204, 207, 212, 213, 214, 215, 219, 220, 221, 222, 223, 224, 225, 227, 228, 233, 235, 237, 239, 240, 241, 242, 243, 244, 246, 249, 251, 253, 255, 256, 257, 260, 261, 263, 264, 265, 270, 272, 273, 274, 278, 279, 281, 282, 283, 284, 286, 288, 289, 290, 295, 298, 299, 300, 301, 302, 303, 304, 310, 315, 317, 320, 321, 322, 327, 329, 332, 334, 335, 339, 342, 343, 345, 346, 349, 352, 354, 356, 358, 360, 361, 363, 364, 365, 366, 367, 368, 369, 374, 377, 378, 380, 383, 384, 386, 389, 390, 391, 392, 393, 394, 397, 401, 404, 405, 406, 407, 408, 409, 413, 414, 416, 417, 418, 419, 421, 423, 425, 429, 430, 432, 434, 435, 436, 437, 440, 441, 442, 443, 444, 445, 446, 447, 448, 450, 453, 454, 457, 458, 460, 461, 463, 464, 465, 468, 469, 470, 472, 473, 476, 477, 478, 479, 482, 484, 486, 487, 488, 490, 491, 493, 494, 498, 501, 502, 504, 512, 513, 517, 518, 521, 523, 526, 527, 528, 530, 531, 532, 535, 537, 539, 540, 542, 545, 548, 549, 550, 551, 552, 553, 555, 557, 558, 559, 560, 564, 565, 566, 567, 569, 570, 572, 573, 574, 578, 581, 583, 584, 586, 587, 588, 589, 590, 591, 592, 593, 594, 596, 599, 602, 603, 609, 611, 614, 617, 618, 620, 621, 622, 624, 626, 627, 628, 630, 634, 635, 636, 639, 640, 644, 645, 647, 649, 652, 658, 661, 662, 663, 665, 666, 668, 672, 676, 677, 679, 680, 681, 682, 683, 684, 685, 687, 689, 690, 691, 692, 694, 696, 701, 702, 703, 704, 705, 706, 708, 710, 711, 713, 716, 721, 722, 726, 727, 728, 729, 731, 732, 733, 735, 736, 737, 738, 740, 742, 743, 746, 749, 752, 753, 754, 755, 756, 758, 759, 762, 763, 764, 766, 767, 770, 771, 772, 773, 776, 779, 781, 782, 783, 787, 789, 791, 792, 793, 794, 795, 797, 798, 800, 801, 802, 803, 805, 808, 809, 810, 813, 814, 815, 816, 817, 822, 826, 830, 833, 834, 835, 838, 841, 845, 846, 847, 848, 849, 850, 851, 852, 856, 860, 861, 862, 863, 864, 865, 866, 867, 869, 870, 873, 875, 876, 878, 881, 882, 883, 885, 888, 889, 890, 891, 892, 894, 895, 898, 899, 901, 903, 904, 905, 906, 907, 909, 912, 913, 914, 915, 918, 919, 920, 922, 924, 928, 932, 935, 937, 938, 940, 942]\n"
     ]
    }
   ],
   "source": [
    "second_slot_distributions = []\n",
    "second_slot_active_users = []\n",
    "for user_id in range(dataset.n_users):\n",
    "    user_dataframe = dataframe_2[dataframe_2['UserID'] == user_id]\n",
    "    user_items = user_dataframe['MovieID'].values\n",
    "    user_distribution, active_user = get_user_distribution(user_dataframe, user_items)\n",
    "    second_slot_distributions.append(user_distribution)\n",
    "    if active_user:\n",
    "        second_slot_active_users.append(user_id)\n",
    "second_slot_distributions = torch.vstack(second_slot_distributions)\n",
    "print(second_slot_distributions.shape)\n",
    "print(second_slot_distributions)\n",
    "print(len(second_slot_active_users))\n",
    "print(second_slot_active_users)"
   ]
  },
  {
   "cell_type": "code",
   "execution_count": 53,
   "metadata": {},
   "outputs": [
    {
     "name": "stdout",
     "output_type": "stream",
     "text": [
      "190\n",
      "[512, 523, 11, 12, 527, 18, 20, 22, 535, 537, 26, 27, 28, 29, 542, 545, 34, 37, 39, 551, 42, 49, 56, 574, 65, 578, 70, 74, 75, 76, 587, 593, 82, 594, 84, 596, 602, 92, 95, 98, 101, 618, 107, 108, 621, 110, 111, 627, 116, 118, 630, 121, 635, 125, 639, 131, 133, 645, 137, 139, 652, 143, 144, 146, 147, 658, 149, 662, 153, 668, 158, 161, 676, 679, 681, 683, 685, 175, 689, 178, 690, 691, 701, 703, 192, 705, 194, 706, 198, 711, 713, 207, 721, 214, 727, 728, 219, 220, 224, 738, 749, 239, 246, 759, 255, 767, 770, 771, 772, 773, 263, 264, 776, 781, 274, 278, 792, 793, 795, 286, 800, 289, 809, 810, 299, 301, 813, 826, 315, 317, 830, 322, 834, 838, 329, 845, 334, 335, 339, 852, 342, 345, 860, 862, 864, 867, 869, 361, 363, 364, 878, 367, 368, 882, 883, 889, 378, 380, 383, 895, 391, 392, 393, 905, 397, 909, 912, 915, 405, 407, 409, 416, 928, 935, 937, 942, 432, 436, 446, 448, 461, 463, 465, 472, 477, 484, 487, 490, 501, 504]\n"
     ]
    }
   ],
   "source": [
    "common_users_first_second_slot = list(set(first_slot_active_users) & set(second_slot_active_users))\n",
    "print(len(common_users_first_second_slot))\n",
    "print(common_users_first_second_slot)"
   ]
  },
  {
   "cell_type": "code",
   "execution_count": 54,
   "metadata": {},
   "outputs": [
    {
     "data": {
      "text/plain": [
       "tensor([[0.0767, 0.0767, 0.0104,  ..., 0.0767, 0.0767, 0.0014],\n",
       "        [0.0274, 0.0274, 0.0101,  ..., 0.0744, 0.0744, 0.0744],\n",
       "        [0.0621, 0.0228, 0.0621,  ..., 0.0621, 0.0621, 0.0621],\n",
       "        ...,\n",
       "        [0.1036, 0.0019, 0.0019,  ..., 0.1036, 0.0019, 0.0019],\n",
       "        [0.0584, 0.0584, 0.0584,  ..., 0.0584, 0.0584, 0.0584],\n",
       "        [0.0576, 0.0576, 0.0576,  ..., 0.0576, 0.0576, 0.0576]])"
      ]
     },
     "execution_count": 54,
     "metadata": {},
     "output_type": "execute_result"
    }
   ],
   "source": [
    "filtered_first_slot_distributions = first_slot_distributions[common_users_first_second_slot]\n",
    "filtered_first_slot_distributions"
   ]
  },
  {
   "cell_type": "code",
   "execution_count": 55,
   "metadata": {},
   "outputs": [
    {
     "data": {
      "text/plain": [
       "tensor([[0.0767, 0.0767, 0.0104,  ..., 0.0767, 0.0767, 0.0014],\n",
       "        [0.0257, 0.0257, 0.0257,  ..., 0.0699, 0.0699, 0.0699],\n",
       "        [0.0621, 0.0228, 0.0621,  ..., 0.0621, 0.0621, 0.0621],\n",
       "        ...,\n",
       "        [0.1036, 0.0019, 0.0019,  ..., 0.1036, 0.0019, 0.0019],\n",
       "        [0.0584, 0.0584, 0.0584,  ..., 0.0584, 0.0584, 0.0584],\n",
       "        [0.0576, 0.0576, 0.0576,  ..., 0.0576, 0.0576, 0.0576]])"
      ]
     },
     "execution_count": 55,
     "metadata": {},
     "output_type": "execute_result"
    }
   ],
   "source": [
    "filtered_second_slot_distributions = second_slot_distributions[common_users_first_second_slot]\n",
    "filtered_second_slot_distributions"
   ]
  },
  {
   "cell_type": "code",
   "execution_count": 56,
   "metadata": {},
   "outputs": [
    {
     "name": "stdout",
     "output_type": "stream",
     "text": [
      "torch.Size([190, 18])\n",
      "tensor([[0.0000, 0.0000, 0.0000,  ..., 0.0000, 0.0000, 0.0000],\n",
      "        [0.0008, 0.0008, 0.0078,  ..., 0.0022, 0.0022, 0.0022],\n",
      "        [0.0000, 0.0000, 0.0000,  ..., 0.0000, 0.0000, 0.0000],\n",
      "        ...,\n",
      "        [0.0000, 0.0000, 0.0000,  ..., 0.0000, 0.0000, 0.0000],\n",
      "        [0.0000, 0.0000, 0.0000,  ..., 0.0000, 0.0000, 0.0000],\n",
      "        [0.0000, 0.0000, 0.0000,  ..., 0.0000, 0.0000, 0.0000]])\n"
     ]
    }
   ],
   "source": [
    "variation_distance = torch.abs(filtered_first_slot_distributions - filtered_second_slot_distributions) / 2\n",
    "print(variation_distance.shape)\n",
    "print(variation_distance)"
   ]
  },
  {
   "cell_type": "code",
   "execution_count": 57,
   "metadata": {},
   "outputs": [
    {
     "name": "stdout",
     "output_type": "stream",
     "text": [
      "torch.Size([18])\n",
      "tensor([0.0032, 0.0030, 0.0028, 0.0025, 0.0048, 0.0037, 0.0012, 0.0036, 0.0026,\n",
      "        0.0041, 0.0032, 0.0031, 0.0044, 0.0032, 0.0023, 0.0035, 0.0042, 0.0036])\n"
     ]
    }
   ],
   "source": [
    "variation_distance = torch.mean(variation_distance, dim=0)\n",
    "print(variation_distance.shape)\n",
    "print(variation_distance)"
   ]
  },
  {
   "cell_type": "code",
   "execution_count": 58,
   "metadata": {},
   "outputs": [
    {
     "data": {
      "text/plain": [
       "0     0.003180\n",
       "1     0.002981\n",
       "2     0.002758\n",
       "3     0.002453\n",
       "4     0.004770\n",
       "5     0.003666\n",
       "6     0.001204\n",
       "7     0.003590\n",
       "8     0.002641\n",
       "9     0.004115\n",
       "10    0.003207\n",
       "11    0.003086\n",
       "12    0.004439\n",
       "13    0.003164\n",
       "14    0.002307\n",
       "15    0.003458\n",
       "16    0.004164\n",
       "17    0.003561\n",
       "dtype: float32"
      ]
     },
     "execution_count": 58,
     "metadata": {},
     "output_type": "execute_result"
    }
   ],
   "source": [
    "first_second_series = pd.Series(variation_distance)\n",
    "first_second_series"
   ]
  },
  {
   "cell_type": "markdown",
   "metadata": {},
   "source": [
    "## Third time slot"
   ]
  },
  {
   "cell_type": "code",
   "execution_count": 59,
   "metadata": {},
   "outputs": [
    {
     "data": {
      "text/html": [
       "<div>\n",
       "<style scoped>\n",
       "    .dataframe tbody tr th:only-of-type {\n",
       "        vertical-align: middle;\n",
       "    }\n",
       "\n",
       "    .dataframe tbody tr th {\n",
       "        vertical-align: top;\n",
       "    }\n",
       "\n",
       "    .dataframe thead th {\n",
       "        text-align: right;\n",
       "    }\n",
       "</style>\n",
       "<table border=\"1\" class=\"dataframe\">\n",
       "  <thead>\n",
       "    <tr style=\"text-align: right;\">\n",
       "      <th></th>\n",
       "      <th>UserID</th>\n",
       "      <th>MovieID</th>\n",
       "      <th>CategoryID</th>\n",
       "      <th>Rating</th>\n",
       "      <th>Timestamp</th>\n",
       "      <th>Month</th>\n",
       "    </tr>\n",
       "  </thead>\n",
       "  <tbody>\n",
       "    <tr>\n",
       "      <th>474</th>\n",
       "      <td>101</td>\n",
       "      <td>177</td>\n",
       "      <td>4</td>\n",
       "      <td>4</td>\n",
       "      <td>1997-09-20 03:05:10</td>\n",
       "      <td>1997-09</td>\n",
       "    </tr>\n",
       "    <tr>\n",
       "      <th>178269</th>\n",
       "      <td>101</td>\n",
       "      <td>289</td>\n",
       "      <td>7</td>\n",
       "      <td>4</td>\n",
       "      <td>1997-09-20 03:05:27</td>\n",
       "      <td>1997-09</td>\n",
       "    </tr>\n",
       "    <tr>\n",
       "      <th>90841</th>\n",
       "      <td>101</td>\n",
       "      <td>153</td>\n",
       "      <td>0</td>\n",
       "      <td>4</td>\n",
       "      <td>1997-09-20 03:05:54</td>\n",
       "      <td>1997-09</td>\n",
       "    </tr>\n",
       "    <tr>\n",
       "      <th>45079</th>\n",
       "      <td>101</td>\n",
       "      <td>361</td>\n",
       "      <td>10</td>\n",
       "      <td>4</td>\n",
       "      <td>1997-09-20 03:06:21</td>\n",
       "      <td>1997-09</td>\n",
       "    </tr>\n",
       "    <tr>\n",
       "      <th>175466</th>\n",
       "      <td>101</td>\n",
       "      <td>321</td>\n",
       "      <td>0</td>\n",
       "      <td>4</td>\n",
       "      <td>1997-09-20 03:07:23</td>\n",
       "      <td>1997-09</td>\n",
       "    </tr>\n",
       "    <tr>\n",
       "      <th>...</th>\n",
       "      <td>...</td>\n",
       "      <td>...</td>\n",
       "      <td>...</td>\n",
       "      <td>...</td>\n",
       "      <td>...</td>\n",
       "      <td>...</td>\n",
       "    </tr>\n",
       "    <tr>\n",
       "      <th>35133</th>\n",
       "      <td>232</td>\n",
       "      <td>181</td>\n",
       "      <td>0</td>\n",
       "      <td>4</td>\n",
       "      <td>1998-02-28 22:45:39</td>\n",
       "      <td>1998-02</td>\n",
       "    </tr>\n",
       "    <tr>\n",
       "      <th>1563</th>\n",
       "      <td>232</td>\n",
       "      <td>464</td>\n",
       "      <td>1</td>\n",
       "      <td>3</td>\n",
       "      <td>1998-02-28 22:46:06</td>\n",
       "      <td>1998-02</td>\n",
       "    </tr>\n",
       "    <tr>\n",
       "      <th>179112</th>\n",
       "      <td>232</td>\n",
       "      <td>1104</td>\n",
       "      <td>7</td>\n",
       "      <td>3</td>\n",
       "      <td>1998-02-28 22:46:28</td>\n",
       "      <td>1998-02</td>\n",
       "    </tr>\n",
       "    <tr>\n",
       "      <th>5506</th>\n",
       "      <td>232</td>\n",
       "      <td>514</td>\n",
       "      <td>4</td>\n",
       "      <td>2</td>\n",
       "      <td>1998-02-28 22:47:17</td>\n",
       "      <td>1998-02</td>\n",
       "    </tr>\n",
       "    <tr>\n",
       "      <th>33154</th>\n",
       "      <td>253</td>\n",
       "      <td>719</td>\n",
       "      <td>0</td>\n",
       "      <td>4</td>\n",
       "      <td>1998-02-28 22:47:55</td>\n",
       "      <td>1998-02</td>\n",
       "    </tr>\n",
       "  </tbody>\n",
       "</table>\n",
       "<p>77985 rows × 6 columns</p>\n",
       "</div>"
      ],
      "text/plain": [
       "        UserID  MovieID  CategoryID  Rating           Timestamp    Month\n",
       "474        101      177           4       4 1997-09-20 03:05:10  1997-09\n",
       "178269     101      289           7       4 1997-09-20 03:05:27  1997-09\n",
       "90841      101      153           0       4 1997-09-20 03:05:54  1997-09\n",
       "45079      101      361          10       4 1997-09-20 03:06:21  1997-09\n",
       "175466     101      321           0       4 1997-09-20 03:07:23  1997-09\n",
       "...        ...      ...         ...     ...                 ...      ...\n",
       "35133      232      181           0       4 1998-02-28 22:45:39  1998-02\n",
       "1563       232      464           1       3 1998-02-28 22:46:06  1998-02\n",
       "179112     232     1104           7       3 1998-02-28 22:46:28  1998-02\n",
       "5506       232      514           4       2 1998-02-28 22:47:17  1998-02\n",
       "33154      253      719           0       4 1998-02-28 22:47:55  1998-02\n",
       "\n",
       "[77985 rows x 6 columns]"
      ]
     },
     "execution_count": 59,
     "metadata": {},
     "output_type": "execute_result"
    }
   ],
   "source": [
    "start_date_slot_3 = pd.to_datetime('1997-09-20')\n",
    "end_date_slot_3 = pd.to_datetime('1998-03-01')\n",
    "dataframe_3 = dataframe[dataframe['Timestamp'].between(start_date_slot_3, end_date_slot_3)]\n",
    "dataframe_3 = dataframe_3.sort_values(by='Timestamp')\n",
    "dataframe_3"
   ]
  },
  {
   "cell_type": "code",
   "execution_count": 60,
   "metadata": {},
   "outputs": [
    {
     "name": "stdout",
     "output_type": "stream",
     "text": [
      "torch.Size([943, 18])\n",
      "tensor([[0.0189, 0.0189, 0.0026,  ..., 0.0026, 0.0514, 0.0026],\n",
      "        [0.0355, 0.0355, 0.0965,  ..., 0.0965, 0.0355, 0.2622],\n",
      "        [0.0733, 0.0270, 0.0013,  ..., 0.0733, 0.0733, 0.0733],\n",
      "        ...,\n",
      "        [0.0835, 0.0307, 0.0307,  ..., 0.0835, 0.0835, 0.0042],\n",
      "        [0.0747, 0.0747, 0.0037,  ..., 0.0747, 0.0275, 0.0037],\n",
      "        [0.0517, 0.0517, 0.1406,  ..., 0.0517, 0.1406, 0.0009]])\n",
      "736\n",
      "[0, 1, 2, 3, 4, 5, 6, 8, 9, 10, 11, 12, 13, 14, 15, 16, 17, 18, 20, 22, 23, 24, 26, 27, 28, 29, 30, 31, 32, 33, 34, 35, 37, 39, 40, 41, 42, 43, 44, 45, 46, 47, 48, 49, 51, 52, 53, 54, 55, 56, 57, 58, 59, 60, 61, 64, 65, 66, 67, 69, 70, 71, 73, 74, 75, 76, 77, 78, 79, 81, 82, 83, 84, 85, 86, 87, 88, 89, 90, 91, 92, 93, 95, 96, 97, 98, 99, 101, 102, 103, 105, 106, 107, 108, 109, 110, 111, 112, 113, 114, 116, 117, 118, 120, 121, 122, 123, 125, 126, 127, 128, 129, 130, 131, 133, 135, 136, 137, 138, 139, 141, 143, 144, 146, 147, 149, 150, 151, 152, 153, 154, 156, 157, 158, 159, 160, 161, 163, 166, 167, 168, 169, 172, 173, 174, 175, 178, 181, 182, 183, 185, 186, 187, 188, 191, 192, 193, 194, 197, 198, 199, 200, 201, 202, 203, 204, 206, 207, 210, 211, 212, 213, 214, 215, 218, 219, 220, 221, 222, 223, 224, 225, 226, 227, 228, 229, 230, 231, 232, 233, 235, 236, 237, 238, 239, 240, 241, 242, 243, 244, 246, 247, 249, 251, 252, 253, 255, 256, 257, 258, 259, 260, 261, 262, 263, 264, 265, 268, 270, 272, 273, 274, 275, 277, 278, 279, 281, 282, 283, 284, 285, 286, 288, 289, 290, 293, 295, 297, 298, 299, 300, 301, 302, 303, 304, 306, 309, 310, 311, 313, 314, 315, 317, 318, 320, 321, 322, 327, 329, 332, 334, 335, 336, 339, 340, 341, 342, 343, 345, 346, 347, 349, 351, 352, 354, 355, 356, 358, 360, 361, 363, 364, 365, 366, 367, 368, 369, 372, 373, 374, 375, 377, 378, 379, 380, 382, 383, 384, 386, 387, 389, 390, 391, 392, 393, 394, 395, 397, 399, 401, 402, 403, 404, 405, 406, 407, 408, 409, 411, 413, 414, 416, 417, 418, 419, 421, 422, 423, 425, 428, 429, 430, 431, 432, 433, 434, 435, 436, 437, 440, 441, 442, 443, 444, 445, 446, 447, 448, 449, 450, 453, 454, 455, 456, 457, 458, 459, 460, 461, 463, 464, 465, 467, 468, 469, 470, 472, 473, 476, 477, 478, 479, 480, 481, 482, 483, 484, 486, 487, 488, 489, 490, 491, 493, 494, 496, 497, 498, 499, 500, 501, 502, 504, 505, 507, 508, 509, 511, 512, 513, 515, 516, 517, 518, 519, 520, 521, 522, 523, 524, 525, 526, 527, 528, 530, 531, 532, 533, 534, 535, 536, 537, 538, 539, 540, 542, 544, 545, 547, 548, 549, 550, 551, 552, 553, 555, 556, 557, 558, 559, 560, 563, 564, 565, 566, 567, 568, 569, 570, 572, 573, 574, 575, 578, 579, 581, 583, 584, 585, 586, 587, 588, 589, 590, 591, 592, 593, 594, 595, 596, 597, 598, 599, 601, 602, 603, 604, 605, 607, 609, 610, 611, 614, 615, 617, 618, 619, 620, 621, 622, 624, 626, 627, 628, 629, 630, 632, 633, 634, 635, 636, 638, 639, 640, 644, 645, 647, 648, 649, 650, 652, 656, 658, 659, 660, 661, 662, 663, 665, 666, 668, 671, 672, 673, 674, 675, 676, 677, 679, 680, 681, 682, 683, 684, 685, 686, 687, 688, 689, 690, 691, 692, 694, 696, 697, 698, 701, 702, 703, 704, 705, 706, 708, 709, 710, 711, 712, 713, 715, 716, 717, 719, 720, 721, 722, 726, 727, 728, 729, 731, 732, 733, 734, 735, 736, 737, 738, 739, 740, 741, 742, 743, 744, 745, 746, 748, 749, 750, 752, 753, 754, 755, 756, 758, 759, 761, 762, 763, 764, 765, 766, 767, 769, 770, 771, 772, 773, 776, 779, 781, 782, 783, 784, 786, 787, 789, 791, 792, 793, 794, 795, 796, 797, 798, 800, 801, 802, 803, 805, 808, 809, 810, 812, 813, 814, 815, 816, 817, 818, 820, 822, 824, 826, 827, 829, 830, 832, 833, 834, 835, 837, 838, 839, 841, 842, 845, 846, 847, 848, 849, 850, 851, 852, 853, 855, 856, 858, 860, 861, 862, 863, 864, 865, 866, 867, 868, 869, 870, 871, 873, 875, 876, 877, 878, 879, 881, 882, 883, 884, 885, 886, 887, 888, 889, 890, 891, 892, 893, 894, 895, 896, 898, 899, 900, 901, 902, 903, 904, 905, 906, 907, 909, 910, 912, 913, 914, 915, 918, 919, 920, 921, 922, 924, 928, 929, 931, 932, 933, 935, 936, 937, 938, 939, 940, 941, 942]\n"
     ]
    }
   ],
   "source": [
    "third_slot_distributions = []\n",
    "third_slot_active_users = []\n",
    "for user_id in range(dataset.n_users):\n",
    "    user_dataframe = dataframe_3[dataframe_3['UserID'] == user_id]\n",
    "    user_items = user_dataframe['MovieID'].values\n",
    "    user_distribution, active_user = get_user_distribution(user_dataframe, user_items)\n",
    "    third_slot_distributions.append(user_distribution)\n",
    "    if active_user:\n",
    "        third_slot_active_users.append(user_id)\n",
    "third_slot_distributions = torch.vstack(third_slot_distributions)\n",
    "print(third_slot_distributions.shape)\n",
    "print(third_slot_distributions)\n",
    "print(len(third_slot_active_users))\n",
    "print(third_slot_active_users)"
   ]
  },
  {
   "cell_type": "code",
   "execution_count": 61,
   "metadata": {},
   "outputs": [
    {
     "name": "stdout",
     "output_type": "stream",
     "text": [
      "530\n",
      "[0, 1, 2, 3, 6, 9, 10, 11, 12, 15, 16, 17, 18, 20, 22, 24, 26, 27, 28, 29, 30, 31, 32, 34, 35, 37, 39, 42, 44, 45, 47, 49, 53, 54, 55, 56, 57, 58, 59, 60, 64, 65, 70, 71, 73, 74, 75, 76, 77, 78, 81, 82, 84, 89, 91, 92, 95, 96, 98, 99, 101, 102, 103, 106, 107, 108, 110, 111, 112, 113, 114, 116, 117, 118, 120, 121, 122, 123, 125, 126, 127, 128, 129, 130, 131, 133, 135, 137, 138, 139, 141, 143, 144, 146, 147, 149, 150, 151, 152, 153, 156, 158, 159, 161, 166, 173, 174, 175, 178, 181, 182, 183, 185, 186, 187, 188, 192, 194, 197, 198, 199, 200, 202, 204, 207, 212, 213, 214, 215, 219, 220, 221, 222, 223, 224, 225, 227, 228, 233, 235, 237, 239, 240, 241, 242, 243, 244, 246, 249, 251, 253, 255, 256, 257, 260, 261, 263, 264, 265, 270, 272, 273, 274, 278, 279, 281, 282, 283, 284, 286, 288, 289, 290, 295, 298, 299, 300, 301, 302, 303, 304, 310, 315, 317, 320, 321, 322, 327, 329, 332, 334, 335, 339, 342, 343, 345, 346, 349, 352, 354, 356, 358, 360, 361, 363, 364, 365, 366, 367, 368, 369, 374, 377, 378, 380, 383, 384, 386, 389, 390, 391, 392, 393, 394, 397, 401, 404, 405, 406, 407, 408, 409, 413, 414, 416, 417, 418, 419, 421, 423, 425, 429, 430, 432, 434, 435, 436, 437, 440, 441, 442, 443, 444, 445, 446, 447, 448, 450, 453, 454, 457, 458, 460, 461, 463, 464, 465, 468, 469, 470, 472, 473, 476, 477, 478, 479, 482, 484, 486, 487, 488, 490, 491, 493, 494, 498, 501, 502, 504, 512, 513, 517, 518, 521, 523, 526, 527, 528, 530, 531, 532, 535, 537, 539, 540, 542, 545, 548, 549, 550, 551, 552, 553, 555, 557, 558, 559, 560, 564, 565, 566, 567, 569, 570, 572, 573, 574, 578, 581, 583, 584, 586, 587, 588, 589, 590, 591, 592, 593, 594, 596, 599, 602, 603, 609, 611, 614, 617, 618, 620, 621, 622, 624, 626, 627, 628, 630, 634, 635, 636, 639, 640, 644, 645, 647, 649, 652, 658, 661, 662, 663, 665, 666, 668, 672, 676, 677, 679, 680, 681, 682, 683, 684, 685, 687, 689, 690, 691, 692, 694, 696, 701, 702, 703, 704, 705, 706, 708, 710, 711, 713, 716, 721, 722, 726, 727, 728, 729, 731, 732, 733, 735, 736, 737, 738, 740, 742, 743, 746, 749, 752, 753, 754, 755, 756, 758, 759, 762, 763, 764, 766, 767, 770, 771, 772, 773, 776, 779, 781, 782, 783, 787, 789, 791, 792, 793, 794, 795, 797, 798, 800, 801, 802, 803, 805, 808, 809, 810, 813, 814, 815, 816, 817, 822, 826, 830, 833, 834, 835, 838, 841, 845, 846, 847, 848, 849, 850, 851, 852, 856, 860, 861, 862, 863, 864, 865, 866, 867, 869, 870, 873, 875, 876, 878, 881, 882, 883, 885, 888, 889, 890, 891, 892, 894, 895, 898, 899, 901, 903, 904, 905, 906, 907, 909, 912, 913, 914, 915, 918, 919, 920, 922, 924, 928, 932, 935, 937, 938, 940, 942]\n"
     ]
    }
   ],
   "source": [
    "common_users_second_third_slot = list(set(second_slot_active_users) & set(third_slot_active_users))\n",
    "print(len(common_users_second_third_slot))\n",
    "print(common_users_second_third_slot)"
   ]
  },
  {
   "cell_type": "code",
   "execution_count": 62,
   "metadata": {},
   "outputs": [
    {
     "data": {
      "text/plain": [
       "tensor([[0.0189, 0.0189, 0.0026,  ..., 0.0026, 0.0514, 0.0026],\n",
       "        [0.0355, 0.0355, 0.0965,  ..., 0.0965, 0.0355, 0.2622],\n",
       "        [0.0733, 0.0270, 0.0013,  ..., 0.0733, 0.0733, 0.0733],\n",
       "        ...,\n",
       "        [0.0470, 0.0470, 0.0470,  ..., 0.0470, 0.1276, 0.0009],\n",
       "        [0.0835, 0.0307, 0.0307,  ..., 0.0835, 0.0835, 0.0042],\n",
       "        [0.0517, 0.0517, 0.1406,  ..., 0.0517, 0.1406, 0.0009]])"
      ]
     },
     "execution_count": 62,
     "metadata": {},
     "output_type": "execute_result"
    }
   ],
   "source": [
    "filtered_second_slot_distributions = second_slot_distributions[common_users_second_third_slot]\n",
    "filtered_second_slot_distributions"
   ]
  },
  {
   "cell_type": "code",
   "execution_count": 63,
   "metadata": {},
   "outputs": [
    {
     "data": {
      "text/plain": [
       "tensor([[0.0189, 0.0189, 0.0026,  ..., 0.0026, 0.0514, 0.0026],\n",
       "        [0.0355, 0.0355, 0.0965,  ..., 0.0965, 0.0355, 0.2622],\n",
       "        [0.0733, 0.0270, 0.0013,  ..., 0.0733, 0.0733, 0.0733],\n",
       "        ...,\n",
       "        [0.0470, 0.0470, 0.0470,  ..., 0.0470, 0.1276, 0.0009],\n",
       "        [0.0835, 0.0307, 0.0307,  ..., 0.0835, 0.0835, 0.0042],\n",
       "        [0.0517, 0.0517, 0.1406,  ..., 0.0517, 0.1406, 0.0009]])"
      ]
     },
     "execution_count": 63,
     "metadata": {},
     "output_type": "execute_result"
    }
   ],
   "source": [
    "filtered_third_slot_distributions = third_slot_distributions[common_users_second_third_slot]\n",
    "filtered_third_slot_distributions"
   ]
  },
  {
   "cell_type": "code",
   "execution_count": 64,
   "metadata": {},
   "outputs": [
    {
     "name": "stdout",
     "output_type": "stream",
     "text": [
      "torch.Size([530, 18])\n",
      "tensor([[0., 0., 0.,  ..., 0., 0., 0.],\n",
      "        [0., 0., 0.,  ..., 0., 0., 0.],\n",
      "        [0., 0., 0.,  ..., 0., 0., 0.],\n",
      "        ...,\n",
      "        [0., 0., 0.,  ..., 0., 0., 0.],\n",
      "        [0., 0., 0.,  ..., 0., 0., 0.],\n",
      "        [0., 0., 0.,  ..., 0., 0., 0.]])\n"
     ]
    }
   ],
   "source": [
    "variation_distance = torch.abs(filtered_second_slot_distributions - filtered_third_slot_distributions) / 2\n",
    "print(variation_distance.shape)\n",
    "print(variation_distance)"
   ]
  },
  {
   "cell_type": "code",
   "execution_count": 65,
   "metadata": {},
   "outputs": [
    {
     "name": "stdout",
     "output_type": "stream",
     "text": [
      "torch.Size([18])\n",
      "tensor([0.0010, 0.0013, 0.0013, 0.0011, 0.0012, 0.0013, 0.0004, 0.0018, 0.0012,\n",
      "        0.0016, 0.0013, 0.0015, 0.0015, 0.0019, 0.0014, 0.0011, 0.0018, 0.0016])\n"
     ]
    }
   ],
   "source": [
    "variation_distance = torch.mean(variation_distance, dim=0)\n",
    "print(variation_distance.shape)\n",
    "print(variation_distance)"
   ]
  },
  {
   "cell_type": "code",
   "execution_count": 66,
   "metadata": {},
   "outputs": [
    {
     "data": {
      "text/plain": [
       "0     0.000996\n",
       "1     0.001317\n",
       "2     0.001327\n",
       "3     0.001147\n",
       "4     0.001173\n",
       "5     0.001342\n",
       "6     0.000434\n",
       "7     0.001768\n",
       "8     0.001240\n",
       "9     0.001608\n",
       "10    0.001282\n",
       "11    0.001548\n",
       "12    0.001465\n",
       "13    0.001866\n",
       "14    0.001352\n",
       "15    0.001105\n",
       "16    0.001757\n",
       "17    0.001630\n",
       "dtype: float32"
      ]
     },
     "execution_count": 66,
     "metadata": {},
     "output_type": "execute_result"
    }
   ],
   "source": [
    "second_third_series = pd.Series(variation_distance)\n",
    "second_third_series"
   ]
  },
  {
   "cell_type": "markdown",
   "metadata": {},
   "source": [
    "## Fourth time slot"
   ]
  },
  {
   "cell_type": "code",
   "execution_count": 67,
   "metadata": {},
   "outputs": [
    {
     "data": {
      "text/html": [
       "<div>\n",
       "<style scoped>\n",
       "    .dataframe tbody tr th:only-of-type {\n",
       "        vertical-align: middle;\n",
       "    }\n",
       "\n",
       "    .dataframe tbody tr th {\n",
       "        vertical-align: top;\n",
       "    }\n",
       "\n",
       "    .dataframe thead th {\n",
       "        text-align: right;\n",
       "    }\n",
       "</style>\n",
       "<table border=\"1\" class=\"dataframe\">\n",
       "  <thead>\n",
       "    <tr style=\"text-align: right;\">\n",
       "      <th></th>\n",
       "      <th>UserID</th>\n",
       "      <th>MovieID</th>\n",
       "      <th>CategoryID</th>\n",
       "      <th>Rating</th>\n",
       "      <th>Timestamp</th>\n",
       "      <th>Month</th>\n",
       "    </tr>\n",
       "  </thead>\n",
       "  <tbody>\n",
       "    <tr>\n",
       "      <th>474</th>\n",
       "      <td>101</td>\n",
       "      <td>177</td>\n",
       "      <td>4</td>\n",
       "      <td>4</td>\n",
       "      <td>1997-09-20 03:05:10</td>\n",
       "      <td>1997-09</td>\n",
       "    </tr>\n",
       "    <tr>\n",
       "      <th>178269</th>\n",
       "      <td>101</td>\n",
       "      <td>289</td>\n",
       "      <td>7</td>\n",
       "      <td>4</td>\n",
       "      <td>1997-09-20 03:05:27</td>\n",
       "      <td>1997-09</td>\n",
       "    </tr>\n",
       "    <tr>\n",
       "      <th>90841</th>\n",
       "      <td>101</td>\n",
       "      <td>153</td>\n",
       "      <td>0</td>\n",
       "      <td>4</td>\n",
       "      <td>1997-09-20 03:05:54</td>\n",
       "      <td>1997-09</td>\n",
       "    </tr>\n",
       "    <tr>\n",
       "      <th>45079</th>\n",
       "      <td>101</td>\n",
       "      <td>361</td>\n",
       "      <td>10</td>\n",
       "      <td>4</td>\n",
       "      <td>1997-09-20 03:06:21</td>\n",
       "      <td>1997-09</td>\n",
       "    </tr>\n",
       "    <tr>\n",
       "      <th>175466</th>\n",
       "      <td>101</td>\n",
       "      <td>321</td>\n",
       "      <td>0</td>\n",
       "      <td>4</td>\n",
       "      <td>1997-09-20 03:07:23</td>\n",
       "      <td>1997-09</td>\n",
       "    </tr>\n",
       "    <tr>\n",
       "      <th>...</th>\n",
       "      <td>...</td>\n",
       "      <td>...</td>\n",
       "      <td>...</td>\n",
       "      <td>...</td>\n",
       "      <td>...</td>\n",
       "      <td>...</td>\n",
       "    </tr>\n",
       "    <tr>\n",
       "      <th>168106</th>\n",
       "      <td>724</td>\n",
       "      <td>130</td>\n",
       "      <td>7</td>\n",
       "      <td>4</td>\n",
       "      <td>1998-04-22 23:10:38</td>\n",
       "      <td>1998-04</td>\n",
       "    </tr>\n",
       "    <tr>\n",
       "      <th>110040</th>\n",
       "      <td>724</td>\n",
       "      <td>280</td>\n",
       "      <td>12</td>\n",
       "      <td>4</td>\n",
       "      <td>1998-04-22 23:10:38</td>\n",
       "      <td>1998-04</td>\n",
       "    </tr>\n",
       "    <tr>\n",
       "      <th>136132</th>\n",
       "      <td>724</td>\n",
       "      <td>175</td>\n",
       "      <td>0</td>\n",
       "      <td>4</td>\n",
       "      <td>1998-04-22 23:10:38</td>\n",
       "      <td>1998-04</td>\n",
       "    </tr>\n",
       "    <tr>\n",
       "      <th>98754</th>\n",
       "      <td>724</td>\n",
       "      <td>890</td>\n",
       "      <td>0</td>\n",
       "      <td>4</td>\n",
       "      <td>1998-04-22 23:10:38</td>\n",
       "      <td>1998-04</td>\n",
       "    </tr>\n",
       "    <tr>\n",
       "      <th>154748</th>\n",
       "      <td>724</td>\n",
       "      <td>719</td>\n",
       "      <td>0</td>\n",
       "      <td>3</td>\n",
       "      <td>1998-04-22 23:10:38</td>\n",
       "      <td>1998-04</td>\n",
       "    </tr>\n",
       "  </tbody>\n",
       "</table>\n",
       "<p>100000 rows × 6 columns</p>\n",
       "</div>"
      ],
      "text/plain": [
       "        UserID  MovieID  CategoryID  Rating           Timestamp    Month\n",
       "474        101      177           4       4 1997-09-20 03:05:10  1997-09\n",
       "178269     101      289           7       4 1997-09-20 03:05:27  1997-09\n",
       "90841      101      153           0       4 1997-09-20 03:05:54  1997-09\n",
       "45079      101      361          10       4 1997-09-20 03:06:21  1997-09\n",
       "175466     101      321           0       4 1997-09-20 03:07:23  1997-09\n",
       "...        ...      ...         ...     ...                 ...      ...\n",
       "168106     724      130           7       4 1998-04-22 23:10:38  1998-04\n",
       "110040     724      280          12       4 1998-04-22 23:10:38  1998-04\n",
       "136132     724      175           0       4 1998-04-22 23:10:38  1998-04\n",
       "98754      724      890           0       4 1998-04-22 23:10:38  1998-04\n",
       "154748     724      719           0       3 1998-04-22 23:10:38  1998-04\n",
       "\n",
       "[100000 rows x 6 columns]"
      ]
     },
     "execution_count": 67,
     "metadata": {},
     "output_type": "execute_result"
    }
   ],
   "source": [
    "start_date_slot_4 = pd.to_datetime('1997-09-20')\n",
    "end_date_slot_4 = pd.to_datetime('1998-05-01')\n",
    "dataframe_4 = dataframe[dataframe['Timestamp'].between(start_date_slot_4, end_date_slot_4)]\n",
    "dataframe_4 = dataframe_4.sort_values(by='Timestamp')\n",
    "dataframe_4"
   ]
  },
  {
   "cell_type": "code",
   "execution_count": 68,
   "metadata": {},
   "outputs": [
    {
     "name": "stdout",
     "output_type": "stream",
     "text": [
      "torch.Size([943, 18])\n",
      "tensor([[0.0189, 0.0189, 0.0026,  ..., 0.0026, 0.0514, 0.0026],\n",
      "        [0.0843, 0.0310, 0.0843,  ..., 0.0843, 0.0310, 0.2291],\n",
      "        [0.0733, 0.0270, 0.0013,  ..., 0.0733, 0.0733, 0.0733],\n",
      "        ...,\n",
      "        [0.0835, 0.0307, 0.0307,  ..., 0.0835, 0.0835, 0.0042],\n",
      "        [0.0747, 0.0747, 0.0037,  ..., 0.0747, 0.0275, 0.0037],\n",
      "        [0.0517, 0.0517, 0.1406,  ..., 0.0517, 0.1406, 0.0009]])\n",
      "943\n",
      "[0, 1, 2, 3, 4, 5, 6, 7, 8, 9, 10, 11, 12, 13, 14, 15, 16, 17, 18, 19, 20, 21, 22, 23, 24, 25, 26, 27, 28, 29, 30, 31, 32, 33, 34, 35, 36, 37, 38, 39, 40, 41, 42, 43, 44, 45, 46, 47, 48, 49, 50, 51, 52, 53, 54, 55, 56, 57, 58, 59, 60, 61, 62, 63, 64, 65, 66, 67, 68, 69, 70, 71, 72, 73, 74, 75, 76, 77, 78, 79, 80, 81, 82, 83, 84, 85, 86, 87, 88, 89, 90, 91, 92, 93, 94, 95, 96, 97, 98, 99, 100, 101, 102, 103, 104, 105, 106, 107, 108, 109, 110, 111, 112, 113, 114, 115, 116, 117, 118, 119, 120, 121, 122, 123, 124, 125, 126, 127, 128, 129, 130, 131, 132, 133, 134, 135, 136, 137, 138, 139, 140, 141, 142, 143, 144, 145, 146, 147, 148, 149, 150, 151, 152, 153, 154, 155, 156, 157, 158, 159, 160, 161, 162, 163, 164, 165, 166, 167, 168, 169, 170, 171, 172, 173, 174, 175, 176, 177, 178, 179, 180, 181, 182, 183, 184, 185, 186, 187, 188, 189, 190, 191, 192, 193, 194, 195, 196, 197, 198, 199, 200, 201, 202, 203, 204, 205, 206, 207, 208, 209, 210, 211, 212, 213, 214, 215, 216, 217, 218, 219, 220, 221, 222, 223, 224, 225, 226, 227, 228, 229, 230, 231, 232, 233, 234, 235, 236, 237, 238, 239, 240, 241, 242, 243, 244, 245, 246, 247, 248, 249, 250, 251, 252, 253, 254, 255, 256, 257, 258, 259, 260, 261, 262, 263, 264, 265, 266, 267, 268, 269, 270, 271, 272, 273, 274, 275, 276, 277, 278, 279, 280, 281, 282, 283, 284, 285, 286, 287, 288, 289, 290, 291, 292, 293, 294, 295, 296, 297, 298, 299, 300, 301, 302, 303, 304, 305, 306, 307, 308, 309, 310, 311, 312, 313, 314, 315, 316, 317, 318, 319, 320, 321, 322, 323, 324, 325, 326, 327, 328, 329, 330, 331, 332, 333, 334, 335, 336, 337, 338, 339, 340, 341, 342, 343, 344, 345, 346, 347, 348, 349, 350, 351, 352, 353, 354, 355, 356, 357, 358, 359, 360, 361, 362, 363, 364, 365, 366, 367, 368, 369, 370, 371, 372, 373, 374, 375, 376, 377, 378, 379, 380, 381, 382, 383, 384, 385, 386, 387, 388, 389, 390, 391, 392, 393, 394, 395, 396, 397, 398, 399, 400, 401, 402, 403, 404, 405, 406, 407, 408, 409, 410, 411, 412, 413, 414, 415, 416, 417, 418, 419, 420, 421, 422, 423, 424, 425, 426, 427, 428, 429, 430, 431, 432, 433, 434, 435, 436, 437, 438, 439, 440, 441, 442, 443, 444, 445, 446, 447, 448, 449, 450, 451, 452, 453, 454, 455, 456, 457, 458, 459, 460, 461, 462, 463, 464, 465, 466, 467, 468, 469, 470, 471, 472, 473, 474, 475, 476, 477, 478, 479, 480, 481, 482, 483, 484, 485, 486, 487, 488, 489, 490, 491, 492, 493, 494, 495, 496, 497, 498, 499, 500, 501, 502, 503, 504, 505, 506, 507, 508, 509, 510, 511, 512, 513, 514, 515, 516, 517, 518, 519, 520, 521, 522, 523, 524, 525, 526, 527, 528, 529, 530, 531, 532, 533, 534, 535, 536, 537, 538, 539, 540, 541, 542, 543, 544, 545, 546, 547, 548, 549, 550, 551, 552, 553, 554, 555, 556, 557, 558, 559, 560, 561, 562, 563, 564, 565, 566, 567, 568, 569, 570, 571, 572, 573, 574, 575, 576, 577, 578, 579, 580, 581, 582, 583, 584, 585, 586, 587, 588, 589, 590, 591, 592, 593, 594, 595, 596, 597, 598, 599, 600, 601, 602, 603, 604, 605, 606, 607, 608, 609, 610, 611, 612, 613, 614, 615, 616, 617, 618, 619, 620, 621, 622, 623, 624, 625, 626, 627, 628, 629, 630, 631, 632, 633, 634, 635, 636, 637, 638, 639, 640, 641, 642, 643, 644, 645, 646, 647, 648, 649, 650, 651, 652, 653, 654, 655, 656, 657, 658, 659, 660, 661, 662, 663, 664, 665, 666, 667, 668, 669, 670, 671, 672, 673, 674, 675, 676, 677, 678, 679, 680, 681, 682, 683, 684, 685, 686, 687, 688, 689, 690, 691, 692, 693, 694, 695, 696, 697, 698, 699, 700, 701, 702, 703, 704, 705, 706, 707, 708, 709, 710, 711, 712, 713, 714, 715, 716, 717, 718, 719, 720, 721, 722, 723, 724, 725, 726, 727, 728, 729, 730, 731, 732, 733, 734, 735, 736, 737, 738, 739, 740, 741, 742, 743, 744, 745, 746, 747, 748, 749, 750, 751, 752, 753, 754, 755, 756, 757, 758, 759, 760, 761, 762, 763, 764, 765, 766, 767, 768, 769, 770, 771, 772, 773, 774, 775, 776, 777, 778, 779, 780, 781, 782, 783, 784, 785, 786, 787, 788, 789, 790, 791, 792, 793, 794, 795, 796, 797, 798, 799, 800, 801, 802, 803, 804, 805, 806, 807, 808, 809, 810, 811, 812, 813, 814, 815, 816, 817, 818, 819, 820, 821, 822, 823, 824, 825, 826, 827, 828, 829, 830, 831, 832, 833, 834, 835, 836, 837, 838, 839, 840, 841, 842, 843, 844, 845, 846, 847, 848, 849, 850, 851, 852, 853, 854, 855, 856, 857, 858, 859, 860, 861, 862, 863, 864, 865, 866, 867, 868, 869, 870, 871, 872, 873, 874, 875, 876, 877, 878, 879, 880, 881, 882, 883, 884, 885, 886, 887, 888, 889, 890, 891, 892, 893, 894, 895, 896, 897, 898, 899, 900, 901, 902, 903, 904, 905, 906, 907, 908, 909, 910, 911, 912, 913, 914, 915, 916, 917, 918, 919, 920, 921, 922, 923, 924, 925, 926, 927, 928, 929, 930, 931, 932, 933, 934, 935, 936, 937, 938, 939, 940, 941, 942]\n"
     ]
    }
   ],
   "source": [
    "fourth_slot_distributions = []\n",
    "fourth_slot_active_users = []\n",
    "for user_id in range(dataset.n_users):\n",
    "    user_dataframe = dataframe_4[dataframe_4['UserID'] == user_id]\n",
    "    user_items = user_dataframe['MovieID'].values\n",
    "    user_distribution, active_user = get_user_distribution(user_dataframe, user_items)\n",
    "    fourth_slot_distributions.append(user_distribution)\n",
    "    if active_user:\n",
    "        fourth_slot_active_users.append(user_id)\n",
    "fourth_slot_distributions = torch.vstack(fourth_slot_distributions)\n",
    "print(fourth_slot_distributions.shape)\n",
    "print(fourth_slot_distributions)\n",
    "print(len(fourth_slot_active_users))\n",
    "print(fourth_slot_active_users)"
   ]
  },
  {
   "cell_type": "code",
   "execution_count": 69,
   "metadata": {},
   "outputs": [
    {
     "name": "stdout",
     "output_type": "stream",
     "text": [
      "736\n",
      "[0, 1, 2, 3, 4, 5, 6, 8, 9, 10, 11, 12, 13, 14, 15, 16, 17, 18, 20, 22, 23, 24, 26, 27, 28, 29, 30, 31, 32, 33, 34, 35, 37, 39, 40, 41, 42, 43, 44, 45, 46, 47, 48, 49, 51, 52, 53, 54, 55, 56, 57, 58, 59, 60, 61, 64, 65, 66, 67, 69, 70, 71, 73, 74, 75, 76, 77, 78, 79, 81, 82, 83, 84, 85, 86, 87, 88, 89, 90, 91, 92, 93, 95, 96, 97, 98, 99, 101, 102, 103, 105, 106, 107, 108, 109, 110, 111, 112, 113, 114, 116, 117, 118, 120, 121, 122, 123, 125, 126, 127, 128, 129, 130, 131, 133, 135, 136, 137, 138, 139, 141, 143, 144, 146, 147, 149, 150, 151, 152, 153, 154, 156, 157, 158, 159, 160, 161, 163, 166, 167, 168, 169, 172, 173, 174, 175, 178, 181, 182, 183, 185, 186, 187, 188, 191, 192, 193, 194, 197, 198, 199, 200, 201, 202, 203, 204, 206, 207, 210, 211, 212, 213, 214, 215, 218, 219, 220, 221, 222, 223, 224, 225, 226, 227, 228, 229, 230, 231, 232, 233, 235, 236, 237, 238, 239, 240, 241, 242, 243, 244, 246, 247, 249, 251, 252, 253, 255, 256, 257, 258, 259, 260, 261, 262, 263, 264, 265, 268, 270, 272, 273, 274, 275, 277, 278, 279, 281, 282, 283, 284, 285, 286, 288, 289, 290, 293, 295, 297, 298, 299, 300, 301, 302, 303, 304, 306, 309, 310, 311, 313, 314, 315, 317, 318, 320, 321, 322, 327, 329, 332, 334, 335, 336, 339, 340, 341, 342, 343, 345, 346, 347, 349, 351, 352, 354, 355, 356, 358, 360, 361, 363, 364, 365, 366, 367, 368, 369, 372, 373, 374, 375, 377, 378, 379, 380, 382, 383, 384, 386, 387, 389, 390, 391, 392, 393, 394, 395, 397, 399, 401, 402, 403, 404, 405, 406, 407, 408, 409, 411, 413, 414, 416, 417, 418, 419, 421, 422, 423, 425, 428, 429, 430, 431, 432, 433, 434, 435, 436, 437, 440, 441, 442, 443, 444, 445, 446, 447, 448, 449, 450, 453, 454, 455, 456, 457, 458, 459, 460, 461, 463, 464, 465, 467, 468, 469, 470, 472, 473, 476, 477, 478, 479, 480, 481, 482, 483, 484, 486, 487, 488, 489, 490, 491, 493, 494, 496, 497, 498, 499, 500, 501, 502, 504, 505, 507, 508, 509, 511, 512, 513, 515, 516, 517, 518, 519, 520, 521, 522, 523, 524, 525, 526, 527, 528, 530, 531, 532, 533, 534, 535, 536, 537, 538, 539, 540, 542, 544, 545, 547, 548, 549, 550, 551, 552, 553, 555, 556, 557, 558, 559, 560, 563, 564, 565, 566, 567, 568, 569, 570, 572, 573, 574, 575, 578, 579, 581, 583, 584, 585, 586, 587, 588, 589, 590, 591, 592, 593, 594, 595, 596, 597, 598, 599, 601, 602, 603, 604, 605, 607, 609, 610, 611, 614, 615, 617, 618, 619, 620, 621, 622, 624, 626, 627, 628, 629, 630, 632, 633, 634, 635, 636, 638, 639, 640, 644, 645, 647, 648, 649, 650, 652, 656, 658, 659, 660, 661, 662, 663, 665, 666, 668, 671, 672, 673, 674, 675, 676, 677, 679, 680, 681, 682, 683, 684, 685, 686, 687, 688, 689, 690, 691, 692, 694, 696, 697, 698, 701, 702, 703, 704, 705, 706, 708, 709, 710, 711, 712, 713, 715, 716, 717, 719, 720, 721, 722, 726, 727, 728, 729, 731, 732, 733, 734, 735, 736, 737, 738, 739, 740, 741, 742, 743, 744, 745, 746, 748, 749, 750, 752, 753, 754, 755, 756, 758, 759, 761, 762, 763, 764, 765, 766, 767, 769, 770, 771, 772, 773, 776, 779, 781, 782, 783, 784, 786, 787, 789, 791, 792, 793, 794, 795, 796, 797, 798, 800, 801, 802, 803, 805, 808, 809, 810, 812, 813, 814, 815, 816, 817, 818, 820, 822, 824, 826, 827, 829, 830, 832, 833, 834, 835, 837, 838, 839, 841, 842, 845, 846, 847, 848, 849, 850, 851, 852, 853, 855, 856, 858, 860, 861, 862, 863, 864, 865, 866, 867, 868, 869, 870, 871, 873, 875, 876, 877, 878, 879, 881, 882, 883, 884, 885, 886, 887, 888, 889, 890, 891, 892, 893, 894, 895, 896, 898, 899, 900, 901, 902, 903, 904, 905, 906, 907, 909, 910, 912, 913, 914, 915, 918, 919, 920, 921, 922, 924, 928, 929, 931, 932, 933, 935, 936, 937, 938, 939, 940, 941, 942]\n"
     ]
    }
   ],
   "source": [
    "common_users_third_fourth_slot = list(set(third_slot_active_users) & set(fourth_slot_active_users))\n",
    "print(len(common_users_third_fourth_slot))\n",
    "print(common_users_third_fourth_slot)"
   ]
  },
  {
   "cell_type": "code",
   "execution_count": 70,
   "metadata": {},
   "outputs": [
    {
     "data": {
      "text/plain": [
       "tensor([[0.0189, 0.0189, 0.0026,  ..., 0.0026, 0.0514, 0.0026],\n",
       "        [0.0355, 0.0355, 0.0965,  ..., 0.0965, 0.0355, 0.2622],\n",
       "        [0.0733, 0.0270, 0.0013,  ..., 0.0733, 0.0733, 0.0733],\n",
       "        ...,\n",
       "        [0.0835, 0.0307, 0.0307,  ..., 0.0835, 0.0835, 0.0042],\n",
       "        [0.0747, 0.0747, 0.0037,  ..., 0.0747, 0.0275, 0.0037],\n",
       "        [0.0517, 0.0517, 0.1406,  ..., 0.0517, 0.1406, 0.0009]])"
      ]
     },
     "execution_count": 70,
     "metadata": {},
     "output_type": "execute_result"
    }
   ],
   "source": [
    "filtered_third_slot_distributions = third_slot_distributions[common_users_third_fourth_slot]\n",
    "filtered_third_slot_distributions"
   ]
  },
  {
   "cell_type": "code",
   "execution_count": 71,
   "metadata": {},
   "outputs": [
    {
     "data": {
      "text/plain": [
       "tensor([[0.0189, 0.0189, 0.0026,  ..., 0.0026, 0.0514, 0.0026],\n",
       "        [0.0843, 0.0310, 0.0843,  ..., 0.0843, 0.0310, 0.2291],\n",
       "        [0.0733, 0.0270, 0.0013,  ..., 0.0733, 0.0733, 0.0733],\n",
       "        ...,\n",
       "        [0.0835, 0.0307, 0.0307,  ..., 0.0835, 0.0835, 0.0042],\n",
       "        [0.0747, 0.0747, 0.0037,  ..., 0.0747, 0.0275, 0.0037],\n",
       "        [0.0517, 0.0517, 0.1406,  ..., 0.0517, 0.1406, 0.0009]])"
      ]
     },
     "execution_count": 71,
     "metadata": {},
     "output_type": "execute_result"
    }
   ],
   "source": [
    "filtered_fourth_slot_distributions = fourth_slot_distributions[common_users_third_fourth_slot]\n",
    "filtered_fourth_slot_distributions"
   ]
  },
  {
   "cell_type": "code",
   "execution_count": 72,
   "metadata": {},
   "outputs": [
    {
     "name": "stdout",
     "output_type": "stream",
     "text": [
      "torch.Size([736, 18])\n",
      "tensor([[0.0000, 0.0000, 0.0000,  ..., 0.0000, 0.0000, 0.0000],\n",
      "        [0.0244, 0.0022, 0.0061,  ..., 0.0061, 0.0022, 0.0165],\n",
      "        [0.0000, 0.0000, 0.0000,  ..., 0.0000, 0.0000, 0.0000],\n",
      "        ...,\n",
      "        [0.0000, 0.0000, 0.0000,  ..., 0.0000, 0.0000, 0.0000],\n",
      "        [0.0000, 0.0000, 0.0000,  ..., 0.0000, 0.0000, 0.0000],\n",
      "        [0.0000, 0.0000, 0.0000,  ..., 0.0000, 0.0000, 0.0000]])\n"
     ]
    }
   ],
   "source": [
    "variation_distance = torch.abs(filtered_third_slot_distributions - filtered_fourth_slot_distributions) / 2\n",
    "print(variation_distance.shape)\n",
    "print(variation_distance)"
   ]
  },
  {
   "cell_type": "code",
   "execution_count": 73,
   "metadata": {},
   "outputs": [
    {
     "name": "stdout",
     "output_type": "stream",
     "text": [
      "torch.Size([18])\n",
      "tensor([0.0008, 0.0006, 0.0009, 0.0004, 0.0009, 0.0007, 0.0007, 0.0009, 0.0005,\n",
      "        0.0009, 0.0005, 0.0007, 0.0009, 0.0007, 0.0006, 0.0006, 0.0008, 0.0007])\n"
     ]
    }
   ],
   "source": [
    "variation_distance = torch.mean(variation_distance, dim=0)\n",
    "print(variation_distance.shape)\n",
    "print(variation_distance)"
   ]
  },
  {
   "cell_type": "code",
   "execution_count": 74,
   "metadata": {},
   "outputs": [
    {
     "data": {
      "text/plain": [
       "0     0.000759\n",
       "1     0.000642\n",
       "2     0.000856\n",
       "3     0.000386\n",
       "4     0.000897\n",
       "5     0.000726\n",
       "6     0.000708\n",
       "7     0.000895\n",
       "8     0.000516\n",
       "9     0.000853\n",
       "10    0.000523\n",
       "11    0.000656\n",
       "12    0.000910\n",
       "13    0.000687\n",
       "14    0.000636\n",
       "15    0.000634\n",
       "16    0.000816\n",
       "17    0.000723\n",
       "dtype: float32"
      ]
     },
     "execution_count": 74,
     "metadata": {},
     "output_type": "execute_result"
    }
   ],
   "source": [
    "third_fourth_series = pd.Series(variation_distance)\n",
    "third_fourth_series"
   ]
  },
  {
   "cell_type": "markdown",
   "metadata": {},
   "source": [
    "## Plot"
   ]
  },
  {
   "cell_type": "code",
   "execution_count": 75,
   "metadata": {},
   "outputs": [
    {
     "data": {
      "text/html": [
       "<div>\n",
       "<style scoped>\n",
       "    .dataframe tbody tr th:only-of-type {\n",
       "        vertical-align: middle;\n",
       "    }\n",
       "\n",
       "    .dataframe tbody tr th {\n",
       "        vertical-align: top;\n",
       "    }\n",
       "\n",
       "    .dataframe thead th {\n",
       "        text-align: right;\n",
       "    }\n",
       "</style>\n",
       "<table border=\"1\" class=\"dataframe\">\n",
       "  <thead>\n",
       "    <tr style=\"text-align: right;\">\n",
       "      <th></th>\n",
       "      <th>0</th>\n",
       "      <th>1</th>\n",
       "      <th>2</th>\n",
       "    </tr>\n",
       "  </thead>\n",
       "  <tbody>\n",
       "    <tr>\n",
       "      <th>0</th>\n",
       "      <td>0.003180</td>\n",
       "      <td>0.000996</td>\n",
       "      <td>0.000759</td>\n",
       "    </tr>\n",
       "    <tr>\n",
       "      <th>1</th>\n",
       "      <td>0.002981</td>\n",
       "      <td>0.001317</td>\n",
       "      <td>0.000642</td>\n",
       "    </tr>\n",
       "    <tr>\n",
       "      <th>2</th>\n",
       "      <td>0.002758</td>\n",
       "      <td>0.001327</td>\n",
       "      <td>0.000856</td>\n",
       "    </tr>\n",
       "    <tr>\n",
       "      <th>3</th>\n",
       "      <td>0.002453</td>\n",
       "      <td>0.001147</td>\n",
       "      <td>0.000386</td>\n",
       "    </tr>\n",
       "    <tr>\n",
       "      <th>4</th>\n",
       "      <td>0.004770</td>\n",
       "      <td>0.001173</td>\n",
       "      <td>0.000897</td>\n",
       "    </tr>\n",
       "    <tr>\n",
       "      <th>5</th>\n",
       "      <td>0.003666</td>\n",
       "      <td>0.001342</td>\n",
       "      <td>0.000726</td>\n",
       "    </tr>\n",
       "    <tr>\n",
       "      <th>6</th>\n",
       "      <td>0.001204</td>\n",
       "      <td>0.000434</td>\n",
       "      <td>0.000708</td>\n",
       "    </tr>\n",
       "    <tr>\n",
       "      <th>7</th>\n",
       "      <td>0.003590</td>\n",
       "      <td>0.001768</td>\n",
       "      <td>0.000895</td>\n",
       "    </tr>\n",
       "    <tr>\n",
       "      <th>8</th>\n",
       "      <td>0.002641</td>\n",
       "      <td>0.001240</td>\n",
       "      <td>0.000516</td>\n",
       "    </tr>\n",
       "    <tr>\n",
       "      <th>9</th>\n",
       "      <td>0.004115</td>\n",
       "      <td>0.001608</td>\n",
       "      <td>0.000853</td>\n",
       "    </tr>\n",
       "    <tr>\n",
       "      <th>10</th>\n",
       "      <td>0.003207</td>\n",
       "      <td>0.001282</td>\n",
       "      <td>0.000523</td>\n",
       "    </tr>\n",
       "    <tr>\n",
       "      <th>11</th>\n",
       "      <td>0.003086</td>\n",
       "      <td>0.001548</td>\n",
       "      <td>0.000656</td>\n",
       "    </tr>\n",
       "    <tr>\n",
       "      <th>12</th>\n",
       "      <td>0.004439</td>\n",
       "      <td>0.001465</td>\n",
       "      <td>0.000910</td>\n",
       "    </tr>\n",
       "    <tr>\n",
       "      <th>13</th>\n",
       "      <td>0.003164</td>\n",
       "      <td>0.001866</td>\n",
       "      <td>0.000687</td>\n",
       "    </tr>\n",
       "    <tr>\n",
       "      <th>14</th>\n",
       "      <td>0.002307</td>\n",
       "      <td>0.001352</td>\n",
       "      <td>0.000636</td>\n",
       "    </tr>\n",
       "    <tr>\n",
       "      <th>15</th>\n",
       "      <td>0.003458</td>\n",
       "      <td>0.001105</td>\n",
       "      <td>0.000634</td>\n",
       "    </tr>\n",
       "    <tr>\n",
       "      <th>16</th>\n",
       "      <td>0.004164</td>\n",
       "      <td>0.001757</td>\n",
       "      <td>0.000816</td>\n",
       "    </tr>\n",
       "    <tr>\n",
       "      <th>17</th>\n",
       "      <td>0.003561</td>\n",
       "      <td>0.001630</td>\n",
       "      <td>0.000723</td>\n",
       "    </tr>\n",
       "  </tbody>\n",
       "</table>\n",
       "</div>"
      ],
      "text/plain": [
       "           0         1         2\n",
       "0   0.003180  0.000996  0.000759\n",
       "1   0.002981  0.001317  0.000642\n",
       "2   0.002758  0.001327  0.000856\n",
       "3   0.002453  0.001147  0.000386\n",
       "4   0.004770  0.001173  0.000897\n",
       "5   0.003666  0.001342  0.000726\n",
       "6   0.001204  0.000434  0.000708\n",
       "7   0.003590  0.001768  0.000895\n",
       "8   0.002641  0.001240  0.000516\n",
       "9   0.004115  0.001608  0.000853\n",
       "10  0.003207  0.001282  0.000523\n",
       "11  0.003086  0.001548  0.000656\n",
       "12  0.004439  0.001465  0.000910\n",
       "13  0.003164  0.001866  0.000687\n",
       "14  0.002307  0.001352  0.000636\n",
       "15  0.003458  0.001105  0.000634\n",
       "16  0.004164  0.001757  0.000816\n",
       "17  0.003561  0.001630  0.000723"
      ]
     },
     "execution_count": 75,
     "metadata": {},
     "output_type": "execute_result"
    }
   ],
   "source": [
    "df = pd.concat([first_second_series, second_third_series, third_fourth_series], axis=1)\n",
    "df"
   ]
  },
  {
   "cell_type": "code",
   "execution_count": 76,
   "metadata": {},
   "outputs": [
    {
     "data": {
      "image/png": "[encoded data removed]",
      "text/plain": [
       "<Figure size 640x480 with 1 Axes>"
      ]
     },
     "metadata": {},
     "output_type": "display_data"
    }
   ],
   "source": [
    "colors = sns.color_palette(\"viridis\", n_colors=len(df.columns))\n",
    "ax = df.plot.kde(color=colors, linewidth=2)\n",
    "plt.title('Estimated densities of total variation scores with respect to the previous two months')\n",
    "plt.xlabel('Total variation')\n",
    "plt.ylabel('Density')\n",
    "labels = ['M1-2 vs M3-4', 'M3-4 vs M5-6', 'M5-6 vs M7-8']\n",
    "plt.legend(labels)\n",
    "plt.show()"
   ]
  },
  {
   "cell_type": "code",
   "execution_count": null,
   "metadata": {},
   "outputs": [],
   "source": []
  },
  {
   "cell_type": "code",
   "execution_count": null,
   "metadata": {},
   "outputs": [],
   "source": []
  },
  {
   "cell_type": "code",
   "execution_count": null,
   "metadata": {},
   "outputs": [],
   "source": []
  },
  {
   "cell_type": "code",
   "execution_count": null,
   "metadata": {},
   "outputs": [],
   "source": []
  },
  {
   "cell_type": "code",
   "execution_count": null,
   "metadata": {},
   "outputs": [],
   "source": []
  },
  {
   "cell_type": "code",
   "execution_count": null,
   "metadata": {},
   "outputs": [],
   "source": []
  }
 ],
 "metadata": {
  "kernelspec": {
   "display_name": "SCMS",
   "language": "python",
   "name": "python3"
  },
  "language_info": {
   "codemirror_mode": {
    "name": "ipython",
    "version": 3
   },
   "file_extension": ".py",
   "mimetype": "text/x-python",
   "name": "python",
   "nbconvert_exporter": "python",
   "pygments_lexer": "ipython3",
   "version": "3.7.1"
  },
  "orig_nbformat": 4
 },
 "nbformat": 4,
 "nbformat_minor": 2
}
