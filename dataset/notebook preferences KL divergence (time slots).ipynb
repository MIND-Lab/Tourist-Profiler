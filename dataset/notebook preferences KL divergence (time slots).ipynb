{
 "cells": [
  {
   "cell_type": "code",
   "execution_count": 1,
   "metadata": {},
   "outputs": [
    {
     "data": {
      "text/plain": [
       "False"
      ]
     },
     "execution_count": 1,
     "metadata": {},
     "output_type": "execute_result"
    }
   ],
   "source": [
    "import torch\n",
    "import random\n",
    "import numpy as np\n",
    "import pandas as pd\n",
    "import seaborn as sns\n",
    "import matplotlib.pyplot as plt\n",
    "\n",
    "from Dataset import Dataset\n",
    "from Setting import Setting\n",
    "\n",
    "torch.cuda.is_available()"
   ]
  },
  {
   "cell_type": "markdown",
   "metadata": {},
   "source": [
    "# General settings"
   ]
  },
  {
   "cell_type": "code",
   "execution_count": 2,
   "metadata": {},
   "outputs": [],
   "source": [
    "# Set the random seed for reproducibility.\n",
    "random_seed = 1\n",
    "#tf.random.set_random_seed(random_seed)\n",
    "torch.manual_seed(random_seed)\n",
    "random.seed(random_seed)\n",
    "np.random.seed(random_seed)\n",
    "\n",
    "args = Setting()\n",
    "device = args.device\n",
    "dataset = Dataset(args.dataset_path, args.batch_size, args.fast_testing)"
   ]
  },
  {
   "cell_type": "markdown",
   "metadata": {},
   "source": [
    "# Preprocess dataframe"
   ]
  },
  {
   "cell_type": "code",
   "execution_count": 3,
   "metadata": {},
   "outputs": [
    {
     "data": {
      "text/html": [
       "<div>\n",
       "<style scoped>\n",
       "    .dataframe tbody tr th:only-of-type {\n",
       "        vertical-align: middle;\n",
       "    }\n",
       "\n",
       "    .dataframe tbody tr th {\n",
       "        vertical-align: top;\n",
       "    }\n",
       "\n",
       "    .dataframe thead th {\n",
       "        text-align: right;\n",
       "    }\n",
       "</style>\n",
       "<table border=\"1\" class=\"dataframe\">\n",
       "  <thead>\n",
       "    <tr style=\"text-align: right;\">\n",
       "      <th></th>\n",
       "      <th>UserID</th>\n",
       "      <th>MovieID</th>\n",
       "      <th>CategoryID</th>\n",
       "      <th>Rating</th>\n",
       "      <th>Timestamp</th>\n",
       "    </tr>\n",
       "  </thead>\n",
       "  <tbody>\n",
       "    <tr>\n",
       "      <th>474</th>\n",
       "      <td>101</td>\n",
       "      <td>177</td>\n",
       "      <td>4</td>\n",
       "      <td>4</td>\n",
       "      <td>874724710</td>\n",
       "    </tr>\n",
       "    <tr>\n",
       "      <th>178269</th>\n",
       "      <td>101</td>\n",
       "      <td>289</td>\n",
       "      <td>7</td>\n",
       "      <td>4</td>\n",
       "      <td>874724727</td>\n",
       "    </tr>\n",
       "    <tr>\n",
       "      <th>90841</th>\n",
       "      <td>101</td>\n",
       "      <td>153</td>\n",
       "      <td>0</td>\n",
       "      <td>4</td>\n",
       "      <td>874724754</td>\n",
       "    </tr>\n",
       "    <tr>\n",
       "      <th>45079</th>\n",
       "      <td>101</td>\n",
       "      <td>361</td>\n",
       "      <td>10</td>\n",
       "      <td>4</td>\n",
       "      <td>874724781</td>\n",
       "    </tr>\n",
       "    <tr>\n",
       "      <th>175466</th>\n",
       "      <td>101</td>\n",
       "      <td>321</td>\n",
       "      <td>0</td>\n",
       "      <td>4</td>\n",
       "      <td>874724843</td>\n",
       "    </tr>\n",
       "    <tr>\n",
       "      <th>...</th>\n",
       "      <td>...</td>\n",
       "      <td>...</td>\n",
       "      <td>...</td>\n",
       "      <td>...</td>\n",
       "      <td>...</td>\n",
       "    </tr>\n",
       "    <tr>\n",
       "      <th>98754</th>\n",
       "      <td>724</td>\n",
       "      <td>890</td>\n",
       "      <td>0</td>\n",
       "      <td>4</td>\n",
       "      <td>893286638</td>\n",
       "    </tr>\n",
       "    <tr>\n",
       "      <th>157460</th>\n",
       "      <td>724</td>\n",
       "      <td>652</td>\n",
       "      <td>0</td>\n",
       "      <td>4</td>\n",
       "      <td>893286638</td>\n",
       "    </tr>\n",
       "    <tr>\n",
       "      <th>98345</th>\n",
       "      <td>724</td>\n",
       "      <td>98</td>\n",
       "      <td>0</td>\n",
       "      <td>3</td>\n",
       "      <td>893286638</td>\n",
       "    </tr>\n",
       "    <tr>\n",
       "      <th>168106</th>\n",
       "      <td>724</td>\n",
       "      <td>130</td>\n",
       "      <td>7</td>\n",
       "      <td>4</td>\n",
       "      <td>893286638</td>\n",
       "    </tr>\n",
       "    <tr>\n",
       "      <th>154748</th>\n",
       "      <td>724</td>\n",
       "      <td>719</td>\n",
       "      <td>0</td>\n",
       "      <td>3</td>\n",
       "      <td>893286638</td>\n",
       "    </tr>\n",
       "  </tbody>\n",
       "</table>\n",
       "<p>100000 rows × 5 columns</p>\n",
       "</div>"
      ],
      "text/plain": [
       "        UserID  MovieID  CategoryID  Rating  Timestamp\n",
       "474        101      177           4       4  874724710\n",
       "178269     101      289           7       4  874724727\n",
       "90841      101      153           0       4  874724754\n",
       "45079      101      361          10       4  874724781\n",
       "175466     101      321           0       4  874724843\n",
       "...        ...      ...         ...     ...        ...\n",
       "98754      724      890           0       4  893286638\n",
       "157460     724      652           0       4  893286638\n",
       "98345      724       98           0       3  893286638\n",
       "168106     724      130           7       4  893286638\n",
       "154748     724      719           0       3  893286638\n",
       "\n",
       "[100000 rows x 5 columns]"
      ]
     },
     "execution_count": 3,
     "metadata": {},
     "output_type": "execute_result"
    }
   ],
   "source": [
    "dataframe = dataset.data_full.drop_duplicates(subset=['UserID', 'MovieID', 'Timestamp'])\n",
    "dataframe"
   ]
  },
  {
   "cell_type": "code",
   "execution_count": 4,
   "metadata": {},
   "outputs": [
    {
     "data": {
      "text/html": [
       "<div>\n",
       "<style scoped>\n",
       "    .dataframe tbody tr th:only-of-type {\n",
       "        vertical-align: middle;\n",
       "    }\n",
       "\n",
       "    .dataframe tbody tr th {\n",
       "        vertical-align: top;\n",
       "    }\n",
       "\n",
       "    .dataframe thead th {\n",
       "        text-align: right;\n",
       "    }\n",
       "</style>\n",
       "<table border=\"1\" class=\"dataframe\">\n",
       "  <thead>\n",
       "    <tr style=\"text-align: right;\">\n",
       "      <th></th>\n",
       "      <th>UserID</th>\n",
       "      <th>MovieID</th>\n",
       "      <th>CategoryID</th>\n",
       "      <th>Rating</th>\n",
       "      <th>Timestamp</th>\n",
       "      <th>Month</th>\n",
       "    </tr>\n",
       "  </thead>\n",
       "  <tbody>\n",
       "    <tr>\n",
       "      <th>474</th>\n",
       "      <td>101</td>\n",
       "      <td>177</td>\n",
       "      <td>4</td>\n",
       "      <td>4</td>\n",
       "      <td>1997-09-20 03:05:10</td>\n",
       "      <td>1997-09</td>\n",
       "    </tr>\n",
       "    <tr>\n",
       "      <th>178269</th>\n",
       "      <td>101</td>\n",
       "      <td>289</td>\n",
       "      <td>7</td>\n",
       "      <td>4</td>\n",
       "      <td>1997-09-20 03:05:27</td>\n",
       "      <td>1997-09</td>\n",
       "    </tr>\n",
       "    <tr>\n",
       "      <th>90841</th>\n",
       "      <td>101</td>\n",
       "      <td>153</td>\n",
       "      <td>0</td>\n",
       "      <td>4</td>\n",
       "      <td>1997-09-20 03:05:54</td>\n",
       "      <td>1997-09</td>\n",
       "    </tr>\n",
       "    <tr>\n",
       "      <th>45079</th>\n",
       "      <td>101</td>\n",
       "      <td>361</td>\n",
       "      <td>10</td>\n",
       "      <td>4</td>\n",
       "      <td>1997-09-20 03:06:21</td>\n",
       "      <td>1997-09</td>\n",
       "    </tr>\n",
       "    <tr>\n",
       "      <th>175466</th>\n",
       "      <td>101</td>\n",
       "      <td>321</td>\n",
       "      <td>0</td>\n",
       "      <td>4</td>\n",
       "      <td>1997-09-20 03:07:23</td>\n",
       "      <td>1997-09</td>\n",
       "    </tr>\n",
       "    <tr>\n",
       "      <th>...</th>\n",
       "      <td>...</td>\n",
       "      <td>...</td>\n",
       "      <td>...</td>\n",
       "      <td>...</td>\n",
       "      <td>...</td>\n",
       "      <td>...</td>\n",
       "    </tr>\n",
       "    <tr>\n",
       "      <th>98754</th>\n",
       "      <td>724</td>\n",
       "      <td>890</td>\n",
       "      <td>0</td>\n",
       "      <td>4</td>\n",
       "      <td>1998-04-22 23:10:38</td>\n",
       "      <td>1998-04</td>\n",
       "    </tr>\n",
       "    <tr>\n",
       "      <th>157460</th>\n",
       "      <td>724</td>\n",
       "      <td>652</td>\n",
       "      <td>0</td>\n",
       "      <td>4</td>\n",
       "      <td>1998-04-22 23:10:38</td>\n",
       "      <td>1998-04</td>\n",
       "    </tr>\n",
       "    <tr>\n",
       "      <th>98345</th>\n",
       "      <td>724</td>\n",
       "      <td>98</td>\n",
       "      <td>0</td>\n",
       "      <td>3</td>\n",
       "      <td>1998-04-22 23:10:38</td>\n",
       "      <td>1998-04</td>\n",
       "    </tr>\n",
       "    <tr>\n",
       "      <th>168106</th>\n",
       "      <td>724</td>\n",
       "      <td>130</td>\n",
       "      <td>7</td>\n",
       "      <td>4</td>\n",
       "      <td>1998-04-22 23:10:38</td>\n",
       "      <td>1998-04</td>\n",
       "    </tr>\n",
       "    <tr>\n",
       "      <th>154748</th>\n",
       "      <td>724</td>\n",
       "      <td>719</td>\n",
       "      <td>0</td>\n",
       "      <td>3</td>\n",
       "      <td>1998-04-22 23:10:38</td>\n",
       "      <td>1998-04</td>\n",
       "    </tr>\n",
       "  </tbody>\n",
       "</table>\n",
       "<p>100000 rows × 6 columns</p>\n",
       "</div>"
      ],
      "text/plain": [
       "        UserID  MovieID  CategoryID  Rating           Timestamp    Month\n",
       "474        101      177           4       4 1997-09-20 03:05:10  1997-09\n",
       "178269     101      289           7       4 1997-09-20 03:05:27  1997-09\n",
       "90841      101      153           0       4 1997-09-20 03:05:54  1997-09\n",
       "45079      101      361          10       4 1997-09-20 03:06:21  1997-09\n",
       "175466     101      321           0       4 1997-09-20 03:07:23  1997-09\n",
       "...        ...      ...         ...     ...                 ...      ...\n",
       "98754      724      890           0       4 1998-04-22 23:10:38  1998-04\n",
       "157460     724      652           0       4 1998-04-22 23:10:38  1998-04\n",
       "98345      724       98           0       3 1998-04-22 23:10:38  1998-04\n",
       "168106     724      130           7       4 1998-04-22 23:10:38  1998-04\n",
       "154748     724      719           0       3 1998-04-22 23:10:38  1998-04\n",
       "\n",
       "[100000 rows x 6 columns]"
      ]
     },
     "execution_count": 4,
     "metadata": {},
     "output_type": "execute_result"
    }
   ],
   "source": [
    "# Converts timestamp in a DateTime object.\n",
    "dataframe['Timestamp'] = pd.to_datetime(dataframe['Timestamp'], unit='s')\n",
    "dataframe = dataframe.sort_values(by='Timestamp')\n",
    "dataframe['Month'] = dataframe['Timestamp'].dt.to_period('M')\n",
    "dataframe"
   ]
  },
  {
   "cell_type": "code",
   "execution_count": 5,
   "metadata": {},
   "outputs": [
    {
     "data": {
      "text/plain": [
       "1997-09     6704\n",
       "1997-10    10304\n",
       "1997-11    23980\n",
       "1997-12    11911\n",
       "1998-01    14095\n",
       "1998-02    10991\n",
       "1998-03    12656\n",
       "1998-04     9359\n",
       "Freq: M, Name: Month, dtype: int64"
      ]
     },
     "execution_count": 5,
     "metadata": {},
     "output_type": "execute_result"
    }
   ],
   "source": [
    "distribution_per_month = dataframe['Month'].value_counts().sort_index()\n",
    "distribution_per_month"
   ]
  },
  {
   "cell_type": "markdown",
   "metadata": {},
   "source": [
    "# Preference change from first slot"
   ]
  },
  {
   "cell_type": "code",
   "execution_count": 6,
   "metadata": {},
   "outputs": [],
   "source": [
    "def get_user_distribution(user_dataframe, user_items):\n",
    "    \n",
    "    user_movies_data = dataset.movies_data[dataset.movies_data['MovieID'].isin(user_items)]\n",
    "    \n",
    "    # We merge the relevant items with their categories. Then we drop useless attributes.\n",
    "    merged_df = pd.merge(user_dataframe, user_movies_data, on='MovieID', how='inner')\n",
    "    merged_df  = merged_df.drop('Timestamp', axis=1) \n",
    "    merged_df  = merged_df.drop('UserID', axis=1)\n",
    "    merged_df  = merged_df.drop('CategoryID', axis=1)\n",
    "    \n",
    "    # We assign the rating of the item to each of its categories. \n",
    "    for i in range(dataset.n_categories):\n",
    "        category_col = f'Category_{i}'\n",
    "        rating_col = 'Rating'\n",
    "        merged_df[category_col] *= merged_df[rating_col]\n",
    "    merged_df = merged_df.drop('Rating', axis=1)\n",
    "    merged_df = merged_df.drop_duplicates()\n",
    "    \n",
    "    # We compute the mean value for each category. This is the user profile.\n",
    "    categories = [f'Category_{i}' for i in range(dataset.n_categories)]\n",
    "    category_values = []\n",
    "    for category in categories:\n",
    "        # We compute the mean only for the values that are not 0,\n",
    "        # since we consider 0 as an absence of value.\n",
    "        values = merged_df[category].values\n",
    "        values = values[values != 0]\n",
    "        if len(values) > 0:\n",
    "            values = np.mean(values)\n",
    "            values = round(values)\n",
    "        else:\n",
    "            values = 0\n",
    "        category_values.append(values)\n",
    "        \n",
    "    if all(value == 0 for value in category_values):\n",
    "        active_user = False\n",
    "    else:\n",
    "        active_user = True\n",
    "\n",
    "    user_distribution = torch.nn.functional.softmax(torch.FloatTensor(category_values), dim=0)\n",
    "    \n",
    "    return user_distribution, active_user"
   ]
  },
  {
   "cell_type": "markdown",
   "metadata": {},
   "source": [
    "## First time slot"
   ]
  },
  {
   "cell_type": "code",
   "execution_count": 7,
   "metadata": {},
   "outputs": [
    {
     "data": {
      "text/html": [
       "<div>\n",
       "<style scoped>\n",
       "    .dataframe tbody tr th:only-of-type {\n",
       "        vertical-align: middle;\n",
       "    }\n",
       "\n",
       "    .dataframe tbody tr th {\n",
       "        vertical-align: top;\n",
       "    }\n",
       "\n",
       "    .dataframe thead th {\n",
       "        text-align: right;\n",
       "    }\n",
       "</style>\n",
       "<table border=\"1\" class=\"dataframe\">\n",
       "  <thead>\n",
       "    <tr style=\"text-align: right;\">\n",
       "      <th></th>\n",
       "      <th>UserID</th>\n",
       "      <th>MovieID</th>\n",
       "      <th>CategoryID</th>\n",
       "      <th>Rating</th>\n",
       "      <th>Timestamp</th>\n",
       "      <th>Month</th>\n",
       "    </tr>\n",
       "  </thead>\n",
       "  <tbody>\n",
       "    <tr>\n",
       "      <th>474</th>\n",
       "      <td>101</td>\n",
       "      <td>177</td>\n",
       "      <td>4</td>\n",
       "      <td>4</td>\n",
       "      <td>1997-09-20 03:05:10</td>\n",
       "      <td>1997-09</td>\n",
       "    </tr>\n",
       "    <tr>\n",
       "      <th>178269</th>\n",
       "      <td>101</td>\n",
       "      <td>289</td>\n",
       "      <td>7</td>\n",
       "      <td>4</td>\n",
       "      <td>1997-09-20 03:05:27</td>\n",
       "      <td>1997-09</td>\n",
       "    </tr>\n",
       "    <tr>\n",
       "      <th>90841</th>\n",
       "      <td>101</td>\n",
       "      <td>153</td>\n",
       "      <td>0</td>\n",
       "      <td>4</td>\n",
       "      <td>1997-09-20 03:05:54</td>\n",
       "      <td>1997-09</td>\n",
       "    </tr>\n",
       "    <tr>\n",
       "      <th>45079</th>\n",
       "      <td>101</td>\n",
       "      <td>361</td>\n",
       "      <td>10</td>\n",
       "      <td>4</td>\n",
       "      <td>1997-09-20 03:06:21</td>\n",
       "      <td>1997-09</td>\n",
       "    </tr>\n",
       "    <tr>\n",
       "      <th>175466</th>\n",
       "      <td>101</td>\n",
       "      <td>321</td>\n",
       "      <td>0</td>\n",
       "      <td>4</td>\n",
       "      <td>1997-09-20 03:07:23</td>\n",
       "      <td>1997-09</td>\n",
       "    </tr>\n",
       "    <tr>\n",
       "      <th>...</th>\n",
       "      <td>...</td>\n",
       "      <td>...</td>\n",
       "      <td>...</td>\n",
       "      <td>...</td>\n",
       "      <td>...</td>\n",
       "      <td>...</td>\n",
       "    </tr>\n",
       "    <tr>\n",
       "      <th>45918</th>\n",
       "      <td>92</td>\n",
       "      <td>204</td>\n",
       "      <td>7</td>\n",
       "      <td>4</td>\n",
       "      <td>1997-10-31 23:41:55</td>\n",
       "      <td>1997-10</td>\n",
       "    </tr>\n",
       "    <tr>\n",
       "      <th>45419</th>\n",
       "      <td>92</td>\n",
       "      <td>24</td>\n",
       "      <td>2</td>\n",
       "      <td>4</td>\n",
       "      <td>1997-10-31 23:41:55</td>\n",
       "      <td>1997-10</td>\n",
       "    </tr>\n",
       "    <tr>\n",
       "      <th>2661</th>\n",
       "      <td>92</td>\n",
       "      <td>68</td>\n",
       "      <td>7</td>\n",
       "      <td>4</td>\n",
       "      <td>1997-10-31 23:42:23</td>\n",
       "      <td>1997-10</td>\n",
       "    </tr>\n",
       "    <tr>\n",
       "      <th>39628</th>\n",
       "      <td>92</td>\n",
       "      <td>452</td>\n",
       "      <td>0</td>\n",
       "      <td>4</td>\n",
       "      <td>1997-10-31 23:42:23</td>\n",
       "      <td>1997-10</td>\n",
       "    </tr>\n",
       "    <tr>\n",
       "      <th>184904</th>\n",
       "      <td>92</td>\n",
       "      <td>103</td>\n",
       "      <td>1</td>\n",
       "      <td>4</td>\n",
       "      <td>1997-10-31 23:42:50</td>\n",
       "      <td>1997-10</td>\n",
       "    </tr>\n",
       "  </tbody>\n",
       "</table>\n",
       "<p>17008 rows × 6 columns</p>\n",
       "</div>"
      ],
      "text/plain": [
       "        UserID  MovieID  CategoryID  Rating           Timestamp    Month\n",
       "474        101      177           4       4 1997-09-20 03:05:10  1997-09\n",
       "178269     101      289           7       4 1997-09-20 03:05:27  1997-09\n",
       "90841      101      153           0       4 1997-09-20 03:05:54  1997-09\n",
       "45079      101      361          10       4 1997-09-20 03:06:21  1997-09\n",
       "175466     101      321           0       4 1997-09-20 03:07:23  1997-09\n",
       "...        ...      ...         ...     ...                 ...      ...\n",
       "45918       92      204           7       4 1997-10-31 23:41:55  1997-10\n",
       "45419       92       24           2       4 1997-10-31 23:41:55  1997-10\n",
       "2661        92       68           7       4 1997-10-31 23:42:23  1997-10\n",
       "39628       92      452           0       4 1997-10-31 23:42:23  1997-10\n",
       "184904      92      103           1       4 1997-10-31 23:42:50  1997-10\n",
       "\n",
       "[17008 rows x 6 columns]"
      ]
     },
     "execution_count": 7,
     "metadata": {},
     "output_type": "execute_result"
    }
   ],
   "source": [
    "start_date_slot_1 = pd.to_datetime('1997-09-20')\n",
    "end_date_slot_1 = pd.to_datetime('1997-11-01')\n",
    "dataframe_1 = dataframe[dataframe['Timestamp'].between(start_date_slot_1, end_date_slot_1)]\n",
    "dataframe_1 = dataframe_1.sort_values(by='Timestamp')\n",
    "dataframe_1"
   ]
  },
  {
   "cell_type": "code",
   "execution_count": 8,
   "metadata": {},
   "outputs": [
    {
     "name": "stdout",
     "output_type": "stream",
     "text": [
      "torch.Size([943, 18])\n",
      "tensor([[0.0556, 0.0556, 0.0556,  ..., 0.0556, 0.0556, 0.0556],\n",
      "        [0.0556, 0.0556, 0.0556,  ..., 0.0556, 0.0556, 0.0556],\n",
      "        [0.0556, 0.0556, 0.0556,  ..., 0.0556, 0.0556, 0.0556],\n",
      "        ...,\n",
      "        [0.0556, 0.0556, 0.0556,  ..., 0.0556, 0.0556, 0.0556],\n",
      "        [0.0556, 0.0556, 0.0556,  ..., 0.0556, 0.0556, 0.0556],\n",
      "        [0.0517, 0.0517, 0.1406,  ..., 0.0517, 0.1406, 0.0009]])\n",
      "190\n",
      "[11, 12, 18, 20, 22, 26, 27, 28, 29, 34, 37, 39, 42, 49, 56, 65, 70, 74, 75, 76, 82, 84, 92, 95, 98, 101, 107, 108, 110, 111, 116, 118, 121, 125, 131, 133, 137, 139, 143, 144, 146, 147, 149, 153, 158, 161, 175, 178, 192, 194, 198, 207, 214, 219, 220, 224, 239, 246, 255, 263, 264, 274, 278, 286, 289, 299, 301, 315, 317, 322, 329, 334, 335, 339, 342, 345, 361, 363, 364, 367, 368, 378, 380, 383, 391, 392, 393, 397, 405, 407, 409, 416, 432, 436, 446, 448, 461, 463, 465, 472, 477, 484, 487, 490, 501, 504, 512, 523, 527, 535, 537, 542, 545, 551, 574, 578, 587, 593, 594, 596, 602, 618, 621, 627, 630, 635, 639, 645, 652, 658, 662, 668, 676, 679, 681, 683, 685, 689, 690, 691, 701, 703, 705, 706, 711, 713, 721, 727, 728, 738, 749, 759, 767, 770, 771, 772, 773, 776, 781, 792, 793, 795, 800, 809, 810, 813, 826, 830, 834, 838, 845, 852, 860, 862, 864, 867, 869, 878, 882, 883, 889, 895, 905, 909, 912, 915, 928, 935, 937, 942]\n"
     ]
    }
   ],
   "source": [
    "first_slot_distributions = []\n",
    "first_slot_active_users = []\n",
    "for user_id in range(dataset.n_users):\n",
    "    user_dataframe = dataframe_1[dataframe_1['UserID'] == user_id]\n",
    "    user_items = user_dataframe['MovieID'].values\n",
    "    user_distribution, active_user = get_user_distribution(user_dataframe, user_items)\n",
    "    first_slot_distributions.append(user_distribution)\n",
    "    if active_user:\n",
    "        first_slot_active_users.append(user_id)\n",
    "first_slot_distributions = torch.vstack(first_slot_distributions)\n",
    "print(first_slot_distributions.shape)\n",
    "print(first_slot_distributions)\n",
    "print(len(first_slot_active_users))\n",
    "print(first_slot_active_users)"
   ]
  },
  {
   "cell_type": "markdown",
   "metadata": {},
   "source": [
    "## Second time slot"
   ]
  },
  {
   "cell_type": "code",
   "execution_count": 9,
   "metadata": {},
   "outputs": [
    {
     "data": {
      "text/html": [
       "<div>\n",
       "<style scoped>\n",
       "    .dataframe tbody tr th:only-of-type {\n",
       "        vertical-align: middle;\n",
       "    }\n",
       "\n",
       "    .dataframe tbody tr th {\n",
       "        vertical-align: top;\n",
       "    }\n",
       "\n",
       "    .dataframe thead th {\n",
       "        text-align: right;\n",
       "    }\n",
       "</style>\n",
       "<table border=\"1\" class=\"dataframe\">\n",
       "  <thead>\n",
       "    <tr style=\"text-align: right;\">\n",
       "      <th></th>\n",
       "      <th>UserID</th>\n",
       "      <th>MovieID</th>\n",
       "      <th>CategoryID</th>\n",
       "      <th>Rating</th>\n",
       "      <th>Timestamp</th>\n",
       "      <th>Month</th>\n",
       "    </tr>\n",
       "  </thead>\n",
       "  <tbody>\n",
       "    <tr>\n",
       "      <th>130824</th>\n",
       "      <td>92</td>\n",
       "      <td>198</td>\n",
       "      <td>4</td>\n",
       "      <td>3</td>\n",
       "      <td>1997-11-01 01:07:11</td>\n",
       "      <td>1997-11</td>\n",
       "    </tr>\n",
       "    <tr>\n",
       "      <th>56644</th>\n",
       "      <td>92</td>\n",
       "      <td>86</td>\n",
       "      <td>4</td>\n",
       "      <td>2</td>\n",
       "      <td>1997-11-01 01:07:11</td>\n",
       "      <td>1997-11</td>\n",
       "    </tr>\n",
       "    <tr>\n",
       "      <th>25403</th>\n",
       "      <td>92</td>\n",
       "      <td>416</td>\n",
       "      <td>7</td>\n",
       "      <td>3</td>\n",
       "      <td>1997-11-01 01:07:50</td>\n",
       "      <td>1997-11</td>\n",
       "    </tr>\n",
       "    <tr>\n",
       "      <th>74845</th>\n",
       "      <td>92</td>\n",
       "      <td>136</td>\n",
       "      <td>0</td>\n",
       "      <td>3</td>\n",
       "      <td>1997-11-01 01:08:32</td>\n",
       "      <td>1997-11</td>\n",
       "    </tr>\n",
       "    <tr>\n",
       "      <th>5411</th>\n",
       "      <td>92</td>\n",
       "      <td>861</td>\n",
       "      <td>4</td>\n",
       "      <td>4</td>\n",
       "      <td>1997-11-01 01:08:52</td>\n",
       "      <td>1997-11</td>\n",
       "    </tr>\n",
       "    <tr>\n",
       "      <th>...</th>\n",
       "      <td>...</td>\n",
       "      <td>...</td>\n",
       "      <td>...</td>\n",
       "      <td>...</td>\n",
       "      <td>...</td>\n",
       "      <td>...</td>\n",
       "    </tr>\n",
       "    <tr>\n",
       "      <th>152165</th>\n",
       "      <td>288</td>\n",
       "      <td>48</td>\n",
       "      <td>5</td>\n",
       "      <td>4</td>\n",
       "      <td>1997-12-31 23:38:02</td>\n",
       "      <td>1997-12</td>\n",
       "    </tr>\n",
       "    <tr>\n",
       "      <th>38809</th>\n",
       "      <td>288</td>\n",
       "      <td>1167</td>\n",
       "      <td>2</td>\n",
       "      <td>3</td>\n",
       "      <td>1997-12-31 23:38:33</td>\n",
       "      <td>1997-12</td>\n",
       "    </tr>\n",
       "    <tr>\n",
       "      <th>62684</th>\n",
       "      <td>92</td>\n",
       "      <td>719</td>\n",
       "      <td>0</td>\n",
       "      <td>4</td>\n",
       "      <td>1997-12-31 23:51:08</td>\n",
       "      <td>1997-12</td>\n",
       "    </tr>\n",
       "    <tr>\n",
       "      <th>386</th>\n",
       "      <td>92</td>\n",
       "      <td>95</td>\n",
       "      <td>4</td>\n",
       "      <td>4</td>\n",
       "      <td>1997-12-31 23:52:36</td>\n",
       "      <td>1997-12</td>\n",
       "    </tr>\n",
       "    <tr>\n",
       "      <th>91731</th>\n",
       "      <td>92</td>\n",
       "      <td>153</td>\n",
       "      <td>0</td>\n",
       "      <td>2</td>\n",
       "      <td>1997-12-31 23:58:46</td>\n",
       "      <td>1997-12</td>\n",
       "    </tr>\n",
       "  </tbody>\n",
       "</table>\n",
       "<p>35891 rows × 6 columns</p>\n",
       "</div>"
      ],
      "text/plain": [
       "        UserID  MovieID  CategoryID  Rating           Timestamp    Month\n",
       "130824      92      198           4       3 1997-11-01 01:07:11  1997-11\n",
       "56644       92       86           4       2 1997-11-01 01:07:11  1997-11\n",
       "25403       92      416           7       3 1997-11-01 01:07:50  1997-11\n",
       "74845       92      136           0       3 1997-11-01 01:08:32  1997-11\n",
       "5411        92      861           4       4 1997-11-01 01:08:52  1997-11\n",
       "...        ...      ...         ...     ...                 ...      ...\n",
       "152165     288       48           5       4 1997-12-31 23:38:02  1997-12\n",
       "38809      288     1167           2       3 1997-12-31 23:38:33  1997-12\n",
       "62684       92      719           0       4 1997-12-31 23:51:08  1997-12\n",
       "386         92       95           4       4 1997-12-31 23:52:36  1997-12\n",
       "91731       92      153           0       2 1997-12-31 23:58:46  1997-12\n",
       "\n",
       "[35891 rows x 6 columns]"
      ]
     },
     "execution_count": 9,
     "metadata": {},
     "output_type": "execute_result"
    }
   ],
   "source": [
    "start_date_slot_2 = pd.to_datetime('1997-11-01')\n",
    "end_date_slot_2 = pd.to_datetime('1998-01-01')\n",
    "dataframe_2 = dataframe[dataframe['Timestamp'].between(start_date_slot_2, end_date_slot_2)]\n",
    "dataframe_2 = dataframe_2.sort_values(by='Timestamp')\n",
    "dataframe_2"
   ]
  },
  {
   "cell_type": "code",
   "execution_count": 10,
   "metadata": {},
   "outputs": [
    {
     "name": "stdout",
     "output_type": "stream",
     "text": [
      "torch.Size([943, 18])\n",
      "tensor([[0.0189, 0.0189, 0.0026,  ..., 0.0026, 0.0514, 0.0026],\n",
      "        [0.0355, 0.0355, 0.0965,  ..., 0.0965, 0.0355, 0.2622],\n",
      "        [0.0733, 0.0270, 0.0013,  ..., 0.0733, 0.0733, 0.0733],\n",
      "        ...,\n",
      "        [0.0835, 0.0307, 0.0307,  ..., 0.0835, 0.0835, 0.0042],\n",
      "        [0.0556, 0.0556, 0.0556,  ..., 0.0556, 0.0556, 0.0556],\n",
      "        [0.0556, 0.0556, 0.0556,  ..., 0.0556, 0.0556, 0.0556]])\n",
      "399\n",
      "[0, 1, 2, 3, 6, 9, 10, 11, 15, 16, 17, 22, 24, 26, 30, 31, 32, 35, 37, 39, 44, 45, 47, 53, 54, 55, 56, 57, 58, 59, 60, 64, 65, 70, 71, 73, 75, 76, 77, 78, 81, 82, 89, 91, 92, 95, 96, 98, 99, 101, 102, 103, 106, 111, 112, 113, 114, 116, 117, 118, 120, 121, 122, 123, 126, 127, 128, 129, 130, 135, 137, 138, 139, 141, 143, 144, 147, 149, 150, 151, 152, 156, 159, 166, 173, 174, 181, 182, 183, 185, 186, 187, 188, 192, 197, 199, 200, 202, 204, 207, 212, 213, 215, 221, 222, 223, 225, 227, 228, 233, 235, 237, 239, 240, 241, 242, 243, 244, 249, 251, 253, 256, 257, 260, 261, 263, 265, 270, 272, 273, 278, 279, 281, 282, 283, 284, 288, 290, 295, 298, 299, 300, 302, 303, 304, 310, 320, 321, 327, 332, 343, 346, 349, 352, 354, 356, 358, 360, 363, 365, 366, 369, 374, 377, 384, 386, 389, 390, 393, 394, 401, 404, 405, 406, 408, 409, 413, 414, 416, 417, 418, 419, 421, 423, 425, 429, 430, 434, 435, 436, 437, 440, 441, 442, 443, 444, 445, 447, 450, 453, 454, 457, 458, 460, 464, 468, 469, 470, 473, 476, 477, 478, 479, 482, 486, 488, 491, 493, 494, 498, 501, 502, 504, 513, 517, 518, 521, 523, 526, 528, 530, 531, 532, 539, 540, 548, 549, 550, 551, 552, 553, 555, 557, 558, 559, 560, 564, 565, 566, 567, 569, 570, 572, 573, 581, 583, 584, 586, 588, 589, 590, 591, 592, 599, 602, 603, 609, 611, 614, 617, 618, 620, 622, 624, 626, 628, 630, 634, 636, 640, 644, 647, 649, 661, 663, 665, 666, 668, 672, 676, 677, 680, 682, 683, 684, 687, 692, 694, 696, 702, 703, 704, 708, 710, 711, 716, 722, 726, 729, 731, 732, 733, 735, 736, 737, 740, 742, 743, 746, 752, 753, 754, 755, 756, 758, 762, 763, 764, 766, 770, 773, 779, 782, 783, 787, 789, 791, 793, 794, 797, 798, 801, 802, 803, 805, 808, 814, 815, 816, 817, 822, 826, 833, 835, 841, 845, 846, 847, 848, 849, 850, 851, 856, 860, 861, 863, 865, 866, 867, 870, 873, 875, 876, 878, 881, 885, 888, 890, 891, 892, 894, 898, 899, 901, 903, 904, 906, 907, 913, 914, 915, 918, 919, 920, 922, 924, 932, 938, 940]\n"
     ]
    }
   ],
   "source": [
    "second_slot_distributions = []\n",
    "second_slot_active_users = []\n",
    "for user_id in range(dataset.n_users):\n",
    "    user_dataframe = dataframe_2[dataframe_2['UserID'] == user_id]\n",
    "    user_items = user_dataframe['MovieID'].values\n",
    "    user_distribution, active_user = get_user_distribution(user_dataframe, user_items)\n",
    "    second_slot_distributions.append(user_distribution)\n",
    "    if active_user:\n",
    "        second_slot_active_users.append(user_id)\n",
    "second_slot_distributions = torch.vstack(second_slot_distributions)\n",
    "print(second_slot_distributions.shape)\n",
    "print(second_slot_distributions)\n",
    "print(len(second_slot_active_users))\n",
    "print(second_slot_active_users)"
   ]
  },
  {
   "cell_type": "code",
   "execution_count": 11,
   "metadata": {},
   "outputs": [
    {
     "name": "stdout",
     "output_type": "stream",
     "text": [
      "59\n",
      "[770, 773, 263, 137, 393, 523, 11, 139, 143, 144, 147, 915, 149, 22, 278, 405, 793, 26, 409, 668, 416, 676, 37, 39, 551, 683, 299, 436, 56, 826, 703, 192, 65, 70, 711, 75, 76, 845, 207, 82, 602, 92, 860, 477, 95, 98, 867, 101, 618, 363, 878, 111, 239, 116, 501, 118, 630, 504, 121]\n"
     ]
    }
   ],
   "source": [
    "common_users_first_second_slot = list(set(first_slot_active_users) & set(second_slot_active_users))\n",
    "print(len(common_users_first_second_slot))\n",
    "print(common_users_first_second_slot)"
   ]
  },
  {
   "cell_type": "code",
   "execution_count": 12,
   "metadata": {},
   "outputs": [
    {
     "data": {
      "text/plain": [
       "tensor([[0.0591, 0.0591, 0.1608,  ..., 0.0591, 0.0591, 0.0029],\n",
       "        [0.0606, 0.0606, 0.1647,  ..., 0.0606, 0.1647, 0.0011],\n",
       "        [0.0764, 0.0103, 0.0014,  ..., 0.0764, 0.2078, 0.0764],\n",
       "        ...,\n",
       "        [0.0966, 0.0355, 0.0355,  ..., 0.0355, 0.0966, 0.0355],\n",
       "        [0.0576, 0.0576, 0.0576,  ..., 0.0576, 0.0576, 0.0576],\n",
       "        [0.0466, 0.0466, 0.0466,  ..., 0.0466, 0.1268, 0.0466]])"
      ]
     },
     "execution_count": 12,
     "metadata": {},
     "output_type": "execute_result"
    }
   ],
   "source": [
    "filtered_first_slot_distributions = first_slot_distributions[common_users_first_second_slot]\n",
    "filtered_first_slot_distributions"
   ]
  },
  {
   "cell_type": "code",
   "execution_count": 13,
   "metadata": {},
   "outputs": [
    {
     "data": {
      "text/plain": [
       "tensor([[0.0133, 0.0133, 0.0133,  ..., 0.2669, 0.0133, 0.0133],\n",
       "        [0.0986, 0.0986, 0.0018,  ..., 0.0986, 0.0986, 0.0018],\n",
       "        [0.0730, 0.0268, 0.0036,  ..., 0.0730, 0.0730, 0.0036],\n",
       "        ...,\n",
       "        [0.0742, 0.0037, 0.0037,  ..., 0.2018, 0.0037, 0.0037],\n",
       "        [0.1091, 0.1091, 0.0020,  ..., 0.1091, 0.0020, 0.0020],\n",
       "        [0.0244, 0.1799, 0.0244,  ..., 0.0662, 0.1799, 0.0662]])"
      ]
     },
     "execution_count": 13,
     "metadata": {},
     "output_type": "execute_result"
    }
   ],
   "source": [
    "filtered_second_slot_distributions = second_slot_distributions[common_users_first_second_slot]\n",
    "filtered_second_slot_distributions"
   ]
  },
  {
   "cell_type": "code",
   "execution_count": 14,
   "metadata": {},
   "outputs": [
    {
     "name": "stdout",
     "output_type": "stream",
     "text": [
      "torch.Size([59, 18])\n",
      "tensor([[-0.1680, -0.1680, -0.2960,  ..., -0.1830, -0.1680, -0.0172],\n",
      "        [-0.1758, -0.1758, -0.2974,  ..., -0.1758, -0.3133, -0.0076],\n",
      "        [-0.2021, -0.0476, -0.0092,  ..., -0.2021, -0.3417, -0.1968],\n",
      "        ...,\n",
      "        [-0.2330, -0.1187, -0.1187,  ..., -0.1258, -0.2262, -0.1187],\n",
      "        [-0.1706, -0.1706, -0.1645,  ..., -0.1706, -0.1645, -0.1645],\n",
      "        [-0.1441, -0.1514, -0.1441,  ..., -0.1461, -0.2847, -0.1461]])\n"
     ]
    }
   ],
   "source": [
    "variation_distance = torch.nn.functional.kl_div(input=filtered_second_slot_distributions, target=filtered_first_slot_distributions, reduction='none')\n",
    "print(variation_distance.shape)\n",
    "print(variation_distance)"
   ]
  },
  {
   "cell_type": "code",
   "execution_count": 15,
   "metadata": {},
   "outputs": [
    {
     "name": "stdout",
     "output_type": "stream",
     "text": [
      "torch.Size([18])\n",
      "tensor([-0.1696, -0.1449, -0.1309, -0.1270, -0.1582, -0.1652, -0.0792, -0.1915,\n",
      "        -0.0738, -0.1088, -0.1178, -0.1307, -0.1550, -0.1741, -0.1596, -0.1767,\n",
      "        -0.1951, -0.0998])\n"
     ]
    }
   ],
   "source": [
    "variation_distance = torch.mean(variation_distance, dim=0)\n",
    "print(variation_distance.shape)\n",
    "print(variation_distance)"
   ]
  },
  {
   "cell_type": "code",
   "execution_count": 16,
   "metadata": {},
   "outputs": [
    {
     "data": {
      "text/plain": [
       "0    -0.169598\n",
       "1    -0.144867\n",
       "2    -0.130904\n",
       "3    -0.126965\n",
       "4    -0.158235\n",
       "5    -0.165181\n",
       "6    -0.079213\n",
       "7    -0.191549\n",
       "8    -0.073826\n",
       "9    -0.108802\n",
       "10   -0.117834\n",
       "11   -0.130679\n",
       "12   -0.155011\n",
       "13   -0.174065\n",
       "14   -0.159641\n",
       "15   -0.176663\n",
       "16   -0.195092\n",
       "17   -0.099771\n",
       "dtype: float32"
      ]
     },
     "execution_count": 16,
     "metadata": {},
     "output_type": "execute_result"
    }
   ],
   "source": [
    "first_second_series = pd.Series(variation_distance)\n",
    "first_second_series"
   ]
  },
  {
   "cell_type": "markdown",
   "metadata": {},
   "source": [
    "## Third time slot"
   ]
  },
  {
   "cell_type": "code",
   "execution_count": 17,
   "metadata": {},
   "outputs": [
    {
     "data": {
      "text/html": [
       "<div>\n",
       "<style scoped>\n",
       "    .dataframe tbody tr th:only-of-type {\n",
       "        vertical-align: middle;\n",
       "    }\n",
       "\n",
       "    .dataframe tbody tr th {\n",
       "        vertical-align: top;\n",
       "    }\n",
       "\n",
       "    .dataframe thead th {\n",
       "        text-align: right;\n",
       "    }\n",
       "</style>\n",
       "<table border=\"1\" class=\"dataframe\">\n",
       "  <thead>\n",
       "    <tr style=\"text-align: right;\">\n",
       "      <th></th>\n",
       "      <th>UserID</th>\n",
       "      <th>MovieID</th>\n",
       "      <th>CategoryID</th>\n",
       "      <th>Rating</th>\n",
       "      <th>Timestamp</th>\n",
       "      <th>Month</th>\n",
       "    </tr>\n",
       "  </thead>\n",
       "  <tbody>\n",
       "    <tr>\n",
       "      <th>74064</th>\n",
       "      <td>92</td>\n",
       "      <td>1077</td>\n",
       "      <td>4</td>\n",
       "      <td>3</td>\n",
       "      <td>1998-01-01 00:03:25</td>\n",
       "      <td>1998-01</td>\n",
       "    </tr>\n",
       "    <tr>\n",
       "      <th>33150</th>\n",
       "      <td>92</td>\n",
       "      <td>166</td>\n",
       "      <td>4</td>\n",
       "      <td>1</td>\n",
       "      <td>1998-01-01 00:08:17</td>\n",
       "      <td>1998-01</td>\n",
       "    </tr>\n",
       "    <tr>\n",
       "      <th>84204</th>\n",
       "      <td>92</td>\n",
       "      <td>315</td>\n",
       "      <td>0</td>\n",
       "      <td>1</td>\n",
       "      <td>1998-01-01 00:08:17</td>\n",
       "      <td>1998-01</td>\n",
       "    </tr>\n",
       "    <tr>\n",
       "      <th>68512</th>\n",
       "      <td>92</td>\n",
       "      <td>580</td>\n",
       "      <td>4</td>\n",
       "      <td>1</td>\n",
       "      <td>1998-01-01 00:08:18</td>\n",
       "      <td>1998-01</td>\n",
       "    </tr>\n",
       "    <tr>\n",
       "      <th>37983</th>\n",
       "      <td>92</td>\n",
       "      <td>514</td>\n",
       "      <td>4</td>\n",
       "      <td>1</td>\n",
       "      <td>1998-01-01 00:08:18</td>\n",
       "      <td>1998-01</td>\n",
       "    </tr>\n",
       "    <tr>\n",
       "      <th>...</th>\n",
       "      <td>...</td>\n",
       "      <td>...</td>\n",
       "      <td>...</td>\n",
       "      <td>...</td>\n",
       "      <td>...</td>\n",
       "      <td>...</td>\n",
       "    </tr>\n",
       "    <tr>\n",
       "      <th>35133</th>\n",
       "      <td>232</td>\n",
       "      <td>181</td>\n",
       "      <td>0</td>\n",
       "      <td>4</td>\n",
       "      <td>1998-02-28 22:45:39</td>\n",
       "      <td>1998-02</td>\n",
       "    </tr>\n",
       "    <tr>\n",
       "      <th>1563</th>\n",
       "      <td>232</td>\n",
       "      <td>464</td>\n",
       "      <td>1</td>\n",
       "      <td>3</td>\n",
       "      <td>1998-02-28 22:46:06</td>\n",
       "      <td>1998-02</td>\n",
       "    </tr>\n",
       "    <tr>\n",
       "      <th>179112</th>\n",
       "      <td>232</td>\n",
       "      <td>1104</td>\n",
       "      <td>7</td>\n",
       "      <td>3</td>\n",
       "      <td>1998-02-28 22:46:28</td>\n",
       "      <td>1998-02</td>\n",
       "    </tr>\n",
       "    <tr>\n",
       "      <th>5506</th>\n",
       "      <td>232</td>\n",
       "      <td>514</td>\n",
       "      <td>4</td>\n",
       "      <td>2</td>\n",
       "      <td>1998-02-28 22:47:17</td>\n",
       "      <td>1998-02</td>\n",
       "    </tr>\n",
       "    <tr>\n",
       "      <th>33154</th>\n",
       "      <td>253</td>\n",
       "      <td>719</td>\n",
       "      <td>0</td>\n",
       "      <td>4</td>\n",
       "      <td>1998-02-28 22:47:55</td>\n",
       "      <td>1998-02</td>\n",
       "    </tr>\n",
       "  </tbody>\n",
       "</table>\n",
       "<p>25086 rows × 6 columns</p>\n",
       "</div>"
      ],
      "text/plain": [
       "        UserID  MovieID  CategoryID  Rating           Timestamp    Month\n",
       "74064       92     1077           4       3 1998-01-01 00:03:25  1998-01\n",
       "33150       92      166           4       1 1998-01-01 00:08:17  1998-01\n",
       "84204       92      315           0       1 1998-01-01 00:08:17  1998-01\n",
       "68512       92      580           4       1 1998-01-01 00:08:18  1998-01\n",
       "37983       92      514           4       1 1998-01-01 00:08:18  1998-01\n",
       "...        ...      ...         ...     ...                 ...      ...\n",
       "35133      232      181           0       4 1998-02-28 22:45:39  1998-02\n",
       "1563       232      464           1       3 1998-02-28 22:46:06  1998-02\n",
       "179112     232     1104           7       3 1998-02-28 22:46:28  1998-02\n",
       "5506       232      514           4       2 1998-02-28 22:47:17  1998-02\n",
       "33154      253      719           0       4 1998-02-28 22:47:55  1998-02\n",
       "\n",
       "[25086 rows x 6 columns]"
      ]
     },
     "execution_count": 17,
     "metadata": {},
     "output_type": "execute_result"
    }
   ],
   "source": [
    "start_date_slot_3 = pd.to_datetime('1998-01-01')\n",
    "end_date_slot_3 = pd.to_datetime('1998-03-01')\n",
    "dataframe_3 = dataframe[dataframe['Timestamp'].between(start_date_slot_3, end_date_slot_3)]\n",
    "dataframe_3 = dataframe_3.sort_values(by='Timestamp')\n",
    "dataframe_3"
   ]
  },
  {
   "cell_type": "code",
   "execution_count": 18,
   "metadata": {},
   "outputs": [
    {
     "name": "stdout",
     "output_type": "stream",
     "text": [
      "torch.Size([943, 18])\n",
      "tensor([[0.0556, 0.0556, 0.0556,  ..., 0.0556, 0.0556, 0.0556],\n",
      "        [0.0556, 0.0556, 0.0556,  ..., 0.0556, 0.0556, 0.0556],\n",
      "        [0.0556, 0.0556, 0.0556,  ..., 0.0556, 0.0556, 0.0556],\n",
      "        ...,\n",
      "        [0.0556, 0.0556, 0.0556,  ..., 0.0556, 0.0556, 0.0556],\n",
      "        [0.0747, 0.0747, 0.0037,  ..., 0.0747, 0.0275, 0.0037],\n",
      "        [0.0556, 0.0556, 0.0556,  ..., 0.0556, 0.0556, 0.0556]])\n",
      "328\n",
      "[4, 5, 8, 9, 11, 12, 13, 14, 20, 22, 23, 24, 26, 33, 34, 37, 40, 41, 42, 43, 46, 47, 48, 51, 52, 58, 61, 65, 66, 67, 69, 70, 75, 76, 79, 81, 83, 85, 86, 87, 88, 90, 92, 93, 95, 97, 98, 101, 102, 105, 109, 112, 116, 118, 121, 122, 127, 130, 136, 137, 139, 143, 144, 153, 154, 157, 160, 163, 167, 168, 169, 172, 185, 188, 191, 192, 193, 194, 198, 201, 203, 204, 206, 207, 210, 211, 218, 226, 229, 230, 231, 232, 233, 236, 238, 239, 247, 252, 253, 258, 259, 262, 268, 275, 277, 278, 285, 286, 288, 293, 297, 306, 309, 311, 313, 314, 318, 336, 340, 341, 342, 347, 351, 355, 366, 369, 372, 373, 374, 375, 377, 379, 382, 384, 387, 393, 395, 399, 402, 403, 404, 405, 407, 409, 411, 413, 422, 428, 431, 433, 442, 446, 447, 448, 449, 450, 454, 455, 456, 459, 463, 467, 476, 477, 479, 480, 481, 483, 486, 489, 494, 496, 497, 498, 499, 500, 501, 504, 505, 507, 508, 509, 511, 515, 516, 517, 519, 520, 521, 522, 523, 524, 525, 530, 533, 534, 536, 538, 539, 542, 544, 547, 556, 559, 563, 568, 569, 575, 579, 584, 585, 587, 595, 597, 598, 601, 602, 604, 605, 607, 610, 615, 618, 619, 620, 629, 630, 632, 633, 635, 636, 638, 644, 648, 649, 650, 656, 659, 660, 662, 668, 671, 673, 674, 675, 685, 686, 688, 694, 696, 697, 698, 703, 704, 709, 711, 712, 715, 717, 719, 720, 734, 739, 741, 744, 745, 748, 750, 752, 761, 763, 764, 765, 769, 784, 786, 791, 796, 802, 808, 812, 815, 816, 817, 818, 820, 822, 824, 826, 827, 829, 832, 833, 837, 839, 842, 845, 853, 855, 858, 860, 862, 867, 868, 871, 877, 879, 884, 886, 887, 892, 893, 896, 899, 900, 902, 910, 912, 913, 914, 921, 929, 931, 933, 936, 937, 939, 941]\n"
     ]
    }
   ],
   "source": [
    "third_slot_distributions = []\n",
    "third_slot_active_users = []\n",
    "for user_id in range(dataset.n_users):\n",
    "    user_dataframe = dataframe_3[dataframe_3['UserID'] == user_id]\n",
    "    user_items = user_dataframe['MovieID'].values\n",
    "    user_distribution, active_user = get_user_distribution(user_dataframe, user_items)\n",
    "    third_slot_distributions.append(user_distribution)\n",
    "    if active_user:\n",
    "        third_slot_active_users.append(user_id)\n",
    "third_slot_distributions = torch.vstack(third_slot_distributions)\n",
    "print(third_slot_distributions.shape)\n",
    "print(third_slot_distributions)\n",
    "print(len(third_slot_active_users))\n",
    "print(third_slot_active_users)"
   ]
  },
  {
   "cell_type": "code",
   "execution_count": 19,
   "metadata": {},
   "outputs": [
    {
     "name": "stdout",
     "output_type": "stream",
     "text": [
      "61\n",
      "[137, 393, 523, 11, 12, 139, 143, 144, 912, 20, 405, 22, 662, 278, 153, 26, 407, 668, 409, 542, 286, 34, 37, 937, 42, 685, 826, 446, 703, 192, 65, 194, 448, 70, 198, 711, 75, 76, 587, 845, 207, 463, 342, 602, 92, 860, 862, 95, 477, 98, 867, 101, 618, 239, 116, 501, 118, 630, 504, 121, 635]\n"
     ]
    }
   ],
   "source": [
    "common_users_first_third_slot = list(set(first_slot_active_users) & set(third_slot_active_users))\n",
    "print(len(common_users_first_third_slot))\n",
    "print(common_users_first_third_slot)"
   ]
  },
  {
   "cell_type": "code",
   "execution_count": 20,
   "metadata": {},
   "outputs": [
    {
     "data": {
      "text/plain": [
       "tensor([[0.0454, 0.0454, 0.1234,  ..., 0.0454, 0.0167, 0.0008],\n",
       "        [0.0588, 0.0588, 0.0588,  ..., 0.0588, 0.0216, 0.0216],\n",
       "        [0.0274, 0.0274, 0.0101,  ..., 0.0744, 0.0744, 0.0744],\n",
       "        ...,\n",
       "        [0.0576, 0.0576, 0.0576,  ..., 0.0576, 0.0576, 0.0576],\n",
       "        [0.0466, 0.0466, 0.0466,  ..., 0.0466, 0.1268, 0.0466],\n",
       "        [0.0423, 0.0423, 0.1150,  ..., 0.0423, 0.1150, 0.0008]])"
      ]
     },
     "execution_count": 20,
     "metadata": {},
     "output_type": "execute_result"
    }
   ],
   "source": [
    "filtered_first_slot_distributions = first_slot_distributions[common_users_first_third_slot]\n",
    "filtered_first_slot_distributions"
   ]
  },
  {
   "cell_type": "code",
   "execution_count": 21,
   "metadata": {},
   "outputs": [
    {
     "data": {
      "text/plain": [
       "tensor([[0.0432, 0.0432, 0.0432,  ..., 0.0432, 0.0432, 0.0432],\n",
       "        [0.0464, 0.0464, 0.0464,  ..., 0.0464, 0.1262, 0.0464],\n",
       "        [0.0707, 0.0707, 0.0707,  ..., 0.0707, 0.0707, 0.0707],\n",
       "        ...,\n",
       "        [0.0506, 0.0186, 0.0025,  ..., 0.0506, 0.0506, 0.0506],\n",
       "        [0.1029, 0.0051, 0.0051,  ..., 0.0378, 0.0051, 0.0051],\n",
       "        [0.0527, 0.0527, 0.0010,  ..., 0.0527, 0.0010, 0.0010]])"
      ]
     },
     "execution_count": 21,
     "metadata": {},
     "output_type": "execute_result"
    }
   ],
   "source": [
    "filtered_third_slot_distributions = third_slot_distributions[common_users_first_third_slot]\n",
    "filtered_third_slot_distributions"
   ]
  },
  {
   "cell_type": "code",
   "execution_count": 22,
   "metadata": {},
   "outputs": [
    {
     "name": "stdout",
     "output_type": "stream",
     "text": [
      "torch.Size([61, 18])\n",
      "tensor([[-0.1423, -0.1423, -0.2635,  ..., -0.1423, -0.0691, -0.0059],\n",
      "        [-0.1693, -0.1693, -0.1693,  ..., -0.1693, -0.0856, -0.0839],\n",
      "        [-0.1004, -0.1004, -0.0470,  ..., -0.1985, -0.1985, -0.1985],\n",
      "        ...,\n",
      "        [-0.1673, -0.1654, -0.1645,  ..., -0.1673, -0.1673, -0.1673],\n",
      "        [-0.1478, -0.1432, -0.1432,  ..., -0.1448, -0.2625, -0.1432],\n",
      "        [-0.1360, -0.1360, -0.2488,  ..., -0.1360, -0.2488, -0.0055]])\n"
     ]
    }
   ],
   "source": [
    "variation_distance = torch.nn.functional.kl_div(input=filtered_third_slot_distributions, target=filtered_first_slot_distributions, reduction='none')\n",
    "print(variation_distance.shape)\n",
    "print(variation_distance)"
   ]
  },
  {
   "cell_type": "code",
   "execution_count": 23,
   "metadata": {},
   "outputs": [
    {
     "name": "stdout",
     "output_type": "stream",
     "text": [
      "torch.Size([18])\n",
      "tensor([-0.1620, -0.1432, -0.1334, -0.1351, -0.1528, -0.1794, -0.0872, -0.1962,\n",
      "        -0.0834, -0.1035, -0.1224, -0.1349, -0.1501, -0.1813, -0.1644, -0.1727,\n",
      "        -0.1994, -0.1009])\n"
     ]
    }
   ],
   "source": [
    "variation_distance = torch.mean(variation_distance, dim=0)\n",
    "print(variation_distance.shape)\n",
    "print(variation_distance)"
   ]
  },
  {
   "cell_type": "code",
   "execution_count": 24,
   "metadata": {},
   "outputs": [
    {
     "data": {
      "text/plain": [
       "0    -0.162005\n",
       "1    -0.143155\n",
       "2    -0.133400\n",
       "3    -0.135144\n",
       "4    -0.152766\n",
       "5    -0.179444\n",
       "6    -0.087168\n",
       "7    -0.196208\n",
       "8    -0.083445\n",
       "9    -0.103454\n",
       "10   -0.122398\n",
       "11   -0.134860\n",
       "12   -0.150141\n",
       "13   -0.181305\n",
       "14   -0.164352\n",
       "15   -0.172673\n",
       "16   -0.199400\n",
       "17   -0.100858\n",
       "dtype: float32"
      ]
     },
     "execution_count": 24,
     "metadata": {},
     "output_type": "execute_result"
    }
   ],
   "source": [
    "first_third_series = pd.Series(variation_distance)\n",
    "first_third_series"
   ]
  },
  {
   "cell_type": "markdown",
   "metadata": {},
   "source": [
    "## Fourth time slot"
   ]
  },
  {
   "cell_type": "code",
   "execution_count": 25,
   "metadata": {},
   "outputs": [
    {
     "data": {
      "text/html": [
       "<div>\n",
       "<style scoped>\n",
       "    .dataframe tbody tr th:only-of-type {\n",
       "        vertical-align: middle;\n",
       "    }\n",
       "\n",
       "    .dataframe tbody tr th {\n",
       "        vertical-align: top;\n",
       "    }\n",
       "\n",
       "    .dataframe thead th {\n",
       "        text-align: right;\n",
       "    }\n",
       "</style>\n",
       "<table border=\"1\" class=\"dataframe\">\n",
       "  <thead>\n",
       "    <tr style=\"text-align: right;\">\n",
       "      <th></th>\n",
       "      <th>UserID</th>\n",
       "      <th>MovieID</th>\n",
       "      <th>CategoryID</th>\n",
       "      <th>Rating</th>\n",
       "      <th>Timestamp</th>\n",
       "      <th>Month</th>\n",
       "    </tr>\n",
       "  </thead>\n",
       "  <tbody>\n",
       "    <tr>\n",
       "      <th>152377</th>\n",
       "      <td>752</td>\n",
       "      <td>214</td>\n",
       "      <td>7</td>\n",
       "      <td>3</td>\n",
       "      <td>1998-03-01 01:23:10</td>\n",
       "      <td>1998-03</td>\n",
       "    </tr>\n",
       "    <tr>\n",
       "      <th>179273</th>\n",
       "      <td>561</td>\n",
       "      <td>1</td>\n",
       "      <td>5</td>\n",
       "      <td>3</td>\n",
       "      <td>1998-03-01 02:13:35</td>\n",
       "      <td>1998-03</td>\n",
       "    </tr>\n",
       "    <tr>\n",
       "      <th>158949</th>\n",
       "      <td>561</td>\n",
       "      <td>130</td>\n",
       "      <td>7</td>\n",
       "      <td>3</td>\n",
       "      <td>1998-03-01 02:13:35</td>\n",
       "      <td>1998-03</td>\n",
       "    </tr>\n",
       "    <tr>\n",
       "      <th>128487</th>\n",
       "      <td>561</td>\n",
       "      <td>719</td>\n",
       "      <td>0</td>\n",
       "      <td>4</td>\n",
       "      <td>1998-03-01 02:13:35</td>\n",
       "      <td>1998-03</td>\n",
       "    </tr>\n",
       "    <tr>\n",
       "      <th>143467</th>\n",
       "      <td>561</td>\n",
       "      <td>928</td>\n",
       "      <td>0</td>\n",
       "      <td>2</td>\n",
       "      <td>1998-03-01 02:14:03</td>\n",
       "      <td>1998-03</td>\n",
       "    </tr>\n",
       "    <tr>\n",
       "      <th>...</th>\n",
       "      <td>...</td>\n",
       "      <td>...</td>\n",
       "      <td>...</td>\n",
       "      <td>...</td>\n",
       "      <td>...</td>\n",
       "      <td>...</td>\n",
       "    </tr>\n",
       "    <tr>\n",
       "      <th>168106</th>\n",
       "      <td>724</td>\n",
       "      <td>130</td>\n",
       "      <td>7</td>\n",
       "      <td>4</td>\n",
       "      <td>1998-04-22 23:10:38</td>\n",
       "      <td>1998-04</td>\n",
       "    </tr>\n",
       "    <tr>\n",
       "      <th>110040</th>\n",
       "      <td>724</td>\n",
       "      <td>280</td>\n",
       "      <td>12</td>\n",
       "      <td>4</td>\n",
       "      <td>1998-04-22 23:10:38</td>\n",
       "      <td>1998-04</td>\n",
       "    </tr>\n",
       "    <tr>\n",
       "      <th>136132</th>\n",
       "      <td>724</td>\n",
       "      <td>175</td>\n",
       "      <td>0</td>\n",
       "      <td>4</td>\n",
       "      <td>1998-04-22 23:10:38</td>\n",
       "      <td>1998-04</td>\n",
       "    </tr>\n",
       "    <tr>\n",
       "      <th>98754</th>\n",
       "      <td>724</td>\n",
       "      <td>890</td>\n",
       "      <td>0</td>\n",
       "      <td>4</td>\n",
       "      <td>1998-04-22 23:10:38</td>\n",
       "      <td>1998-04</td>\n",
       "    </tr>\n",
       "    <tr>\n",
       "      <th>154748</th>\n",
       "      <td>724</td>\n",
       "      <td>719</td>\n",
       "      <td>0</td>\n",
       "      <td>3</td>\n",
       "      <td>1998-04-22 23:10:38</td>\n",
       "      <td>1998-04</td>\n",
       "    </tr>\n",
       "  </tbody>\n",
       "</table>\n",
       "<p>22015 rows × 6 columns</p>\n",
       "</div>"
      ],
      "text/plain": [
       "        UserID  MovieID  CategoryID  Rating           Timestamp    Month\n",
       "152377     752      214           7       3 1998-03-01 01:23:10  1998-03\n",
       "179273     561        1           5       3 1998-03-01 02:13:35  1998-03\n",
       "158949     561      130           7       3 1998-03-01 02:13:35  1998-03\n",
       "128487     561      719           0       4 1998-03-01 02:13:35  1998-03\n",
       "143467     561      928           0       2 1998-03-01 02:14:03  1998-03\n",
       "...        ...      ...         ...     ...                 ...      ...\n",
       "168106     724      130           7       4 1998-04-22 23:10:38  1998-04\n",
       "110040     724      280          12       4 1998-04-22 23:10:38  1998-04\n",
       "136132     724      175           0       4 1998-04-22 23:10:38  1998-04\n",
       "98754      724      890           0       4 1998-04-22 23:10:38  1998-04\n",
       "154748     724      719           0       3 1998-04-22 23:10:38  1998-04\n",
       "\n",
       "[22015 rows x 6 columns]"
      ]
     },
     "execution_count": 25,
     "metadata": {},
     "output_type": "execute_result"
    }
   ],
   "source": [
    "start_date_slot_4 = pd.to_datetime('1998-03-01')\n",
    "end_date_slot_4 = pd.to_datetime('1998-05-01')\n",
    "dataframe_4 = dataframe[dataframe['Timestamp'].between(start_date_slot_4, end_date_slot_4)]\n",
    "dataframe_4 = dataframe_4.sort_values(by='Timestamp')\n",
    "dataframe_4"
   ]
  },
  {
   "cell_type": "code",
   "execution_count": 26,
   "metadata": {},
   "outputs": [
    {
     "name": "stdout",
     "output_type": "stream",
     "text": [
      "torch.Size([943, 18])\n",
      "tensor([[0.0556, 0.0556, 0.0556,  ..., 0.0556, 0.0556, 0.0556],\n",
      "        [0.1117, 0.1117, 0.0020,  ..., 0.0411, 0.0020, 0.1117],\n",
      "        [0.0556, 0.0556, 0.0556,  ..., 0.0556, 0.0556, 0.0556],\n",
      "        ...,\n",
      "        [0.0556, 0.0556, 0.0556,  ..., 0.0556, 0.0556, 0.0556],\n",
      "        [0.0556, 0.0556, 0.0556,  ..., 0.0556, 0.0556, 0.0556],\n",
      "        [0.0556, 0.0556, 0.0556,  ..., 0.0556, 0.0556, 0.0556]])\n",
      "327\n",
      "[1, 7, 11, 12, 13, 19, 20, 21, 22, 24, 25, 26, 36, 37, 38, 47, 50, 58, 60, 62, 63, 65, 68, 72, 75, 76, 80, 88, 90, 94, 97, 98, 100, 101, 102, 104, 115, 116, 118, 119, 121, 122, 124, 126, 127, 130, 132, 133, 134, 137, 139, 140, 142, 145, 148, 153, 155, 162, 163, 164, 165, 170, 171, 176, 177, 179, 180, 182, 184, 189, 190, 192, 193, 195, 196, 205, 206, 207, 208, 209, 216, 217, 229, 233, 234, 239, 245, 248, 250, 254, 266, 267, 269, 271, 276, 280, 287, 291, 292, 294, 296, 299, 305, 307, 308, 312, 313, 316, 318, 319, 323, 324, 325, 326, 328, 330, 331, 333, 337, 338, 340, 344, 348, 350, 353, 357, 359, 362, 369, 370, 371, 374, 376, 381, 385, 387, 388, 393, 396, 398, 400, 405, 409, 410, 412, 415, 417, 420, 422, 424, 426, 427, 428, 438, 439, 442, 447, 448, 450, 451, 452, 455, 462, 463, 465, 466, 471, 474, 475, 476, 477, 485, 486, 492, 494, 495, 496, 498, 499, 500, 501, 503, 504, 506, 510, 514, 523, 524, 527, 529, 530, 541, 542, 543, 546, 554, 556, 561, 562, 569, 571, 576, 577, 580, 582, 587, 595, 600, 602, 606, 608, 612, 613, 616, 618, 620, 623, 625, 630, 631, 633, 635, 637, 641, 642, 643, 646, 648, 649, 650, 651, 653, 654, 655, 657, 662, 664, 666, 667, 669, 670, 673, 678, 685, 693, 694, 695, 696, 699, 700, 701, 703, 707, 711, 714, 718, 723, 724, 725, 728, 730, 739, 747, 748, 751, 752, 757, 760, 764, 767, 768, 774, 775, 777, 778, 780, 784, 785, 788, 790, 799, 804, 806, 807, 811, 815, 816, 817, 819, 821, 823, 825, 828, 829, 831, 833, 836, 840, 843, 844, 845, 854, 857, 859, 860, 862, 867, 872, 874, 875, 880, 891, 892, 897, 908, 911, 915, 916, 917, 921, 923, 925, 926, 927, 930, 931, 934]\n"
     ]
    }
   ],
   "source": [
    "fourth_slot_distributions = []\n",
    "fourth_slot_active_users = []\n",
    "for user_id in range(dataset.n_users):\n",
    "    user_dataframe = dataframe_4[dataframe_4['UserID'] == user_id]\n",
    "    user_items = user_dataframe['MovieID'].values\n",
    "    user_distribution, active_user = get_user_distribution(user_dataframe, user_items)\n",
    "    fourth_slot_distributions.append(user_distribution)\n",
    "    if active_user:\n",
    "        fourth_slot_active_users.append(user_id)\n",
    "fourth_slot_distributions = torch.vstack(fourth_slot_distributions)\n",
    "print(fourth_slot_distributions.shape)\n",
    "print(fourth_slot_distributions)\n",
    "print(len(fourth_slot_active_users))\n",
    "print(fourth_slot_active_users)"
   ]
  },
  {
   "cell_type": "code",
   "execution_count": 27,
   "metadata": {},
   "outputs": [
    {
     "name": "stdout",
     "output_type": "stream",
     "text": [
      "51\n",
      "[133, 137, 393, 523, 11, 12, 139, 527, 915, 20, 405, 22, 662, 153, 26, 409, 542, 37, 299, 685, 701, 703, 192, 65, 448, 711, 75, 76, 587, 845, 207, 463, 465, 728, 602, 860, 477, 862, 98, 867, 101, 618, 239, 116, 501, 118, 630, 504, 121, 635, 767]\n"
     ]
    }
   ],
   "source": [
    "common_users_first_fourth_slot = list(set(first_slot_active_users) & set(fourth_slot_active_users))\n",
    "print(len(common_users_first_fourth_slot))\n",
    "print(common_users_first_fourth_slot)"
   ]
  },
  {
   "cell_type": "code",
   "execution_count": 28,
   "metadata": {},
   "outputs": [
    {
     "data": {
      "text/plain": [
       "tensor([[6.7218e-02, 6.7218e-02, 6.7218e-02, 1.8272e-01, 6.7218e-02, 6.7218e-02,\n",
       "         1.2311e-03, 6.7218e-02, 1.2311e-03, 2.4728e-02, 6.7218e-02, 2.4728e-02,\n",
       "         6.7218e-02, 6.7218e-02, 6.7218e-02, 2.4728e-02, 6.7218e-02, 1.2311e-03],\n",
       "        [4.5387e-02, 4.5387e-02, 1.2338e-01, 1.2338e-01, 4.5387e-02, 1.2338e-01,\n",
       "         8.3130e-04, 4.5387e-02, 8.3130e-04, 8.3130e-04, 4.5387e-02, 1.2338e-01,\n",
       "         1.2338e-01, 4.5387e-02, 4.5387e-02, 4.5387e-02, 1.6697e-02, 8.3130e-04],\n",
       "        [5.8783e-02, 5.8783e-02, 5.8783e-02, 5.8783e-02, 5.8783e-02, 1.5979e-01,\n",
       "         2.1625e-02, 1.5979e-01, 2.1625e-02, 2.1625e-02, 2.1625e-02, 5.8783e-02,\n",
       "         5.8783e-02, 5.8783e-02, 2.1625e-02, 5.8783e-02, 2.1625e-02, 2.1625e-02],\n",
       "        [2.7358e-02, 2.7358e-02, 1.0064e-02, 2.7358e-02, 2.7358e-02, 7.4366e-02,\n",
       "         1.3621e-03, 7.4366e-02, 2.7358e-02, 2.0215e-01, 7.4366e-02, 7.4366e-02,\n",
       "         7.4366e-02, 2.7358e-02, 2.7358e-02, 7.4366e-02, 7.4366e-02, 7.4366e-02],\n",
       "        [6.2098e-02, 2.2844e-02, 6.2098e-02, 6.2098e-02, 6.2098e-02, 6.2098e-02,\n",
       "         2.2844e-02, 6.2098e-02, 2.2844e-02, 6.2098e-02, 6.2098e-02, 6.2098e-02,\n",
       "         6.2098e-02, 6.2098e-02, 6.2098e-02, 6.2098e-02, 6.2098e-02, 6.2098e-02],\n",
       "        [7.0533e-02, 7.0533e-02, 7.0533e-02, 7.0533e-02, 7.0533e-02, 1.2919e-03,\n",
       "         1.2919e-03, 7.0533e-02, 2.5948e-02, 1.2919e-03, 1.2919e-03, 7.0533e-02,\n",
       "         1.2919e-03, 7.0533e-02, 7.0533e-02, 7.0533e-02, 1.9173e-01, 7.0533e-02],\n",
       "        [4.3188e-02, 4.3188e-02, 4.3188e-02, 4.3188e-02, 4.3188e-02, 4.3188e-02,\n",
       "         1.1740e-01, 4.3188e-02, 4.3188e-02, 4.3188e-02, 4.3188e-02, 4.3188e-02,\n",
       "         4.3188e-02, 4.3188e-02, 4.3188e-02, 4.3188e-02, 1.1740e-01, 1.1740e-01],\n",
       "        [2.6965e-02, 2.6965e-02, 2.6965e-02, 2.6965e-02, 5.4160e-01, 2.6965e-02,\n",
       "         2.6965e-02, 2.6965e-02, 2.6965e-02, 2.6965e-02, 2.6965e-02, 2.6965e-02,\n",
       "         2.6965e-02, 2.6965e-02, 2.6965e-02, 2.6965e-02, 2.6965e-02, 2.6965e-02],\n",
       "        [3.0537e-01, 5.5930e-03, 5.5930e-03, 5.5930e-03, 3.0537e-01, 5.5930e-03,\n",
       "         5.5930e-03, 3.0537e-01, 5.5930e-03, 5.5930e-03, 5.5930e-03, 5.5930e-03,\n",
       "         5.5930e-03, 5.5930e-03, 5.5930e-03, 5.5930e-03, 5.5930e-03, 5.5930e-03],\n",
       "        [5.8402e-02, 5.8402e-02, 2.1485e-02, 5.8402e-02, 5.8402e-02, 5.8402e-02,\n",
       "         5.8402e-02, 5.8402e-02, 5.8402e-02, 5.8402e-02, 1.0697e-03, 5.8402e-02,\n",
       "         5.8402e-02, 5.8402e-02, 5.8402e-02, 5.8402e-02, 1.5875e-01, 1.0697e-03],\n",
       "        [2.7816e-02, 7.5611e-02, 7.5611e-02, 7.5611e-02, 2.7816e-02, 7.5611e-02,\n",
       "         1.3849e-03, 7.5611e-02, 7.5611e-02, 7.5611e-02, 2.7816e-02, 7.5611e-02,\n",
       "         7.5611e-02, 2.7816e-02, 2.7816e-02, 7.5611e-02, 7.5611e-02, 2.7816e-02],\n",
       "        [3.1500e-02, 3.1500e-02, 3.1500e-02, 3.1500e-02, 3.1500e-02, 8.5625e-02,\n",
       "         8.5625e-02, 8.5625e-02, 3.1500e-02, 8.5625e-02, 3.1500e-02, 3.1500e-02,\n",
       "         8.5625e-02, 3.1500e-02, 3.1500e-02, 8.5625e-02, 8.5625e-02, 8.5625e-02],\n",
       "        [5.3371e-02, 5.3371e-02, 5.3371e-02, 5.3371e-02, 5.3371e-02, 1.4508e-01,\n",
       "         5.3371e-02, 5.3371e-02, 5.3371e-02, 5.3371e-02, 5.3371e-02, 5.3371e-02,\n",
       "         5.3371e-02, 5.3371e-02, 5.3371e-02, 5.3371e-02, 5.3371e-02, 9.7753e-04],\n",
       "        [2.5593e-02, 6.9569e-02, 6.9569e-02, 6.9569e-02, 6.9569e-02, 6.9569e-02,\n",
       "         2.5593e-02, 6.9569e-02, 9.4151e-03, 6.9569e-02, 9.4151e-03, 6.9569e-02,\n",
       "         6.9569e-02, 6.9569e-02, 6.9569e-02, 6.9569e-02, 6.9569e-02, 2.5593e-02],\n",
       "        [5.8516e-02, 2.9134e-03, 2.9134e-03, 2.9134e-03, 1.5906e-01, 5.8516e-02,\n",
       "         2.9134e-03, 1.5906e-01, 2.9134e-03, 2.9134e-03, 2.9134e-03, 1.5906e-01,\n",
       "         2.9134e-03, 1.5906e-01, 1.5906e-01, 5.8516e-02, 2.9134e-03, 2.9134e-03],\n",
       "        [3.5552e-02, 3.5552e-02, 9.6641e-02, 3.5552e-02, 3.5552e-02, 9.6641e-02,\n",
       "         1.7700e-03, 3.5552e-02, 9.6641e-02, 1.7700e-03, 9.6641e-02, 3.5552e-02,\n",
       "         9.6641e-02, 3.5552e-02, 9.6641e-02, 3.5552e-02, 3.5552e-02, 9.6641e-02],\n",
       "        [2.9212e-02, 2.9212e-02, 7.9406e-02, 7.9406e-02, 2.9212e-02, 7.9406e-02,\n",
       "         1.4544e-03, 7.9406e-02, 2.9212e-02, 7.9406e-02, 7.9406e-02, 2.9212e-02,\n",
       "         7.9406e-02, 7.9406e-02, 2.9212e-02, 7.9406e-02, 7.9406e-02, 2.9212e-02],\n",
       "        [2.7099e-02, 2.7099e-02, 7.3664e-02, 7.3664e-02, 2.7099e-02, 7.3664e-02,\n",
       "         7.3664e-02, 7.3664e-02, 7.3664e-02, 7.3664e-02, 2.7099e-02, 7.3664e-02,\n",
       "         2.7099e-02, 7.3664e-02, 7.3664e-02, 2.7099e-02, 7.3664e-02, 2.7099e-02],\n",
       "        [1.0100e-01, 1.8498e-03, 1.8498e-03, 1.8498e-03, 1.0100e-01, 1.0100e-01,\n",
       "         1.8498e-03, 1.0100e-01, 1.8498e-03, 1.0100e-01, 1.8498e-03, 1.8498e-03,\n",
       "         1.0100e-01, 1.8498e-03, 1.8498e-03, 1.0100e-01, 2.7453e-01, 1.8498e-03],\n",
       "        [4.0204e-02, 4.0204e-02, 1.0929e-01, 4.0204e-02, 4.0204e-02, 4.0204e-02,\n",
       "         1.0929e-01, 4.0204e-02, 4.0204e-02, 1.0929e-01, 4.0204e-02, 4.0204e-02,\n",
       "         4.0204e-02, 4.0204e-02, 4.0204e-02, 4.0204e-02, 4.0204e-02, 1.0929e-01],\n",
       "        [1.0311e-01, 1.0311e-01, 1.0311e-01, 3.7932e-02, 3.7932e-02, 3.7932e-02,\n",
       "         1.8885e-03, 1.0311e-01, 1.8885e-03, 1.8885e-03, 1.8885e-03, 1.3954e-02,\n",
       "         1.0311e-01, 1.0311e-01, 1.0311e-01, 3.7932e-02, 1.0311e-01, 1.8885e-03],\n",
       "        [4.4591e-02, 1.2121e-01, 2.2200e-03, 1.2121e-01, 4.4591e-02, 2.2200e-03,\n",
       "         2.2200e-03, 1.2121e-01, 2.2200e-03, 2.2200e-03, 1.2121e-01, 2.2200e-03,\n",
       "         2.2200e-03, 1.2121e-01, 4.4591e-02, 1.2121e-01, 1.2121e-01, 2.2200e-03],\n",
       "        [4.1801e-02, 4.1801e-02, 1.1363e-01, 4.1801e-02, 4.1801e-02, 4.1801e-02,\n",
       "         1.1363e-01, 4.1801e-02, 2.0811e-03, 4.1801e-02, 4.1801e-02, 1.1363e-01,\n",
       "         4.1801e-02, 4.1801e-02, 4.1801e-02, 4.1801e-02, 4.1801e-02, 1.1363e-01],\n",
       "        [4.3188e-02, 4.3188e-02, 4.3188e-02, 4.3188e-02, 4.3188e-02, 4.3188e-02,\n",
       "         4.3188e-02, 1.1740e-01, 4.3188e-02, 1.1740e-01, 4.3188e-02, 4.3188e-02,\n",
       "         4.3188e-02, 4.3188e-02, 4.3188e-02, 4.3188e-02, 1.1740e-01, 4.3188e-02],\n",
       "        [8.4074e-02, 3.0929e-02, 1.5399e-03, 3.0929e-02, 3.0929e-02, 8.4074e-02,\n",
       "         8.4074e-02, 8.4074e-02, 8.4074e-02, 1.5399e-03, 8.4074e-02, 3.0929e-02,\n",
       "         1.5399e-03, 8.4074e-02, 8.4074e-02, 8.4074e-02, 8.4074e-02, 3.0929e-02],\n",
       "        [2.3122e-01, 4.2349e-03, 4.2349e-03, 4.2349e-03, 3.1292e-02, 4.2349e-03,\n",
       "         4.2349e-03, 8.5060e-02, 4.2349e-03, 4.2349e-03, 2.3122e-01, 3.1292e-02,\n",
       "         4.2349e-03, 8.5060e-02, 3.1292e-02, 2.3122e-01, 4.2349e-03, 4.2349e-03],\n",
       "        [8.2793e-02, 8.2793e-02, 8.2793e-02, 3.0458e-02, 8.2793e-02, 3.0458e-02,\n",
       "         1.1205e-02, 3.0458e-02, 3.0458e-02, 8.2793e-02, 3.0458e-02, 8.2793e-02,\n",
       "         8.2793e-02, 3.0458e-02, 8.2793e-02, 8.2793e-02, 3.0458e-02, 3.0458e-02],\n",
       "        [8.4063e-02, 3.0925e-02, 8.4063e-02, 1.1377e-02, 8.4063e-02, 8.4063e-02,\n",
       "         1.5397e-03, 3.0925e-02, 1.1377e-02, 3.0925e-02, 8.4063e-02, 1.1377e-02,\n",
       "         8.4063e-02, 3.0925e-02, 8.4063e-02, 8.4063e-02, 8.4063e-02, 8.4063e-02],\n",
       "        [2.4903e-02, 6.7694e-02, 6.7694e-02, 6.7694e-02, 6.7694e-02, 6.7694e-02,\n",
       "         1.2399e-03, 6.7694e-02, 6.7694e-02, 1.2399e-03, 6.7694e-02, 6.7694e-02,\n",
       "         6.7694e-02, 6.7694e-02, 6.7694e-02, 6.7694e-02, 6.7694e-02, 2.4903e-02],\n",
       "        [7.0386e-02, 2.5894e-02, 7.0386e-02, 2.5894e-02, 2.5894e-02, 7.0386e-02,\n",
       "         7.0386e-02, 7.0386e-02, 2.5894e-02, 2.5894e-02, 7.0386e-02, 7.0386e-02,\n",
       "         7.0386e-02, 2.5894e-02, 7.0386e-02, 7.0386e-02, 7.0386e-02, 7.0386e-02],\n",
       "        [2.1728e-03, 2.1728e-03, 2.1728e-03, 2.1728e-03, 2.1728e-03, 2.1728e-03,\n",
       "         2.1728e-03, 3.2247e-01, 2.1728e-03, 2.1728e-03, 2.1728e-03, 2.1728e-03,\n",
       "         2.1728e-03, 3.2247e-01, 2.1728e-03, 2.1728e-03, 3.2247e-01, 2.1728e-03],\n",
       "        [5.6893e-02, 5.6893e-02, 2.0930e-02, 2.0930e-02, 5.6893e-02, 1.5465e-01,\n",
       "         1.0420e-03, 5.6893e-02, 2.0930e-02, 1.0420e-03, 5.6893e-02, 5.6893e-02,\n",
       "         5.6893e-02, 1.5465e-01, 5.6893e-02, 5.6893e-02, 5.6893e-02, 5.6893e-02],\n",
       "        [2.7971e-02, 2.7971e-02, 2.7971e-02, 2.7971e-02, 2.7971e-02, 7.6034e-02,\n",
       "         7.6034e-02, 7.6034e-02, 2.7971e-02, 2.0668e-01, 1.3926e-03, 2.7971e-02,\n",
       "         2.0668e-01, 2.7971e-02, 7.6034e-02, 2.7971e-02, 2.7971e-02, 1.3926e-03],\n",
       "        [3.3506e-02, 3.3506e-02, 9.1077e-02, 3.3506e-02, 9.1077e-02, 3.3506e-02,\n",
       "         1.6681e-03, 9.1077e-02, 3.3506e-02, 1.6681e-03, 3.3506e-02, 9.1077e-02,\n",
       "         3.3506e-02, 9.1077e-02, 9.1077e-02, 3.3506e-02, 9.1077e-02, 9.1077e-02],\n",
       "        [7.4398e-02, 7.4398e-02, 7.4398e-02, 7.4398e-02, 7.4398e-02, 7.4398e-02,\n",
       "         1.3627e-03, 7.4398e-02, 1.3627e-03, 1.3627e-03, 2.7370e-02, 7.4398e-02,\n",
       "         7.4398e-02, 7.4398e-02, 7.4398e-02, 7.4398e-02, 7.4398e-02, 1.3627e-03],\n",
       "        [1.2220e-01, 2.2382e-03, 2.2382e-03, 2.2382e-03, 2.2382e-03, 1.2220e-01,\n",
       "         2.2382e-03, 1.2220e-01, 2.2382e-03, 1.2220e-01, 2.2382e-03, 2.2382e-03,\n",
       "         1.2220e-01, 1.2220e-01, 2.2382e-03, 1.2220e-01, 1.2220e-01, 2.2382e-03],\n",
       "        [1.3967e-02, 1.3967e-02, 1.3967e-02, 1.3967e-02, 7.6256e-01, 1.3967e-02,\n",
       "         1.3967e-02, 1.3967e-02, 1.3967e-02, 1.3967e-02, 1.3967e-02, 1.3967e-02,\n",
       "         1.3967e-02, 1.3967e-02, 1.3967e-02, 1.3967e-02, 1.3967e-02, 1.3967e-02],\n",
       "        [1.0414e-01, 3.8312e-02, 1.0414e-01, 3.8312e-02, 3.8312e-02, 1.0414e-01,\n",
       "         7.0172e-04, 3.8312e-02, 7.0172e-04, 7.0172e-04, 1.0414e-01, 3.8312e-02,\n",
       "         1.0414e-01, 1.0414e-01, 1.0414e-01, 3.8312e-02, 3.8312e-02, 7.0172e-04],\n",
       "        [6.5829e-02, 6.5829e-02, 6.5829e-02, 6.5829e-02, 6.5829e-02, 6.5829e-02,\n",
       "         1.7894e-01, 6.5829e-02, 1.2057e-03, 1.2057e-03, 3.2774e-03, 2.4217e-02,\n",
       "         6.5829e-02, 6.5829e-02, 6.5829e-02, 6.5829e-02, 6.5829e-02, 1.2057e-03],\n",
       "        [6.1027e-02, 6.1027e-02, 6.1027e-02, 6.1027e-02, 6.1027e-02, 6.1027e-02,\n",
       "         6.1027e-02, 6.1027e-02, 1.1177e-03, 6.1027e-02, 6.1027e-02, 2.2451e-02,\n",
       "         6.1027e-02, 6.1027e-02, 6.1027e-02, 6.1027e-02, 6.1027e-02, 6.1027e-02],\n",
       "        [6.2909e-02, 6.2909e-02, 1.1522e-03, 1.1522e-03, 6.2909e-02, 1.7100e-01,\n",
       "         1.1522e-03, 6.2909e-02, 1.1522e-03, 1.1522e-03, 6.2909e-02, 1.7100e-01,\n",
       "         2.3143e-02, 6.2909e-02, 6.2909e-02, 6.2909e-02, 6.2909e-02, 6.2909e-02],\n",
       "        [7.6350e-02, 7.6350e-02, 2.8088e-02, 2.8088e-02, 2.8088e-02, 2.8088e-02,\n",
       "         1.3984e-03, 7.6350e-02, 1.0333e-02, 1.3984e-03, 7.6350e-02, 2.8088e-02,\n",
       "         2.8088e-02, 7.6350e-02, 7.6350e-02, 7.6350e-02, 7.6350e-02, 2.0754e-01],\n",
       "        [2.3405e-02, 6.3622e-02, 1.1653e-03, 6.3622e-02, 2.3405e-02, 1.7294e-01,\n",
       "         1.1653e-03, 6.3622e-02, 1.1653e-03, 1.1653e-03, 2.3405e-02, 1.7294e-01,\n",
       "         6.3622e-02, 6.3622e-02, 6.3622e-02, 2.3405e-02, 1.7294e-01, 1.1653e-03],\n",
       "        [4.8067e-02, 4.8067e-02, 4.8067e-02, 4.8067e-02, 4.8067e-02, 4.8067e-02,\n",
       "         4.8067e-02, 4.8067e-02, 1.3066e-01, 4.8067e-02, 4.8067e-02, 1.3066e-01,\n",
       "         4.8067e-02, 4.8067e-02, 4.8067e-02, 4.8067e-02, 4.8067e-02, 1.7683e-02],\n",
       "        [5.8359e-02, 5.8359e-02, 5.8359e-02, 5.8359e-02, 5.8359e-02, 5.8359e-02,\n",
       "         7.8980e-03, 5.8359e-02, 5.8359e-02, 5.8359e-02, 5.8359e-02, 5.8359e-02,\n",
       "         5.8359e-02, 5.8359e-02, 5.8359e-02, 5.8359e-02, 5.8359e-02, 5.8359e-02],\n",
       "        [5.5784e-02, 2.0522e-02, 5.5784e-02, 2.0522e-02, 5.5784e-02, 2.0522e-02,\n",
       "         1.5164e-01, 5.5784e-02, 1.0217e-03, 1.5164e-01, 5.5784e-02, 2.0522e-02,\n",
       "         5.5784e-02, 5.5784e-02, 5.5784e-02, 5.5784e-02, 5.5784e-02, 5.5784e-02],\n",
       "        [9.6627e-02, 3.5547e-02, 3.5547e-02, 3.5547e-02, 3.5547e-02, 9.6627e-02,\n",
       "         1.3077e-02, 3.5547e-02, 9.6627e-02, 9.6627e-02, 1.3077e-02, 1.3077e-02,\n",
       "         9.6627e-02, 3.5547e-02, 9.6627e-02, 3.5547e-02, 9.6627e-02, 3.5547e-02],\n",
       "        [5.7578e-02, 5.7578e-02, 5.7578e-02, 5.7578e-02, 5.7578e-02, 5.7578e-02,\n",
       "         5.7578e-02, 5.7578e-02, 5.7578e-02, 5.7578e-02, 2.1182e-02, 5.7578e-02,\n",
       "         5.7578e-02, 5.7578e-02, 5.7578e-02, 5.7578e-02, 5.7578e-02, 5.7578e-02],\n",
       "        [4.6649e-02, 4.6649e-02, 4.6649e-02, 4.6649e-02, 4.6649e-02, 4.6649e-02,\n",
       "         4.6649e-02, 4.6649e-02, 4.6649e-02, 4.6649e-02, 4.6649e-02, 1.2681e-01,\n",
       "         4.6649e-02, 4.6649e-02, 4.6649e-02, 4.6649e-02, 1.2681e-01, 4.6649e-02],\n",
       "        [4.2290e-02, 4.2290e-02, 1.1496e-01, 4.2290e-02, 1.1496e-01, 4.2290e-02,\n",
       "         7.7456e-04, 1.1496e-01, 7.7456e-04, 4.2290e-02, 4.2290e-02, 1.1496e-01,\n",
       "         4.2290e-02, 4.2290e-02, 4.2290e-02, 4.2290e-02, 1.1496e-01, 7.7456e-04],\n",
       "        [7.5780e-02, 7.5780e-02, 1.3880e-03, 2.7878e-02, 7.5780e-02, 7.5780e-02,\n",
       "         1.3880e-03, 7.5780e-02, 1.3880e-03, 2.0599e-01, 1.3880e-03, 1.3880e-03,\n",
       "         7.5780e-02, 7.5780e-02, 7.5780e-02, 7.5780e-02, 7.5780e-02, 1.3880e-03]])"
      ]
     },
     "execution_count": 28,
     "metadata": {},
     "output_type": "execute_result"
    }
   ],
   "source": [
    "filtered_first_slot_distributions = first_slot_distributions[common_users_first_fourth_slot]\n",
    "filtered_first_slot_distributions"
   ]
  },
  {
   "cell_type": "code",
   "execution_count": 29,
   "metadata": {},
   "outputs": [
    {
     "data": {
      "text/plain": [
       "tensor([[2.6689e-02, 2.6689e-02, 1.9720e-01, 7.2547e-02, 2.6689e-02, 2.6689e-02,\n",
       "         1.3288e-03, 7.2547e-02, 2.6689e-02, 1.3288e-03, 2.6689e-02, 7.2547e-02,\n",
       "         2.6689e-02, 7.2547e-02, 7.2547e-02, 2.6689e-02, 1.9720e-01, 2.6689e-02],\n",
       "        [4.5604e-02, 1.2396e-01, 4.5604e-02, 4.5604e-02, 4.5604e-02, 1.2396e-01,\n",
       "         1.2396e-01, 4.5604e-02, 8.3526e-04, 1.2396e-01, 8.3526e-04, 4.5604e-02,\n",
       "         4.5604e-02, 4.5604e-02, 4.5604e-02, 4.5604e-02, 4.5604e-02, 8.3526e-04],\n",
       "        [3.2449e-02, 1.6155e-03, 1.6155e-03, 1.6155e-03, 8.8205e-02, 8.8205e-02,\n",
       "         1.6155e-03, 8.8205e-02, 1.6155e-03, 2.3977e-01, 1.6155e-03, 1.6155e-03,\n",
       "         2.3977e-01, 3.2449e-02, 8.8205e-02, 8.8205e-02, 1.6155e-03, 1.6155e-03],\n",
       "        [6.3522e-02, 6.3522e-02, 6.3522e-02, 6.3522e-02, 6.3522e-02, 6.3522e-02,\n",
       "         2.3369e-02, 6.3522e-02, 6.3522e-02, 4.2801e-04, 6.3522e-02, 6.3522e-02,\n",
       "         6.3522e-02, 6.3522e-02, 2.3369e-02, 6.3522e-02, 6.3522e-02, 6.3522e-02],\n",
       "        [5.3938e-02, 1.4662e-01, 1.4662e-01, 1.4662e-01, 5.3938e-02, 1.4662e-01,\n",
       "         2.6854e-03, 5.3938e-02, 2.6854e-03, 2.6854e-03, 2.6854e-03, 5.3938e-02,\n",
       "         2.6854e-03, 5.3938e-02, 5.3938e-02, 5.3938e-02, 1.9843e-02, 2.6854e-03],\n",
       "        [7.3224e-02, 7.3224e-02, 2.6937e-02, 2.6937e-02, 1.9904e-01, 3.6456e-03,\n",
       "         3.6456e-03, 3.6456e-03, 3.6456e-03, 3.6456e-03, 3.6456e-03, 2.6937e-02,\n",
       "         7.3224e-02, 1.9904e-01, 1.9904e-01, 7.3224e-02, 3.6456e-03, 3.6456e-03],\n",
       "        [2.4424e-01, 1.6457e-03, 1.6457e-03, 1.6457e-03, 2.4424e-01, 1.6457e-03,\n",
       "         1.6457e-03, 2.4424e-01, 1.6457e-03, 1.6457e-03, 1.6457e-03, 1.6457e-03,\n",
       "         1.6457e-03, 2.4424e-01, 1.6457e-03, 1.6457e-03, 1.6457e-03, 1.6457e-03],\n",
       "        [1.1235e-01, 4.1331e-02, 1.1235e-01, 4.1331e-02, 4.1331e-02, 4.1331e-02,\n",
       "         2.0578e-03, 1.1235e-01, 1.5205e-02, 1.5205e-02, 2.0578e-03, 1.1235e-01,\n",
       "         4.1331e-02, 4.1331e-02, 1.1235e-01, 4.1331e-02, 1.1235e-01, 2.0578e-03],\n",
       "        [7.9875e-03, 7.9875e-03, 7.9875e-03, 7.9875e-03, 7.9875e-03, 7.9875e-03,\n",
       "         7.9875e-03, 4.3610e-01, 7.9875e-03, 7.9875e-03, 7.9875e-03, 7.9875e-03,\n",
       "         7.9875e-03, 7.9875e-03, 4.3610e-01, 7.9875e-03, 7.9875e-03, 7.9875e-03],\n",
       "        [1.7874e-02, 2.4190e-03, 2.4190e-03, 2.4190e-03, 4.8588e-02, 1.3207e-01,\n",
       "         2.4190e-03, 1.3207e-01, 2.4190e-03, 1.3207e-01, 2.4190e-03, 3.5902e-01,\n",
       "         2.4190e-03, 1.3207e-01, 6.5756e-03, 1.7874e-02, 2.4190e-03, 2.4190e-03],\n",
       "        [1.1720e-01, 2.1465e-03, 2.1465e-03, 2.1465e-03, 1.1720e-01, 2.1465e-03,\n",
       "         2.1465e-03, 1.1720e-01, 2.1465e-03, 2.1465e-03, 1.1720e-01, 2.1465e-03,\n",
       "         2.1465e-03, 4.3114e-02, 1.1720e-01, 1.1720e-01, 1.1720e-01, 1.1720e-01],\n",
       "        [3.5324e-02, 3.5324e-02, 3.5324e-02, 3.5324e-02, 3.5324e-02, 3.5324e-02,\n",
       "         3.5324e-02, 9.6019e-02, 3.5324e-02, 9.6019e-02, 3.5324e-02, 9.6019e-02,\n",
       "         9.6019e-02, 9.6019e-02, 3.5324e-02, 3.5324e-02, 3.5324e-02, 9.6019e-02],\n",
       "        [2.0055e-02, 2.0055e-02, 2.0055e-02, 2.0055e-02, 1.4819e-01, 2.0055e-02,\n",
       "         2.0055e-02, 4.0281e-01, 2.0055e-02, 2.0055e-02, 2.0055e-02, 2.0055e-02,\n",
       "         2.0055e-02, 1.4819e-01, 2.0055e-02, 2.0055e-02, 2.0055e-02, 2.0055e-02],\n",
       "        [2.1290e-01, 2.1290e-01, 1.0600e-02, 1.0600e-02, 2.1290e-01, 1.0600e-02,\n",
       "         1.0600e-02, 1.0600e-02, 1.0600e-02, 1.0600e-02, 1.0600e-02, 1.0600e-02,\n",
       "         1.0600e-02, 1.0600e-02, 2.1290e-01, 1.0600e-02, 1.0600e-02, 1.0600e-02],\n",
       "        [5.6690e-02, 5.6690e-02, 2.8224e-03, 2.0855e-02, 5.6690e-02, 5.6690e-02,\n",
       "         2.8224e-03, 5.6690e-02, 2.0855e-02, 1.5410e-01, 2.0855e-02, 1.5410e-01,\n",
       "         5.6690e-02, 5.6690e-02, 5.6690e-02, 5.6690e-02, 5.6690e-02, 5.6690e-02],\n",
       "        [6.7388e-02, 6.7388e-02, 6.7388e-02, 2.4791e-02, 6.7388e-02, 6.7388e-02,\n",
       "         6.7388e-02, 6.7388e-02, 2.4791e-02, 6.7388e-02, 2.4791e-02, 2.4791e-02,\n",
       "         2.4791e-02, 6.7388e-02, 6.7388e-02, 6.7388e-02, 6.7388e-02, 6.7388e-02],\n",
       "        [1.7708e-01, 1.7708e-01, 8.8162e-03, 8.8162e-03, 8.8162e-03, 8.8162e-03,\n",
       "         8.8162e-03, 8.8162e-03, 8.8162e-03, 8.8162e-03, 8.8162e-03, 8.8162e-03,\n",
       "         1.7708e-01, 8.8162e-03, 1.7708e-01, 1.7708e-01, 8.8162e-03, 8.8162e-03],\n",
       "        [6.2400e-02, 6.2400e-02, 1.1429e-03, 6.2400e-02, 6.2400e-02, 6.2400e-02,\n",
       "         1.1429e-03, 6.2400e-02, 8.4450e-03, 6.2400e-02, 6.2400e-02, 8.4450e-03,\n",
       "         6.2400e-02, 6.2400e-02, 6.2400e-02, 6.2400e-02, 1.6962e-01, 6.2400e-02],\n",
       "        [1.9024e-01, 6.9984e-02, 3.4843e-03, 2.5746e-02, 2.5746e-02, 6.9984e-02,\n",
       "         3.4843e-03, 1.9024e-01, 3.4843e-03, 3.4843e-03, 3.4843e-03, 3.4843e-03,\n",
       "         6.9984e-02, 1.9024e-01, 6.9984e-02, 6.9984e-02, 3.4843e-03, 3.4843e-03],\n",
       "        [1.0600e-02, 1.0600e-02, 1.0600e-02, 1.0600e-02, 1.0600e-02, 1.0600e-02,\n",
       "         1.0600e-02, 2.1290e-01, 1.0600e-02, 1.0600e-02, 1.0600e-02, 2.1290e-01,\n",
       "         2.1290e-01, 1.0600e-02, 1.0600e-02, 2.1290e-01, 1.0600e-02, 1.0600e-02],\n",
       "        [7.0889e-02, 7.0889e-02, 2.6079e-02, 7.0889e-02, 7.0889e-02, 2.6079e-02,\n",
       "         7.0889e-02, 7.0889e-02, 3.5293e-03, 9.5937e-03, 3.5293e-03, 2.6079e-02,\n",
       "         7.0889e-02, 1.9270e-01, 7.0889e-02, 7.0889e-02, 7.0889e-02, 3.5293e-03],\n",
       "        [2.3494e-01, 4.3031e-03, 4.3031e-03, 4.3031e-03, 2.3494e-01, 4.3031e-03,\n",
       "         4.3031e-03, 2.3494e-01, 4.3031e-03, 4.3031e-03, 4.3031e-03, 4.3031e-03,\n",
       "         4.3031e-03, 2.3494e-01, 4.3031e-03, 4.3031e-03, 4.3031e-03, 4.3031e-03],\n",
       "        [9.0321e-02, 1.2224e-02, 1.2224e-02, 1.2224e-02, 9.0321e-02, 9.0321e-02,\n",
       "         1.2224e-02, 2.4552e-01, 1.2224e-02, 1.2224e-02, 1.2224e-02, 1.2224e-02,\n",
       "         9.0321e-02, 9.0321e-02, 9.0321e-02, 9.0321e-02, 1.2224e-02, 1.2224e-02],\n",
       "        [1.9049e-02, 5.1782e-02, 1.4076e-01, 5.1782e-02, 1.9049e-02, 1.4076e-01,\n",
       "         2.5781e-03, 1.4076e-01, 2.5781e-03, 2.5781e-03, 5.1782e-02, 1.4076e-01,\n",
       "         5.1782e-02, 1.4076e-01, 1.9049e-02, 1.9049e-02, 2.5781e-03, 2.5781e-03],\n",
       "        [1.9881e-01, 2.6905e-02, 2.6905e-02, 2.6905e-02, 1.9881e-01, 2.6905e-02,\n",
       "         2.6905e-02, 2.6905e-02, 2.6905e-02, 2.6905e-02, 2.6905e-02, 2.6905e-02,\n",
       "         2.6905e-02, 2.6905e-02, 2.6905e-02, 2.6905e-02, 2.6905e-02, 1.9881e-01],\n",
       "        [2.6689e-01, 1.3288e-02, 1.3288e-02, 1.3288e-02, 1.3288e-02, 1.3288e-02,\n",
       "         1.3288e-02, 2.6689e-01, 1.3288e-02, 1.3288e-02, 1.3288e-02, 1.3288e-02,\n",
       "         1.3288e-02, 1.3288e-02, 1.3288e-02, 2.6689e-01, 1.3288e-02, 1.3288e-02],\n",
       "        [1.4274e-01, 1.4274e-01, 5.2510e-02, 5.2510e-02, 5.2510e-02, 1.9317e-02,\n",
       "         1.9317e-02, 5.2510e-02, 1.9317e-02, 2.6143e-03, 5.2510e-02, 5.2510e-02,\n",
       "         1.9317e-02, 5.2510e-02, 1.4274e-01, 5.2510e-02, 1.9317e-02, 5.2510e-02],\n",
       "        [1.5985e-02, 1.5985e-02, 1.5985e-02, 1.5985e-02, 3.2106e-01, 1.5985e-02,\n",
       "         1.5985e-02, 3.2106e-01, 1.5985e-02, 1.5985e-02, 1.5985e-02, 1.5985e-02,\n",
       "         1.5985e-02, 1.1811e-01, 1.5985e-02, 1.5985e-02, 1.5985e-02, 1.5985e-02],\n",
       "        [1.7897e-01, 1.7897e-01, 3.2779e-03, 3.2779e-03, 3.2779e-03, 3.2779e-03,\n",
       "         3.2779e-03, 1.7897e-01, 3.2779e-03, 3.2779e-03, 3.2779e-03, 3.2779e-03,\n",
       "         3.2779e-03, 1.7897e-01, 3.2779e-03, 1.7897e-01, 6.5838e-02, 3.2779e-03],\n",
       "        [1.1296e-01, 4.1556e-02, 2.0689e-03, 2.0689e-03, 4.1556e-02, 1.1296e-01,\n",
       "         2.0689e-03, 3.0706e-01, 2.0689e-03, 2.0689e-03, 1.5287e-02, 5.6239e-03,\n",
       "         4.1556e-02, 1.1296e-01, 4.1556e-02, 4.1556e-02, 1.1296e-01, 2.0689e-03],\n",
       "        [3.4763e-01, 6.3670e-03, 6.3670e-03, 6.3670e-03, 4.7046e-02, 6.3670e-03,\n",
       "         6.3670e-03, 3.4763e-01, 6.3670e-03, 6.3670e-03, 6.3670e-03, 4.7046e-02,\n",
       "         6.3670e-03, 1.2788e-01, 6.3670e-03, 6.3670e-03, 6.3670e-03, 6.3670e-03],\n",
       "        [7.4656e-02, 7.4656e-02, 7.4656e-02, 7.4656e-02, 7.4656e-02, 7.4656e-02,\n",
       "         5.0303e-04, 7.4656e-02, 7.4656e-02, 5.0303e-04, 2.7464e-02, 7.4656e-02,\n",
       "         5.0303e-04, 7.4656e-02, 7.4656e-02, 7.4656e-02, 7.4656e-02, 5.0303e-04],\n",
       "        [1.2800e-01, 4.7089e-02, 1.7323e-02, 4.7089e-02, 4.7089e-02, 1.2800e-01,\n",
       "         6.3728e-03, 1.2800e-01, 4.7089e-02, 6.3728e-03, 1.7323e-02, 1.7323e-02,\n",
       "         6.3728e-03, 1.2800e-01, 1.2800e-01, 4.7089e-02, 4.7089e-02, 6.3728e-03],\n",
       "        [4.5604e-02, 1.2396e-01, 1.2396e-01, 4.5604e-02, 4.5604e-02, 4.5604e-02,\n",
       "         8.3526e-04, 4.5604e-02, 8.3526e-04, 1.2396e-01, 4.5604e-02, 8.3526e-04,\n",
       "         1.2396e-01, 4.5604e-02, 4.5604e-02, 4.5604e-02, 4.5604e-02, 4.5604e-02],\n",
       "        [2.4445e-01, 4.4772e-03, 4.4772e-03, 4.4772e-03, 8.9927e-02, 3.3082e-02,\n",
       "         4.4772e-03, 2.4445e-01, 4.4772e-03, 4.4772e-03, 4.4772e-03, 4.4772e-03,\n",
       "         4.4772e-03, 8.9927e-02, 4.4772e-03, 4.4772e-03, 2.4445e-01, 4.4772e-03],\n",
       "        [1.4460e-01, 1.4460e-01, 7.1993e-03, 7.1993e-03, 5.3196e-02, 7.1993e-03,\n",
       "         7.1993e-03, 1.4460e-01, 7.1993e-03, 7.1993e-03, 7.1993e-03, 7.1993e-03,\n",
       "         1.4460e-01, 7.1993e-03, 1.4460e-01, 1.4460e-01, 7.1993e-03, 7.1993e-03],\n",
       "        [5.8760e-02, 5.8760e-02, 5.8760e-02, 5.8760e-02, 5.8760e-02, 5.8760e-02,\n",
       "         1.0762e-03, 5.8760e-02, 5.8760e-02, 5.8760e-02, 5.8760e-02, 5.8760e-02,\n",
       "         5.8760e-02, 5.8760e-02, 5.8760e-02, 5.8760e-02, 5.8760e-02, 5.8760e-02],\n",
       "        [5.2394e-02, 5.2394e-02, 5.2394e-02, 5.2394e-02, 5.2394e-02, 5.2394e-02,\n",
       "         1.4242e-01, 5.2394e-02, 5.2394e-02, 1.9275e-02, 5.2394e-02, 5.2394e-02,\n",
       "         5.2394e-02, 5.2394e-02, 5.2394e-02, 5.2394e-02, 5.2394e-02, 5.2394e-02],\n",
       "        [5.0101e-03, 5.0101e-03, 5.0101e-03, 5.0101e-03, 1.0063e-01, 5.0101e-03,\n",
       "         5.0101e-03, 2.7354e-01, 5.0101e-03, 5.0101e-03, 1.3619e-02, 5.0101e-03,\n",
       "         2.7354e-01, 2.7354e-01, 5.0101e-03, 5.0101e-03, 5.0101e-03, 5.0101e-03],\n",
       "        [1.7217e-03, 1.7217e-03, 2.5552e-01, 2.5552e-01, 9.4002e-02, 9.4002e-02,\n",
       "         1.7217e-03, 9.4002e-02, 1.7217e-03, 1.7217e-03, 1.7217e-03, 1.7217e-03,\n",
       "         1.7217e-03, 9.4002e-02, 1.7217e-03, 9.4002e-02, 1.7217e-03, 1.7217e-03],\n",
       "        [1.4453e-01, 5.3170e-02, 2.6472e-03, 2.6472e-03, 1.4453e-01, 1.4453e-01,\n",
       "         2.6472e-03, 2.6472e-03, 2.6472e-03, 1.4453e-01, 2.6472e-03, 2.6472e-03,\n",
       "         1.4453e-01, 2.6472e-03, 1.4453e-01, 2.6472e-03, 5.3170e-02, 2.6472e-03],\n",
       "        [6.5838e-02, 3.2779e-03, 3.2779e-03, 3.2779e-03, 3.2779e-03, 3.2779e-03,\n",
       "         3.2779e-03, 1.7897e-01, 3.2779e-03, 3.2779e-03, 3.2779e-03, 3.2779e-03,\n",
       "         1.7897e-01, 1.7897e-01, 1.7897e-01, 1.7897e-01, 3.2779e-03, 3.2779e-03],\n",
       "        [4.9697e-02, 4.9697e-02, 4.9697e-02, 4.9697e-02, 4.9697e-02, 1.3509e-01,\n",
       "         1.3509e-01, 1.3509e-01, 4.9697e-02, 2.4743e-03, 2.4743e-03, 4.9697e-02,\n",
       "         2.4743e-03, 1.3509e-01, 4.9697e-02, 4.9697e-02, 2.4743e-03, 2.4743e-03],\n",
       "        [4.5660e-03, 4.5660e-03, 4.5660e-03, 4.5660e-03, 4.5660e-03, 4.5660e-03,\n",
       "         4.5660e-03, 6.7765e-01, 4.5660e-03, 4.5660e-03, 2.4929e-01, 4.5660e-03,\n",
       "         4.5660e-03, 4.5660e-03, 4.5660e-03, 4.5660e-03, 4.5660e-03, 4.5660e-03],\n",
       "        [4.1615e-02, 2.0719e-03, 2.0719e-03, 4.1615e-02, 4.1615e-02, 3.0749e-01,\n",
       "         2.0719e-03, 1.1312e-01, 5.6319e-03, 2.0719e-03, 2.0719e-03, 2.0719e-03,\n",
       "         4.1615e-02, 4.1615e-02, 2.0719e-03, 4.1615e-02, 2.0719e-03, 3.0749e-01],\n",
       "        [4.6876e-03, 1.7245e-03, 1.2742e-02, 1.2742e-02, 9.4153e-02, 3.4637e-02,\n",
       "         2.5593e-01, 3.4637e-02, 1.7245e-03, 1.7245e-03, 1.7245e-03, 9.4153e-02,\n",
       "         1.7245e-03, 9.4153e-02, 2.5593e-01, 9.4153e-02, 1.7245e-03, 1.7245e-03],\n",
       "        [3.0128e-03, 3.0128e-03, 3.0128e-03, 3.0128e-03, 6.0515e-02, 3.0128e-03,\n",
       "         3.0128e-03, 4.4715e-01, 3.0128e-03, 3.0128e-03, 3.0128e-03, 3.0128e-03,\n",
       "         3.0128e-03, 3.0128e-03, 3.0128e-03, 4.4715e-01, 3.0128e-03, 3.0128e-03],\n",
       "        [4.0503e-01, 2.7291e-03, 2.7291e-03, 2.7291e-03, 2.7291e-03, 2.7291e-03,\n",
       "         2.7291e-03, 1.4900e-01, 2.7291e-03, 2.7291e-03, 2.7291e-03, 2.7291e-03,\n",
       "         2.7291e-03, 4.0503e-01, 2.7291e-03, 2.7291e-03, 2.7291e-03, 2.7291e-03],\n",
       "        [5.3170e-02, 2.6472e-03, 2.6472e-03, 2.6472e-03, 1.4453e-01, 1.4453e-01,\n",
       "         2.6472e-03, 1.4453e-01, 2.6472e-03, 1.4453e-01, 2.6472e-03, 2.6472e-03,\n",
       "         1.4453e-01, 2.6472e-03, 2.6472e-03, 1.4453e-01, 2.6472e-03, 5.3170e-02],\n",
       "        [8.0930e-02, 2.1999e-01, 1.4823e-03, 1.4823e-03, 2.1999e-01, 1.4823e-03,\n",
       "         1.4823e-03, 1.4823e-03, 1.4823e-03, 8.0930e-02, 2.1999e-01, 1.4823e-03,\n",
       "         1.4823e-03, 1.4823e-03, 8.0930e-02, 8.0930e-02, 1.4823e-03, 1.4823e-03],\n",
       "        [1.0138e-01, 1.0138e-01, 1.8568e-03, 1.8568e-03, 1.0138e-01, 1.0138e-01,\n",
       "         1.8568e-03, 1.0138e-01, 1.8568e-03, 1.8568e-03, 3.7295e-02, 1.8568e-03,\n",
       "         1.0138e-01, 1.0138e-01, 1.0138e-01, 3.7295e-02, 1.0138e-01, 1.8568e-03]])"
      ]
     },
     "execution_count": 29,
     "metadata": {},
     "output_type": "execute_result"
    }
   ],
   "source": [
    "filtered_fourth_slot_distributions = fourth_slot_distributions[common_users_first_fourth_slot]\n",
    "filtered_fourth_slot_distributions"
   ]
  },
  {
   "cell_type": "code",
   "execution_count": 30,
   "metadata": {},
   "outputs": [
    {
     "name": "stdout",
     "output_type": "stream",
     "text": [
      "torch.Size([51, 18])\n",
      "tensor([[-0.1833, -0.1833, -0.1947, -0.3238, -0.1833, -0.1833, -0.0083, -0.1864,\n",
      "         -0.0083, -0.0915, -0.1833, -0.0933, -0.1833, -0.1864, -0.1864, -0.0921,\n",
      "         -0.1947, -0.0083],\n",
      "        [-0.1424, -0.1460, -0.2638, -0.2638, -0.1424, -0.2735, -0.0060, -0.1424,\n",
      "         -0.0059, -0.0060, -0.1404, -0.2638, -0.2638, -0.1424, -0.1424, -0.1424,\n",
      "         -0.0691, -0.0059],\n",
      "        [-0.1685, -0.1667, -0.1667, -0.1667, -0.1718, -0.3071, -0.0829, -0.3071,\n",
      "         -0.0829, -0.0881, -0.0829, -0.1667, -0.1807, -0.1685, -0.0848, -0.1718,\n",
      "         -0.0829, -0.0829],\n",
      "        [-0.1002, -0.1002, -0.0469, -0.1002, -0.1002, -0.1980, -0.0090, -0.1980,\n",
      "         -0.1002, -0.3233, -0.1980, -0.1980, -0.1980, -0.1002, -0.0991, -0.1980,\n",
      "         -0.1980, -0.1980],\n",
      "        [-0.1759, -0.0897, -0.1817, -0.1817, -0.1759, -0.1817, -0.0864, -0.1759,\n",
      "         -0.0864, -0.1727, -0.1727, -0.1759, -0.1727, -0.1759, -0.1759, -0.1759,\n",
      "         -0.1738, -0.1727],\n",
      "        [-0.1922, -0.1922, -0.1889, -0.1889, -0.2011, -0.0086, -0.0086, -0.1873,\n",
      "         -0.0948, -0.0086, -0.0086, -0.1889, -0.0087, -0.2011, -0.2011, -0.1922,\n",
      "         -0.3174, -0.1873],\n",
      "        [-0.1463, -0.1358, -0.1358, -0.1358, -0.1463, -0.1358, -0.2517, -0.1463,\n",
      "         -0.1358, -0.1358, -0.1358, -0.1358, -0.1358, -0.1463, -0.1358, -0.1358,\n",
      "         -0.2517, -0.2517],\n",
      "        [-0.1005, -0.0985, -0.1005, -0.0985, -0.3545, -0.0985, -0.0975, -0.1005,\n",
      "         -0.0978, -0.0978, -0.0975, -0.1005, -0.0985, -0.0985, -0.1005, -0.0985,\n",
      "         -0.1005, -0.0975],\n",
      "        [-0.3647, -0.0291, -0.0291, -0.0291, -0.3647, -0.0291, -0.0291, -0.4954,\n",
      "         -0.0291, -0.0291, -0.0291, -0.0291, -0.0291, -0.0291, -0.0314, -0.0291,\n",
      "         -0.0291, -0.0291],\n",
      "        [-0.1669, -0.1660, -0.0826, -0.1660, -0.1687, -0.1736, -0.1660, -0.1736,\n",
      "         -0.1660, -0.1736, -0.0073, -0.1869, -0.1660, -0.1736, -0.1663, -0.1669,\n",
      "         -0.2926, -0.0073],\n",
      "        [-0.1029, -0.1954, -0.1954, -0.1954, -0.1029, -0.1954, -0.0091, -0.2041,\n",
      "         -0.1954, -0.1954, -0.1029, -0.1954, -0.1954, -0.1008, -0.1029, -0.2041,\n",
      "         -0.2041, -0.1029],\n",
      "        [-0.1100, -0.1100, -0.1100, -0.1100, -0.1100, -0.2135, -0.2135, -0.2187,\n",
      "         -0.1100, -0.2187, -0.1100, -0.1119, -0.2187, -0.1119, -0.1100, -0.2135,\n",
      "         -0.2135, -0.2187],\n",
      "        [-0.1575, -0.1575, -0.1575, -0.1575, -0.1643, -0.2830, -0.1575, -0.1779,\n",
      "         -0.1575, -0.1575, -0.1575, -0.1575, -0.1575, -0.1643, -0.1575, -0.1575,\n",
      "         -0.1575, -0.0068],\n",
      "        [-0.0993, -0.2002, -0.1862, -0.1862, -0.2002, -0.1862, -0.0941, -0.1862,\n",
      "         -0.0440, -0.1862, -0.0440, -0.1862, -0.1862, -0.1862, -0.2002, -0.1862,\n",
      "         -0.1862, -0.0941],\n",
      "        [-0.1694, -0.0172, -0.0170, -0.0171, -0.3014, -0.1694, -0.0170, -0.3014,\n",
      "         -0.0171, -0.0175, -0.0171, -0.3169, -0.0172, -0.3014, -0.3014, -0.1694,\n",
      "         -0.0172, -0.0172],\n",
      "        [-0.1210, -0.1210, -0.2323, -0.1195, -0.1210, -0.2323, -0.0113, -0.1210,\n",
      "         -0.2282, -0.0113, -0.2282, -0.1195, -0.2282, -0.1210, -0.2323, -0.1210,\n",
      "         -0.1210, -0.2323],\n",
      "        [-0.1084, -0.1084, -0.2019, -0.2019, -0.1035, -0.2019, -0.0095, -0.2019,\n",
      "         -0.1035, -0.2019, -0.2019, -0.1035, -0.2152, -0.2019, -0.1084, -0.2152,\n",
      "         -0.2019, -0.1035],\n",
      "        [-0.0995, -0.0995, -0.1922, -0.1967, -0.0995, -0.1967, -0.1922, -0.1967,\n",
      "         -0.1928, -0.1967, -0.0995, -0.1928, -0.0995, -0.1967, -0.1967, -0.0995,\n",
      "         -0.2046, -0.0995],\n",
      "        [-0.2508, -0.0118, -0.0116, -0.0117, -0.2342, -0.2386, -0.0116, -0.2508,\n",
      "         -0.0116, -0.2319, -0.0116, -0.0116, -0.2386, -0.0120, -0.0118, -0.2386,\n",
      "         -0.3558, -0.0116],\n",
      "        [-0.1296, -0.1296, -0.2431, -0.1296, -0.1296, -0.1296, -0.2431, -0.1378,\n",
      "         -0.1296, -0.2431, -0.1296, -0.1378, -0.1378, -0.1296, -0.1296, -0.1378,\n",
      "         -0.1296, -0.2431],\n",
      "        [-0.2416, -0.2416, -0.2369, -0.1268, -0.1268, -0.1251, -0.0120, -0.2416,\n",
      "         -0.0119, -0.0119, -0.0119, -0.0600, -0.2416, -0.2541, -0.2416, -0.1268,\n",
      "         -0.2416, -0.0119],\n",
      "        [-0.1492, -0.2563, -0.0136, -0.2563, -0.1492, -0.0136, -0.0136, -0.2843,\n",
      "         -0.0136, -0.0136, -0.2563, -0.0136, -0.0136, -0.2843, -0.1389, -0.2563,\n",
      "         -0.2563, -0.0136],\n",
      "        [-0.1365, -0.1332, -0.2485, -0.1332, -0.1365, -0.1365, -0.2485, -0.1430,\n",
      "         -0.0129, -0.1332, -0.1332, -0.2485, -0.1365, -0.1365, -0.1365, -0.1365,\n",
      "         -0.1332, -0.2485],\n",
      "        [-0.1365, -0.1379, -0.1418, -0.1379, -0.1365, -0.1418, -0.1358, -0.2680,\n",
      "         -0.1358, -0.2518, -0.1379, -0.1418, -0.1379, -0.1418, -0.1365, -0.1365,\n",
      "         -0.2518, -0.1358],\n",
      "        [-0.2249, -0.1083, -0.0100, -0.1083, -0.1137, -0.2104, -0.2104, -0.2104,\n",
      "         -0.2104, -0.0100, -0.2104, -0.1083, -0.0100, -0.2104, -0.2104, -0.2104,\n",
      "         -0.2104, -0.1137],\n",
      "        [-0.4003, -0.0232, -0.0232, -0.0232, -0.1088, -0.0232, -0.0232, -0.2323,\n",
      "         -0.0232, -0.0232, -0.3417, -0.1088, -0.0232, -0.2108, -0.1088, -0.4003,\n",
      "         -0.0232, -0.0232],\n",
      "        [-0.2181, -0.2181, -0.2106, -0.1079, -0.2106, -0.1069, -0.0505, -0.1079,\n",
      "         -0.1069, -0.2065, -0.1079, -0.2106, -0.2079, -0.1079, -0.2181, -0.2106,\n",
      "         -0.1069, -0.1079],\n",
      "        [-0.2095, -0.1080, -0.2095, -0.0511, -0.2351, -0.2095, -0.0100, -0.1174,\n",
      "         -0.0511, -0.1080, -0.2095, -0.0511, -0.2095, -0.1112, -0.2095, -0.2095,\n",
      "         -0.2095, -0.2095],\n",
      "        [-0.0964, -0.1944, -0.1825, -0.1825, -0.1825, -0.1825, -0.0083, -0.1944,\n",
      "         -0.1825, -0.0083, -0.1825, -0.1825, -0.1825, -0.1944, -0.1825, -0.1944,\n",
      "         -0.1867, -0.0920],\n",
      "        [-0.1947, -0.0957, -0.1869, -0.0947, -0.0957, -0.1947, -0.1869, -0.2084,\n",
      "         -0.0947, -0.0947, -0.1879, -0.1872, -0.1897, -0.0975, -0.1897, -0.1897,\n",
      "         -0.1947, -0.1869],\n",
      "        [-0.0141, -0.0133, -0.0133, -0.0133, -0.0134, -0.0133, -0.0133, -0.4771,\n",
      "         -0.0133, -0.0133, -0.0133, -0.0134, -0.0133, -0.4062, -0.0133, -0.0133,\n",
      "         -0.3670, -0.0133],\n",
      "        [-0.1673, -0.1673, -0.0825, -0.0825, -0.1673, -0.3002, -0.0072, -0.1673,\n",
      "         -0.0825, -0.0072, -0.1647, -0.1673, -0.1631, -0.3002, -0.1673, -0.1673,\n",
      "         -0.1673, -0.1631],\n",
      "        [-0.1036, -0.1014, -0.1005, -0.1014, -0.1014, -0.2056, -0.1964, -0.2056,\n",
      "         -0.1014, -0.3272, -0.0092, -0.1005, -0.3272, -0.1036, -0.2056, -0.1014,\n",
      "         -0.1014, -0.0092],\n",
      "        [-0.1153, -0.1179, -0.2295, -0.1153, -0.2224, -0.1153, -0.0107, -0.2224,\n",
      "         -0.1138, -0.0109, -0.1153, -0.2183, -0.1179, -0.2224, -0.2224, -0.1153,\n",
      "         -0.2224, -0.2224],\n",
      "        [-0.2115, -0.1936, -0.1936, -0.1936, -0.2000, -0.1958, -0.0090, -0.2115,\n",
      "         -0.0090, -0.0090, -0.0986, -0.1936, -0.1936, -0.2000, -0.1936, -0.1936,\n",
      "         -0.2115, -0.0090],\n",
      "        [-0.2745, -0.0140, -0.0137, -0.0137, -0.0138, -0.2578, -0.0137, -0.2745,\n",
      "         -0.0137, -0.2578, -0.0137, -0.0137, -0.2745, -0.2578, -0.0140, -0.2745,\n",
      "         -0.2578, -0.0137],\n",
      "        [-0.0605, -0.0605, -0.0605, -0.0605, -0.2515, -0.0605, -0.0597, -0.0605,\n",
      "         -0.0605, -0.0605, -0.0605, -0.0605, -0.0605, -0.0605, -0.0605, -0.0605,\n",
      "         -0.0605, -0.0605],\n",
      "        [-0.2410, -0.1270, -0.2410, -0.1270, -0.1270, -0.2410, -0.0052, -0.1270,\n",
      "         -0.0051, -0.0051, -0.2410, -0.1270, -0.2410, -0.2410, -0.2410, -0.1270,\n",
      "         -0.1270, -0.0051],\n",
      "        [-0.1794, -0.1794, -0.1794, -0.1794, -0.1857, -0.1794, -0.3088, -0.1971,\n",
      "         -0.0081, -0.0081, -0.0188, -0.0902, -0.1971, -0.1971, -0.1794, -0.1794,\n",
      "         -0.1794, -0.0081],\n",
      "        [-0.1708, -0.1708, -0.1863, -0.1863, -0.1764, -0.1764, -0.1708, -0.1764,\n",
      "         -0.0076, -0.1708, -0.1708, -0.0853, -0.1708, -0.1764, -0.1708, -0.1764,\n",
      "         -0.1708, -0.1708],\n",
      "        [-0.1831, -0.1774, -0.0078, -0.0078, -0.1831, -0.3267, -0.0078, -0.1742,\n",
      "         -0.0078, -0.0080, -0.1742, -0.3025, -0.0905, -0.1742, -0.1831, -0.1742,\n",
      "         -0.1774, -0.1742],\n",
      "        [-0.2014, -0.1967, -0.1004, -0.1004, -0.1004, -0.1004, -0.0092, -0.2101,\n",
      "         -0.0473, -0.0092, -0.1967, -0.1004, -0.1054, -0.2101, -0.2101, -0.2101,\n",
      "         -0.1967, -0.3270],\n",
      "        [-0.0890, -0.1784, -0.0079, -0.1784, -0.0890, -0.3268, -0.0080, -0.1839,\n",
      "         -0.0079, -0.0079, -0.0879, -0.3121, -0.1754, -0.1839, -0.1784, -0.0890,\n",
      "         -0.3039, -0.0079],\n",
      "        [-0.1461, -0.1461, -0.1461, -0.1461, -0.1461, -0.1461, -0.1461, -0.1785,\n",
      "         -0.2665, -0.1461, -0.1579, -0.2665, -0.1461, -0.1461, -0.1461, -0.1461,\n",
      "         -0.1461, -0.0714],\n",
      "        [-0.1682, -0.1659, -0.1659, -0.1682, -0.1682, -0.1838, -0.0383, -0.1724,\n",
      "         -0.1661, -0.1659, -0.1659, -0.1659, -0.1682, -0.1682, -0.1659, -0.1682,\n",
      "         -0.1659, -0.1838],\n",
      "        [-0.1613, -0.0798, -0.1617, -0.0800, -0.1663, -0.0805, -0.3248, -0.1629,\n",
      "         -0.0070, -0.2863, -0.1611, -0.0817, -0.1611, -0.1663, -0.1753, -0.1663,\n",
      "         -0.1611, -0.1611],\n",
      "        [-0.2261, -0.1187, -0.1187, -0.1187, -0.1208, -0.2261, -0.0568, -0.1345,\n",
      "         -0.2261, -0.2261, -0.0568, -0.0568, -0.2261, -0.1187, -0.2261, -0.1345,\n",
      "         -0.2261, -0.1187],\n",
      "        [-0.1877, -0.1645, -0.1645, -0.1645, -0.1645, -0.1645, -0.1645, -0.1729,\n",
      "         -0.1645, -0.1645, -0.0817, -0.1645, -0.1645, -0.1877, -0.1645, -0.1645,\n",
      "         -0.1645, -0.1645],\n",
      "        [-0.1455, -0.1431, -0.1431, -0.1431, -0.1497, -0.1497, -0.1431, -0.1497,\n",
      "         -0.1431, -0.1497, -0.1431, -0.2622, -0.1497, -0.1431, -0.1431, -0.1497,\n",
      "         -0.2622, -0.1455],\n",
      "        [-0.1372, -0.1431, -0.2488, -0.1338, -0.2740, -0.1338, -0.0055, -0.2488,\n",
      "         -0.0055, -0.1372, -0.1431, -0.2488, -0.1338, -0.1338, -0.1372, -0.1372,\n",
      "         -0.2488, -0.0055],\n",
      "        [-0.2032, -0.2032, -0.0091, -0.0999, -0.2032, -0.2032, -0.0091, -0.2032,\n",
      "         -0.0091, -0.3258, -0.0092, -0.0091, -0.2032, -0.2032, -0.2032, -0.1983,\n",
      "         -0.2032, -0.0091]])\n"
     ]
    }
   ],
   "source": [
    "variation_distance = torch.nn.functional.kl_div(input=filtered_fourth_slot_distributions, target=filtered_first_slot_distributions, reduction='none')\n",
    "print(variation_distance.shape)\n",
    "print(variation_distance)"
   ]
  },
  {
   "cell_type": "code",
   "execution_count": 31,
   "metadata": {},
   "outputs": [
    {
     "name": "stdout",
     "output_type": "stream",
     "text": [
      "torch.Size([18])\n",
      "tensor([-0.1663, -0.1341, -0.1368, -0.1297, -0.1627, -0.1719, -0.0845, -0.2005,\n",
      "        -0.0844, -0.1205, -0.1220, -0.1456, -0.1562, -0.1705, -0.1578, -0.1640,\n",
      "        -0.1850, -0.1050])\n"
     ]
    }
   ],
   "source": [
    "variation_distance = torch.mean(variation_distance, dim=0)\n",
    "print(variation_distance.shape)\n",
    "print(variation_distance)"
   ]
  },
  {
   "cell_type": "code",
   "execution_count": 32,
   "metadata": {},
   "outputs": [
    {
     "data": {
      "text/plain": [
       "0    -0.166349\n",
       "1    -0.134056\n",
       "2    -0.136785\n",
       "3    -0.129727\n",
       "4    -0.162650\n",
       "5    -0.171902\n",
       "6    -0.084542\n",
       "7    -0.200540\n",
       "8    -0.084432\n",
       "9    -0.120474\n",
       "10   -0.121969\n",
       "11   -0.145581\n",
       "12   -0.156203\n",
       "13   -0.170532\n",
       "14   -0.157807\n",
       "15   -0.163991\n",
       "16   -0.185027\n",
       "17   -0.105044\n",
       "dtype: float32"
      ]
     },
     "execution_count": 32,
     "metadata": {},
     "output_type": "execute_result"
    }
   ],
   "source": [
    "first_fourth_series = pd.Series(variation_distance)\n",
    "first_fourth_series"
   ]
  },
  {
   "cell_type": "markdown",
   "metadata": {},
   "source": [
    "## Plot"
   ]
  },
  {
   "cell_type": "code",
   "execution_count": 33,
   "metadata": {},
   "outputs": [
    {
     "data": {
      "text/html": [
       "<div>\n",
       "<style scoped>\n",
       "    .dataframe tbody tr th:only-of-type {\n",
       "        vertical-align: middle;\n",
       "    }\n",
       "\n",
       "    .dataframe tbody tr th {\n",
       "        vertical-align: top;\n",
       "    }\n",
       "\n",
       "    .dataframe thead th {\n",
       "        text-align: right;\n",
       "    }\n",
       "</style>\n",
       "<table border=\"1\" class=\"dataframe\">\n",
       "  <thead>\n",
       "    <tr style=\"text-align: right;\">\n",
       "      <th></th>\n",
       "      <th>0</th>\n",
       "      <th>1</th>\n",
       "      <th>2</th>\n",
       "    </tr>\n",
       "  </thead>\n",
       "  <tbody>\n",
       "    <tr>\n",
       "      <th>0</th>\n",
       "      <td>-0.169598</td>\n",
       "      <td>-0.162005</td>\n",
       "      <td>-0.166349</td>\n",
       "    </tr>\n",
       "    <tr>\n",
       "      <th>1</th>\n",
       "      <td>-0.144867</td>\n",
       "      <td>-0.143155</td>\n",
       "      <td>-0.134056</td>\n",
       "    </tr>\n",
       "    <tr>\n",
       "      <th>2</th>\n",
       "      <td>-0.130904</td>\n",
       "      <td>-0.133400</td>\n",
       "      <td>-0.136785</td>\n",
       "    </tr>\n",
       "    <tr>\n",
       "      <th>3</th>\n",
       "      <td>-0.126965</td>\n",
       "      <td>-0.135144</td>\n",
       "      <td>-0.129727</td>\n",
       "    </tr>\n",
       "    <tr>\n",
       "      <th>4</th>\n",
       "      <td>-0.158235</td>\n",
       "      <td>-0.152766</td>\n",
       "      <td>-0.162650</td>\n",
       "    </tr>\n",
       "    <tr>\n",
       "      <th>5</th>\n",
       "      <td>-0.165181</td>\n",
       "      <td>-0.179444</td>\n",
       "      <td>-0.171902</td>\n",
       "    </tr>\n",
       "    <tr>\n",
       "      <th>6</th>\n",
       "      <td>-0.079213</td>\n",
       "      <td>-0.087168</td>\n",
       "      <td>-0.084542</td>\n",
       "    </tr>\n",
       "    <tr>\n",
       "      <th>7</th>\n",
       "      <td>-0.191549</td>\n",
       "      <td>-0.196208</td>\n",
       "      <td>-0.200540</td>\n",
       "    </tr>\n",
       "    <tr>\n",
       "      <th>8</th>\n",
       "      <td>-0.073826</td>\n",
       "      <td>-0.083445</td>\n",
       "      <td>-0.084432</td>\n",
       "    </tr>\n",
       "    <tr>\n",
       "      <th>9</th>\n",
       "      <td>-0.108802</td>\n",
       "      <td>-0.103454</td>\n",
       "      <td>-0.120474</td>\n",
       "    </tr>\n",
       "    <tr>\n",
       "      <th>10</th>\n",
       "      <td>-0.117834</td>\n",
       "      <td>-0.122398</td>\n",
       "      <td>-0.121969</td>\n",
       "    </tr>\n",
       "    <tr>\n",
       "      <th>11</th>\n",
       "      <td>-0.130679</td>\n",
       "      <td>-0.134860</td>\n",
       "      <td>-0.145581</td>\n",
       "    </tr>\n",
       "    <tr>\n",
       "      <th>12</th>\n",
       "      <td>-0.155011</td>\n",
       "      <td>-0.150141</td>\n",
       "      <td>-0.156203</td>\n",
       "    </tr>\n",
       "    <tr>\n",
       "      <th>13</th>\n",
       "      <td>-0.174065</td>\n",
       "      <td>-0.181305</td>\n",
       "      <td>-0.170532</td>\n",
       "    </tr>\n",
       "    <tr>\n",
       "      <th>14</th>\n",
       "      <td>-0.159641</td>\n",
       "      <td>-0.164352</td>\n",
       "      <td>-0.157807</td>\n",
       "    </tr>\n",
       "    <tr>\n",
       "      <th>15</th>\n",
       "      <td>-0.176663</td>\n",
       "      <td>-0.172673</td>\n",
       "      <td>-0.163991</td>\n",
       "    </tr>\n",
       "    <tr>\n",
       "      <th>16</th>\n",
       "      <td>-0.195092</td>\n",
       "      <td>-0.199400</td>\n",
       "      <td>-0.185027</td>\n",
       "    </tr>\n",
       "    <tr>\n",
       "      <th>17</th>\n",
       "      <td>-0.099771</td>\n",
       "      <td>-0.100858</td>\n",
       "      <td>-0.105044</td>\n",
       "    </tr>\n",
       "  </tbody>\n",
       "</table>\n",
       "</div>"
      ],
      "text/plain": [
       "           0         1         2\n",
       "0  -0.169598 -0.162005 -0.166349\n",
       "1  -0.144867 -0.143155 -0.134056\n",
       "2  -0.130904 -0.133400 -0.136785\n",
       "3  -0.126965 -0.135144 -0.129727\n",
       "4  -0.158235 -0.152766 -0.162650\n",
       "5  -0.165181 -0.179444 -0.171902\n",
       "6  -0.079213 -0.087168 -0.084542\n",
       "7  -0.191549 -0.196208 -0.200540\n",
       "8  -0.073826 -0.083445 -0.084432\n",
       "9  -0.108802 -0.103454 -0.120474\n",
       "10 -0.117834 -0.122398 -0.121969\n",
       "11 -0.130679 -0.134860 -0.145581\n",
       "12 -0.155011 -0.150141 -0.156203\n",
       "13 -0.174065 -0.181305 -0.170532\n",
       "14 -0.159641 -0.164352 -0.157807\n",
       "15 -0.176663 -0.172673 -0.163991\n",
       "16 -0.195092 -0.199400 -0.185027\n",
       "17 -0.099771 -0.100858 -0.105044"
      ]
     },
     "execution_count": 33,
     "metadata": {},
     "output_type": "execute_result"
    }
   ],
   "source": [
    "df = pd.concat([first_second_series, first_third_series, first_fourth_series], axis=1)\n",
    "df"
   ]
  },
  {
   "cell_type": "code",
   "execution_count": 34,
   "metadata": {},
   "outputs": [
    {
     "data": {
      "image/png": "[encoded data removed]",
      "text/plain": [
       "<Figure size 640x480 with 1 Axes>"
      ]
     },
     "metadata": {},
     "output_type": "display_data"
    }
   ],
   "source": [
    "colors = sns.color_palette(\"viridis\", n_colors=len(df.columns))\n",
    "ax = df.plot.kde(color=colors, linewidth=2)\n",
    "plt.title('Estimated densities of total variation scores with respect to the first two months')\n",
    "plt.xlabel('Total variation')\n",
    "plt.ylabel('Density')\n",
    "labels = ['M1-2 vs M3-4', 'M1-2 vs M5-6', 'M1-2 vs M7-8']\n",
    "plt.legend(labels)\n",
    "plt.show()"
   ]
  },
  {
   "cell_type": "markdown",
   "metadata": {},
   "source": [
    "# Preference change from previous slot"
   ]
  },
  {
   "cell_type": "markdown",
   "metadata": {},
   "source": [
    "## Third time slot"
   ]
  },
  {
   "cell_type": "code",
   "execution_count": 35,
   "metadata": {},
   "outputs": [
    {
     "name": "stdout",
     "output_type": "stream",
     "text": [
      "101\n",
      "[517, 9, 521, 11, 523, 530, 22, 24, 26, 539, 37, 47, 559, 569, 58, 65, 70, 584, 75, 76, 81, 602, 92, 95, 98, 101, 102, 618, 620, 112, 116, 118, 630, 121, 122, 636, 127, 130, 644, 137, 649, 139, 143, 144, 668, 694, 696, 185, 188, 703, 192, 704, 711, 204, 207, 233, 239, 752, 763, 764, 253, 278, 791, 288, 802, 808, 815, 816, 817, 822, 826, 833, 845, 860, 867, 366, 369, 374, 377, 892, 384, 899, 393, 913, 914, 404, 405, 409, 413, 442, 447, 450, 454, 476, 477, 479, 486, 494, 498, 501, 504]\n"
     ]
    }
   ],
   "source": [
    "common_users_second_third_slot = list(set(second_slot_active_users) & set(third_slot_active_users))\n",
    "print(len(common_users_second_third_slot))\n",
    "print(common_users_second_third_slot)"
   ]
  },
  {
   "cell_type": "code",
   "execution_count": 36,
   "metadata": {},
   "outputs": [
    {
     "data": {
      "text/plain": [
       "tensor([[0.0693, 0.0693, 0.0013,  ..., 0.0693, 0.0693, 0.0693],\n",
       "        [0.0225, 0.0613, 0.0225,  ..., 0.0613, 0.0613, 0.0613],\n",
       "        [0.0531, 0.1445, 0.0010,  ..., 0.0195, 0.1445, 0.0010],\n",
       "        ...,\n",
       "        [0.0504, 0.0504, 0.1371,  ..., 0.0504, 0.0504, 0.0186],\n",
       "        [0.0449, 0.1219, 0.0449,  ..., 0.1219, 0.1219, 0.0022],\n",
       "        [0.1091, 0.1091, 0.0020,  ..., 0.1091, 0.0020, 0.0020]])"
      ]
     },
     "execution_count": 36,
     "metadata": {},
     "output_type": "execute_result"
    }
   ],
   "source": [
    "filtered_second_slot_distributions = second_slot_distributions[common_users_second_third_slot]\n",
    "filtered_second_slot_distributions"
   ]
  },
  {
   "cell_type": "code",
   "execution_count": 37,
   "metadata": {},
   "outputs": [
    {
     "data": {
      "text/plain": [
       "tensor([[0.0140, 0.0140, 0.0140,  ..., 0.0140, 0.0140, 0.0140],\n",
       "        [0.0114, 0.0310, 0.0114,  ..., 0.0114, 0.0114, 0.0114],\n",
       "        [0.0563, 0.0010, 0.0010,  ..., 0.0563, 0.0010, 0.0010],\n",
       "        ...,\n",
       "        [0.3134, 0.0021, 0.0021,  ..., 0.0021, 0.0021, 0.0021],\n",
       "        [0.0374, 0.1017, 0.0019,  ..., 0.1017, 0.2764, 0.0019],\n",
       "        [0.0506, 0.0186, 0.0025,  ..., 0.0506, 0.0506, 0.0506]])"
      ]
     },
     "execution_count": 37,
     "metadata": {},
     "output_type": "execute_result"
    }
   ],
   "source": [
    "filtered_third_slot_distributions = third_slot_distributions[common_users_second_third_slot]\n",
    "filtered_third_slot_distributions"
   ]
  },
  {
   "cell_type": "code",
   "execution_count": 38,
   "metadata": {},
   "outputs": [
    {
     "name": "stdout",
     "output_type": "stream",
     "text": [
      "torch.Size([101, 18])\n",
      "tensor([[-0.1860, -0.1860, -0.0085,  ..., -0.1860, -0.1860, -0.1860],\n",
      "        [-0.0857, -0.1730, -0.0857,  ..., -0.1718, -0.1718, -0.1718],\n",
      "        [-0.1590, -0.2796, -0.0068,  ..., -0.0780, -0.2796, -0.0068],\n",
      "        ...,\n",
      "        [-0.1665, -0.1508, -0.2727,  ..., -0.1508, -0.1508, -0.0740],\n",
      "        [-0.1409, -0.2690, -0.1393,  ..., -0.2690, -0.2903, -0.0136],\n",
      "        [-0.2472, -0.2438, -0.0124,  ..., -0.2472, -0.0125, -0.0125]])\n"
     ]
    }
   ],
   "source": [
    "variation_distance = torch.nn.functional.kl_div(input=filtered_third_slot_distributions, target=filtered_second_slot_distributions, reduction='none')\n",
    "print(variation_distance.shape)\n",
    "print(variation_distance)"
   ]
  },
  {
   "cell_type": "code",
   "execution_count": 39,
   "metadata": {},
   "outputs": [
    {
     "name": "stdout",
     "output_type": "stream",
     "text": [
      "torch.Size([18])\n",
      "tensor([-0.1661, -0.1473, -0.1178, -0.1309, -0.1542, -0.1728, -0.0701, -0.1998,\n",
      "        -0.0831, -0.1052, -0.1113, -0.1287, -0.1760, -0.1753, -0.1629, -0.1783,\n",
      "        -0.1863, -0.1071])\n"
     ]
    }
   ],
   "source": [
    "variation_distance = torch.mean(variation_distance, dim=0)\n",
    "print(variation_distance.shape)\n",
    "print(variation_distance)"
   ]
  },
  {
   "cell_type": "code",
   "execution_count": 40,
   "metadata": {},
   "outputs": [
    {
     "data": {
      "text/plain": [
       "0    -0.166058\n",
       "1    -0.147253\n",
       "2    -0.117769\n",
       "3    -0.130891\n",
       "4    -0.154159\n",
       "5    -0.172830\n",
       "6    -0.070083\n",
       "7    -0.199836\n",
       "8    -0.083067\n",
       "9    -0.105176\n",
       "10   -0.111307\n",
       "11   -0.128714\n",
       "12   -0.176022\n",
       "13   -0.175306\n",
       "14   -0.162879\n",
       "15   -0.178291\n",
       "16   -0.186259\n",
       "17   -0.107086\n",
       "dtype: float32"
      ]
     },
     "execution_count": 40,
     "metadata": {},
     "output_type": "execute_result"
    }
   ],
   "source": [
    "second_third_series = pd.Series(variation_distance)\n",
    "second_third_series"
   ]
  },
  {
   "cell_type": "markdown",
   "metadata": {},
   "source": [
    "## Fourth time slot"
   ]
  },
  {
   "cell_type": "code",
   "execution_count": 41,
   "metadata": {},
   "outputs": [
    {
     "name": "stdout",
     "output_type": "stream",
     "text": [
      "104\n",
      "[11, 12, 13, 523, 524, 530, 20, 22, 24, 26, 542, 37, 556, 47, 569, 58, 65, 75, 76, 587, 595, 88, 90, 602, 97, 98, 101, 102, 618, 620, 116, 118, 630, 633, 121, 635, 122, 127, 130, 648, 137, 649, 139, 650, 662, 153, 673, 163, 685, 694, 696, 703, 192, 193, 711, 206, 207, 739, 229, 233, 748, 239, 752, 764, 784, 815, 816, 817, 313, 829, 318, 833, 845, 340, 860, 862, 867, 369, 374, 892, 387, 393, 405, 409, 921, 931, 422, 428, 442, 447, 448, 450, 455, 463, 476, 477, 486, 494, 496, 498, 499, 500, 501, 504]\n"
     ]
    }
   ],
   "source": [
    "common_users_third_fourth_slot = list(set(third_slot_active_users) & set(fourth_slot_active_users))\n",
    "print(len(common_users_third_fourth_slot))\n",
    "print(common_users_third_fourth_slot)"
   ]
  },
  {
   "cell_type": "code",
   "execution_count": 42,
   "metadata": {},
   "outputs": [
    {
     "data": {
      "text/plain": [
       "tensor([[0.1283, 0.1283, 0.0009,  ..., 0.1283, 0.0009, 0.0009],\n",
       "        [0.0530, 0.0530, 0.0530,  ..., 0.0530, 0.0530, 0.0530],\n",
       "        [0.0534, 0.0534, 0.0534,  ..., 0.0534, 0.0534, 0.0534],\n",
       "        ...,\n",
       "        [0.0563, 0.1531, 0.0076,  ..., 0.0563, 0.1531, 0.0028],\n",
       "        [0.0374, 0.1017, 0.0019,  ..., 0.1017, 0.2764, 0.0019],\n",
       "        [0.0506, 0.0186, 0.0025,  ..., 0.0506, 0.0506, 0.0506]])"
      ]
     },
     "execution_count": 42,
     "metadata": {},
     "output_type": "execute_result"
    }
   ],
   "source": [
    "filtered_third_slot_distributions = third_slot_distributions[common_users_third_fourth_slot]\n",
    "filtered_third_slot_distributions"
   ]
  },
  {
   "cell_type": "code",
   "execution_count": 43,
   "metadata": {},
   "outputs": [
    {
     "data": {
      "text/plain": [
       "tensor([[0.0539, 0.1466, 0.1466,  ..., 0.0539, 0.0198, 0.0027],\n",
       "        [0.0732, 0.0732, 0.0269,  ..., 0.0732, 0.0036, 0.0036],\n",
       "        [0.0709, 0.0013, 0.0013,  ..., 0.0709, 0.0261, 0.1927],\n",
       "        ...,\n",
       "        [0.0364, 0.0989, 0.0364,  ..., 0.0989, 0.0989, 0.0989],\n",
       "        [0.0416, 0.0021, 0.0021,  ..., 0.0416, 0.0021, 0.3075],\n",
       "        [0.4050, 0.0027, 0.0027,  ..., 0.0027, 0.0027, 0.0027]])"
      ]
     },
     "execution_count": 43,
     "metadata": {},
     "output_type": "execute_result"
    }
   ],
   "source": [
    "filtered_fourth_slot_distributions = fourth_slot_distributions[common_users_third_fourth_slot]\n",
    "filtered_fourth_slot_distributions"
   ]
  },
  {
   "cell_type": "code",
   "execution_count": 44,
   "metadata": {},
   "outputs": [
    {
     "name": "stdout",
     "output_type": "stream",
     "text": [
      "torch.Size([104, 18])\n",
      "tensor([[-0.2703, -0.2822, -0.0062,  ..., -0.2703, -0.0061, -0.0061],\n",
      "        [-0.1596, -0.1596, -0.1572,  ..., -0.1596, -0.1560, -0.1560],\n",
      "        [-0.1602, -0.1565, -0.1565,  ..., -0.1602, -0.1578, -0.1667],\n",
      "        ...,\n",
      "        [-0.1640, -0.3024, -0.0374,  ..., -0.1676, -0.3024, -0.0168],\n",
      "        [-0.1245, -0.2326, -0.0117,  ..., -0.2367, -0.3560, -0.0123],\n",
      "        [-0.1714, -0.0742, -0.0151,  ..., -0.1511, -0.1511, -0.1511]])\n"
     ]
    }
   ],
   "source": [
    "variation_distance = torch.nn.functional.kl_div(input=filtered_fourth_slot_distributions, target=filtered_third_slot_distributions, reduction='none')\n",
    "print(variation_distance.shape)\n",
    "print(variation_distance)"
   ]
  },
  {
   "cell_type": "code",
   "execution_count": 45,
   "metadata": {},
   "outputs": [
    {
     "name": "stdout",
     "output_type": "stream",
     "text": [
      "torch.Size([18])\n",
      "tensor([-0.1895, -0.1290, -0.0942, -0.1074, -0.1746, -0.1610, -0.0580, -0.2268,\n",
      "        -0.0603, -0.0963, -0.1009, -0.1145, -0.1494, -0.2174, -0.1369, -0.1769,\n",
      "        -0.1401, -0.0805])\n"
     ]
    }
   ],
   "source": [
    "variation_distance = torch.mean(variation_distance, dim=0)\n",
    "print(variation_distance.shape)\n",
    "print(variation_distance)"
   ]
  },
  {
   "cell_type": "code",
   "execution_count": 46,
   "metadata": {},
   "outputs": [
    {
     "data": {
      "text/plain": [
       "0    -0.189475\n",
       "1    -0.129040\n",
       "2    -0.094240\n",
       "3    -0.107362\n",
       "4    -0.174551\n",
       "5    -0.160956\n",
       "6    -0.058026\n",
       "7    -0.226832\n",
       "8    -0.060329\n",
       "9    -0.096262\n",
       "10   -0.100863\n",
       "11   -0.114512\n",
       "12   -0.149380\n",
       "13   -0.217396\n",
       "14   -0.136885\n",
       "15   -0.176940\n",
       "16   -0.140142\n",
       "17   -0.080455\n",
       "dtype: float32"
      ]
     },
     "execution_count": 46,
     "metadata": {},
     "output_type": "execute_result"
    }
   ],
   "source": [
    "third_fourth_series = pd.Series(variation_distance)\n",
    "third_fourth_series"
   ]
  },
  {
   "cell_type": "markdown",
   "metadata": {},
   "source": [
    "## Plot"
   ]
  },
  {
   "cell_type": "code",
   "execution_count": 47,
   "metadata": {},
   "outputs": [
    {
     "data": {
      "text/html": [
       "<div>\n",
       "<style scoped>\n",
       "    .dataframe tbody tr th:only-of-type {\n",
       "        vertical-align: middle;\n",
       "    }\n",
       "\n",
       "    .dataframe tbody tr th {\n",
       "        vertical-align: top;\n",
       "    }\n",
       "\n",
       "    .dataframe thead th {\n",
       "        text-align: right;\n",
       "    }\n",
       "</style>\n",
       "<table border=\"1\" class=\"dataframe\">\n",
       "  <thead>\n",
       "    <tr style=\"text-align: right;\">\n",
       "      <th></th>\n",
       "      <th>0</th>\n",
       "      <th>1</th>\n",
       "      <th>2</th>\n",
       "    </tr>\n",
       "  </thead>\n",
       "  <tbody>\n",
       "    <tr>\n",
       "      <th>0</th>\n",
       "      <td>-0.169598</td>\n",
       "      <td>-0.166058</td>\n",
       "      <td>-0.189475</td>\n",
       "    </tr>\n",
       "    <tr>\n",
       "      <th>1</th>\n",
       "      <td>-0.144867</td>\n",
       "      <td>-0.147253</td>\n",
       "      <td>-0.129040</td>\n",
       "    </tr>\n",
       "    <tr>\n",
       "      <th>2</th>\n",
       "      <td>-0.130904</td>\n",
       "      <td>-0.117769</td>\n",
       "      <td>-0.094240</td>\n",
       "    </tr>\n",
       "    <tr>\n",
       "      <th>3</th>\n",
       "      <td>-0.126965</td>\n",
       "      <td>-0.130891</td>\n",
       "      <td>-0.107362</td>\n",
       "    </tr>\n",
       "    <tr>\n",
       "      <th>4</th>\n",
       "      <td>-0.158235</td>\n",
       "      <td>-0.154159</td>\n",
       "      <td>-0.174551</td>\n",
       "    </tr>\n",
       "    <tr>\n",
       "      <th>5</th>\n",
       "      <td>-0.165181</td>\n",
       "      <td>-0.172830</td>\n",
       "      <td>-0.160956</td>\n",
       "    </tr>\n",
       "    <tr>\n",
       "      <th>6</th>\n",
       "      <td>-0.079213</td>\n",
       "      <td>-0.070083</td>\n",
       "      <td>-0.058026</td>\n",
       "    </tr>\n",
       "    <tr>\n",
       "      <th>7</th>\n",
       "      <td>-0.191549</td>\n",
       "      <td>-0.199836</td>\n",
       "      <td>-0.226832</td>\n",
       "    </tr>\n",
       "    <tr>\n",
       "      <th>8</th>\n",
       "      <td>-0.073826</td>\n",
       "      <td>-0.083067</td>\n",
       "      <td>-0.060329</td>\n",
       "    </tr>\n",
       "    <tr>\n",
       "      <th>9</th>\n",
       "      <td>-0.108802</td>\n",
       "      <td>-0.105176</td>\n",
       "      <td>-0.096262</td>\n",
       "    </tr>\n",
       "    <tr>\n",
       "      <th>10</th>\n",
       "      <td>-0.117834</td>\n",
       "      <td>-0.111307</td>\n",
       "      <td>-0.100863</td>\n",
       "    </tr>\n",
       "    <tr>\n",
       "      <th>11</th>\n",
       "      <td>-0.130679</td>\n",
       "      <td>-0.128714</td>\n",
       "      <td>-0.114512</td>\n",
       "    </tr>\n",
       "    <tr>\n",
       "      <th>12</th>\n",
       "      <td>-0.155011</td>\n",
       "      <td>-0.176022</td>\n",
       "      <td>-0.149380</td>\n",
       "    </tr>\n",
       "    <tr>\n",
       "      <th>13</th>\n",
       "      <td>-0.174065</td>\n",
       "      <td>-0.175306</td>\n",
       "      <td>-0.217396</td>\n",
       "    </tr>\n",
       "    <tr>\n",
       "      <th>14</th>\n",
       "      <td>-0.159641</td>\n",
       "      <td>-0.162879</td>\n",
       "      <td>-0.136885</td>\n",
       "    </tr>\n",
       "    <tr>\n",
       "      <th>15</th>\n",
       "      <td>-0.176663</td>\n",
       "      <td>-0.178291</td>\n",
       "      <td>-0.176940</td>\n",
       "    </tr>\n",
       "    <tr>\n",
       "      <th>16</th>\n",
       "      <td>-0.195092</td>\n",
       "      <td>-0.186259</td>\n",
       "      <td>-0.140142</td>\n",
       "    </tr>\n",
       "    <tr>\n",
       "      <th>17</th>\n",
       "      <td>-0.099771</td>\n",
       "      <td>-0.107086</td>\n",
       "      <td>-0.080455</td>\n",
       "    </tr>\n",
       "  </tbody>\n",
       "</table>\n",
       "</div>"
      ],
      "text/plain": [
       "           0         1         2\n",
       "0  -0.169598 -0.166058 -0.189475\n",
       "1  -0.144867 -0.147253 -0.129040\n",
       "2  -0.130904 -0.117769 -0.094240\n",
       "3  -0.126965 -0.130891 -0.107362\n",
       "4  -0.158235 -0.154159 -0.174551\n",
       "5  -0.165181 -0.172830 -0.160956\n",
       "6  -0.079213 -0.070083 -0.058026\n",
       "7  -0.191549 -0.199836 -0.226832\n",
       "8  -0.073826 -0.083067 -0.060329\n",
       "9  -0.108802 -0.105176 -0.096262\n",
       "10 -0.117834 -0.111307 -0.100863\n",
       "11 -0.130679 -0.128714 -0.114512\n",
       "12 -0.155011 -0.176022 -0.149380\n",
       "13 -0.174065 -0.175306 -0.217396\n",
       "14 -0.159641 -0.162879 -0.136885\n",
       "15 -0.176663 -0.178291 -0.176940\n",
       "16 -0.195092 -0.186259 -0.140142\n",
       "17 -0.099771 -0.107086 -0.080455"
      ]
     },
     "execution_count": 47,
     "metadata": {},
     "output_type": "execute_result"
    }
   ],
   "source": [
    "df = pd.concat([first_second_series, second_third_series, third_fourth_series], axis=1)\n",
    "df"
   ]
  },
  {
   "cell_type": "code",
   "execution_count": 48,
   "metadata": {},
   "outputs": [
    {
     "data": {
      "image/png": "[encoded data removed]",
      "text/plain": [
       "<Figure size 640x480 with 1 Axes>"
      ]
     },
     "metadata": {},
     "output_type": "display_data"
    }
   ],
   "source": [
    "colors = sns.color_palette(\"viridis\", n_colors=len(df.columns))\n",
    "ax = df.plot.kde(color=colors, linewidth=2)\n",
    "plt.title('Estimated densities of total variation scores with respect to the previous two months')\n",
    "plt.xlabel('Total variation')\n",
    "plt.ylabel('Density')\n",
    "labels = ['M1-2 vs M3-4', 'M3-4 vs M5-6', 'M5-6 vs M7-8']\n",
    "plt.legend(labels)\n",
    "plt.show()"
   ]
  },
  {
   "cell_type": "markdown",
   "metadata": {},
   "source": [
    "# Preference change from previous slot with full history"
   ]
  },
  {
   "cell_type": "markdown",
   "metadata": {},
   "source": [
    "## First time slot"
   ]
  },
  {
   "cell_type": "code",
   "execution_count": 49,
   "metadata": {},
   "outputs": [
    {
     "data": {
      "text/html": [
       "<div>\n",
       "<style scoped>\n",
       "    .dataframe tbody tr th:only-of-type {\n",
       "        vertical-align: middle;\n",
       "    }\n",
       "\n",
       "    .dataframe tbody tr th {\n",
       "        vertical-align: top;\n",
       "    }\n",
       "\n",
       "    .dataframe thead th {\n",
       "        text-align: right;\n",
       "    }\n",
       "</style>\n",
       "<table border=\"1\" class=\"dataframe\">\n",
       "  <thead>\n",
       "    <tr style=\"text-align: right;\">\n",
       "      <th></th>\n",
       "      <th>UserID</th>\n",
       "      <th>MovieID</th>\n",
       "      <th>CategoryID</th>\n",
       "      <th>Rating</th>\n",
       "      <th>Timestamp</th>\n",
       "      <th>Month</th>\n",
       "    </tr>\n",
       "  </thead>\n",
       "  <tbody>\n",
       "    <tr>\n",
       "      <th>474</th>\n",
       "      <td>101</td>\n",
       "      <td>177</td>\n",
       "      <td>4</td>\n",
       "      <td>4</td>\n",
       "      <td>1997-09-20 03:05:10</td>\n",
       "      <td>1997-09</td>\n",
       "    </tr>\n",
       "    <tr>\n",
       "      <th>178269</th>\n",
       "      <td>101</td>\n",
       "      <td>289</td>\n",
       "      <td>7</td>\n",
       "      <td>4</td>\n",
       "      <td>1997-09-20 03:05:27</td>\n",
       "      <td>1997-09</td>\n",
       "    </tr>\n",
       "    <tr>\n",
       "      <th>90841</th>\n",
       "      <td>101</td>\n",
       "      <td>153</td>\n",
       "      <td>0</td>\n",
       "      <td>4</td>\n",
       "      <td>1997-09-20 03:05:54</td>\n",
       "      <td>1997-09</td>\n",
       "    </tr>\n",
       "    <tr>\n",
       "      <th>45079</th>\n",
       "      <td>101</td>\n",
       "      <td>361</td>\n",
       "      <td>10</td>\n",
       "      <td>4</td>\n",
       "      <td>1997-09-20 03:06:21</td>\n",
       "      <td>1997-09</td>\n",
       "    </tr>\n",
       "    <tr>\n",
       "      <th>175466</th>\n",
       "      <td>101</td>\n",
       "      <td>321</td>\n",
       "      <td>0</td>\n",
       "      <td>4</td>\n",
       "      <td>1997-09-20 03:07:23</td>\n",
       "      <td>1997-09</td>\n",
       "    </tr>\n",
       "    <tr>\n",
       "      <th>...</th>\n",
       "      <td>...</td>\n",
       "      <td>...</td>\n",
       "      <td>...</td>\n",
       "      <td>...</td>\n",
       "      <td>...</td>\n",
       "      <td>...</td>\n",
       "    </tr>\n",
       "    <tr>\n",
       "      <th>45918</th>\n",
       "      <td>92</td>\n",
       "      <td>204</td>\n",
       "      <td>7</td>\n",
       "      <td>4</td>\n",
       "      <td>1997-10-31 23:41:55</td>\n",
       "      <td>1997-10</td>\n",
       "    </tr>\n",
       "    <tr>\n",
       "      <th>45419</th>\n",
       "      <td>92</td>\n",
       "      <td>24</td>\n",
       "      <td>2</td>\n",
       "      <td>4</td>\n",
       "      <td>1997-10-31 23:41:55</td>\n",
       "      <td>1997-10</td>\n",
       "    </tr>\n",
       "    <tr>\n",
       "      <th>2661</th>\n",
       "      <td>92</td>\n",
       "      <td>68</td>\n",
       "      <td>7</td>\n",
       "      <td>4</td>\n",
       "      <td>1997-10-31 23:42:23</td>\n",
       "      <td>1997-10</td>\n",
       "    </tr>\n",
       "    <tr>\n",
       "      <th>39628</th>\n",
       "      <td>92</td>\n",
       "      <td>452</td>\n",
       "      <td>0</td>\n",
       "      <td>4</td>\n",
       "      <td>1997-10-31 23:42:23</td>\n",
       "      <td>1997-10</td>\n",
       "    </tr>\n",
       "    <tr>\n",
       "      <th>184904</th>\n",
       "      <td>92</td>\n",
       "      <td>103</td>\n",
       "      <td>1</td>\n",
       "      <td>4</td>\n",
       "      <td>1997-10-31 23:42:50</td>\n",
       "      <td>1997-10</td>\n",
       "    </tr>\n",
       "  </tbody>\n",
       "</table>\n",
       "<p>17008 rows × 6 columns</p>\n",
       "</div>"
      ],
      "text/plain": [
       "        UserID  MovieID  CategoryID  Rating           Timestamp    Month\n",
       "474        101      177           4       4 1997-09-20 03:05:10  1997-09\n",
       "178269     101      289           7       4 1997-09-20 03:05:27  1997-09\n",
       "90841      101      153           0       4 1997-09-20 03:05:54  1997-09\n",
       "45079      101      361          10       4 1997-09-20 03:06:21  1997-09\n",
       "175466     101      321           0       4 1997-09-20 03:07:23  1997-09\n",
       "...        ...      ...         ...     ...                 ...      ...\n",
       "45918       92      204           7       4 1997-10-31 23:41:55  1997-10\n",
       "45419       92       24           2       4 1997-10-31 23:41:55  1997-10\n",
       "2661        92       68           7       4 1997-10-31 23:42:23  1997-10\n",
       "39628       92      452           0       4 1997-10-31 23:42:23  1997-10\n",
       "184904      92      103           1       4 1997-10-31 23:42:50  1997-10\n",
       "\n",
       "[17008 rows x 6 columns]"
      ]
     },
     "execution_count": 49,
     "metadata": {},
     "output_type": "execute_result"
    }
   ],
   "source": [
    "start_date_slot_1 = pd.to_datetime('1997-09-20')\n",
    "end_date_slot_1 = pd.to_datetime('1997-11-01')\n",
    "dataframe_1 = dataframe[dataframe['Timestamp'].between(start_date_slot_1, end_date_slot_1)]\n",
    "dataframe_1 = dataframe_1.sort_values(by='Timestamp')\n",
    "dataframe_1"
   ]
  },
  {
   "cell_type": "code",
   "execution_count": 50,
   "metadata": {},
   "outputs": [
    {
     "name": "stdout",
     "output_type": "stream",
     "text": [
      "torch.Size([943, 18])\n",
      "tensor([[0.0556, 0.0556, 0.0556,  ..., 0.0556, 0.0556, 0.0556],\n",
      "        [0.0556, 0.0556, 0.0556,  ..., 0.0556, 0.0556, 0.0556],\n",
      "        [0.0556, 0.0556, 0.0556,  ..., 0.0556, 0.0556, 0.0556],\n",
      "        ...,\n",
      "        [0.0556, 0.0556, 0.0556,  ..., 0.0556, 0.0556, 0.0556],\n",
      "        [0.0556, 0.0556, 0.0556,  ..., 0.0556, 0.0556, 0.0556],\n",
      "        [0.0517, 0.0517, 0.1406,  ..., 0.0517, 0.1406, 0.0009]])\n",
      "190\n",
      "[11, 12, 18, 20, 22, 26, 27, 28, 29, 34, 37, 39, 42, 49, 56, 65, 70, 74, 75, 76, 82, 84, 92, 95, 98, 101, 107, 108, 110, 111, 116, 118, 121, 125, 131, 133, 137, 139, 143, 144, 146, 147, 149, 153, 158, 161, 175, 178, 192, 194, 198, 207, 214, 219, 220, 224, 239, 246, 255, 263, 264, 274, 278, 286, 289, 299, 301, 315, 317, 322, 329, 334, 335, 339, 342, 345, 361, 363, 364, 367, 368, 378, 380, 383, 391, 392, 393, 397, 405, 407, 409, 416, 432, 436, 446, 448, 461, 463, 465, 472, 477, 484, 487, 490, 501, 504, 512, 523, 527, 535, 537, 542, 545, 551, 574, 578, 587, 593, 594, 596, 602, 618, 621, 627, 630, 635, 639, 645, 652, 658, 662, 668, 676, 679, 681, 683, 685, 689, 690, 691, 701, 703, 705, 706, 711, 713, 721, 727, 728, 738, 749, 759, 767, 770, 771, 772, 773, 776, 781, 792, 793, 795, 800, 809, 810, 813, 826, 830, 834, 838, 845, 852, 860, 862, 864, 867, 869, 878, 882, 883, 889, 895, 905, 909, 912, 915, 928, 935, 937, 942]\n"
     ]
    }
   ],
   "source": [
    "first_slot_distributions = []\n",
    "first_slot_active_users = []\n",
    "for user_id in range(dataset.n_users):\n",
    "    user_dataframe = dataframe_1[dataframe_1['UserID'] == user_id]\n",
    "    user_items = user_dataframe['MovieID'].values\n",
    "    user_distribution, active_user = get_user_distribution(user_dataframe, user_items)\n",
    "    first_slot_distributions.append(user_distribution)\n",
    "    if active_user:\n",
    "        first_slot_active_users.append(user_id)\n",
    "first_slot_distributions = torch.vstack(first_slot_distributions)\n",
    "print(first_slot_distributions.shape)\n",
    "print(first_slot_distributions)\n",
    "print(len(first_slot_active_users))\n",
    "print(first_slot_active_users)"
   ]
  },
  {
   "cell_type": "markdown",
   "metadata": {},
   "source": [
    "## Second time slot"
   ]
  },
  {
   "cell_type": "code",
   "execution_count": 51,
   "metadata": {},
   "outputs": [
    {
     "data": {
      "text/html": [
       "<div>\n",
       "<style scoped>\n",
       "    .dataframe tbody tr th:only-of-type {\n",
       "        vertical-align: middle;\n",
       "    }\n",
       "\n",
       "    .dataframe tbody tr th {\n",
       "        vertical-align: top;\n",
       "    }\n",
       "\n",
       "    .dataframe thead th {\n",
       "        text-align: right;\n",
       "    }\n",
       "</style>\n",
       "<table border=\"1\" class=\"dataframe\">\n",
       "  <thead>\n",
       "    <tr style=\"text-align: right;\">\n",
       "      <th></th>\n",
       "      <th>UserID</th>\n",
       "      <th>MovieID</th>\n",
       "      <th>CategoryID</th>\n",
       "      <th>Rating</th>\n",
       "      <th>Timestamp</th>\n",
       "      <th>Month</th>\n",
       "    </tr>\n",
       "  </thead>\n",
       "  <tbody>\n",
       "    <tr>\n",
       "      <th>474</th>\n",
       "      <td>101</td>\n",
       "      <td>177</td>\n",
       "      <td>4</td>\n",
       "      <td>4</td>\n",
       "      <td>1997-09-20 03:05:10</td>\n",
       "      <td>1997-09</td>\n",
       "    </tr>\n",
       "    <tr>\n",
       "      <th>178269</th>\n",
       "      <td>101</td>\n",
       "      <td>289</td>\n",
       "      <td>7</td>\n",
       "      <td>4</td>\n",
       "      <td>1997-09-20 03:05:27</td>\n",
       "      <td>1997-09</td>\n",
       "    </tr>\n",
       "    <tr>\n",
       "      <th>90841</th>\n",
       "      <td>101</td>\n",
       "      <td>153</td>\n",
       "      <td>0</td>\n",
       "      <td>4</td>\n",
       "      <td>1997-09-20 03:05:54</td>\n",
       "      <td>1997-09</td>\n",
       "    </tr>\n",
       "    <tr>\n",
       "      <th>45079</th>\n",
       "      <td>101</td>\n",
       "      <td>361</td>\n",
       "      <td>10</td>\n",
       "      <td>4</td>\n",
       "      <td>1997-09-20 03:06:21</td>\n",
       "      <td>1997-09</td>\n",
       "    </tr>\n",
       "    <tr>\n",
       "      <th>175466</th>\n",
       "      <td>101</td>\n",
       "      <td>321</td>\n",
       "      <td>0</td>\n",
       "      <td>4</td>\n",
       "      <td>1997-09-20 03:07:23</td>\n",
       "      <td>1997-09</td>\n",
       "    </tr>\n",
       "    <tr>\n",
       "      <th>...</th>\n",
       "      <td>...</td>\n",
       "      <td>...</td>\n",
       "      <td>...</td>\n",
       "      <td>...</td>\n",
       "      <td>...</td>\n",
       "      <td>...</td>\n",
       "    </tr>\n",
       "    <tr>\n",
       "      <th>152165</th>\n",
       "      <td>288</td>\n",
       "      <td>48</td>\n",
       "      <td>5</td>\n",
       "      <td>4</td>\n",
       "      <td>1997-12-31 23:38:02</td>\n",
       "      <td>1997-12</td>\n",
       "    </tr>\n",
       "    <tr>\n",
       "      <th>38809</th>\n",
       "      <td>288</td>\n",
       "      <td>1167</td>\n",
       "      <td>2</td>\n",
       "      <td>3</td>\n",
       "      <td>1997-12-31 23:38:33</td>\n",
       "      <td>1997-12</td>\n",
       "    </tr>\n",
       "    <tr>\n",
       "      <th>62684</th>\n",
       "      <td>92</td>\n",
       "      <td>719</td>\n",
       "      <td>0</td>\n",
       "      <td>4</td>\n",
       "      <td>1997-12-31 23:51:08</td>\n",
       "      <td>1997-12</td>\n",
       "    </tr>\n",
       "    <tr>\n",
       "      <th>386</th>\n",
       "      <td>92</td>\n",
       "      <td>95</td>\n",
       "      <td>4</td>\n",
       "      <td>4</td>\n",
       "      <td>1997-12-31 23:52:36</td>\n",
       "      <td>1997-12</td>\n",
       "    </tr>\n",
       "    <tr>\n",
       "      <th>91731</th>\n",
       "      <td>92</td>\n",
       "      <td>153</td>\n",
       "      <td>0</td>\n",
       "      <td>2</td>\n",
       "      <td>1997-12-31 23:58:46</td>\n",
       "      <td>1997-12</td>\n",
       "    </tr>\n",
       "  </tbody>\n",
       "</table>\n",
       "<p>52899 rows × 6 columns</p>\n",
       "</div>"
      ],
      "text/plain": [
       "        UserID  MovieID  CategoryID  Rating           Timestamp    Month\n",
       "474        101      177           4       4 1997-09-20 03:05:10  1997-09\n",
       "178269     101      289           7       4 1997-09-20 03:05:27  1997-09\n",
       "90841      101      153           0       4 1997-09-20 03:05:54  1997-09\n",
       "45079      101      361          10       4 1997-09-20 03:06:21  1997-09\n",
       "175466     101      321           0       4 1997-09-20 03:07:23  1997-09\n",
       "...        ...      ...         ...     ...                 ...      ...\n",
       "152165     288       48           5       4 1997-12-31 23:38:02  1997-12\n",
       "38809      288     1167           2       3 1997-12-31 23:38:33  1997-12\n",
       "62684       92      719           0       4 1997-12-31 23:51:08  1997-12\n",
       "386         92       95           4       4 1997-12-31 23:52:36  1997-12\n",
       "91731       92      153           0       2 1997-12-31 23:58:46  1997-12\n",
       "\n",
       "[52899 rows x 6 columns]"
      ]
     },
     "execution_count": 51,
     "metadata": {},
     "output_type": "execute_result"
    }
   ],
   "source": [
    "start_date_slot_2 = pd.to_datetime('1997-09-20')\n",
    "end_date_slot_2 = pd.to_datetime('1998-01-01')\n",
    "dataframe_2 = dataframe[dataframe['Timestamp'].between(start_date_slot_2, end_date_slot_2)]\n",
    "dataframe_2 = dataframe_2.sort_values(by='Timestamp')\n",
    "dataframe_2"
   ]
  },
  {
   "cell_type": "code",
   "execution_count": 52,
   "metadata": {},
   "outputs": [
    {
     "name": "stdout",
     "output_type": "stream",
     "text": [
      "torch.Size([943, 18])\n",
      "tensor([[0.0189, 0.0189, 0.0026,  ..., 0.0026, 0.0514, 0.0026],\n",
      "        [0.0355, 0.0355, 0.0965,  ..., 0.0965, 0.0355, 0.2622],\n",
      "        [0.0733, 0.0270, 0.0013,  ..., 0.0733, 0.0733, 0.0733],\n",
      "        ...,\n",
      "        [0.0835, 0.0307, 0.0307,  ..., 0.0835, 0.0835, 0.0042],\n",
      "        [0.0556, 0.0556, 0.0556,  ..., 0.0556, 0.0556, 0.0556],\n",
      "        [0.0517, 0.0517, 0.1406,  ..., 0.0517, 0.1406, 0.0009]])\n",
      "530\n",
      "[0, 1, 2, 3, 6, 9, 10, 11, 12, 15, 16, 17, 18, 20, 22, 24, 26, 27, 28, 29, 30, 31, 32, 34, 35, 37, 39, 42, 44, 45, 47, 49, 53, 54, 55, 56, 57, 58, 59, 60, 64, 65, 70, 71, 73, 74, 75, 76, 77, 78, 81, 82, 84, 89, 91, 92, 95, 96, 98, 99, 101, 102, 103, 106, 107, 108, 110, 111, 112, 113, 114, 116, 117, 118, 120, 121, 122, 123, 125, 126, 127, 128, 129, 130, 131, 133, 135, 137, 138, 139, 141, 143, 144, 146, 147, 149, 150, 151, 152, 153, 156, 158, 159, 161, 166, 173, 174, 175, 178, 181, 182, 183, 185, 186, 187, 188, 192, 194, 197, 198, 199, 200, 202, 204, 207, 212, 213, 214, 215, 219, 220, 221, 222, 223, 224, 225, 227, 228, 233, 235, 237, 239, 240, 241, 242, 243, 244, 246, 249, 251, 253, 255, 256, 257, 260, 261, 263, 264, 265, 270, 272, 273, 274, 278, 279, 281, 282, 283, 284, 286, 288, 289, 290, 295, 298, 299, 300, 301, 302, 303, 304, 310, 315, 317, 320, 321, 322, 327, 329, 332, 334, 335, 339, 342, 343, 345, 346, 349, 352, 354, 356, 358, 360, 361, 363, 364, 365, 366, 367, 368, 369, 374, 377, 378, 380, 383, 384, 386, 389, 390, 391, 392, 393, 394, 397, 401, 404, 405, 406, 407, 408, 409, 413, 414, 416, 417, 418, 419, 421, 423, 425, 429, 430, 432, 434, 435, 436, 437, 440, 441, 442, 443, 444, 445, 446, 447, 448, 450, 453, 454, 457, 458, 460, 461, 463, 464, 465, 468, 469, 470, 472, 473, 476, 477, 478, 479, 482, 484, 486, 487, 488, 490, 491, 493, 494, 498, 501, 502, 504, 512, 513, 517, 518, 521, 523, 526, 527, 528, 530, 531, 532, 535, 537, 539, 540, 542, 545, 548, 549, 550, 551, 552, 553, 555, 557, 558, 559, 560, 564, 565, 566, 567, 569, 570, 572, 573, 574, 578, 581, 583, 584, 586, 587, 588, 589, 590, 591, 592, 593, 594, 596, 599, 602, 603, 609, 611, 614, 617, 618, 620, 621, 622, 624, 626, 627, 628, 630, 634, 635, 636, 639, 640, 644, 645, 647, 649, 652, 658, 661, 662, 663, 665, 666, 668, 672, 676, 677, 679, 680, 681, 682, 683, 684, 685, 687, 689, 690, 691, 692, 694, 696, 701, 702, 703, 704, 705, 706, 708, 710, 711, 713, 716, 721, 722, 726, 727, 728, 729, 731, 732, 733, 735, 736, 737, 738, 740, 742, 743, 746, 749, 752, 753, 754, 755, 756, 758, 759, 762, 763, 764, 766, 767, 770, 771, 772, 773, 776, 779, 781, 782, 783, 787, 789, 791, 792, 793, 794, 795, 797, 798, 800, 801, 802, 803, 805, 808, 809, 810, 813, 814, 815, 816, 817, 822, 826, 830, 833, 834, 835, 838, 841, 845, 846, 847, 848, 849, 850, 851, 852, 856, 860, 861, 862, 863, 864, 865, 866, 867, 869, 870, 873, 875, 876, 878, 881, 882, 883, 885, 888, 889, 890, 891, 892, 894, 895, 898, 899, 901, 903, 904, 905, 906, 907, 909, 912, 913, 914, 915, 918, 919, 920, 922, 924, 928, 932, 935, 937, 938, 940, 942]\n"
     ]
    }
   ],
   "source": [
    "second_slot_distributions = []\n",
    "second_slot_active_users = []\n",
    "for user_id in range(dataset.n_users):\n",
    "    user_dataframe = dataframe_2[dataframe_2['UserID'] == user_id]\n",
    "    user_items = user_dataframe['MovieID'].values\n",
    "    user_distribution, active_user = get_user_distribution(user_dataframe, user_items)\n",
    "    second_slot_distributions.append(user_distribution)\n",
    "    if active_user:\n",
    "        second_slot_active_users.append(user_id)\n",
    "second_slot_distributions = torch.vstack(second_slot_distributions)\n",
    "print(second_slot_distributions.shape)\n",
    "print(second_slot_distributions)\n",
    "print(len(second_slot_active_users))\n",
    "print(second_slot_active_users)"
   ]
  },
  {
   "cell_type": "code",
   "execution_count": 53,
   "metadata": {},
   "outputs": [
    {
     "name": "stdout",
     "output_type": "stream",
     "text": [
      "190\n",
      "[512, 523, 11, 12, 527, 18, 20, 22, 535, 537, 26, 27, 28, 29, 542, 545, 34, 37, 39, 551, 42, 49, 56, 574, 65, 578, 70, 74, 75, 76, 587, 593, 82, 594, 84, 596, 602, 92, 95, 98, 101, 618, 107, 108, 621, 110, 111, 627, 116, 118, 630, 121, 635, 125, 639, 131, 133, 645, 137, 139, 652, 143, 144, 146, 147, 658, 149, 662, 153, 668, 158, 161, 676, 679, 681, 683, 685, 175, 689, 178, 690, 691, 701, 703, 192, 705, 194, 706, 198, 711, 713, 207, 721, 214, 727, 728, 219, 220, 224, 738, 749, 239, 246, 759, 255, 767, 770, 771, 772, 773, 263, 264, 776, 781, 274, 278, 792, 793, 795, 286, 800, 289, 809, 810, 299, 301, 813, 826, 315, 317, 830, 322, 834, 838, 329, 845, 334, 335, 339, 852, 342, 345, 860, 862, 864, 867, 869, 361, 363, 364, 878, 367, 368, 882, 883, 889, 378, 380, 383, 895, 391, 392, 393, 905, 397, 909, 912, 915, 405, 407, 409, 416, 928, 935, 937, 942, 432, 436, 446, 448, 461, 463, 465, 472, 477, 484, 487, 490, 501, 504]\n"
     ]
    }
   ],
   "source": [
    "common_users_first_second_slot = list(set(first_slot_active_users) & set(second_slot_active_users))\n",
    "print(len(common_users_first_second_slot))\n",
    "print(common_users_first_second_slot)"
   ]
  },
  {
   "cell_type": "code",
   "execution_count": 54,
   "metadata": {},
   "outputs": [
    {
     "data": {
      "text/plain": [
       "tensor([[0.0767, 0.0767, 0.0104,  ..., 0.0767, 0.0767, 0.0014],\n",
       "        [0.0274, 0.0274, 0.0101,  ..., 0.0744, 0.0744, 0.0744],\n",
       "        [0.0621, 0.0228, 0.0621,  ..., 0.0621, 0.0621, 0.0621],\n",
       "        ...,\n",
       "        [0.1036, 0.0019, 0.0019,  ..., 0.1036, 0.0019, 0.0019],\n",
       "        [0.0584, 0.0584, 0.0584,  ..., 0.0584, 0.0584, 0.0584],\n",
       "        [0.0576, 0.0576, 0.0576,  ..., 0.0576, 0.0576, 0.0576]])"
      ]
     },
     "execution_count": 54,
     "metadata": {},
     "output_type": "execute_result"
    }
   ],
   "source": [
    "filtered_first_slot_distributions = first_slot_distributions[common_users_first_second_slot]\n",
    "filtered_first_slot_distributions"
   ]
  },
  {
   "cell_type": "code",
   "execution_count": 55,
   "metadata": {},
   "outputs": [
    {
     "data": {
      "text/plain": [
       "tensor([[0.0767, 0.0767, 0.0104,  ..., 0.0767, 0.0767, 0.0014],\n",
       "        [0.0257, 0.0257, 0.0257,  ..., 0.0699, 0.0699, 0.0699],\n",
       "        [0.0621, 0.0228, 0.0621,  ..., 0.0621, 0.0621, 0.0621],\n",
       "        ...,\n",
       "        [0.1036, 0.0019, 0.0019,  ..., 0.1036, 0.0019, 0.0019],\n",
       "        [0.0584, 0.0584, 0.0584,  ..., 0.0584, 0.0584, 0.0584],\n",
       "        [0.0576, 0.0576, 0.0576,  ..., 0.0576, 0.0576, 0.0576]])"
      ]
     },
     "execution_count": 55,
     "metadata": {},
     "output_type": "execute_result"
    }
   ],
   "source": [
    "filtered_second_slot_distributions = second_slot_distributions[common_users_first_second_slot]\n",
    "filtered_second_slot_distributions"
   ]
  },
  {
   "cell_type": "code",
   "execution_count": 56,
   "metadata": {},
   "outputs": [
    {
     "name": "stdout",
     "output_type": "stream",
     "text": [
      "torch.Size([190, 18])\n",
      "tensor([[-0.2029, -0.2029, -0.0475,  ..., -0.2029, -0.2029, -0.0092],\n",
      "        [-0.0992, -0.0992, -0.0465,  ..., -0.1985, -0.1985, -0.1985],\n",
      "        [-0.1764, -0.0869, -0.1764,  ..., -0.1764, -0.1764, -0.1764],\n",
      "        ...,\n",
      "        [-0.2456, -0.0119, -0.0119,  ..., -0.2456, -0.0119, -0.0119],\n",
      "        [-0.1692, -0.1692, -0.1692,  ..., -0.1692, -0.1692, -0.1692],\n",
      "        [-0.1677, -0.1677, -0.1677,  ..., -0.1677, -0.1677, -0.1677]])\n"
     ]
    }
   ],
   "source": [
    "variation_distance = torch.nn.functional.kl_div(input=filtered_second_slot_distributions, target=filtered_first_slot_distributions, reduction='none')\n",
    "print(variation_distance.shape)\n",
    "print(variation_distance)"
   ]
  },
  {
   "cell_type": "code",
   "execution_count": 57,
   "metadata": {},
   "outputs": [
    {
     "name": "stdout",
     "output_type": "stream",
     "text": [
      "torch.Size([18])\n",
      "tensor([-0.1712, -0.1647, -0.1352, -0.1379, -0.1580, -0.1775, -0.0820, -0.1883,\n",
      "        -0.0784, -0.1087, -0.1201, -0.1300, -0.1644, -0.1768, -0.1659, -0.1710,\n",
      "        -0.2001, -0.0912])\n"
     ]
    }
   ],
   "source": [
    "variation_distance = torch.mean(variation_distance, dim=0)\n",
    "print(variation_distance.shape)\n",
    "print(variation_distance)"
   ]
  },
  {
   "cell_type": "code",
   "execution_count": 58,
   "metadata": {},
   "outputs": [
    {
     "data": {
      "text/plain": [
       "0    -0.171198\n",
       "1    -0.164671\n",
       "2    -0.135211\n",
       "3    -0.137896\n",
       "4    -0.157999\n",
       "5    -0.177458\n",
       "6    -0.081985\n",
       "7    -0.188344\n",
       "8    -0.078400\n",
       "9    -0.108727\n",
       "10   -0.120066\n",
       "11   -0.130029\n",
       "12   -0.164423\n",
       "13   -0.176821\n",
       "14   -0.165949\n",
       "15   -0.170980\n",
       "16   -0.200141\n",
       "17   -0.091166\n",
       "dtype: float32"
      ]
     },
     "execution_count": 58,
     "metadata": {},
     "output_type": "execute_result"
    }
   ],
   "source": [
    "first_second_series = pd.Series(variation_distance)\n",
    "first_second_series"
   ]
  },
  {
   "cell_type": "markdown",
   "metadata": {},
   "source": [
    "## Third time slot"
   ]
  },
  {
   "cell_type": "code",
   "execution_count": 59,
   "metadata": {},
   "outputs": [
    {
     "data": {
      "text/html": [
       "<div>\n",
       "<style scoped>\n",
       "    .dataframe tbody tr th:only-of-type {\n",
       "        vertical-align: middle;\n",
       "    }\n",
       "\n",
       "    .dataframe tbody tr th {\n",
       "        vertical-align: top;\n",
       "    }\n",
       "\n",
       "    .dataframe thead th {\n",
       "        text-align: right;\n",
       "    }\n",
       "</style>\n",
       "<table border=\"1\" class=\"dataframe\">\n",
       "  <thead>\n",
       "    <tr style=\"text-align: right;\">\n",
       "      <th></th>\n",
       "      <th>UserID</th>\n",
       "      <th>MovieID</th>\n",
       "      <th>CategoryID</th>\n",
       "      <th>Rating</th>\n",
       "      <th>Timestamp</th>\n",
       "      <th>Month</th>\n",
       "    </tr>\n",
       "  </thead>\n",
       "  <tbody>\n",
       "    <tr>\n",
       "      <th>474</th>\n",
       "      <td>101</td>\n",
       "      <td>177</td>\n",
       "      <td>4</td>\n",
       "      <td>4</td>\n",
       "      <td>1997-09-20 03:05:10</td>\n",
       "      <td>1997-09</td>\n",
       "    </tr>\n",
       "    <tr>\n",
       "      <th>178269</th>\n",
       "      <td>101</td>\n",
       "      <td>289</td>\n",
       "      <td>7</td>\n",
       "      <td>4</td>\n",
       "      <td>1997-09-20 03:05:27</td>\n",
       "      <td>1997-09</td>\n",
       "    </tr>\n",
       "    <tr>\n",
       "      <th>90841</th>\n",
       "      <td>101</td>\n",
       "      <td>153</td>\n",
       "      <td>0</td>\n",
       "      <td>4</td>\n",
       "      <td>1997-09-20 03:05:54</td>\n",
       "      <td>1997-09</td>\n",
       "    </tr>\n",
       "    <tr>\n",
       "      <th>45079</th>\n",
       "      <td>101</td>\n",
       "      <td>361</td>\n",
       "      <td>10</td>\n",
       "      <td>4</td>\n",
       "      <td>1997-09-20 03:06:21</td>\n",
       "      <td>1997-09</td>\n",
       "    </tr>\n",
       "    <tr>\n",
       "      <th>175466</th>\n",
       "      <td>101</td>\n",
       "      <td>321</td>\n",
       "      <td>0</td>\n",
       "      <td>4</td>\n",
       "      <td>1997-09-20 03:07:23</td>\n",
       "      <td>1997-09</td>\n",
       "    </tr>\n",
       "    <tr>\n",
       "      <th>...</th>\n",
       "      <td>...</td>\n",
       "      <td>...</td>\n",
       "      <td>...</td>\n",
       "      <td>...</td>\n",
       "      <td>...</td>\n",
       "      <td>...</td>\n",
       "    </tr>\n",
       "    <tr>\n",
       "      <th>35133</th>\n",
       "      <td>232</td>\n",
       "      <td>181</td>\n",
       "      <td>0</td>\n",
       "      <td>4</td>\n",
       "      <td>1998-02-28 22:45:39</td>\n",
       "      <td>1998-02</td>\n",
       "    </tr>\n",
       "    <tr>\n",
       "      <th>1563</th>\n",
       "      <td>232</td>\n",
       "      <td>464</td>\n",
       "      <td>1</td>\n",
       "      <td>3</td>\n",
       "      <td>1998-02-28 22:46:06</td>\n",
       "      <td>1998-02</td>\n",
       "    </tr>\n",
       "    <tr>\n",
       "      <th>179112</th>\n",
       "      <td>232</td>\n",
       "      <td>1104</td>\n",
       "      <td>7</td>\n",
       "      <td>3</td>\n",
       "      <td>1998-02-28 22:46:28</td>\n",
       "      <td>1998-02</td>\n",
       "    </tr>\n",
       "    <tr>\n",
       "      <th>5506</th>\n",
       "      <td>232</td>\n",
       "      <td>514</td>\n",
       "      <td>4</td>\n",
       "      <td>2</td>\n",
       "      <td>1998-02-28 22:47:17</td>\n",
       "      <td>1998-02</td>\n",
       "    </tr>\n",
       "    <tr>\n",
       "      <th>33154</th>\n",
       "      <td>253</td>\n",
       "      <td>719</td>\n",
       "      <td>0</td>\n",
       "      <td>4</td>\n",
       "      <td>1998-02-28 22:47:55</td>\n",
       "      <td>1998-02</td>\n",
       "    </tr>\n",
       "  </tbody>\n",
       "</table>\n",
       "<p>77985 rows × 6 columns</p>\n",
       "</div>"
      ],
      "text/plain": [
       "        UserID  MovieID  CategoryID  Rating           Timestamp    Month\n",
       "474        101      177           4       4 1997-09-20 03:05:10  1997-09\n",
       "178269     101      289           7       4 1997-09-20 03:05:27  1997-09\n",
       "90841      101      153           0       4 1997-09-20 03:05:54  1997-09\n",
       "45079      101      361          10       4 1997-09-20 03:06:21  1997-09\n",
       "175466     101      321           0       4 1997-09-20 03:07:23  1997-09\n",
       "...        ...      ...         ...     ...                 ...      ...\n",
       "35133      232      181           0       4 1998-02-28 22:45:39  1998-02\n",
       "1563       232      464           1       3 1998-02-28 22:46:06  1998-02\n",
       "179112     232     1104           7       3 1998-02-28 22:46:28  1998-02\n",
       "5506       232      514           4       2 1998-02-28 22:47:17  1998-02\n",
       "33154      253      719           0       4 1998-02-28 22:47:55  1998-02\n",
       "\n",
       "[77985 rows x 6 columns]"
      ]
     },
     "execution_count": 59,
     "metadata": {},
     "output_type": "execute_result"
    }
   ],
   "source": [
    "start_date_slot_3 = pd.to_datetime('1997-09-20')\n",
    "end_date_slot_3 = pd.to_datetime('1998-03-01')\n",
    "dataframe_3 = dataframe[dataframe['Timestamp'].between(start_date_slot_3, end_date_slot_3)]\n",
    "dataframe_3 = dataframe_3.sort_values(by='Timestamp')\n",
    "dataframe_3"
   ]
  },
  {
   "cell_type": "code",
   "execution_count": 60,
   "metadata": {},
   "outputs": [
    {
     "name": "stdout",
     "output_type": "stream",
     "text": [
      "torch.Size([943, 18])\n",
      "tensor([[0.0189, 0.0189, 0.0026,  ..., 0.0026, 0.0514, 0.0026],\n",
      "        [0.0355, 0.0355, 0.0965,  ..., 0.0965, 0.0355, 0.2622],\n",
      "        [0.0733, 0.0270, 0.0013,  ..., 0.0733, 0.0733, 0.0733],\n",
      "        ...,\n",
      "        [0.0835, 0.0307, 0.0307,  ..., 0.0835, 0.0835, 0.0042],\n",
      "        [0.0747, 0.0747, 0.0037,  ..., 0.0747, 0.0275, 0.0037],\n",
      "        [0.0517, 0.0517, 0.1406,  ..., 0.0517, 0.1406, 0.0009]])\n",
      "736\n",
      "[0, 1, 2, 3, 4, 5, 6, 8, 9, 10, 11, 12, 13, 14, 15, 16, 17, 18, 20, 22, 23, 24, 26, 27, 28, 29, 30, 31, 32, 33, 34, 35, 37, 39, 40, 41, 42, 43, 44, 45, 46, 47, 48, 49, 51, 52, 53, 54, 55, 56, 57, 58, 59, 60, 61, 64, 65, 66, 67, 69, 70, 71, 73, 74, 75, 76, 77, 78, 79, 81, 82, 83, 84, 85, 86, 87, 88, 89, 90, 91, 92, 93, 95, 96, 97, 98, 99, 101, 102, 103, 105, 106, 107, 108, 109, 110, 111, 112, 113, 114, 116, 117, 118, 120, 121, 122, 123, 125, 126, 127, 128, 129, 130, 131, 133, 135, 136, 137, 138, 139, 141, 143, 144, 146, 147, 149, 150, 151, 152, 153, 154, 156, 157, 158, 159, 160, 161, 163, 166, 167, 168, 169, 172, 173, 174, 175, 178, 181, 182, 183, 185, 186, 187, 188, 191, 192, 193, 194, 197, 198, 199, 200, 201, 202, 203, 204, 206, 207, 210, 211, 212, 213, 214, 215, 218, 219, 220, 221, 222, 223, 224, 225, 226, 227, 228, 229, 230, 231, 232, 233, 235, 236, 237, 238, 239, 240, 241, 242, 243, 244, 246, 247, 249, 251, 252, 253, 255, 256, 257, 258, 259, 260, 261, 262, 263, 264, 265, 268, 270, 272, 273, 274, 275, 277, 278, 279, 281, 282, 283, 284, 285, 286, 288, 289, 290, 293, 295, 297, 298, 299, 300, 301, 302, 303, 304, 306, 309, 310, 311, 313, 314, 315, 317, 318, 320, 321, 322, 327, 329, 332, 334, 335, 336, 339, 340, 341, 342, 343, 345, 346, 347, 349, 351, 352, 354, 355, 356, 358, 360, 361, 363, 364, 365, 366, 367, 368, 369, 372, 373, 374, 375, 377, 378, 379, 380, 382, 383, 384, 386, 387, 389, 390, 391, 392, 393, 394, 395, 397, 399, 401, 402, 403, 404, 405, 406, 407, 408, 409, 411, 413, 414, 416, 417, 418, 419, 421, 422, 423, 425, 428, 429, 430, 431, 432, 433, 434, 435, 436, 437, 440, 441, 442, 443, 444, 445, 446, 447, 448, 449, 450, 453, 454, 455, 456, 457, 458, 459, 460, 461, 463, 464, 465, 467, 468, 469, 470, 472, 473, 476, 477, 478, 479, 480, 481, 482, 483, 484, 486, 487, 488, 489, 490, 491, 493, 494, 496, 497, 498, 499, 500, 501, 502, 504, 505, 507, 508, 509, 511, 512, 513, 515, 516, 517, 518, 519, 520, 521, 522, 523, 524, 525, 526, 527, 528, 530, 531, 532, 533, 534, 535, 536, 537, 538, 539, 540, 542, 544, 545, 547, 548, 549, 550, 551, 552, 553, 555, 556, 557, 558, 559, 560, 563, 564, 565, 566, 567, 568, 569, 570, 572, 573, 574, 575, 578, 579, 581, 583, 584, 585, 586, 587, 588, 589, 590, 591, 592, 593, 594, 595, 596, 597, 598, 599, 601, 602, 603, 604, 605, 607, 609, 610, 611, 614, 615, 617, 618, 619, 620, 621, 622, 624, 626, 627, 628, 629, 630, 632, 633, 634, 635, 636, 638, 639, 640, 644, 645, 647, 648, 649, 650, 652, 656, 658, 659, 660, 661, 662, 663, 665, 666, 668, 671, 672, 673, 674, 675, 676, 677, 679, 680, 681, 682, 683, 684, 685, 686, 687, 688, 689, 690, 691, 692, 694, 696, 697, 698, 701, 702, 703, 704, 705, 706, 708, 709, 710, 711, 712, 713, 715, 716, 717, 719, 720, 721, 722, 726, 727, 728, 729, 731, 732, 733, 734, 735, 736, 737, 738, 739, 740, 741, 742, 743, 744, 745, 746, 748, 749, 750, 752, 753, 754, 755, 756, 758, 759, 761, 762, 763, 764, 765, 766, 767, 769, 770, 771, 772, 773, 776, 779, 781, 782, 783, 784, 786, 787, 789, 791, 792, 793, 794, 795, 796, 797, 798, 800, 801, 802, 803, 805, 808, 809, 810, 812, 813, 814, 815, 816, 817, 818, 820, 822, 824, 826, 827, 829, 830, 832, 833, 834, 835, 837, 838, 839, 841, 842, 845, 846, 847, 848, 849, 850, 851, 852, 853, 855, 856, 858, 860, 861, 862, 863, 864, 865, 866, 867, 868, 869, 870, 871, 873, 875, 876, 877, 878, 879, 881, 882, 883, 884, 885, 886, 887, 888, 889, 890, 891, 892, 893, 894, 895, 896, 898, 899, 900, 901, 902, 903, 904, 905, 906, 907, 909, 910, 912, 913, 914, 915, 918, 919, 920, 921, 922, 924, 928, 929, 931, 932, 933, 935, 936, 937, 938, 939, 940, 941, 942]\n"
     ]
    }
   ],
   "source": [
    "third_slot_distributions = []\n",
    "third_slot_active_users = []\n",
    "for user_id in range(dataset.n_users):\n",
    "    user_dataframe = dataframe_3[dataframe_3['UserID'] == user_id]\n",
    "    user_items = user_dataframe['MovieID'].values\n",
    "    user_distribution, active_user = get_user_distribution(user_dataframe, user_items)\n",
    "    third_slot_distributions.append(user_distribution)\n",
    "    if active_user:\n",
    "        third_slot_active_users.append(user_id)\n",
    "third_slot_distributions = torch.vstack(third_slot_distributions)\n",
    "print(third_slot_distributions.shape)\n",
    "print(third_slot_distributions)\n",
    "print(len(third_slot_active_users))\n",
    "print(third_slot_active_users)"
   ]
  },
  {
   "cell_type": "code",
   "execution_count": 61,
   "metadata": {},
   "outputs": [
    {
     "name": "stdout",
     "output_type": "stream",
     "text": [
      "530\n",
      "[0, 1, 2, 3, 6, 9, 10, 11, 12, 15, 16, 17, 18, 20, 22, 24, 26, 27, 28, 29, 30, 31, 32, 34, 35, 37, 39, 42, 44, 45, 47, 49, 53, 54, 55, 56, 57, 58, 59, 60, 64, 65, 70, 71, 73, 74, 75, 76, 77, 78, 81, 82, 84, 89, 91, 92, 95, 96, 98, 99, 101, 102, 103, 106, 107, 108, 110, 111, 112, 113, 114, 116, 117, 118, 120, 121, 122, 123, 125, 126, 127, 128, 129, 130, 131, 133, 135, 137, 138, 139, 141, 143, 144, 146, 147, 149, 150, 151, 152, 153, 156, 158, 159, 161, 166, 173, 174, 175, 178, 181, 182, 183, 185, 186, 187, 188, 192, 194, 197, 198, 199, 200, 202, 204, 207, 212, 213, 214, 215, 219, 220, 221, 222, 223, 224, 225, 227, 228, 233, 235, 237, 239, 240, 241, 242, 243, 244, 246, 249, 251, 253, 255, 256, 257, 260, 261, 263, 264, 265, 270, 272, 273, 274, 278, 279, 281, 282, 283, 284, 286, 288, 289, 290, 295, 298, 299, 300, 301, 302, 303, 304, 310, 315, 317, 320, 321, 322, 327, 329, 332, 334, 335, 339, 342, 343, 345, 346, 349, 352, 354, 356, 358, 360, 361, 363, 364, 365, 366, 367, 368, 369, 374, 377, 378, 380, 383, 384, 386, 389, 390, 391, 392, 393, 394, 397, 401, 404, 405, 406, 407, 408, 409, 413, 414, 416, 417, 418, 419, 421, 423, 425, 429, 430, 432, 434, 435, 436, 437, 440, 441, 442, 443, 444, 445, 446, 447, 448, 450, 453, 454, 457, 458, 460, 461, 463, 464, 465, 468, 469, 470, 472, 473, 476, 477, 478, 479, 482, 484, 486, 487, 488, 490, 491, 493, 494, 498, 501, 502, 504, 512, 513, 517, 518, 521, 523, 526, 527, 528, 530, 531, 532, 535, 537, 539, 540, 542, 545, 548, 549, 550, 551, 552, 553, 555, 557, 558, 559, 560, 564, 565, 566, 567, 569, 570, 572, 573, 574, 578, 581, 583, 584, 586, 587, 588, 589, 590, 591, 592, 593, 594, 596, 599, 602, 603, 609, 611, 614, 617, 618, 620, 621, 622, 624, 626, 627, 628, 630, 634, 635, 636, 639, 640, 644, 645, 647, 649, 652, 658, 661, 662, 663, 665, 666, 668, 672, 676, 677, 679, 680, 681, 682, 683, 684, 685, 687, 689, 690, 691, 692, 694, 696, 701, 702, 703, 704, 705, 706, 708, 710, 711, 713, 716, 721, 722, 726, 727, 728, 729, 731, 732, 733, 735, 736, 737, 738, 740, 742, 743, 746, 749, 752, 753, 754, 755, 756, 758, 759, 762, 763, 764, 766, 767, 770, 771, 772, 773, 776, 779, 781, 782, 783, 787, 789, 791, 792, 793, 794, 795, 797, 798, 800, 801, 802, 803, 805, 808, 809, 810, 813, 814, 815, 816, 817, 822, 826, 830, 833, 834, 835, 838, 841, 845, 846, 847, 848, 849, 850, 851, 852, 856, 860, 861, 862, 863, 864, 865, 866, 867, 869, 870, 873, 875, 876, 878, 881, 882, 883, 885, 888, 889, 890, 891, 892, 894, 895, 898, 899, 901, 903, 904, 905, 906, 907, 909, 912, 913, 914, 915, 918, 919, 920, 922, 924, 928, 932, 935, 937, 938, 940, 942]\n"
     ]
    }
   ],
   "source": [
    "common_users_second_third_slot = list(set(second_slot_active_users) & set(third_slot_active_users))\n",
    "print(len(common_users_second_third_slot))\n",
    "print(common_users_second_third_slot)"
   ]
  },
  {
   "cell_type": "code",
   "execution_count": 62,
   "metadata": {},
   "outputs": [
    {
     "data": {
      "text/plain": [
       "tensor([[0.0189, 0.0189, 0.0026,  ..., 0.0026, 0.0514, 0.0026],\n",
       "        [0.0355, 0.0355, 0.0965,  ..., 0.0965, 0.0355, 0.2622],\n",
       "        [0.0733, 0.0270, 0.0013,  ..., 0.0733, 0.0733, 0.0733],\n",
       "        ...,\n",
       "        [0.0470, 0.0470, 0.0470,  ..., 0.0470, 0.1276, 0.0009],\n",
       "        [0.0835, 0.0307, 0.0307,  ..., 0.0835, 0.0835, 0.0042],\n",
       "        [0.0517, 0.0517, 0.1406,  ..., 0.0517, 0.1406, 0.0009]])"
      ]
     },
     "execution_count": 62,
     "metadata": {},
     "output_type": "execute_result"
    }
   ],
   "source": [
    "filtered_second_slot_distributions = second_slot_distributions[common_users_second_third_slot]\n",
    "filtered_second_slot_distributions"
   ]
  },
  {
   "cell_type": "code",
   "execution_count": 63,
   "metadata": {},
   "outputs": [
    {
     "data": {
      "text/plain": [
       "tensor([[0.0189, 0.0189, 0.0026,  ..., 0.0026, 0.0514, 0.0026],\n",
       "        [0.0355, 0.0355, 0.0965,  ..., 0.0965, 0.0355, 0.2622],\n",
       "        [0.0733, 0.0270, 0.0013,  ..., 0.0733, 0.0733, 0.0733],\n",
       "        ...,\n",
       "        [0.0470, 0.0470, 0.0470,  ..., 0.0470, 0.1276, 0.0009],\n",
       "        [0.0835, 0.0307, 0.0307,  ..., 0.0835, 0.0835, 0.0042],\n",
       "        [0.0517, 0.0517, 0.1406,  ..., 0.0517, 0.1406, 0.0009]])"
      ]
     },
     "execution_count": 63,
     "metadata": {},
     "output_type": "execute_result"
    }
   ],
   "source": [
    "filtered_third_slot_distributions = third_slot_distributions[common_users_second_third_slot]\n",
    "filtered_third_slot_distributions"
   ]
  },
  {
   "cell_type": "code",
   "execution_count": 64,
   "metadata": {},
   "outputs": [
    {
     "name": "stdout",
     "output_type": "stream",
     "text": [
      "torch.Size([530, 18])\n",
      "tensor([[-0.0754, -0.0754, -0.0153,  ..., -0.0153, -0.1553, -0.0153],\n",
      "        [-0.1197, -0.1197, -0.2349,  ..., -0.2349, -0.1197, -0.4197],\n",
      "        [-0.1969, -0.0982, -0.0089,  ..., -0.1969, -0.1969, -0.1969],\n",
      "        ...,\n",
      "        [-0.1458, -0.1458, -0.1458,  ..., -0.1458, -0.2790, -0.0061],\n",
      "        [-0.2143, -0.1079, -0.1079,  ..., -0.2143, -0.2143, -0.0228],\n",
      "        [-0.1559, -0.1559, -0.2956,  ..., -0.1559, -0.2956, -0.0066]])\n"
     ]
    }
   ],
   "source": [
    "variation_distance = torch.nn.functional.kl_div(input=filtered_third_slot_distributions, target=filtered_second_slot_distributions, reduction='none')\n",
    "print(variation_distance.shape)\n",
    "print(variation_distance)"
   ]
  },
  {
   "cell_type": "code",
   "execution_count": 65,
   "metadata": {},
   "outputs": [
    {
     "name": "stdout",
     "output_type": "stream",
     "text": [
      "torch.Size([18])\n",
      "tensor([-0.1633, -0.1619, -0.1308, -0.1390, -0.1589, -0.1822, -0.0829, -0.1901,\n",
      "        -0.0835, -0.1249, -0.1248, -0.1351, -0.1745, -0.1815, -0.1649, -0.1661,\n",
      "        -0.1951, -0.1024])\n"
     ]
    }
   ],
   "source": [
    "variation_distance = torch.mean(variation_distance, dim=0)\n",
    "print(variation_distance.shape)\n",
    "print(variation_distance)"
   ]
  },
  {
   "cell_type": "code",
   "execution_count": 66,
   "metadata": {},
   "outputs": [
    {
     "data": {
      "text/plain": [
       "0    -0.163310\n",
       "1    -0.161903\n",
       "2    -0.130777\n",
       "3    -0.139011\n",
       "4    -0.158908\n",
       "5    -0.182226\n",
       "6    -0.082897\n",
       "7    -0.190106\n",
       "8    -0.083538\n",
       "9    -0.124908\n",
       "10   -0.124799\n",
       "11   -0.135052\n",
       "12   -0.174469\n",
       "13   -0.181455\n",
       "14   -0.164889\n",
       "15   -0.166106\n",
       "16   -0.195075\n",
       "17   -0.102410\n",
       "dtype: float32"
      ]
     },
     "execution_count": 66,
     "metadata": {},
     "output_type": "execute_result"
    }
   ],
   "source": [
    "second_third_series = pd.Series(variation_distance)\n",
    "second_third_series"
   ]
  },
  {
   "cell_type": "markdown",
   "metadata": {},
   "source": [
    "## Fourth time slot"
   ]
  },
  {
   "cell_type": "code",
   "execution_count": 67,
   "metadata": {},
   "outputs": [
    {
     "data": {
      "text/html": [
       "<div>\n",
       "<style scoped>\n",
       "    .dataframe tbody tr th:only-of-type {\n",
       "        vertical-align: middle;\n",
       "    }\n",
       "\n",
       "    .dataframe tbody tr th {\n",
       "        vertical-align: top;\n",
       "    }\n",
       "\n",
       "    .dataframe thead th {\n",
       "        text-align: right;\n",
       "    }\n",
       "</style>\n",
       "<table border=\"1\" class=\"dataframe\">\n",
       "  <thead>\n",
       "    <tr style=\"text-align: right;\">\n",
       "      <th></th>\n",
       "      <th>UserID</th>\n",
       "      <th>MovieID</th>\n",
       "      <th>CategoryID</th>\n",
       "      <th>Rating</th>\n",
       "      <th>Timestamp</th>\n",
       "      <th>Month</th>\n",
       "    </tr>\n",
       "  </thead>\n",
       "  <tbody>\n",
       "    <tr>\n",
       "      <th>474</th>\n",
       "      <td>101</td>\n",
       "      <td>177</td>\n",
       "      <td>4</td>\n",
       "      <td>4</td>\n",
       "      <td>1997-09-20 03:05:10</td>\n",
       "      <td>1997-09</td>\n",
       "    </tr>\n",
       "    <tr>\n",
       "      <th>178269</th>\n",
       "      <td>101</td>\n",
       "      <td>289</td>\n",
       "      <td>7</td>\n",
       "      <td>4</td>\n",
       "      <td>1997-09-20 03:05:27</td>\n",
       "      <td>1997-09</td>\n",
       "    </tr>\n",
       "    <tr>\n",
       "      <th>90841</th>\n",
       "      <td>101</td>\n",
       "      <td>153</td>\n",
       "      <td>0</td>\n",
       "      <td>4</td>\n",
       "      <td>1997-09-20 03:05:54</td>\n",
       "      <td>1997-09</td>\n",
       "    </tr>\n",
       "    <tr>\n",
       "      <th>45079</th>\n",
       "      <td>101</td>\n",
       "      <td>361</td>\n",
       "      <td>10</td>\n",
       "      <td>4</td>\n",
       "      <td>1997-09-20 03:06:21</td>\n",
       "      <td>1997-09</td>\n",
       "    </tr>\n",
       "    <tr>\n",
       "      <th>175466</th>\n",
       "      <td>101</td>\n",
       "      <td>321</td>\n",
       "      <td>0</td>\n",
       "      <td>4</td>\n",
       "      <td>1997-09-20 03:07:23</td>\n",
       "      <td>1997-09</td>\n",
       "    </tr>\n",
       "    <tr>\n",
       "      <th>...</th>\n",
       "      <td>...</td>\n",
       "      <td>...</td>\n",
       "      <td>...</td>\n",
       "      <td>...</td>\n",
       "      <td>...</td>\n",
       "      <td>...</td>\n",
       "    </tr>\n",
       "    <tr>\n",
       "      <th>168106</th>\n",
       "      <td>724</td>\n",
       "      <td>130</td>\n",
       "      <td>7</td>\n",
       "      <td>4</td>\n",
       "      <td>1998-04-22 23:10:38</td>\n",
       "      <td>1998-04</td>\n",
       "    </tr>\n",
       "    <tr>\n",
       "      <th>110040</th>\n",
       "      <td>724</td>\n",
       "      <td>280</td>\n",
       "      <td>12</td>\n",
       "      <td>4</td>\n",
       "      <td>1998-04-22 23:10:38</td>\n",
       "      <td>1998-04</td>\n",
       "    </tr>\n",
       "    <tr>\n",
       "      <th>136132</th>\n",
       "      <td>724</td>\n",
       "      <td>175</td>\n",
       "      <td>0</td>\n",
       "      <td>4</td>\n",
       "      <td>1998-04-22 23:10:38</td>\n",
       "      <td>1998-04</td>\n",
       "    </tr>\n",
       "    <tr>\n",
       "      <th>98754</th>\n",
       "      <td>724</td>\n",
       "      <td>890</td>\n",
       "      <td>0</td>\n",
       "      <td>4</td>\n",
       "      <td>1998-04-22 23:10:38</td>\n",
       "      <td>1998-04</td>\n",
       "    </tr>\n",
       "    <tr>\n",
       "      <th>154748</th>\n",
       "      <td>724</td>\n",
       "      <td>719</td>\n",
       "      <td>0</td>\n",
       "      <td>3</td>\n",
       "      <td>1998-04-22 23:10:38</td>\n",
       "      <td>1998-04</td>\n",
       "    </tr>\n",
       "  </tbody>\n",
       "</table>\n",
       "<p>100000 rows × 6 columns</p>\n",
       "</div>"
      ],
      "text/plain": [
       "        UserID  MovieID  CategoryID  Rating           Timestamp    Month\n",
       "474        101      177           4       4 1997-09-20 03:05:10  1997-09\n",
       "178269     101      289           7       4 1997-09-20 03:05:27  1997-09\n",
       "90841      101      153           0       4 1997-09-20 03:05:54  1997-09\n",
       "45079      101      361          10       4 1997-09-20 03:06:21  1997-09\n",
       "175466     101      321           0       4 1997-09-20 03:07:23  1997-09\n",
       "...        ...      ...         ...     ...                 ...      ...\n",
       "168106     724      130           7       4 1998-04-22 23:10:38  1998-04\n",
       "110040     724      280          12       4 1998-04-22 23:10:38  1998-04\n",
       "136132     724      175           0       4 1998-04-22 23:10:38  1998-04\n",
       "98754      724      890           0       4 1998-04-22 23:10:38  1998-04\n",
       "154748     724      719           0       3 1998-04-22 23:10:38  1998-04\n",
       "\n",
       "[100000 rows x 6 columns]"
      ]
     },
     "execution_count": 67,
     "metadata": {},
     "output_type": "execute_result"
    }
   ],
   "source": [
    "start_date_slot_4 = pd.to_datetime('1997-09-20')\n",
    "end_date_slot_4 = pd.to_datetime('1998-05-01')\n",
    "dataframe_4 = dataframe[dataframe['Timestamp'].between(start_date_slot_4, end_date_slot_4)]\n",
    "dataframe_4 = dataframe_4.sort_values(by='Timestamp')\n",
    "dataframe_4"
   ]
  },
  {
   "cell_type": "code",
   "execution_count": 68,
   "metadata": {},
   "outputs": [
    {
     "name": "stdout",
     "output_type": "stream",
     "text": [
      "torch.Size([943, 18])\n",
      "tensor([[0.0189, 0.0189, 0.0026,  ..., 0.0026, 0.0514, 0.0026],\n",
      "        [0.0843, 0.0310, 0.0843,  ..., 0.0843, 0.0310, 0.2291],\n",
      "        [0.0733, 0.0270, 0.0013,  ..., 0.0733, 0.0733, 0.0733],\n",
      "        ...,\n",
      "        [0.0835, 0.0307, 0.0307,  ..., 0.0835, 0.0835, 0.0042],\n",
      "        [0.0747, 0.0747, 0.0037,  ..., 0.0747, 0.0275, 0.0037],\n",
      "        [0.0517, 0.0517, 0.1406,  ..., 0.0517, 0.1406, 0.0009]])\n",
      "943\n",
      "[0, 1, 2, 3, 4, 5, 6, 7, 8, 9, 10, 11, 12, 13, 14, 15, 16, 17, 18, 19, 20, 21, 22, 23, 24, 25, 26, 27, 28, 29, 30, 31, 32, 33, 34, 35, 36, 37, 38, 39, 40, 41, 42, 43, 44, 45, 46, 47, 48, 49, 50, 51, 52, 53, 54, 55, 56, 57, 58, 59, 60, 61, 62, 63, 64, 65, 66, 67, 68, 69, 70, 71, 72, 73, 74, 75, 76, 77, 78, 79, 80, 81, 82, 83, 84, 85, 86, 87, 88, 89, 90, 91, 92, 93, 94, 95, 96, 97, 98, 99, 100, 101, 102, 103, 104, 105, 106, 107, 108, 109, 110, 111, 112, 113, 114, 115, 116, 117, 118, 119, 120, 121, 122, 123, 124, 125, 126, 127, 128, 129, 130, 131, 132, 133, 134, 135, 136, 137, 138, 139, 140, 141, 142, 143, 144, 145, 146, 147, 148, 149, 150, 151, 152, 153, 154, 155, 156, 157, 158, 159, 160, 161, 162, 163, 164, 165, 166, 167, 168, 169, 170, 171, 172, 173, 174, 175, 176, 177, 178, 179, 180, 181, 182, 183, 184, 185, 186, 187, 188, 189, 190, 191, 192, 193, 194, 195, 196, 197, 198, 199, 200, 201, 202, 203, 204, 205, 206, 207, 208, 209, 210, 211, 212, 213, 214, 215, 216, 217, 218, 219, 220, 221, 222, 223, 224, 225, 226, 227, 228, 229, 230, 231, 232, 233, 234, 235, 236, 237, 238, 239, 240, 241, 242, 243, 244, 245, 246, 247, 248, 249, 250, 251, 252, 253, 254, 255, 256, 257, 258, 259, 260, 261, 262, 263, 264, 265, 266, 267, 268, 269, 270, 271, 272, 273, 274, 275, 276, 277, 278, 279, 280, 281, 282, 283, 284, 285, 286, 287, 288, 289, 290, 291, 292, 293, 294, 295, 296, 297, 298, 299, 300, 301, 302, 303, 304, 305, 306, 307, 308, 309, 310, 311, 312, 313, 314, 315, 316, 317, 318, 319, 320, 321, 322, 323, 324, 325, 326, 327, 328, 329, 330, 331, 332, 333, 334, 335, 336, 337, 338, 339, 340, 341, 342, 343, 344, 345, 346, 347, 348, 349, 350, 351, 352, 353, 354, 355, 356, 357, 358, 359, 360, 361, 362, 363, 364, 365, 366, 367, 368, 369, 370, 371, 372, 373, 374, 375, 376, 377, 378, 379, 380, 381, 382, 383, 384, 385, 386, 387, 388, 389, 390, 391, 392, 393, 394, 395, 396, 397, 398, 399, 400, 401, 402, 403, 404, 405, 406, 407, 408, 409, 410, 411, 412, 413, 414, 415, 416, 417, 418, 419, 420, 421, 422, 423, 424, 425, 426, 427, 428, 429, 430, 431, 432, 433, 434, 435, 436, 437, 438, 439, 440, 441, 442, 443, 444, 445, 446, 447, 448, 449, 450, 451, 452, 453, 454, 455, 456, 457, 458, 459, 460, 461, 462, 463, 464, 465, 466, 467, 468, 469, 470, 471, 472, 473, 474, 475, 476, 477, 478, 479, 480, 481, 482, 483, 484, 485, 486, 487, 488, 489, 490, 491, 492, 493, 494, 495, 496, 497, 498, 499, 500, 501, 502, 503, 504, 505, 506, 507, 508, 509, 510, 511, 512, 513, 514, 515, 516, 517, 518, 519, 520, 521, 522, 523, 524, 525, 526, 527, 528, 529, 530, 531, 532, 533, 534, 535, 536, 537, 538, 539, 540, 541, 542, 543, 544, 545, 546, 547, 548, 549, 550, 551, 552, 553, 554, 555, 556, 557, 558, 559, 560, 561, 562, 563, 564, 565, 566, 567, 568, 569, 570, 571, 572, 573, 574, 575, 576, 577, 578, 579, 580, 581, 582, 583, 584, 585, 586, 587, 588, 589, 590, 591, 592, 593, 594, 595, 596, 597, 598, 599, 600, 601, 602, 603, 604, 605, 606, 607, 608, 609, 610, 611, 612, 613, 614, 615, 616, 617, 618, 619, 620, 621, 622, 623, 624, 625, 626, 627, 628, 629, 630, 631, 632, 633, 634, 635, 636, 637, 638, 639, 640, 641, 642, 643, 644, 645, 646, 647, 648, 649, 650, 651, 652, 653, 654, 655, 656, 657, 658, 659, 660, 661, 662, 663, 664, 665, 666, 667, 668, 669, 670, 671, 672, 673, 674, 675, 676, 677, 678, 679, 680, 681, 682, 683, 684, 685, 686, 687, 688, 689, 690, 691, 692, 693, 694, 695, 696, 697, 698, 699, 700, 701, 702, 703, 704, 705, 706, 707, 708, 709, 710, 711, 712, 713, 714, 715, 716, 717, 718, 719, 720, 721, 722, 723, 724, 725, 726, 727, 728, 729, 730, 731, 732, 733, 734, 735, 736, 737, 738, 739, 740, 741, 742, 743, 744, 745, 746, 747, 748, 749, 750, 751, 752, 753, 754, 755, 756, 757, 758, 759, 760, 761, 762, 763, 764, 765, 766, 767, 768, 769, 770, 771, 772, 773, 774, 775, 776, 777, 778, 779, 780, 781, 782, 783, 784, 785, 786, 787, 788, 789, 790, 791, 792, 793, 794, 795, 796, 797, 798, 799, 800, 801, 802, 803, 804, 805, 806, 807, 808, 809, 810, 811, 812, 813, 814, 815, 816, 817, 818, 819, 820, 821, 822, 823, 824, 825, 826, 827, 828, 829, 830, 831, 832, 833, 834, 835, 836, 837, 838, 839, 840, 841, 842, 843, 844, 845, 846, 847, 848, 849, 850, 851, 852, 853, 854, 855, 856, 857, 858, 859, 860, 861, 862, 863, 864, 865, 866, 867, 868, 869, 870, 871, 872, 873, 874, 875, 876, 877, 878, 879, 880, 881, 882, 883, 884, 885, 886, 887, 888, 889, 890, 891, 892, 893, 894, 895, 896, 897, 898, 899, 900, 901, 902, 903, 904, 905, 906, 907, 908, 909, 910, 911, 912, 913, 914, 915, 916, 917, 918, 919, 920, 921, 922, 923, 924, 925, 926, 927, 928, 929, 930, 931, 932, 933, 934, 935, 936, 937, 938, 939, 940, 941, 942]\n"
     ]
    }
   ],
   "source": [
    "fourth_slot_distributions = []\n",
    "fourth_slot_active_users = []\n",
    "for user_id in range(dataset.n_users):\n",
    "    user_dataframe = dataframe_4[dataframe_4['UserID'] == user_id]\n",
    "    user_items = user_dataframe['MovieID'].values\n",
    "    user_distribution, active_user = get_user_distribution(user_dataframe, user_items)\n",
    "    fourth_slot_distributions.append(user_distribution)\n",
    "    if active_user:\n",
    "        fourth_slot_active_users.append(user_id)\n",
    "fourth_slot_distributions = torch.vstack(fourth_slot_distributions)\n",
    "print(fourth_slot_distributions.shape)\n",
    "print(fourth_slot_distributions)\n",
    "print(len(fourth_slot_active_users))\n",
    "print(fourth_slot_active_users)"
   ]
  },
  {
   "cell_type": "code",
   "execution_count": 69,
   "metadata": {},
   "outputs": [
    {
     "name": "stdout",
     "output_type": "stream",
     "text": [
      "736\n",
      "[0, 1, 2, 3, 4, 5, 6, 8, 9, 10, 11, 12, 13, 14, 15, 16, 17, 18, 20, 22, 23, 24, 26, 27, 28, 29, 30, 31, 32, 33, 34, 35, 37, 39, 40, 41, 42, 43, 44, 45, 46, 47, 48, 49, 51, 52, 53, 54, 55, 56, 57, 58, 59, 60, 61, 64, 65, 66, 67, 69, 70, 71, 73, 74, 75, 76, 77, 78, 79, 81, 82, 83, 84, 85, 86, 87, 88, 89, 90, 91, 92, 93, 95, 96, 97, 98, 99, 101, 102, 103, 105, 106, 107, 108, 109, 110, 111, 112, 113, 114, 116, 117, 118, 120, 121, 122, 123, 125, 126, 127, 128, 129, 130, 131, 133, 135, 136, 137, 138, 139, 141, 143, 144, 146, 147, 149, 150, 151, 152, 153, 154, 156, 157, 158, 159, 160, 161, 163, 166, 167, 168, 169, 172, 173, 174, 175, 178, 181, 182, 183, 185, 186, 187, 188, 191, 192, 193, 194, 197, 198, 199, 200, 201, 202, 203, 204, 206, 207, 210, 211, 212, 213, 214, 215, 218, 219, 220, 221, 222, 223, 224, 225, 226, 227, 228, 229, 230, 231, 232, 233, 235, 236, 237, 238, 239, 240, 241, 242, 243, 244, 246, 247, 249, 251, 252, 253, 255, 256, 257, 258, 259, 260, 261, 262, 263, 264, 265, 268, 270, 272, 273, 274, 275, 277, 278, 279, 281, 282, 283, 284, 285, 286, 288, 289, 290, 293, 295, 297, 298, 299, 300, 301, 302, 303, 304, 306, 309, 310, 311, 313, 314, 315, 317, 318, 320, 321, 322, 327, 329, 332, 334, 335, 336, 339, 340, 341, 342, 343, 345, 346, 347, 349, 351, 352, 354, 355, 356, 358, 360, 361, 363, 364, 365, 366, 367, 368, 369, 372, 373, 374, 375, 377, 378, 379, 380, 382, 383, 384, 386, 387, 389, 390, 391, 392, 393, 394, 395, 397, 399, 401, 402, 403, 404, 405, 406, 407, 408, 409, 411, 413, 414, 416, 417, 418, 419, 421, 422, 423, 425, 428, 429, 430, 431, 432, 433, 434, 435, 436, 437, 440, 441, 442, 443, 444, 445, 446, 447, 448, 449, 450, 453, 454, 455, 456, 457, 458, 459, 460, 461, 463, 464, 465, 467, 468, 469, 470, 472, 473, 476, 477, 478, 479, 480, 481, 482, 483, 484, 486, 487, 488, 489, 490, 491, 493, 494, 496, 497, 498, 499, 500, 501, 502, 504, 505, 507, 508, 509, 511, 512, 513, 515, 516, 517, 518, 519, 520, 521, 522, 523, 524, 525, 526, 527, 528, 530, 531, 532, 533, 534, 535, 536, 537, 538, 539, 540, 542, 544, 545, 547, 548, 549, 550, 551, 552, 553, 555, 556, 557, 558, 559, 560, 563, 564, 565, 566, 567, 568, 569, 570, 572, 573, 574, 575, 578, 579, 581, 583, 584, 585, 586, 587, 588, 589, 590, 591, 592, 593, 594, 595, 596, 597, 598, 599, 601, 602, 603, 604, 605, 607, 609, 610, 611, 614, 615, 617, 618, 619, 620, 621, 622, 624, 626, 627, 628, 629, 630, 632, 633, 634, 635, 636, 638, 639, 640, 644, 645, 647, 648, 649, 650, 652, 656, 658, 659, 660, 661, 662, 663, 665, 666, 668, 671, 672, 673, 674, 675, 676, 677, 679, 680, 681, 682, 683, 684, 685, 686, 687, 688, 689, 690, 691, 692, 694, 696, 697, 698, 701, 702, 703, 704, 705, 706, 708, 709, 710, 711, 712, 713, 715, 716, 717, 719, 720, 721, 722, 726, 727, 728, 729, 731, 732, 733, 734, 735, 736, 737, 738, 739, 740, 741, 742, 743, 744, 745, 746, 748, 749, 750, 752, 753, 754, 755, 756, 758, 759, 761, 762, 763, 764, 765, 766, 767, 769, 770, 771, 772, 773, 776, 779, 781, 782, 783, 784, 786, 787, 789, 791, 792, 793, 794, 795, 796, 797, 798, 800, 801, 802, 803, 805, 808, 809, 810, 812, 813, 814, 815, 816, 817, 818, 820, 822, 824, 826, 827, 829, 830, 832, 833, 834, 835, 837, 838, 839, 841, 842, 845, 846, 847, 848, 849, 850, 851, 852, 853, 855, 856, 858, 860, 861, 862, 863, 864, 865, 866, 867, 868, 869, 870, 871, 873, 875, 876, 877, 878, 879, 881, 882, 883, 884, 885, 886, 887, 888, 889, 890, 891, 892, 893, 894, 895, 896, 898, 899, 900, 901, 902, 903, 904, 905, 906, 907, 909, 910, 912, 913, 914, 915, 918, 919, 920, 921, 922, 924, 928, 929, 931, 932, 933, 935, 936, 937, 938, 939, 940, 941, 942]\n"
     ]
    }
   ],
   "source": [
    "common_users_third_fourth_slot = list(set(third_slot_active_users) & set(fourth_slot_active_users))\n",
    "print(len(common_users_third_fourth_slot))\n",
    "print(common_users_third_fourth_slot)"
   ]
  },
  {
   "cell_type": "code",
   "execution_count": 70,
   "metadata": {},
   "outputs": [
    {
     "data": {
      "text/plain": [
       "tensor([[0.0189, 0.0189, 0.0026,  ..., 0.0026, 0.0514, 0.0026],\n",
       "        [0.0355, 0.0355, 0.0965,  ..., 0.0965, 0.0355, 0.2622],\n",
       "        [0.0733, 0.0270, 0.0013,  ..., 0.0733, 0.0733, 0.0733],\n",
       "        ...,\n",
       "        [0.0835, 0.0307, 0.0307,  ..., 0.0835, 0.0835, 0.0042],\n",
       "        [0.0747, 0.0747, 0.0037,  ..., 0.0747, 0.0275, 0.0037],\n",
       "        [0.0517, 0.0517, 0.1406,  ..., 0.0517, 0.1406, 0.0009]])"
      ]
     },
     "execution_count": 70,
     "metadata": {},
     "output_type": "execute_result"
    }
   ],
   "source": [
    "filtered_third_slot_distributions = third_slot_distributions[common_users_third_fourth_slot]\n",
    "filtered_third_slot_distributions"
   ]
  },
  {
   "cell_type": "code",
   "execution_count": 71,
   "metadata": {},
   "outputs": [
    {
     "data": {
      "text/plain": [
       "tensor([[0.0189, 0.0189, 0.0026,  ..., 0.0026, 0.0514, 0.0026],\n",
       "        [0.0843, 0.0310, 0.0843,  ..., 0.0843, 0.0310, 0.2291],\n",
       "        [0.0733, 0.0270, 0.0013,  ..., 0.0733, 0.0733, 0.0733],\n",
       "        ...,\n",
       "        [0.0835, 0.0307, 0.0307,  ..., 0.0835, 0.0835, 0.0042],\n",
       "        [0.0747, 0.0747, 0.0037,  ..., 0.0747, 0.0275, 0.0037],\n",
       "        [0.0517, 0.0517, 0.1406,  ..., 0.0517, 0.1406, 0.0009]])"
      ]
     },
     "execution_count": 71,
     "metadata": {},
     "output_type": "execute_result"
    }
   ],
   "source": [
    "filtered_fourth_slot_distributions = fourth_slot_distributions[common_users_third_fourth_slot]\n",
    "filtered_fourth_slot_distributions"
   ]
  },
  {
   "cell_type": "code",
   "execution_count": 72,
   "metadata": {},
   "outputs": [
    {
     "name": "stdout",
     "output_type": "stream",
     "text": [
      "torch.Size([736, 18])\n",
      "tensor([[-0.0754, -0.0754, -0.0153,  ..., -0.0153, -0.1553, -0.0153],\n",
      "        [-0.1215, -0.1196, -0.2337,  ..., -0.2337, -0.1196, -0.4111],\n",
      "        [-0.1969, -0.0982, -0.0089,  ..., -0.1969, -0.1969, -0.1969],\n",
      "        ...,\n",
      "        [-0.2143, -0.1079, -0.1079,  ..., -0.2143, -0.2143, -0.0228],\n",
      "        [-0.1994, -0.1994, -0.0208,  ..., -0.1994, -0.0995, -0.0208],\n",
      "        [-0.1559, -0.1559, -0.2956,  ..., -0.1559, -0.2956, -0.0066]])\n"
     ]
    }
   ],
   "source": [
    "variation_distance = torch.nn.functional.kl_div(input=filtered_fourth_slot_distributions, target=filtered_third_slot_distributions, reduction='none')\n",
    "print(variation_distance.shape)\n",
    "print(variation_distance)"
   ]
  },
  {
   "cell_type": "code",
   "execution_count": 73,
   "metadata": {},
   "outputs": [
    {
     "name": "stdout",
     "output_type": "stream",
     "text": [
      "torch.Size([18])\n",
      "tensor([-0.1664, -0.1614, -0.1279, -0.1353, -0.1571, -0.1798, -0.0834, -0.1881,\n",
      "        -0.0874, -0.1356, -0.1302, -0.1321, -0.1723, -0.1824, -0.1652, -0.1670,\n",
      "        -0.1932, -0.1015])\n"
     ]
    }
   ],
   "source": [
    "variation_distance = torch.mean(variation_distance, dim=0)\n",
    "print(variation_distance.shape)\n",
    "print(variation_distance)"
   ]
  },
  {
   "cell_type": "code",
   "execution_count": 74,
   "metadata": {},
   "outputs": [
    {
     "data": {
      "text/plain": [
       "0    -0.166377\n",
       "1    -0.161381\n",
       "2    -0.127877\n",
       "3    -0.135310\n",
       "4    -0.157050\n",
       "5    -0.179772\n",
       "6    -0.083448\n",
       "7    -0.188096\n",
       "8    -0.087399\n",
       "9    -0.135561\n",
       "10   -0.130242\n",
       "11   -0.132135\n",
       "12   -0.172257\n",
       "13   -0.182370\n",
       "14   -0.165154\n",
       "15   -0.167049\n",
       "16   -0.193198\n",
       "17   -0.101535\n",
       "dtype: float32"
      ]
     },
     "execution_count": 74,
     "metadata": {},
     "output_type": "execute_result"
    }
   ],
   "source": [
    "third_fourth_series = pd.Series(variation_distance)\n",
    "third_fourth_series"
   ]
  },
  {
   "cell_type": "markdown",
   "metadata": {},
   "source": [
    "## Plot"
   ]
  },
  {
   "cell_type": "code",
   "execution_count": 75,
   "metadata": {},
   "outputs": [
    {
     "data": {
      "text/html": [
       "<div>\n",
       "<style scoped>\n",
       "    .dataframe tbody tr th:only-of-type {\n",
       "        vertical-align: middle;\n",
       "    }\n",
       "\n",
       "    .dataframe tbody tr th {\n",
       "        vertical-align: top;\n",
       "    }\n",
       "\n",
       "    .dataframe thead th {\n",
       "        text-align: right;\n",
       "    }\n",
       "</style>\n",
       "<table border=\"1\" class=\"dataframe\">\n",
       "  <thead>\n",
       "    <tr style=\"text-align: right;\">\n",
       "      <th></th>\n",
       "      <th>0</th>\n",
       "      <th>1</th>\n",
       "      <th>2</th>\n",
       "    </tr>\n",
       "  </thead>\n",
       "  <tbody>\n",
       "    <tr>\n",
       "      <th>0</th>\n",
       "      <td>-0.171198</td>\n",
       "      <td>-0.163310</td>\n",
       "      <td>-0.166377</td>\n",
       "    </tr>\n",
       "    <tr>\n",
       "      <th>1</th>\n",
       "      <td>-0.164671</td>\n",
       "      <td>-0.161903</td>\n",
       "      <td>-0.161381</td>\n",
       "    </tr>\n",
       "    <tr>\n",
       "      <th>2</th>\n",
       "      <td>-0.135211</td>\n",
       "      <td>-0.130777</td>\n",
       "      <td>-0.127877</td>\n",
       "    </tr>\n",
       "    <tr>\n",
       "      <th>3</th>\n",
       "      <td>-0.137896</td>\n",
       "      <td>-0.139011</td>\n",
       "      <td>-0.135310</td>\n",
       "    </tr>\n",
       "    <tr>\n",
       "      <th>4</th>\n",
       "      <td>-0.157999</td>\n",
       "      <td>-0.158908</td>\n",
       "      <td>-0.157050</td>\n",
       "    </tr>\n",
       "    <tr>\n",
       "      <th>5</th>\n",
       "      <td>-0.177458</td>\n",
       "      <td>-0.182226</td>\n",
       "      <td>-0.179772</td>\n",
       "    </tr>\n",
       "    <tr>\n",
       "      <th>6</th>\n",
       "      <td>-0.081985</td>\n",
       "      <td>-0.082897</td>\n",
       "      <td>-0.083448</td>\n",
       "    </tr>\n",
       "    <tr>\n",
       "      <th>7</th>\n",
       "      <td>-0.188344</td>\n",
       "      <td>-0.190106</td>\n",
       "      <td>-0.188096</td>\n",
       "    </tr>\n",
       "    <tr>\n",
       "      <th>8</th>\n",
       "      <td>-0.078400</td>\n",
       "      <td>-0.083538</td>\n",
       "      <td>-0.087399</td>\n",
       "    </tr>\n",
       "    <tr>\n",
       "      <th>9</th>\n",
       "      <td>-0.108727</td>\n",
       "      <td>-0.124908</td>\n",
       "      <td>-0.135561</td>\n",
       "    </tr>\n",
       "    <tr>\n",
       "      <th>10</th>\n",
       "      <td>-0.120066</td>\n",
       "      <td>-0.124799</td>\n",
       "      <td>-0.130242</td>\n",
       "    </tr>\n",
       "    <tr>\n",
       "      <th>11</th>\n",
       "      <td>-0.130029</td>\n",
       "      <td>-0.135052</td>\n",
       "      <td>-0.132135</td>\n",
       "    </tr>\n",
       "    <tr>\n",
       "      <th>12</th>\n",
       "      <td>-0.164423</td>\n",
       "      <td>-0.174469</td>\n",
       "      <td>-0.172257</td>\n",
       "    </tr>\n",
       "    <tr>\n",
       "      <th>13</th>\n",
       "      <td>-0.176821</td>\n",
       "      <td>-0.181455</td>\n",
       "      <td>-0.182370</td>\n",
       "    </tr>\n",
       "    <tr>\n",
       "      <th>14</th>\n",
       "      <td>-0.165949</td>\n",
       "      <td>-0.164889</td>\n",
       "      <td>-0.165154</td>\n",
       "    </tr>\n",
       "    <tr>\n",
       "      <th>15</th>\n",
       "      <td>-0.170980</td>\n",
       "      <td>-0.166106</td>\n",
       "      <td>-0.167049</td>\n",
       "    </tr>\n",
       "    <tr>\n",
       "      <th>16</th>\n",
       "      <td>-0.200141</td>\n",
       "      <td>-0.195075</td>\n",
       "      <td>-0.193198</td>\n",
       "    </tr>\n",
       "    <tr>\n",
       "      <th>17</th>\n",
       "      <td>-0.091166</td>\n",
       "      <td>-0.102410</td>\n",
       "      <td>-0.101535</td>\n",
       "    </tr>\n",
       "  </tbody>\n",
       "</table>\n",
       "</div>"
      ],
      "text/plain": [
       "           0         1         2\n",
       "0  -0.171198 -0.163310 -0.166377\n",
       "1  -0.164671 -0.161903 -0.161381\n",
       "2  -0.135211 -0.130777 -0.127877\n",
       "3  -0.137896 -0.139011 -0.135310\n",
       "4  -0.157999 -0.158908 -0.157050\n",
       "5  -0.177458 -0.182226 -0.179772\n",
       "6  -0.081985 -0.082897 -0.083448\n",
       "7  -0.188344 -0.190106 -0.188096\n",
       "8  -0.078400 -0.083538 -0.087399\n",
       "9  -0.108727 -0.124908 -0.135561\n",
       "10 -0.120066 -0.124799 -0.130242\n",
       "11 -0.130029 -0.135052 -0.132135\n",
       "12 -0.164423 -0.174469 -0.172257\n",
       "13 -0.176821 -0.181455 -0.182370\n",
       "14 -0.165949 -0.164889 -0.165154\n",
       "15 -0.170980 -0.166106 -0.167049\n",
       "16 -0.200141 -0.195075 -0.193198\n",
       "17 -0.091166 -0.102410 -0.101535"
      ]
     },
     "execution_count": 75,
     "metadata": {},
     "output_type": "execute_result"
    }
   ],
   "source": [
    "df = pd.concat([first_second_series, second_third_series, third_fourth_series], axis=1)\n",
    "df"
   ]
  },
  {
   "cell_type": "code",
   "execution_count": 76,
   "metadata": {},
   "outputs": [
    {
     "data": {
      "image/png": "[encoded data removed]",
      "text/plain": [
       "<Figure size 640x480 with 1 Axes>"
      ]
     },
     "metadata": {},
     "output_type": "display_data"
    }
   ],
   "source": [
    "colors = sns.color_palette(\"viridis\", n_colors=len(df.columns))\n",
    "ax = df.plot.kde(color=colors, linewidth=2)\n",
    "plt.title('Estimated densities of total variation scores with respect to the previous two months')\n",
    "plt.xlabel('Total variation')\n",
    "plt.ylabel('Density')\n",
    "labels = ['M1-2 vs M3-4', 'M3-4 vs M5-6', 'M5-6 vs M7-8']\n",
    "plt.legend(labels)\n",
    "plt.show()"
   ]
  },
  {
   "cell_type": "code",
   "execution_count": null,
   "metadata": {},
   "outputs": [],
   "source": []
  },
  {
   "cell_type": "code",
   "execution_count": null,
   "metadata": {},
   "outputs": [],
   "source": []
  },
  {
   "cell_type": "code",
   "execution_count": null,
   "metadata": {},
   "outputs": [],
   "source": []
  },
  {
   "cell_type": "code",
   "execution_count": null,
   "metadata": {},
   "outputs": [],
   "source": []
  },
  {
   "cell_type": "code",
   "execution_count": null,
   "metadata": {},
   "outputs": [],
   "source": []
  },
  {
   "cell_type": "code",
   "execution_count": null,
   "metadata": {},
   "outputs": [],
   "source": []
  }
 ],
 "metadata": {
  "kernelspec": {
   "display_name": "SCMS",
   "language": "python",
   "name": "python3"
  },
  "language_info": {
   "codemirror_mode": {
    "name": "ipython",
    "version": 3
   },
   "file_extension": ".py",
   "mimetype": "text/x-python",
   "name": "python",
   "nbconvert_exporter": "python",
   "pygments_lexer": "ipython3",
   "version": "3.7.1"
  },
  "orig_nbformat": 4
 },
 "nbformat": 4,
 "nbformat_minor": 2
}
