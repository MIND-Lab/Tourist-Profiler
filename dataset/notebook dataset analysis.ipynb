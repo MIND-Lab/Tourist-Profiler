{
 "cells": [
  {
   "cell_type": "code",
   "execution_count": 1,
   "metadata": {},
   "outputs": [
    {
     "data": {
      "text/plain": [
       "False"
      ]
     },
     "execution_count": 1,
     "metadata": {},
     "output_type": "execute_result"
    }
   ],
   "source": [
    "import torch\n",
    "import random\n",
    "import numpy as np\n",
    "import pandas as pd\n",
    "import matplotlib.pyplot as plt\n",
    "import plotly.express as px\n",
    "\n",
    "from Dataset import Dataset\n",
    "from Setting import Setting\n",
    "\n",
    "torch.cuda.is_available()"
   ]
  },
  {
   "cell_type": "markdown",
   "metadata": {},
   "source": [
    "# General settings"
   ]
  },
  {
   "cell_type": "code",
   "execution_count": 2,
   "metadata": {},
   "outputs": [],
   "source": [
    "# Set the random seed for reproducibility.\n",
    "random_seed = 1\n",
    "#tf.random.set_random_seed(random_seed)\n",
    "torch.manual_seed(random_seed)\n",
    "random.seed(random_seed)\n",
    "np.random.seed(random_seed)\n",
    "\n",
    "args = Setting()\n",
    "device = args.device\n",
    "dataset = Dataset(args.dataset_path, args.batch_size, args.fast_testing)"
   ]
  },
  {
   "cell_type": "markdown",
   "metadata": {},
   "source": [
    "# Ratings histogram"
   ]
  },
  {
   "cell_type": "code",
   "execution_count": 3,
   "metadata": {},
   "outputs": [
    {
     "data": {
      "text/html": [
       "<div>\n",
       "<style scoped>\n",
       "    .dataframe tbody tr th:only-of-type {\n",
       "        vertical-align: middle;\n",
       "    }\n",
       "\n",
       "    .dataframe tbody tr th {\n",
       "        vertical-align: top;\n",
       "    }\n",
       "\n",
       "    .dataframe thead th {\n",
       "        text-align: right;\n",
       "    }\n",
       "</style>\n",
       "<table border=\"1\" class=\"dataframe\">\n",
       "  <thead>\n",
       "    <tr style=\"text-align: right;\">\n",
       "      <th></th>\n",
       "      <th>UserID</th>\n",
       "      <th>MovieID</th>\n",
       "      <th>CategoryID</th>\n",
       "      <th>Rating</th>\n",
       "      <th>Timestamp</th>\n",
       "    </tr>\n",
       "  </thead>\n",
       "  <tbody>\n",
       "    <tr>\n",
       "      <th>474</th>\n",
       "      <td>101</td>\n",
       "      <td>177</td>\n",
       "      <td>4</td>\n",
       "      <td>4</td>\n",
       "      <td>874724710</td>\n",
       "    </tr>\n",
       "    <tr>\n",
       "      <th>178269</th>\n",
       "      <td>101</td>\n",
       "      <td>289</td>\n",
       "      <td>7</td>\n",
       "      <td>4</td>\n",
       "      <td>874724727</td>\n",
       "    </tr>\n",
       "    <tr>\n",
       "      <th>90841</th>\n",
       "      <td>101</td>\n",
       "      <td>153</td>\n",
       "      <td>0</td>\n",
       "      <td>4</td>\n",
       "      <td>874724754</td>\n",
       "    </tr>\n",
       "    <tr>\n",
       "      <th>45079</th>\n",
       "      <td>101</td>\n",
       "      <td>361</td>\n",
       "      <td>10</td>\n",
       "      <td>4</td>\n",
       "      <td>874724781</td>\n",
       "    </tr>\n",
       "    <tr>\n",
       "      <th>175466</th>\n",
       "      <td>101</td>\n",
       "      <td>321</td>\n",
       "      <td>0</td>\n",
       "      <td>4</td>\n",
       "      <td>874724843</td>\n",
       "    </tr>\n",
       "    <tr>\n",
       "      <th>...</th>\n",
       "      <td>...</td>\n",
       "      <td>...</td>\n",
       "      <td>...</td>\n",
       "      <td>...</td>\n",
       "      <td>...</td>\n",
       "    </tr>\n",
       "    <tr>\n",
       "      <th>98754</th>\n",
       "      <td>724</td>\n",
       "      <td>890</td>\n",
       "      <td>0</td>\n",
       "      <td>4</td>\n",
       "      <td>893286638</td>\n",
       "    </tr>\n",
       "    <tr>\n",
       "      <th>157460</th>\n",
       "      <td>724</td>\n",
       "      <td>652</td>\n",
       "      <td>0</td>\n",
       "      <td>4</td>\n",
       "      <td>893286638</td>\n",
       "    </tr>\n",
       "    <tr>\n",
       "      <th>98345</th>\n",
       "      <td>724</td>\n",
       "      <td>98</td>\n",
       "      <td>0</td>\n",
       "      <td>3</td>\n",
       "      <td>893286638</td>\n",
       "    </tr>\n",
       "    <tr>\n",
       "      <th>168106</th>\n",
       "      <td>724</td>\n",
       "      <td>130</td>\n",
       "      <td>7</td>\n",
       "      <td>4</td>\n",
       "      <td>893286638</td>\n",
       "    </tr>\n",
       "    <tr>\n",
       "      <th>154748</th>\n",
       "      <td>724</td>\n",
       "      <td>719</td>\n",
       "      <td>0</td>\n",
       "      <td>3</td>\n",
       "      <td>893286638</td>\n",
       "    </tr>\n",
       "  </tbody>\n",
       "</table>\n",
       "<p>100000 rows × 5 columns</p>\n",
       "</div>"
      ],
      "text/plain": [
       "        UserID  MovieID  CategoryID  Rating  Timestamp\n",
       "474        101      177           4       4  874724710\n",
       "178269     101      289           7       4  874724727\n",
       "90841      101      153           0       4  874724754\n",
       "45079      101      361          10       4  874724781\n",
       "175466     101      321           0       4  874724843\n",
       "...        ...      ...         ...     ...        ...\n",
       "98754      724      890           0       4  893286638\n",
       "157460     724      652           0       4  893286638\n",
       "98345      724       98           0       3  893286638\n",
       "168106     724      130           7       4  893286638\n",
       "154748     724      719           0       3  893286638\n",
       "\n",
       "[100000 rows x 5 columns]"
      ]
     },
     "execution_count": 3,
     "metadata": {},
     "output_type": "execute_result"
    }
   ],
   "source": [
    "dataframe = dataset.data_full.drop_duplicates(subset=['UserID', 'MovieID', 'Timestamp'])\n",
    "dataframe"
   ]
  },
  {
   "cell_type": "code",
   "execution_count": 4,
   "metadata": {},
   "outputs": [
    {
     "data": {
      "application/vnd.plotly.v1+json": {
       "config": {
        "plotlyServerURL": "https://plot.ly"
       },
       "data": [
        {
         "alignmentgroup": "True",
         "hovertemplate": "Rating=%{x}<br>Frequency=%{y}<extra></extra>",
         "legendgroup": "1",
         "marker": {
          "color": "#74c476",
          "pattern": {
           "shape": ""
          }
         },
         "name": "1",
         "offsetgroup": "1",
         "orientation": "v",
         "showlegend": true,
         "textposition": "auto",
         "type": "bar",
         "x": [
          1
         ],
         "xaxis": "x",
         "y": [
          6110
         ],
         "yaxis": "y"
        },
        {
         "alignmentgroup": "True",
         "hovertemplate": "Rating=%{x}<br>Frequency=%{y}<extra></extra>",
         "legendgroup": "2",
         "marker": {
          "color": "#41ab5d",
          "pattern": {
           "shape": ""
          }
         },
         "name": "2",
         "offsetgroup": "2",
         "orientation": "v",
         "showlegend": true,
         "textposition": "auto",
         "type": "bar",
         "x": [
          2
         ],
         "xaxis": "x",
         "y": [
          11370
         ],
         "yaxis": "y"
        },
        {
         "alignmentgroup": "True",
         "hovertemplate": "Rating=%{x}<br>Frequency=%{y}<extra></extra>",
         "legendgroup": "3",
         "marker": {
          "color": "#238b45",
          "pattern": {
           "shape": ""
          }
         },
         "name": "3",
         "offsetgroup": "3",
         "orientation": "v",
         "showlegend": true,
         "textposition": "auto",
         "type": "bar",
         "x": [
          3
         ],
         "xaxis": "x",
         "y": [
          27145
         ],
         "yaxis": "y"
        },
        {
         "alignmentgroup": "True",
         "hovertemplate": "Rating=%{x}<br>Frequency=%{y}<extra></extra>",
         "legendgroup": "4",
         "marker": {
          "color": "#006d2c",
          "pattern": {
           "shape": ""
          }
         },
         "name": "4",
         "offsetgroup": "4",
         "orientation": "v",
         "showlegend": true,
         "textposition": "auto",
         "type": "bar",
         "x": [
          4
         ],
         "xaxis": "x",
         "y": [
          34174
         ],
         "yaxis": "y"
        },
        {
         "alignmentgroup": "True",
         "hovertemplate": "Rating=%{x}<br>Frequency=%{y}<extra></extra>",
         "legendgroup": "5",
         "marker": {
          "color": "#00441b",
          "pattern": {
           "shape": ""
          }
         },
         "name": "5",
         "offsetgroup": "5",
         "orientation": "v",
         "showlegend": true,
         "textposition": "auto",
         "type": "bar",
         "x": [
          5
         ],
         "xaxis": "x",
         "y": [
          21201
         ],
         "yaxis": "y"
        }
       ],
       "layout": {
        "annotations": [
         {
          "font": {
           "color": "black",
           "size": 12
          },
          "showarrow": false,
          "text": "6110",
          "x": 1,
          "y": 6110.1,
          "yshift": 10
         },
         {
          "font": {
           "color": "black",
           "size": 12
          },
          "showarrow": false,
          "text": "11370",
          "x": 2,
          "y": 11370.1,
          "yshift": 10
         },
         {
          "font": {
           "color": "black",
           "size": 12
          },
          "showarrow": false,
          "text": "27145",
          "x": 3,
          "y": 27145.1,
          "yshift": 10
         },
         {
          "font": {
           "color": "black",
           "size": 12
          },
          "showarrow": false,
          "text": "34174",
          "x": 4,
          "y": 34174.1,
          "yshift": 10
         },
         {
          "font": {
           "color": "black",
           "size": 12
          },
          "showarrow": false,
          "text": "21201",
          "x": 5,
          "y": 21201.1,
          "yshift": 10
         }
        ],
        "barmode": "relative",
        "legend": {
         "title": {
          "text": "Rating"
         },
         "tracegroupgap": 0
        },
        "margin": {
         "t": 60
        },
        "template": {
         "data": {
          "bar": [
           {
            "error_x": {
             "color": "#2a3f5f"
            },
            "error_y": {
             "color": "#2a3f5f"
            },
            "marker": {
             "line": {
              "color": "#E5ECF6",
              "width": 0.5
             },
             "pattern": {
              "fillmode": "overlay",
              "size": 10,
              "solidity": 0.2
             }
            },
            "type": "bar"
           }
          ],
          "barpolar": [
           {
            "marker": {
             "line": {
              "color": "#E5ECF6",
              "width": 0.5
             },
             "pattern": {
              "fillmode": "overlay",
              "size": 10,
              "solidity": 0.2
             }
            },
            "type": "barpolar"
           }
          ],
          "carpet": [
           {
            "aaxis": {
             "endlinecolor": "#2a3f5f",
             "gridcolor": "white",
             "linecolor": "white",
             "minorgridcolor": "white",
             "startlinecolor": "#2a3f5f"
            },
            "baxis": {
             "endlinecolor": "#2a3f5f",
             "gridcolor": "white",
             "linecolor": "white",
             "minorgridcolor": "white",
             "startlinecolor": "#2a3f5f"
            },
            "type": "carpet"
           }
          ],
          "choropleth": [
           {
            "colorbar": {
             "outlinewidth": 0,
             "ticks": ""
            },
            "type": "choropleth"
           }
          ],
          "contour": [
           {
            "colorbar": {
             "outlinewidth": 0,
             "ticks": ""
            },
            "colorscale": [
             [
              0,
              "#0d0887"
             ],
             [
              0.1111111111111111,
              "#46039f"
             ],
             [
              0.2222222222222222,
              "#7201a8"
             ],
             [
              0.3333333333333333,
              "#9c179e"
             ],
             [
              0.4444444444444444,
              "#bd3786"
             ],
             [
              0.5555555555555556,
              "#d8576b"
             ],
             [
              0.6666666666666666,
              "#ed7953"
             ],
             [
              0.7777777777777778,
              "#fb9f3a"
             ],
             [
              0.8888888888888888,
              "#fdca26"
             ],
             [
              1,
              "#f0f921"
             ]
            ],
            "type": "contour"
           }
          ],
          "contourcarpet": [
           {
            "colorbar": {
             "outlinewidth": 0,
             "ticks": ""
            },
            "type": "contourcarpet"
           }
          ],
          "heatmap": [
           {
            "colorbar": {
             "outlinewidth": 0,
             "ticks": ""
            },
            "colorscale": [
             [
              0,
              "#0d0887"
             ],
             [
              0.1111111111111111,
              "#46039f"
             ],
             [
              0.2222222222222222,
              "#7201a8"
             ],
             [
              0.3333333333333333,
              "#9c179e"
             ],
             [
              0.4444444444444444,
              "#bd3786"
             ],
             [
              0.5555555555555556,
              "#d8576b"
             ],
             [
              0.6666666666666666,
              "#ed7953"
             ],
             [
              0.7777777777777778,
              "#fb9f3a"
             ],
             [
              0.8888888888888888,
              "#fdca26"
             ],
             [
              1,
              "#f0f921"
             ]
            ],
            "type": "heatmap"
           }
          ],
          "heatmapgl": [
           {
            "colorbar": {
             "outlinewidth": 0,
             "ticks": ""
            },
            "colorscale": [
             [
              0,
              "#0d0887"
             ],
             [
              0.1111111111111111,
              "#46039f"
             ],
             [
              0.2222222222222222,
              "#7201a8"
             ],
             [
              0.3333333333333333,
              "#9c179e"
             ],
             [
              0.4444444444444444,
              "#bd3786"
             ],
             [
              0.5555555555555556,
              "#d8576b"
             ],
             [
              0.6666666666666666,
              "#ed7953"
             ],
             [
              0.7777777777777778,
              "#fb9f3a"
             ],
             [
              0.8888888888888888,
              "#fdca26"
             ],
             [
              1,
              "#f0f921"
             ]
            ],
            "type": "heatmapgl"
           }
          ],
          "histogram": [
           {
            "marker": {
             "pattern": {
              "fillmode": "overlay",
              "size": 10,
              "solidity": 0.2
             }
            },
            "type": "histogram"
           }
          ],
          "histogram2d": [
           {
            "colorbar": {
             "outlinewidth": 0,
             "ticks": ""
            },
            "colorscale": [
             [
              0,
              "#0d0887"
             ],
             [
              0.1111111111111111,
              "#46039f"
             ],
             [
              0.2222222222222222,
              "#7201a8"
             ],
             [
              0.3333333333333333,
              "#9c179e"
             ],
             [
              0.4444444444444444,
              "#bd3786"
             ],
             [
              0.5555555555555556,
              "#d8576b"
             ],
             [
              0.6666666666666666,
              "#ed7953"
             ],
             [
              0.7777777777777778,
              "#fb9f3a"
             ],
             [
              0.8888888888888888,
              "#fdca26"
             ],
             [
              1,
              "#f0f921"
             ]
            ],
            "type": "histogram2d"
           }
          ],
          "histogram2dcontour": [
           {
            "colorbar": {
             "outlinewidth": 0,
             "ticks": ""
            },
            "colorscale": [
             [
              0,
              "#0d0887"
             ],
             [
              0.1111111111111111,
              "#46039f"
             ],
             [
              0.2222222222222222,
              "#7201a8"
             ],
             [
              0.3333333333333333,
              "#9c179e"
             ],
             [
              0.4444444444444444,
              "#bd3786"
             ],
             [
              0.5555555555555556,
              "#d8576b"
             ],
             [
              0.6666666666666666,
              "#ed7953"
             ],
             [
              0.7777777777777778,
              "#fb9f3a"
             ],
             [
              0.8888888888888888,
              "#fdca26"
             ],
             [
              1,
              "#f0f921"
             ]
            ],
            "type": "histogram2dcontour"
           }
          ],
          "mesh3d": [
           {
            "colorbar": {
             "outlinewidth": 0,
             "ticks": ""
            },
            "type": "mesh3d"
           }
          ],
          "parcoords": [
           {
            "line": {
             "colorbar": {
              "outlinewidth": 0,
              "ticks": ""
             }
            },
            "type": "parcoords"
           }
          ],
          "pie": [
           {
            "automargin": true,
            "type": "pie"
           }
          ],
          "scatter": [
           {
            "fillpattern": {
             "fillmode": "overlay",
             "size": 10,
             "solidity": 0.2
            },
            "type": "scatter"
           }
          ],
          "scatter3d": [
           {
            "line": {
             "colorbar": {
              "outlinewidth": 0,
              "ticks": ""
             }
            },
            "marker": {
             "colorbar": {
              "outlinewidth": 0,
              "ticks": ""
             }
            },
            "type": "scatter3d"
           }
          ],
          "scattercarpet": [
           {
            "marker": {
             "colorbar": {
              "outlinewidth": 0,
              "ticks": ""
             }
            },
            "type": "scattercarpet"
           }
          ],
          "scattergeo": [
           {
            "marker": {
             "colorbar": {
              "outlinewidth": 0,
              "ticks": ""
             }
            },
            "type": "scattergeo"
           }
          ],
          "scattergl": [
           {
            "marker": {
             "colorbar": {
              "outlinewidth": 0,
              "ticks": ""
             }
            },
            "type": "scattergl"
           }
          ],
          "scattermapbox": [
           {
            "marker": {
             "colorbar": {
              "outlinewidth": 0,
              "ticks": ""
             }
            },
            "type": "scattermapbox"
           }
          ],
          "scatterpolar": [
           {
            "marker": {
             "colorbar": {
              "outlinewidth": 0,
              "ticks": ""
             }
            },
            "type": "scatterpolar"
           }
          ],
          "scatterpolargl": [
           {
            "marker": {
             "colorbar": {
              "outlinewidth": 0,
              "ticks": ""
             }
            },
            "type": "scatterpolargl"
           }
          ],
          "scatterternary": [
           {
            "marker": {
             "colorbar": {
              "outlinewidth": 0,
              "ticks": ""
             }
            },
            "type": "scatterternary"
           }
          ],
          "surface": [
           {
            "colorbar": {
             "outlinewidth": 0,
             "ticks": ""
            },
            "colorscale": [
             [
              0,
              "#0d0887"
             ],
             [
              0.1111111111111111,
              "#46039f"
             ],
             [
              0.2222222222222222,
              "#7201a8"
             ],
             [
              0.3333333333333333,
              "#9c179e"
             ],
             [
              0.4444444444444444,
              "#bd3786"
             ],
             [
              0.5555555555555556,
              "#d8576b"
             ],
             [
              0.6666666666666666,
              "#ed7953"
             ],
             [
              0.7777777777777778,
              "#fb9f3a"
             ],
             [
              0.8888888888888888,
              "#fdca26"
             ],
             [
              1,
              "#f0f921"
             ]
            ],
            "type": "surface"
           }
          ],
          "table": [
           {
            "cells": {
             "fill": {
              "color": "#EBF0F8"
             },
             "line": {
              "color": "white"
             }
            },
            "header": {
             "fill": {
              "color": "#C8D4E3"
             },
             "line": {
              "color": "white"
             }
            },
            "type": "table"
           }
          ]
         },
         "layout": {
          "annotationdefaults": {
           "arrowcolor": "#2a3f5f",
           "arrowhead": 0,
           "arrowwidth": 1
          },
          "autotypenumbers": "strict",
          "coloraxis": {
           "colorbar": {
            "outlinewidth": 0,
            "ticks": ""
           }
          },
          "colorscale": {
           "diverging": [
            [
             0,
             "#8e0152"
            ],
            [
             0.1,
             "#c51b7d"
            ],
            [
             0.2,
             "#de77ae"
            ],
            [
             0.3,
             "#f1b6da"
            ],
            [
             0.4,
             "#fde0ef"
            ],
            [
             0.5,
             "#f7f7f7"
            ],
            [
             0.6,
             "#e6f5d0"
            ],
            [
             0.7,
             "#b8e186"
            ],
            [
             0.8,
             "#7fbc41"
            ],
            [
             0.9,
             "#4d9221"
            ],
            [
             1,
             "#276419"
            ]
           ],
           "sequential": [
            [
             0,
             "#0d0887"
            ],
            [
             0.1111111111111111,
             "#46039f"
            ],
            [
             0.2222222222222222,
             "#7201a8"
            ],
            [
             0.3333333333333333,
             "#9c179e"
            ],
            [
             0.4444444444444444,
             "#bd3786"
            ],
            [
             0.5555555555555556,
             "#d8576b"
            ],
            [
             0.6666666666666666,
             "#ed7953"
            ],
            [
             0.7777777777777778,
             "#fb9f3a"
            ],
            [
             0.8888888888888888,
             "#fdca26"
            ],
            [
             1,
             "#f0f921"
            ]
           ],
           "sequentialminus": [
            [
             0,
             "#0d0887"
            ],
            [
             0.1111111111111111,
             "#46039f"
            ],
            [
             0.2222222222222222,
             "#7201a8"
            ],
            [
             0.3333333333333333,
             "#9c179e"
            ],
            [
             0.4444444444444444,
             "#bd3786"
            ],
            [
             0.5555555555555556,
             "#d8576b"
            ],
            [
             0.6666666666666666,
             "#ed7953"
            ],
            [
             0.7777777777777778,
             "#fb9f3a"
            ],
            [
             0.8888888888888888,
             "#fdca26"
            ],
            [
             1,
             "#f0f921"
            ]
           ]
          },
          "colorway": [
           "#636efa",
           "#EF553B",
           "#00cc96",
           "#ab63fa",
           "#FFA15A",
           "#19d3f3",
           "#FF6692",
           "#B6E880",
           "#FF97FF",
           "#FECB52"
          ],
          "font": {
           "color": "#2a3f5f"
          },
          "geo": {
           "bgcolor": "white",
           "lakecolor": "white",
           "landcolor": "#E5ECF6",
           "showlakes": true,
           "showland": true,
           "subunitcolor": "white"
          },
          "hoverlabel": {
           "align": "left"
          },
          "hovermode": "closest",
          "mapbox": {
           "style": "light"
          },
          "paper_bgcolor": "white",
          "plot_bgcolor": "#E5ECF6",
          "polar": {
           "angularaxis": {
            "gridcolor": "white",
            "linecolor": "white",
            "ticks": ""
           },
           "bgcolor": "#E5ECF6",
           "radialaxis": {
            "gridcolor": "white",
            "linecolor": "white",
            "ticks": ""
           }
          },
          "scene": {
           "xaxis": {
            "backgroundcolor": "#E5ECF6",
            "gridcolor": "white",
            "gridwidth": 2,
            "linecolor": "white",
            "showbackground": true,
            "ticks": "",
            "zerolinecolor": "white"
           },
           "yaxis": {
            "backgroundcolor": "#E5ECF6",
            "gridcolor": "white",
            "gridwidth": 2,
            "linecolor": "white",
            "showbackground": true,
            "ticks": "",
            "zerolinecolor": "white"
           },
           "zaxis": {
            "backgroundcolor": "#E5ECF6",
            "gridcolor": "white",
            "gridwidth": 2,
            "linecolor": "white",
            "showbackground": true,
            "ticks": "",
            "zerolinecolor": "white"
           }
          },
          "shapedefaults": {
           "line": {
            "color": "#2a3f5f"
           }
          },
          "ternary": {
           "aaxis": {
            "gridcolor": "white",
            "linecolor": "white",
            "ticks": ""
           },
           "baxis": {
            "gridcolor": "white",
            "linecolor": "white",
            "ticks": ""
           },
           "bgcolor": "#E5ECF6",
           "caxis": {
            "gridcolor": "white",
            "linecolor": "white",
            "ticks": ""
           }
          },
          "title": {
           "x": 0.05
          },
          "xaxis": {
           "automargin": true,
           "gridcolor": "white",
           "linecolor": "white",
           "ticks": "",
           "title": {
            "standoff": 15
           },
           "zerolinecolor": "white",
           "zerolinewidth": 2
          },
          "yaxis": {
           "automargin": true,
           "gridcolor": "white",
           "linecolor": "white",
           "ticks": "",
           "title": {
            "standoff": 15
           },
           "zerolinecolor": "white",
           "zerolinewidth": 2
          }
         }
        },
        "xaxis": {
         "anchor": "y",
         "categoryarray": [
          1,
          2,
          3,
          4,
          5
         ],
         "categoryorder": "array",
         "domain": [
          0,
          1
         ],
         "title": {
          "text": "Rating"
         }
        },
        "yaxis": {
         "anchor": "x",
         "domain": [
          0,
          1
         ],
         "title": {
          "text": "Frequency"
         }
        }
       }
      }
     },
     "metadata": {},
     "output_type": "display_data"
    }
   ],
   "source": [
    "ratings_counts = dataframe['Rating'].value_counts()\n",
    "ratings_order = [1, 2, 3, 4, 5] \n",
    "ratings_counts = ratings_counts.loc[ratings_order]\n",
    "df_ratings = pd.DataFrame({'Rating': ratings_order, 'Frequency': ratings_counts.values})\n",
    "df_ratings['Rating'] = pd.Categorical(df_ratings['Rating'], categories=ratings_order, ordered=True)\n",
    "dark_green_colors = ['#74c476', '#41ab5d', '#238b45', '#006d2c', '#00441b']\n",
    "fig = px.bar(\n",
    "    df_ratings,\n",
    "    x='Rating',\n",
    "    y='Frequency',\n",
    "    color='Rating',\n",
    "    color_discrete_sequence=dark_green_colors,\n",
    "    labels={'x': 'Rating', 'y': 'Frequency'},\n",
    ")\n",
    "# We add the value for each rating at the top of the bars.\n",
    "for i, row in df_ratings.iterrows():\n",
    "    fig.add_annotation(\n",
    "        x=row['Rating'],\n",
    "        y=row['Frequency'] + 0.1,\n",
    "        text=str(row['Frequency']),\n",
    "        showarrow=False,\n",
    "        font=dict(color='black', size=12),\n",
    "        yshift=10\n",
    "    )\n",
    "fig.show()"
   ]
  },
  {
   "cell_type": "code",
   "execution_count": 5,
   "metadata": {},
   "outputs": [
    {
     "data": {
      "text/plain": [
       "1682"
      ]
     },
     "execution_count": 5,
     "metadata": {},
     "output_type": "execute_result"
    }
   ],
   "source": [
    "dataset.num_items"
   ]
  },
  {
   "cell_type": "markdown",
   "metadata": {},
   "source": [
    "# Timestamp convertion to datetime"
   ]
  },
  {
   "cell_type": "code",
   "execution_count": 6,
   "metadata": {},
   "outputs": [
    {
     "data": {
      "text/html": [
       "<div>\n",
       "<style scoped>\n",
       "    .dataframe tbody tr th:only-of-type {\n",
       "        vertical-align: middle;\n",
       "    }\n",
       "\n",
       "    .dataframe tbody tr th {\n",
       "        vertical-align: top;\n",
       "    }\n",
       "\n",
       "    .dataframe thead th {\n",
       "        text-align: right;\n",
       "    }\n",
       "</style>\n",
       "<table border=\"1\" class=\"dataframe\">\n",
       "  <thead>\n",
       "    <tr style=\"text-align: right;\">\n",
       "      <th></th>\n",
       "      <th>UserID</th>\n",
       "      <th>MovieID</th>\n",
       "      <th>CategoryID</th>\n",
       "      <th>Rating</th>\n",
       "      <th>Timestamp</th>\n",
       "    </tr>\n",
       "  </thead>\n",
       "  <tbody>\n",
       "    <tr>\n",
       "      <th>474</th>\n",
       "      <td>101</td>\n",
       "      <td>177</td>\n",
       "      <td>4</td>\n",
       "      <td>4</td>\n",
       "      <td>1997-09-20 03:05:10</td>\n",
       "    </tr>\n",
       "    <tr>\n",
       "      <th>178269</th>\n",
       "      <td>101</td>\n",
       "      <td>289</td>\n",
       "      <td>7</td>\n",
       "      <td>4</td>\n",
       "      <td>1997-09-20 03:05:27</td>\n",
       "    </tr>\n",
       "    <tr>\n",
       "      <th>90841</th>\n",
       "      <td>101</td>\n",
       "      <td>153</td>\n",
       "      <td>0</td>\n",
       "      <td>4</td>\n",
       "      <td>1997-09-20 03:05:54</td>\n",
       "    </tr>\n",
       "    <tr>\n",
       "      <th>45079</th>\n",
       "      <td>101</td>\n",
       "      <td>361</td>\n",
       "      <td>10</td>\n",
       "      <td>4</td>\n",
       "      <td>1997-09-20 03:06:21</td>\n",
       "    </tr>\n",
       "    <tr>\n",
       "      <th>175466</th>\n",
       "      <td>101</td>\n",
       "      <td>321</td>\n",
       "      <td>0</td>\n",
       "      <td>4</td>\n",
       "      <td>1997-09-20 03:07:23</td>\n",
       "    </tr>\n",
       "    <tr>\n",
       "      <th>...</th>\n",
       "      <td>...</td>\n",
       "      <td>...</td>\n",
       "      <td>...</td>\n",
       "      <td>...</td>\n",
       "      <td>...</td>\n",
       "    </tr>\n",
       "    <tr>\n",
       "      <th>98754</th>\n",
       "      <td>724</td>\n",
       "      <td>890</td>\n",
       "      <td>0</td>\n",
       "      <td>4</td>\n",
       "      <td>1998-04-22 23:10:38</td>\n",
       "    </tr>\n",
       "    <tr>\n",
       "      <th>157460</th>\n",
       "      <td>724</td>\n",
       "      <td>652</td>\n",
       "      <td>0</td>\n",
       "      <td>4</td>\n",
       "      <td>1998-04-22 23:10:38</td>\n",
       "    </tr>\n",
       "    <tr>\n",
       "      <th>98345</th>\n",
       "      <td>724</td>\n",
       "      <td>98</td>\n",
       "      <td>0</td>\n",
       "      <td>3</td>\n",
       "      <td>1998-04-22 23:10:38</td>\n",
       "    </tr>\n",
       "    <tr>\n",
       "      <th>168106</th>\n",
       "      <td>724</td>\n",
       "      <td>130</td>\n",
       "      <td>7</td>\n",
       "      <td>4</td>\n",
       "      <td>1998-04-22 23:10:38</td>\n",
       "    </tr>\n",
       "    <tr>\n",
       "      <th>154748</th>\n",
       "      <td>724</td>\n",
       "      <td>719</td>\n",
       "      <td>0</td>\n",
       "      <td>3</td>\n",
       "      <td>1998-04-22 23:10:38</td>\n",
       "    </tr>\n",
       "  </tbody>\n",
       "</table>\n",
       "<p>100000 rows × 5 columns</p>\n",
       "</div>"
      ],
      "text/plain": [
       "        UserID  MovieID  CategoryID  Rating           Timestamp\n",
       "474        101      177           4       4 1997-09-20 03:05:10\n",
       "178269     101      289           7       4 1997-09-20 03:05:27\n",
       "90841      101      153           0       4 1997-09-20 03:05:54\n",
       "45079      101      361          10       4 1997-09-20 03:06:21\n",
       "175466     101      321           0       4 1997-09-20 03:07:23\n",
       "...        ...      ...         ...     ...                 ...\n",
       "98754      724      890           0       4 1998-04-22 23:10:38\n",
       "157460     724      652           0       4 1998-04-22 23:10:38\n",
       "98345      724       98           0       3 1998-04-22 23:10:38\n",
       "168106     724      130           7       4 1998-04-22 23:10:38\n",
       "154748     724      719           0       3 1998-04-22 23:10:38\n",
       "\n",
       "[100000 rows x 5 columns]"
      ]
     },
     "execution_count": 6,
     "metadata": {},
     "output_type": "execute_result"
    }
   ],
   "source": [
    "# Converts timestamp in a DateTime object.\n",
    "dataframe['Timestamp'] = pd.to_datetime(dataframe['Timestamp'], unit='s')\n",
    "dataframe"
   ]
  },
  {
   "cell_type": "code",
   "execution_count": 7,
   "metadata": {},
   "outputs": [
    {
     "data": {
      "text/html": [
       "<div>\n",
       "<style scoped>\n",
       "    .dataframe tbody tr th:only-of-type {\n",
       "        vertical-align: middle;\n",
       "    }\n",
       "\n",
       "    .dataframe tbody tr th {\n",
       "        vertical-align: top;\n",
       "    }\n",
       "\n",
       "    .dataframe thead th {\n",
       "        text-align: right;\n",
       "    }\n",
       "</style>\n",
       "<table border=\"1\" class=\"dataframe\">\n",
       "  <thead>\n",
       "    <tr style=\"text-align: right;\">\n",
       "      <th></th>\n",
       "      <th>UserID</th>\n",
       "      <th>MovieID</th>\n",
       "      <th>CategoryID</th>\n",
       "      <th>Rating</th>\n",
       "      <th>Timestamp</th>\n",
       "    </tr>\n",
       "  </thead>\n",
       "  <tbody>\n",
       "    <tr>\n",
       "      <th>474</th>\n",
       "      <td>101</td>\n",
       "      <td>177</td>\n",
       "      <td>4</td>\n",
       "      <td>4</td>\n",
       "      <td>1997-09-20 03:05:10</td>\n",
       "    </tr>\n",
       "    <tr>\n",
       "      <th>178269</th>\n",
       "      <td>101</td>\n",
       "      <td>289</td>\n",
       "      <td>7</td>\n",
       "      <td>4</td>\n",
       "      <td>1997-09-20 03:05:27</td>\n",
       "    </tr>\n",
       "    <tr>\n",
       "      <th>90841</th>\n",
       "      <td>101</td>\n",
       "      <td>153</td>\n",
       "      <td>0</td>\n",
       "      <td>4</td>\n",
       "      <td>1997-09-20 03:05:54</td>\n",
       "    </tr>\n",
       "    <tr>\n",
       "      <th>45079</th>\n",
       "      <td>101</td>\n",
       "      <td>361</td>\n",
       "      <td>10</td>\n",
       "      <td>4</td>\n",
       "      <td>1997-09-20 03:06:21</td>\n",
       "    </tr>\n",
       "    <tr>\n",
       "      <th>175466</th>\n",
       "      <td>101</td>\n",
       "      <td>321</td>\n",
       "      <td>0</td>\n",
       "      <td>4</td>\n",
       "      <td>1997-09-20 03:07:23</td>\n",
       "    </tr>\n",
       "    <tr>\n",
       "      <th>...</th>\n",
       "      <td>...</td>\n",
       "      <td>...</td>\n",
       "      <td>...</td>\n",
       "      <td>...</td>\n",
       "      <td>...</td>\n",
       "    </tr>\n",
       "    <tr>\n",
       "      <th>98754</th>\n",
       "      <td>724</td>\n",
       "      <td>890</td>\n",
       "      <td>0</td>\n",
       "      <td>4</td>\n",
       "      <td>1998-04-22 23:10:38</td>\n",
       "    </tr>\n",
       "    <tr>\n",
       "      <th>157460</th>\n",
       "      <td>724</td>\n",
       "      <td>652</td>\n",
       "      <td>0</td>\n",
       "      <td>4</td>\n",
       "      <td>1998-04-22 23:10:38</td>\n",
       "    </tr>\n",
       "    <tr>\n",
       "      <th>98345</th>\n",
       "      <td>724</td>\n",
       "      <td>98</td>\n",
       "      <td>0</td>\n",
       "      <td>3</td>\n",
       "      <td>1998-04-22 23:10:38</td>\n",
       "    </tr>\n",
       "    <tr>\n",
       "      <th>168106</th>\n",
       "      <td>724</td>\n",
       "      <td>130</td>\n",
       "      <td>7</td>\n",
       "      <td>4</td>\n",
       "      <td>1998-04-22 23:10:38</td>\n",
       "    </tr>\n",
       "    <tr>\n",
       "      <th>154748</th>\n",
       "      <td>724</td>\n",
       "      <td>719</td>\n",
       "      <td>0</td>\n",
       "      <td>3</td>\n",
       "      <td>1998-04-22 23:10:38</td>\n",
       "    </tr>\n",
       "  </tbody>\n",
       "</table>\n",
       "<p>100000 rows × 5 columns</p>\n",
       "</div>"
      ],
      "text/plain": [
       "        UserID  MovieID  CategoryID  Rating           Timestamp\n",
       "474        101      177           4       4 1997-09-20 03:05:10\n",
       "178269     101      289           7       4 1997-09-20 03:05:27\n",
       "90841      101      153           0       4 1997-09-20 03:05:54\n",
       "45079      101      361          10       4 1997-09-20 03:06:21\n",
       "175466     101      321           0       4 1997-09-20 03:07:23\n",
       "...        ...      ...         ...     ...                 ...\n",
       "98754      724      890           0       4 1998-04-22 23:10:38\n",
       "157460     724      652           0       4 1998-04-22 23:10:38\n",
       "98345      724       98           0       3 1998-04-22 23:10:38\n",
       "168106     724      130           7       4 1998-04-22 23:10:38\n",
       "154748     724      719           0       3 1998-04-22 23:10:38\n",
       "\n",
       "[100000 rows x 5 columns]"
      ]
     },
     "execution_count": 7,
     "metadata": {},
     "output_type": "execute_result"
    }
   ],
   "source": [
    "dataframe = dataframe.sort_values(by='Timestamp')\n",
    "dataframe"
   ]
  },
  {
   "cell_type": "code",
   "execution_count": 8,
   "metadata": {},
   "outputs": [
    {
     "data": {
      "text/html": [
       "<div>\n",
       "<style scoped>\n",
       "    .dataframe tbody tr th:only-of-type {\n",
       "        vertical-align: middle;\n",
       "    }\n",
       "\n",
       "    .dataframe tbody tr th {\n",
       "        vertical-align: top;\n",
       "    }\n",
       "\n",
       "    .dataframe thead th {\n",
       "        text-align: right;\n",
       "    }\n",
       "</style>\n",
       "<table border=\"1\" class=\"dataframe\">\n",
       "  <thead>\n",
       "    <tr style=\"text-align: right;\">\n",
       "      <th></th>\n",
       "      <th>UserID</th>\n",
       "      <th>MovieID</th>\n",
       "      <th>CategoryID</th>\n",
       "      <th>Rating</th>\n",
       "      <th>Timestamp</th>\n",
       "      <th>Month</th>\n",
       "    </tr>\n",
       "  </thead>\n",
       "  <tbody>\n",
       "    <tr>\n",
       "      <th>474</th>\n",
       "      <td>101</td>\n",
       "      <td>177</td>\n",
       "      <td>4</td>\n",
       "      <td>4</td>\n",
       "      <td>1997-09-20 03:05:10</td>\n",
       "      <td>1997-09</td>\n",
       "    </tr>\n",
       "    <tr>\n",
       "      <th>178269</th>\n",
       "      <td>101</td>\n",
       "      <td>289</td>\n",
       "      <td>7</td>\n",
       "      <td>4</td>\n",
       "      <td>1997-09-20 03:05:27</td>\n",
       "      <td>1997-09</td>\n",
       "    </tr>\n",
       "    <tr>\n",
       "      <th>90841</th>\n",
       "      <td>101</td>\n",
       "      <td>153</td>\n",
       "      <td>0</td>\n",
       "      <td>4</td>\n",
       "      <td>1997-09-20 03:05:54</td>\n",
       "      <td>1997-09</td>\n",
       "    </tr>\n",
       "    <tr>\n",
       "      <th>45079</th>\n",
       "      <td>101</td>\n",
       "      <td>361</td>\n",
       "      <td>10</td>\n",
       "      <td>4</td>\n",
       "      <td>1997-09-20 03:06:21</td>\n",
       "      <td>1997-09</td>\n",
       "    </tr>\n",
       "    <tr>\n",
       "      <th>175466</th>\n",
       "      <td>101</td>\n",
       "      <td>321</td>\n",
       "      <td>0</td>\n",
       "      <td>4</td>\n",
       "      <td>1997-09-20 03:07:23</td>\n",
       "      <td>1997-09</td>\n",
       "    </tr>\n",
       "    <tr>\n",
       "      <th>...</th>\n",
       "      <td>...</td>\n",
       "      <td>...</td>\n",
       "      <td>...</td>\n",
       "      <td>...</td>\n",
       "      <td>...</td>\n",
       "      <td>...</td>\n",
       "    </tr>\n",
       "    <tr>\n",
       "      <th>98754</th>\n",
       "      <td>724</td>\n",
       "      <td>890</td>\n",
       "      <td>0</td>\n",
       "      <td>4</td>\n",
       "      <td>1998-04-22 23:10:38</td>\n",
       "      <td>1998-04</td>\n",
       "    </tr>\n",
       "    <tr>\n",
       "      <th>157460</th>\n",
       "      <td>724</td>\n",
       "      <td>652</td>\n",
       "      <td>0</td>\n",
       "      <td>4</td>\n",
       "      <td>1998-04-22 23:10:38</td>\n",
       "      <td>1998-04</td>\n",
       "    </tr>\n",
       "    <tr>\n",
       "      <th>98345</th>\n",
       "      <td>724</td>\n",
       "      <td>98</td>\n",
       "      <td>0</td>\n",
       "      <td>3</td>\n",
       "      <td>1998-04-22 23:10:38</td>\n",
       "      <td>1998-04</td>\n",
       "    </tr>\n",
       "    <tr>\n",
       "      <th>168106</th>\n",
       "      <td>724</td>\n",
       "      <td>130</td>\n",
       "      <td>7</td>\n",
       "      <td>4</td>\n",
       "      <td>1998-04-22 23:10:38</td>\n",
       "      <td>1998-04</td>\n",
       "    </tr>\n",
       "    <tr>\n",
       "      <th>154748</th>\n",
       "      <td>724</td>\n",
       "      <td>719</td>\n",
       "      <td>0</td>\n",
       "      <td>3</td>\n",
       "      <td>1998-04-22 23:10:38</td>\n",
       "      <td>1998-04</td>\n",
       "    </tr>\n",
       "  </tbody>\n",
       "</table>\n",
       "<p>100000 rows × 6 columns</p>\n",
       "</div>"
      ],
      "text/plain": [
       "        UserID  MovieID  CategoryID  Rating           Timestamp    Month\n",
       "474        101      177           4       4 1997-09-20 03:05:10  1997-09\n",
       "178269     101      289           7       4 1997-09-20 03:05:27  1997-09\n",
       "90841      101      153           0       4 1997-09-20 03:05:54  1997-09\n",
       "45079      101      361          10       4 1997-09-20 03:06:21  1997-09\n",
       "175466     101      321           0       4 1997-09-20 03:07:23  1997-09\n",
       "...        ...      ...         ...     ...                 ...      ...\n",
       "98754      724      890           0       4 1998-04-22 23:10:38  1998-04\n",
       "157460     724      652           0       4 1998-04-22 23:10:38  1998-04\n",
       "98345      724       98           0       3 1998-04-22 23:10:38  1998-04\n",
       "168106     724      130           7       4 1998-04-22 23:10:38  1998-04\n",
       "154748     724      719           0       3 1998-04-22 23:10:38  1998-04\n",
       "\n",
       "[100000 rows x 6 columns]"
      ]
     },
     "execution_count": 8,
     "metadata": {},
     "output_type": "execute_result"
    }
   ],
   "source": [
    "dataframe['Month'] = dataframe['Timestamp'].dt.to_period('M')\n",
    "dataframe"
   ]
  },
  {
   "cell_type": "code",
   "execution_count": 9,
   "metadata": {},
   "outputs": [
    {
     "data": {
      "text/plain": [
       "1997-09     6704\n",
       "1997-10    10304\n",
       "1997-11    23980\n",
       "1997-12    11911\n",
       "1998-01    14095\n",
       "1998-02    10991\n",
       "1998-03    12656\n",
       "1998-04     9359\n",
       "Freq: M, Name: Month, dtype: int64"
      ]
     },
     "execution_count": 9,
     "metadata": {},
     "output_type": "execute_result"
    }
   ],
   "source": [
    "distribution_per_month = dataframe['Month'].value_counts().sort_index()\n",
    "distribution_per_month"
   ]
  },
  {
   "cell_type": "code",
   "execution_count": 10,
   "metadata": {},
   "outputs": [
    {
     "data": {
      "text/html": [
       "<div>\n",
       "<style scoped>\n",
       "    .dataframe tbody tr th:only-of-type {\n",
       "        vertical-align: middle;\n",
       "    }\n",
       "\n",
       "    .dataframe tbody tr th {\n",
       "        vertical-align: top;\n",
       "    }\n",
       "\n",
       "    .dataframe thead th {\n",
       "        text-align: right;\n",
       "    }\n",
       "</style>\n",
       "<table border=\"1\" class=\"dataframe\">\n",
       "  <thead>\n",
       "    <tr style=\"text-align: right;\">\n",
       "      <th></th>\n",
       "      <th>UserID</th>\n",
       "      <th>MovieID</th>\n",
       "      <th>CategoryID</th>\n",
       "      <th>Rating</th>\n",
       "      <th>Timestamp</th>\n",
       "      <th>Month</th>\n",
       "    </tr>\n",
       "  </thead>\n",
       "  <tbody>\n",
       "    <tr>\n",
       "      <th>474</th>\n",
       "      <td>101</td>\n",
       "      <td>177</td>\n",
       "      <td>4</td>\n",
       "      <td>4</td>\n",
       "      <td>1997-09-20 03:05:10</td>\n",
       "      <td>1997-09</td>\n",
       "    </tr>\n",
       "    <tr>\n",
       "      <th>178269</th>\n",
       "      <td>101</td>\n",
       "      <td>289</td>\n",
       "      <td>7</td>\n",
       "      <td>4</td>\n",
       "      <td>1997-09-20 03:05:27</td>\n",
       "      <td>1997-09</td>\n",
       "    </tr>\n",
       "    <tr>\n",
       "      <th>90841</th>\n",
       "      <td>101</td>\n",
       "      <td>153</td>\n",
       "      <td>0</td>\n",
       "      <td>4</td>\n",
       "      <td>1997-09-20 03:05:54</td>\n",
       "      <td>1997-09</td>\n",
       "    </tr>\n",
       "    <tr>\n",
       "      <th>45079</th>\n",
       "      <td>101</td>\n",
       "      <td>361</td>\n",
       "      <td>10</td>\n",
       "      <td>4</td>\n",
       "      <td>1997-09-20 03:06:21</td>\n",
       "      <td>1997-09</td>\n",
       "    </tr>\n",
       "    <tr>\n",
       "      <th>175466</th>\n",
       "      <td>101</td>\n",
       "      <td>321</td>\n",
       "      <td>0</td>\n",
       "      <td>4</td>\n",
       "      <td>1997-09-20 03:07:23</td>\n",
       "      <td>1997-09</td>\n",
       "    </tr>\n",
       "    <tr>\n",
       "      <th>3723</th>\n",
       "      <td>101</td>\n",
       "      <td>732</td>\n",
       "      <td>7</td>\n",
       "      <td>4</td>\n",
       "      <td>1997-09-20 03:08:02</td>\n",
       "      <td>1997-09</td>\n",
       "    </tr>\n",
       "    <tr>\n",
       "      <th>23065</th>\n",
       "      <td>101</td>\n",
       "      <td>1006</td>\n",
       "      <td>4</td>\n",
       "      <td>4</td>\n",
       "      <td>1997-09-20 03:08:02</td>\n",
       "      <td>1997-09</td>\n",
       "    </tr>\n",
       "    <tr>\n",
       "      <th>55627</th>\n",
       "      <td>101</td>\n",
       "      <td>60</td>\n",
       "      <td>10</td>\n",
       "      <td>3</td>\n",
       "      <td>1997-09-20 03:08:25</td>\n",
       "      <td>1997-09</td>\n",
       "    </tr>\n",
       "    <tr>\n",
       "      <th>181097</th>\n",
       "      <td>101</td>\n",
       "      <td>971</td>\n",
       "      <td>7</td>\n",
       "      <td>4</td>\n",
       "      <td>1997-09-20 03:08:57</td>\n",
       "      <td>1997-09</td>\n",
       "    </tr>\n",
       "    <tr>\n",
       "      <th>349</th>\n",
       "      <td>101</td>\n",
       "      <td>140</td>\n",
       "      <td>0</td>\n",
       "      <td>4</td>\n",
       "      <td>1997-09-20 03:09:48</td>\n",
       "      <td>1997-09</td>\n",
       "    </tr>\n",
       "    <tr>\n",
       "      <th>25133</th>\n",
       "      <td>101</td>\n",
       "      <td>113</td>\n",
       "      <td>10</td>\n",
       "      <td>4</td>\n",
       "      <td>1997-09-20 03:11:21</td>\n",
       "      <td>1997-09</td>\n",
       "    </tr>\n",
       "    <tr>\n",
       "      <th>8497</th>\n",
       "      <td>101</td>\n",
       "      <td>136</td>\n",
       "      <td>0</td>\n",
       "      <td>3</td>\n",
       "      <td>1997-09-20 03:12:00</td>\n",
       "      <td>1997-09</td>\n",
       "    </tr>\n",
       "    <tr>\n",
       "      <th>162126</th>\n",
       "      <td>101</td>\n",
       "      <td>1054</td>\n",
       "      <td>4</td>\n",
       "      <td>3</td>\n",
       "      <td>1997-09-20 03:14:24</td>\n",
       "      <td>1997-09</td>\n",
       "    </tr>\n",
       "    <tr>\n",
       "      <th>9159</th>\n",
       "      <td>101</td>\n",
       "      <td>311</td>\n",
       "      <td>0</td>\n",
       "      <td>4</td>\n",
       "      <td>1997-09-20 03:16:26</td>\n",
       "      <td>1997-09</td>\n",
       "    </tr>\n",
       "    <tr>\n",
       "      <th>24109</th>\n",
       "      <td>101</td>\n",
       "      <td>240</td>\n",
       "      <td>7</td>\n",
       "      <td>5</td>\n",
       "      <td>1997-09-20 03:18:05</td>\n",
       "      <td>1997-09</td>\n",
       "    </tr>\n",
       "    <tr>\n",
       "      <th>7626</th>\n",
       "      <td>101</td>\n",
       "      <td>347</td>\n",
       "      <td>0</td>\n",
       "      <td>4</td>\n",
       "      <td>1997-09-20 03:18:05</td>\n",
       "      <td>1997-09</td>\n",
       "    </tr>\n",
       "    <tr>\n",
       "      <th>41802</th>\n",
       "      <td>101</td>\n",
       "      <td>111</td>\n",
       "      <td>7</td>\n",
       "      <td>5</td>\n",
       "      <td>1997-09-21 02:30:57</td>\n",
       "      <td>1997-09</td>\n",
       "    </tr>\n",
       "    <tr>\n",
       "      <th>106761</th>\n",
       "      <td>101</td>\n",
       "      <td>52</td>\n",
       "      <td>0</td>\n",
       "      <td>4</td>\n",
       "      <td>1997-09-21 02:30:57</td>\n",
       "      <td>1997-09</td>\n",
       "    </tr>\n",
       "    <tr>\n",
       "      <th>26150</th>\n",
       "      <td>101</td>\n",
       "      <td>31</td>\n",
       "      <td>7</td>\n",
       "      <td>4</td>\n",
       "      <td>1997-09-21 02:31:31</td>\n",
       "      <td>1997-09</td>\n",
       "    </tr>\n",
       "    <tr>\n",
       "      <th>16759</th>\n",
       "      <td>101</td>\n",
       "      <td>297</td>\n",
       "      <td>5</td>\n",
       "      <td>5</td>\n",
       "      <td>1997-09-21 02:33:12</td>\n",
       "      <td>1997-09</td>\n",
       "    </tr>\n",
       "    <tr>\n",
       "      <th>76624</th>\n",
       "      <td>101</td>\n",
       "      <td>320</td>\n",
       "      <td>1</td>\n",
       "      <td>4</td>\n",
       "      <td>1997-09-21 02:34:52</td>\n",
       "      <td>1997-09</td>\n",
       "    </tr>\n",
       "    <tr>\n",
       "      <th>75553</th>\n",
       "      <td>101</td>\n",
       "      <td>88</td>\n",
       "      <td>4</td>\n",
       "      <td>5</td>\n",
       "      <td>1997-10-09 02:43:23</td>\n",
       "      <td>1997-10</td>\n",
       "    </tr>\n",
       "    <tr>\n",
       "      <th>179642</th>\n",
       "      <td>101</td>\n",
       "      <td>367</td>\n",
       "      <td>4</td>\n",
       "      <td>5</td>\n",
       "      <td>1997-10-09 02:43:23</td>\n",
       "      <td>1997-10</td>\n",
       "    </tr>\n",
       "    <tr>\n",
       "      <th>5372</th>\n",
       "      <td>101</td>\n",
       "      <td>491</td>\n",
       "      <td>4</td>\n",
       "      <td>3</td>\n",
       "      <td>1997-10-27 03:45:06</td>\n",
       "      <td>1997-10</td>\n",
       "    </tr>\n",
       "    <tr>\n",
       "      <th>42874</th>\n",
       "      <td>101</td>\n",
       "      <td>492</td>\n",
       "      <td>14</td>\n",
       "      <td>4</td>\n",
       "      <td>1997-10-27 03:47:08</td>\n",
       "      <td>1997-10</td>\n",
       "    </tr>\n",
       "    <tr>\n",
       "      <th>20238</th>\n",
       "      <td>101</td>\n",
       "      <td>571</td>\n",
       "      <td>7</td>\n",
       "      <td>5</td>\n",
       "      <td>1997-10-27 04:03:53</td>\n",
       "      <td>1997-10</td>\n",
       "    </tr>\n",
       "    <tr>\n",
       "      <th>46980</th>\n",
       "      <td>101</td>\n",
       "      <td>355</td>\n",
       "      <td>7</td>\n",
       "      <td>5</td>\n",
       "      <td>1997-10-27 04:04:09</td>\n",
       "      <td>1997-10</td>\n",
       "    </tr>\n",
       "    <tr>\n",
       "      <th>46912</th>\n",
       "      <td>101</td>\n",
       "      <td>1008</td>\n",
       "      <td>7</td>\n",
       "      <td>5</td>\n",
       "      <td>1997-10-27 04:20:06</td>\n",
       "      <td>1997-10</td>\n",
       "    </tr>\n",
       "    <tr>\n",
       "      <th>61018</th>\n",
       "      <td>101</td>\n",
       "      <td>68</td>\n",
       "      <td>7</td>\n",
       "      <td>3</td>\n",
       "      <td>1997-12-06 03:24:13</td>\n",
       "      <td>1997-12</td>\n",
       "    </tr>\n",
       "    <tr>\n",
       "      <th>54677</th>\n",
       "      <td>101</td>\n",
       "      <td>403</td>\n",
       "      <td>0</td>\n",
       "      <td>3</td>\n",
       "      <td>1997-12-06 03:32:08</td>\n",
       "      <td>1997-12</td>\n",
       "    </tr>\n",
       "    <tr>\n",
       "      <th>154423</th>\n",
       "      <td>101</td>\n",
       "      <td>95</td>\n",
       "      <td>4</td>\n",
       "      <td>3</td>\n",
       "      <td>1997-12-09 04:28:19</td>\n",
       "      <td>1997-12</td>\n",
       "    </tr>\n",
       "    <tr>\n",
       "      <th>20948</th>\n",
       "      <td>101</td>\n",
       "      <td>719</td>\n",
       "      <td>0</td>\n",
       "      <td>5</td>\n",
       "      <td>1997-12-29 04:48:44</td>\n",
       "      <td>1997-12</td>\n",
       "    </tr>\n",
       "    <tr>\n",
       "      <th>116595</th>\n",
       "      <td>101</td>\n",
       "      <td>203</td>\n",
       "      <td>4</td>\n",
       "      <td>3</td>\n",
       "      <td>1997-12-29 04:50:01</td>\n",
       "      <td>1997-12</td>\n",
       "    </tr>\n",
       "    <tr>\n",
       "      <th>177493</th>\n",
       "      <td>101</td>\n",
       "      <td>175</td>\n",
       "      <td>0</td>\n",
       "      <td>4</td>\n",
       "      <td>1997-12-29 05:03:59</td>\n",
       "      <td>1997-12</td>\n",
       "    </tr>\n",
       "    <tr>\n",
       "      <th>152830</th>\n",
       "      <td>101</td>\n",
       "      <td>427</td>\n",
       "      <td>5</td>\n",
       "      <td>4</td>\n",
       "      <td>1997-12-29 05:04:21</td>\n",
       "      <td>1997-12</td>\n",
       "    </tr>\n",
       "    <tr>\n",
       "      <th>147489</th>\n",
       "      <td>101</td>\n",
       "      <td>161</td>\n",
       "      <td>0</td>\n",
       "      <td>4</td>\n",
       "      <td>1997-12-29 05:04:42</td>\n",
       "      <td>1997-12</td>\n",
       "    </tr>\n",
       "    <tr>\n",
       "      <th>15942</th>\n",
       "      <td>101</td>\n",
       "      <td>365</td>\n",
       "      <td>7</td>\n",
       "      <td>2</td>\n",
       "      <td>1997-12-29 05:09:11</td>\n",
       "      <td>1997-12</td>\n",
       "    </tr>\n",
       "    <tr>\n",
       "      <th>17341</th>\n",
       "      <td>101</td>\n",
       "      <td>181</td>\n",
       "      <td>0</td>\n",
       "      <td>2</td>\n",
       "      <td>1997-12-29 05:09:11</td>\n",
       "      <td>1997-12</td>\n",
       "    </tr>\n",
       "    <tr>\n",
       "      <th>190257</th>\n",
       "      <td>101</td>\n",
       "      <td>25</td>\n",
       "      <td>0</td>\n",
       "      <td>3</td>\n",
       "      <td>1997-12-29 05:09:11</td>\n",
       "      <td>1997-12</td>\n",
       "    </tr>\n",
       "    <tr>\n",
       "      <th>5945</th>\n",
       "      <td>101</td>\n",
       "      <td>115</td>\n",
       "      <td>7</td>\n",
       "      <td>4</td>\n",
       "      <td>1998-02-28 01:47:04</td>\n",
       "      <td>1998-02</td>\n",
       "    </tr>\n",
       "    <tr>\n",
       "      <th>64172</th>\n",
       "      <td>101</td>\n",
       "      <td>310</td>\n",
       "      <td>4</td>\n",
       "      <td>3</td>\n",
       "      <td>1998-02-28 01:51:04</td>\n",
       "      <td>1998-02</td>\n",
       "    </tr>\n",
       "    <tr>\n",
       "      <th>45640</th>\n",
       "      <td>101</td>\n",
       "      <td>452</td>\n",
       "      <td>0</td>\n",
       "      <td>4</td>\n",
       "      <td>1998-02-28 01:51:04</td>\n",
       "      <td>1998-02</td>\n",
       "    </tr>\n",
       "    <tr>\n",
       "      <th>120237</th>\n",
       "      <td>101</td>\n",
       "      <td>241</td>\n",
       "      <td>9</td>\n",
       "      <td>4</td>\n",
       "      <td>1998-03-01 02:49:01</td>\n",
       "      <td>1998-03</td>\n",
       "    </tr>\n",
       "    <tr>\n",
       "      <th>4883</th>\n",
       "      <td>101</td>\n",
       "      <td>285</td>\n",
       "      <td>4</td>\n",
       "      <td>4</td>\n",
       "      <td>1998-03-01 02:49:53</td>\n",
       "      <td>1998-03</td>\n",
       "    </tr>\n",
       "    <tr>\n",
       "      <th>136450</th>\n",
       "      <td>101</td>\n",
       "      <td>462</td>\n",
       "      <td>0</td>\n",
       "      <td>4</td>\n",
       "      <td>1998-03-01 02:50:44</td>\n",
       "      <td>1998-03</td>\n",
       "    </tr>\n",
       "    <tr>\n",
       "      <th>163907</th>\n",
       "      <td>101</td>\n",
       "      <td>269</td>\n",
       "      <td>0</td>\n",
       "      <td>3</td>\n",
       "      <td>1998-03-01 02:57:30</td>\n",
       "      <td>1998-03</td>\n",
       "    </tr>\n",
       "  </tbody>\n",
       "</table>\n",
       "</div>"
      ],
      "text/plain": [
       "        UserID  MovieID  CategoryID  Rating           Timestamp    Month\n",
       "474        101      177           4       4 1997-09-20 03:05:10  1997-09\n",
       "178269     101      289           7       4 1997-09-20 03:05:27  1997-09\n",
       "90841      101      153           0       4 1997-09-20 03:05:54  1997-09\n",
       "45079      101      361          10       4 1997-09-20 03:06:21  1997-09\n",
       "175466     101      321           0       4 1997-09-20 03:07:23  1997-09\n",
       "3723       101      732           7       4 1997-09-20 03:08:02  1997-09\n",
       "23065      101     1006           4       4 1997-09-20 03:08:02  1997-09\n",
       "55627      101       60          10       3 1997-09-20 03:08:25  1997-09\n",
       "181097     101      971           7       4 1997-09-20 03:08:57  1997-09\n",
       "349        101      140           0       4 1997-09-20 03:09:48  1997-09\n",
       "25133      101      113          10       4 1997-09-20 03:11:21  1997-09\n",
       "8497       101      136           0       3 1997-09-20 03:12:00  1997-09\n",
       "162126     101     1054           4       3 1997-09-20 03:14:24  1997-09\n",
       "9159       101      311           0       4 1997-09-20 03:16:26  1997-09\n",
       "24109      101      240           7       5 1997-09-20 03:18:05  1997-09\n",
       "7626       101      347           0       4 1997-09-20 03:18:05  1997-09\n",
       "41802      101      111           7       5 1997-09-21 02:30:57  1997-09\n",
       "106761     101       52           0       4 1997-09-21 02:30:57  1997-09\n",
       "26150      101       31           7       4 1997-09-21 02:31:31  1997-09\n",
       "16759      101      297           5       5 1997-09-21 02:33:12  1997-09\n",
       "76624      101      320           1       4 1997-09-21 02:34:52  1997-09\n",
       "75553      101       88           4       5 1997-10-09 02:43:23  1997-10\n",
       "179642     101      367           4       5 1997-10-09 02:43:23  1997-10\n",
       "5372       101      491           4       3 1997-10-27 03:45:06  1997-10\n",
       "42874      101      492          14       4 1997-10-27 03:47:08  1997-10\n",
       "20238      101      571           7       5 1997-10-27 04:03:53  1997-10\n",
       "46980      101      355           7       5 1997-10-27 04:04:09  1997-10\n",
       "46912      101     1008           7       5 1997-10-27 04:20:06  1997-10\n",
       "61018      101       68           7       3 1997-12-06 03:24:13  1997-12\n",
       "54677      101      403           0       3 1997-12-06 03:32:08  1997-12\n",
       "154423     101       95           4       3 1997-12-09 04:28:19  1997-12\n",
       "20948      101      719           0       5 1997-12-29 04:48:44  1997-12\n",
       "116595     101      203           4       3 1997-12-29 04:50:01  1997-12\n",
       "177493     101      175           0       4 1997-12-29 05:03:59  1997-12\n",
       "152830     101      427           5       4 1997-12-29 05:04:21  1997-12\n",
       "147489     101      161           0       4 1997-12-29 05:04:42  1997-12\n",
       "15942      101      365           7       2 1997-12-29 05:09:11  1997-12\n",
       "17341      101      181           0       2 1997-12-29 05:09:11  1997-12\n",
       "190257     101       25           0       3 1997-12-29 05:09:11  1997-12\n",
       "5945       101      115           7       4 1998-02-28 01:47:04  1998-02\n",
       "64172      101      310           4       3 1998-02-28 01:51:04  1998-02\n",
       "45640      101      452           0       4 1998-02-28 01:51:04  1998-02\n",
       "120237     101      241           9       4 1998-03-01 02:49:01  1998-03\n",
       "4883       101      285           4       4 1998-03-01 02:49:53  1998-03\n",
       "136450     101      462           0       4 1998-03-01 02:50:44  1998-03\n",
       "163907     101      269           0       3 1998-03-01 02:57:30  1998-03"
      ]
     },
     "execution_count": 10,
     "metadata": {},
     "output_type": "execute_result"
    }
   ],
   "source": [
    "dataframe_user_101 = dataframe[dataframe['UserID'] == 101]\n",
    "dataframe_user_101"
   ]
  },
  {
   "cell_type": "markdown",
   "metadata": {},
   "source": [
    "# Mean number of rated movies for each user per month"
   ]
  },
  {
   "cell_type": "code",
   "execution_count": 11,
   "metadata": {},
   "outputs": [
    {
     "data": {
      "text/plain": [
       "<pandas.core.groupby.generic.DataFrameGroupBy object at 0x000001D243AE8470>"
      ]
     },
     "execution_count": 11,
     "metadata": {},
     "output_type": "execute_result"
    }
   ],
   "source": [
    "grouped_df = dataframe.groupby(['Month', 'UserID'])\n",
    "grouped_df"
   ]
  },
  {
   "cell_type": "code",
   "execution_count": 12,
   "metadata": {},
   "outputs": [
    {
     "data": {
      "text/plain": [
       "Month    UserID\n",
       "1997-09  18        296\n",
       "         20        106\n",
       "         34          7\n",
       "         37        391\n",
       "         42         53\n",
       "                  ... \n",
       "1998-04  897        16\n",
       "         908        98\n",
       "         911       103\n",
       "         917       127\n",
       "         926        26\n",
       "Length: 1485, dtype: int64"
      ]
     },
     "execution_count": 12,
     "metadata": {},
     "output_type": "execute_result"
    }
   ],
   "source": [
    "num_ratings_per_user_per_month = grouped_df.size()\n",
    "num_ratings_per_user_per_month"
   ]
  },
  {
   "cell_type": "code",
   "execution_count": 13,
   "metadata": {},
   "outputs": [
    {
     "data": {
      "text/html": [
       "<div>\n",
       "<style scoped>\n",
       "    .dataframe tbody tr th:only-of-type {\n",
       "        vertical-align: middle;\n",
       "    }\n",
       "\n",
       "    .dataframe tbody tr th {\n",
       "        vertical-align: top;\n",
       "    }\n",
       "\n",
       "    .dataframe thead th {\n",
       "        text-align: right;\n",
       "    }\n",
       "</style>\n",
       "<table border=\"1\" class=\"dataframe\">\n",
       "  <thead>\n",
       "    <tr style=\"text-align: right;\">\n",
       "      <th></th>\n",
       "      <th>Month</th>\n",
       "      <th>UserID</th>\n",
       "      <th>MovieID</th>\n",
       "    </tr>\n",
       "  </thead>\n",
       "  <tbody>\n",
       "    <tr>\n",
       "      <th>0</th>\n",
       "      <td>1997-09</td>\n",
       "      <td>18</td>\n",
       "      <td>296</td>\n",
       "    </tr>\n",
       "    <tr>\n",
       "      <th>1</th>\n",
       "      <td>1997-09</td>\n",
       "      <td>20</td>\n",
       "      <td>106</td>\n",
       "    </tr>\n",
       "    <tr>\n",
       "      <th>2</th>\n",
       "      <td>1997-09</td>\n",
       "      <td>34</td>\n",
       "      <td>7</td>\n",
       "    </tr>\n",
       "    <tr>\n",
       "      <th>3</th>\n",
       "      <td>1997-09</td>\n",
       "      <td>37</td>\n",
       "      <td>391</td>\n",
       "    </tr>\n",
       "    <tr>\n",
       "      <th>4</th>\n",
       "      <td>1997-09</td>\n",
       "      <td>42</td>\n",
       "      <td>53</td>\n",
       "    </tr>\n",
       "    <tr>\n",
       "      <th>...</th>\n",
       "      <td>...</td>\n",
       "      <td>...</td>\n",
       "      <td>...</td>\n",
       "    </tr>\n",
       "    <tr>\n",
       "      <th>1480</th>\n",
       "      <td>1998-04</td>\n",
       "      <td>897</td>\n",
       "      <td>16</td>\n",
       "    </tr>\n",
       "    <tr>\n",
       "      <th>1481</th>\n",
       "      <td>1998-04</td>\n",
       "      <td>908</td>\n",
       "      <td>98</td>\n",
       "    </tr>\n",
       "    <tr>\n",
       "      <th>1482</th>\n",
       "      <td>1998-04</td>\n",
       "      <td>911</td>\n",
       "      <td>103</td>\n",
       "    </tr>\n",
       "    <tr>\n",
       "      <th>1483</th>\n",
       "      <td>1998-04</td>\n",
       "      <td>917</td>\n",
       "      <td>127</td>\n",
       "    </tr>\n",
       "    <tr>\n",
       "      <th>1484</th>\n",
       "      <td>1998-04</td>\n",
       "      <td>926</td>\n",
       "      <td>26</td>\n",
       "    </tr>\n",
       "  </tbody>\n",
       "</table>\n",
       "<p>1485 rows × 3 columns</p>\n",
       "</div>"
      ],
      "text/plain": [
       "        Month  UserID  MovieID\n",
       "0     1997-09      18      296\n",
       "1     1997-09      20      106\n",
       "2     1997-09      34        7\n",
       "3     1997-09      37      391\n",
       "4     1997-09      42       53\n",
       "...       ...     ...      ...\n",
       "1480  1998-04     897       16\n",
       "1481  1998-04     908       98\n",
       "1482  1998-04     911      103\n",
       "1483  1998-04     917      127\n",
       "1484  1998-04     926       26\n",
       "\n",
       "[1485 rows x 3 columns]"
      ]
     },
     "execution_count": 13,
     "metadata": {},
     "output_type": "execute_result"
    }
   ],
   "source": [
    "grouped_df = dataframe.groupby(['Month', 'UserID'])['MovieID'].count().reset_index()\n",
    "grouped_df"
   ]
  },
  {
   "cell_type": "code",
   "execution_count": 14,
   "metadata": {},
   "outputs": [
    {
     "data": {
      "text/html": [
       "<div>\n",
       "<style scoped>\n",
       "    .dataframe tbody tr th:only-of-type {\n",
       "        vertical-align: middle;\n",
       "    }\n",
       "\n",
       "    .dataframe tbody tr th {\n",
       "        vertical-align: top;\n",
       "    }\n",
       "\n",
       "    .dataframe thead th {\n",
       "        text-align: right;\n",
       "    }\n",
       "</style>\n",
       "<table border=\"1\" class=\"dataframe\">\n",
       "  <thead>\n",
       "    <tr style=\"text-align: right;\">\n",
       "      <th></th>\n",
       "      <th>Month</th>\n",
       "      <th>mean</th>\n",
       "      <th>std</th>\n",
       "    </tr>\n",
       "  </thead>\n",
       "  <tbody>\n",
       "    <tr>\n",
       "      <th>0</th>\n",
       "      <td>1997-09</td>\n",
       "      <td>83.800000</td>\n",
       "      <td>75.027995</td>\n",
       "    </tr>\n",
       "    <tr>\n",
       "      <th>1</th>\n",
       "      <td>1997-10</td>\n",
       "      <td>67.789474</td>\n",
       "      <td>62.399761</td>\n",
       "    </tr>\n",
       "    <tr>\n",
       "      <th>2</th>\n",
       "      <td>1997-11</td>\n",
       "      <td>83.263889</td>\n",
       "      <td>83.883733</td>\n",
       "    </tr>\n",
       "    <tr>\n",
       "      <th>3</th>\n",
       "      <td>1997-12</td>\n",
       "      <td>64.733696</td>\n",
       "      <td>85.745141</td>\n",
       "    </tr>\n",
       "    <tr>\n",
       "      <th>4</th>\n",
       "      <td>1998-01</td>\n",
       "      <td>64.360731</td>\n",
       "      <td>93.748358</td>\n",
       "    </tr>\n",
       "    <tr>\n",
       "      <th>5</th>\n",
       "      <td>1998-02</td>\n",
       "      <td>63.166667</td>\n",
       "      <td>92.357441</td>\n",
       "    </tr>\n",
       "    <tr>\n",
       "      <th>6</th>\n",
       "      <td>1998-03</td>\n",
       "      <td>56.000000</td>\n",
       "      <td>69.459437</td>\n",
       "    </tr>\n",
       "    <tr>\n",
       "      <th>7</th>\n",
       "      <td>1998-04</td>\n",
       "      <td>57.771605</td>\n",
       "      <td>83.138683</td>\n",
       "    </tr>\n",
       "  </tbody>\n",
       "</table>\n",
       "</div>"
      ],
      "text/plain": [
       "     Month       mean        std\n",
       "0  1997-09  83.800000  75.027995\n",
       "1  1997-10  67.789474  62.399761\n",
       "2  1997-11  83.263889  83.883733\n",
       "3  1997-12  64.733696  85.745141\n",
       "4  1998-01  64.360731  93.748358\n",
       "5  1998-02  63.166667  92.357441\n",
       "6  1998-03  56.000000  69.459437\n",
       "7  1998-04  57.771605  83.138683"
      ]
     },
     "execution_count": 14,
     "metadata": {},
     "output_type": "execute_result"
    }
   ],
   "source": [
    "result_df = grouped_df.groupby('Month')['MovieID'].agg(['mean', 'std']).reset_index()\n",
    "result_df"
   ]
  },
  {
   "cell_type": "code",
   "execution_count": 15,
   "metadata": {},
   "outputs": [
    {
     "data": {
      "image/png": "[encoded data removed]",
      "text/plain": [
       "<Figure size 1000x600 with 1 Axes>"
      ]
     },
     "metadata": {},
     "output_type": "display_data"
    }
   ],
   "source": [
    "plt.figure(figsize=(10, 6))\n",
    "plt.errorbar(\n",
    "    result_df['Month'].astype(str), \n",
    "    result_df['mean'], \n",
    "    yerr=result_df['std'], \n",
    "    capsize=5, \n",
    "    color='mediumseagreen',\n",
    "    elinewidth=0.5\n",
    ")\n",
    "plt.xlabel('Month')\n",
    "plt.ylabel('Mean number of rated movies')\n",
    "plt.title('Mean number of rated movies for each user per month with standard deviation')\n",
    "plt.xticks(rotation=45)\n",
    "plt.show()"
   ]
  },
  {
   "cell_type": "code",
   "execution_count": 16,
   "metadata": {},
   "outputs": [
    {
     "data": {
      "text/plain": [
       "67.61075755297736"
      ]
     },
     "execution_count": 16,
     "metadata": {},
     "output_type": "execute_result"
    }
   ],
   "source": [
    "mean = np.mean(result_df['mean'].values)\n",
    "mean"
   ]
  },
  {
   "cell_type": "markdown",
   "metadata": {},
   "source": [
    "# Mean number of rated movies for each user per two months"
   ]
  },
  {
   "cell_type": "code",
   "execution_count": 17,
   "metadata": {},
   "outputs": [],
   "source": [
    "month_to_time_slot = {\n",
    "    '01': '[1998-01, 1998-02]', '02': '[1998-01, 1998-02]',\n",
    "    '03': '[1998-03, 1998-04]', '04': '[1998-03, 1998-04]',\n",
    "    '09': '[1997-09, 1997-10]', '10': '[1997-09, 1997-10]',\n",
    "    '11': '[1997-11, 1997-12]', '12': '[1997-11, 1997-12]'\n",
    "}"
   ]
  },
  {
   "cell_type": "code",
   "execution_count": 18,
   "metadata": {},
   "outputs": [
    {
     "data": {
      "text/html": [
       "<div>\n",
       "<style scoped>\n",
       "    .dataframe tbody tr th:only-of-type {\n",
       "        vertical-align: middle;\n",
       "    }\n",
       "\n",
       "    .dataframe tbody tr th {\n",
       "        vertical-align: top;\n",
       "    }\n",
       "\n",
       "    .dataframe thead th {\n",
       "        text-align: right;\n",
       "    }\n",
       "</style>\n",
       "<table border=\"1\" class=\"dataframe\">\n",
       "  <thead>\n",
       "    <tr style=\"text-align: right;\">\n",
       "      <th></th>\n",
       "      <th>UserID</th>\n",
       "      <th>MovieID</th>\n",
       "      <th>CategoryID</th>\n",
       "      <th>Rating</th>\n",
       "      <th>Timestamp</th>\n",
       "      <th>Month</th>\n",
       "      <th>TimeSlot</th>\n",
       "    </tr>\n",
       "  </thead>\n",
       "  <tbody>\n",
       "    <tr>\n",
       "      <th>474</th>\n",
       "      <td>101</td>\n",
       "      <td>177</td>\n",
       "      <td>4</td>\n",
       "      <td>4</td>\n",
       "      <td>1997-09-20 03:05:10</td>\n",
       "      <td>1997-09</td>\n",
       "      <td>[1997-09, 1997-10]</td>\n",
       "    </tr>\n",
       "    <tr>\n",
       "      <th>178269</th>\n",
       "      <td>101</td>\n",
       "      <td>289</td>\n",
       "      <td>7</td>\n",
       "      <td>4</td>\n",
       "      <td>1997-09-20 03:05:27</td>\n",
       "      <td>1997-09</td>\n",
       "      <td>[1997-09, 1997-10]</td>\n",
       "    </tr>\n",
       "    <tr>\n",
       "      <th>90841</th>\n",
       "      <td>101</td>\n",
       "      <td>153</td>\n",
       "      <td>0</td>\n",
       "      <td>4</td>\n",
       "      <td>1997-09-20 03:05:54</td>\n",
       "      <td>1997-09</td>\n",
       "      <td>[1997-09, 1997-10]</td>\n",
       "    </tr>\n",
       "    <tr>\n",
       "      <th>45079</th>\n",
       "      <td>101</td>\n",
       "      <td>361</td>\n",
       "      <td>10</td>\n",
       "      <td>4</td>\n",
       "      <td>1997-09-20 03:06:21</td>\n",
       "      <td>1997-09</td>\n",
       "      <td>[1997-09, 1997-10]</td>\n",
       "    </tr>\n",
       "    <tr>\n",
       "      <th>175466</th>\n",
       "      <td>101</td>\n",
       "      <td>321</td>\n",
       "      <td>0</td>\n",
       "      <td>4</td>\n",
       "      <td>1997-09-20 03:07:23</td>\n",
       "      <td>1997-09</td>\n",
       "      <td>[1997-09, 1997-10]</td>\n",
       "    </tr>\n",
       "    <tr>\n",
       "      <th>...</th>\n",
       "      <td>...</td>\n",
       "      <td>...</td>\n",
       "      <td>...</td>\n",
       "      <td>...</td>\n",
       "      <td>...</td>\n",
       "      <td>...</td>\n",
       "      <td>...</td>\n",
       "    </tr>\n",
       "    <tr>\n",
       "      <th>98754</th>\n",
       "      <td>724</td>\n",
       "      <td>890</td>\n",
       "      <td>0</td>\n",
       "      <td>4</td>\n",
       "      <td>1998-04-22 23:10:38</td>\n",
       "      <td>1998-04</td>\n",
       "      <td>[1998-03, 1998-04]</td>\n",
       "    </tr>\n",
       "    <tr>\n",
       "      <th>157460</th>\n",
       "      <td>724</td>\n",
       "      <td>652</td>\n",
       "      <td>0</td>\n",
       "      <td>4</td>\n",
       "      <td>1998-04-22 23:10:38</td>\n",
       "      <td>1998-04</td>\n",
       "      <td>[1998-03, 1998-04]</td>\n",
       "    </tr>\n",
       "    <tr>\n",
       "      <th>98345</th>\n",
       "      <td>724</td>\n",
       "      <td>98</td>\n",
       "      <td>0</td>\n",
       "      <td>3</td>\n",
       "      <td>1998-04-22 23:10:38</td>\n",
       "      <td>1998-04</td>\n",
       "      <td>[1998-03, 1998-04]</td>\n",
       "    </tr>\n",
       "    <tr>\n",
       "      <th>168106</th>\n",
       "      <td>724</td>\n",
       "      <td>130</td>\n",
       "      <td>7</td>\n",
       "      <td>4</td>\n",
       "      <td>1998-04-22 23:10:38</td>\n",
       "      <td>1998-04</td>\n",
       "      <td>[1998-03, 1998-04]</td>\n",
       "    </tr>\n",
       "    <tr>\n",
       "      <th>154748</th>\n",
       "      <td>724</td>\n",
       "      <td>719</td>\n",
       "      <td>0</td>\n",
       "      <td>3</td>\n",
       "      <td>1998-04-22 23:10:38</td>\n",
       "      <td>1998-04</td>\n",
       "      <td>[1998-03, 1998-04]</td>\n",
       "    </tr>\n",
       "  </tbody>\n",
       "</table>\n",
       "<p>100000 rows × 7 columns</p>\n",
       "</div>"
      ],
      "text/plain": [
       "        UserID  MovieID  CategoryID  Rating           Timestamp    Month  \\\n",
       "474        101      177           4       4 1997-09-20 03:05:10  1997-09   \n",
       "178269     101      289           7       4 1997-09-20 03:05:27  1997-09   \n",
       "90841      101      153           0       4 1997-09-20 03:05:54  1997-09   \n",
       "45079      101      361          10       4 1997-09-20 03:06:21  1997-09   \n",
       "175466     101      321           0       4 1997-09-20 03:07:23  1997-09   \n",
       "...        ...      ...         ...     ...                 ...      ...   \n",
       "98754      724      890           0       4 1998-04-22 23:10:38  1998-04   \n",
       "157460     724      652           0       4 1998-04-22 23:10:38  1998-04   \n",
       "98345      724       98           0       3 1998-04-22 23:10:38  1998-04   \n",
       "168106     724      130           7       4 1998-04-22 23:10:38  1998-04   \n",
       "154748     724      719           0       3 1998-04-22 23:10:38  1998-04   \n",
       "\n",
       "                  TimeSlot  \n",
       "474     [1997-09, 1997-10]  \n",
       "178269  [1997-09, 1997-10]  \n",
       "90841   [1997-09, 1997-10]  \n",
       "45079   [1997-09, 1997-10]  \n",
       "175466  [1997-09, 1997-10]  \n",
       "...                    ...  \n",
       "98754   [1998-03, 1998-04]  \n",
       "157460  [1998-03, 1998-04]  \n",
       "98345   [1998-03, 1998-04]  \n",
       "168106  [1998-03, 1998-04]  \n",
       "154748  [1998-03, 1998-04]  \n",
       "\n",
       "[100000 rows x 7 columns]"
      ]
     },
     "execution_count": 18,
     "metadata": {},
     "output_type": "execute_result"
    }
   ],
   "source": [
    "dataframe['Month'] = dataframe['Month'].astype(str)\n",
    "dataframe['TimeSlot'] = dataframe['Month'].str.split('-', expand=True)[1].map(month_to_time_slot)\n",
    "dataframe"
   ]
  },
  {
   "cell_type": "code",
   "execution_count": 19,
   "metadata": {},
   "outputs": [
    {
     "data": {
      "text/plain": [
       "<pandas.core.groupby.generic.DataFrameGroupBy object at 0x000001D243ABC1D0>"
      ]
     },
     "execution_count": 19,
     "metadata": {},
     "output_type": "execute_result"
    }
   ],
   "source": [
    "grouped_df = dataframe.groupby(['UserID', 'TimeSlot'])\n",
    "grouped_df"
   ]
  },
  {
   "cell_type": "code",
   "execution_count": 20,
   "metadata": {},
   "outputs": [
    {
     "data": {
      "text/plain": [
       "UserID  TimeSlot          \n",
       "0       [1997-11, 1997-12]     39\n",
       "1       [1997-11, 1997-12]     67\n",
       "        [1998-03, 1998-04]     25\n",
       "2       [1997-11, 1997-12]    128\n",
       "3       [1997-11, 1997-12]    238\n",
       "                             ... \n",
       "938     [1997-11, 1997-12]     49\n",
       "939     [1998-01, 1998-02]    142\n",
       "940     [1997-11, 1997-12]     63\n",
       "941     [1998-01, 1998-02]     26\n",
       "942     [1997-09, 1997-10]     22\n",
       "Length: 1244, dtype: int64"
      ]
     },
     "execution_count": 20,
     "metadata": {},
     "output_type": "execute_result"
    }
   ],
   "source": [
    "num_ratings_per_user_per_time_slot = grouped_df.size()\n",
    "num_ratings_per_user_per_time_slot "
   ]
  },
  {
   "cell_type": "code",
   "execution_count": 21,
   "metadata": {},
   "outputs": [
    {
     "data": {
      "text/html": [
       "<div>\n",
       "<style scoped>\n",
       "    .dataframe tbody tr th:only-of-type {\n",
       "        vertical-align: middle;\n",
       "    }\n",
       "\n",
       "    .dataframe tbody tr th {\n",
       "        vertical-align: top;\n",
       "    }\n",
       "\n",
       "    .dataframe thead th {\n",
       "        text-align: right;\n",
       "    }\n",
       "</style>\n",
       "<table border=\"1\" class=\"dataframe\">\n",
       "  <thead>\n",
       "    <tr style=\"text-align: right;\">\n",
       "      <th></th>\n",
       "      <th>TimeSlot</th>\n",
       "      <th>UserID</th>\n",
       "      <th>MovieID</th>\n",
       "    </tr>\n",
       "  </thead>\n",
       "  <tbody>\n",
       "    <tr>\n",
       "      <th>0</th>\n",
       "      <td>[1997-09, 1997-10]</td>\n",
       "      <td>11</td>\n",
       "      <td>223</td>\n",
       "    </tr>\n",
       "    <tr>\n",
       "      <th>1</th>\n",
       "      <td>[1997-09, 1997-10]</td>\n",
       "      <td>12</td>\n",
       "      <td>37</td>\n",
       "    </tr>\n",
       "    <tr>\n",
       "      <th>2</th>\n",
       "      <td>[1997-09, 1997-10]</td>\n",
       "      <td>18</td>\n",
       "      <td>296</td>\n",
       "    </tr>\n",
       "    <tr>\n",
       "      <th>3</th>\n",
       "      <td>[1997-09, 1997-10]</td>\n",
       "      <td>20</td>\n",
       "      <td>108</td>\n",
       "    </tr>\n",
       "    <tr>\n",
       "      <th>4</th>\n",
       "      <td>[1997-09, 1997-10]</td>\n",
       "      <td>22</td>\n",
       "      <td>175</td>\n",
       "    </tr>\n",
       "    <tr>\n",
       "      <th>...</th>\n",
       "      <td>...</td>\n",
       "      <td>...</td>\n",
       "      <td>...</td>\n",
       "    </tr>\n",
       "    <tr>\n",
       "      <th>1239</th>\n",
       "      <td>[1998-03, 1998-04]</td>\n",
       "      <td>926</td>\n",
       "      <td>26</td>\n",
       "    </tr>\n",
       "    <tr>\n",
       "      <th>1240</th>\n",
       "      <td>[1998-03, 1998-04]</td>\n",
       "      <td>927</td>\n",
       "      <td>174</td>\n",
       "    </tr>\n",
       "    <tr>\n",
       "      <th>1241</th>\n",
       "      <td>[1998-03, 1998-04]</td>\n",
       "      <td>930</td>\n",
       "      <td>108</td>\n",
       "    </tr>\n",
       "    <tr>\n",
       "      <th>1242</th>\n",
       "      <td>[1998-03, 1998-04]</td>\n",
       "      <td>931</td>\n",
       "      <td>5</td>\n",
       "    </tr>\n",
       "    <tr>\n",
       "      <th>1243</th>\n",
       "      <td>[1998-03, 1998-04]</td>\n",
       "      <td>934</td>\n",
       "      <td>79</td>\n",
       "    </tr>\n",
       "  </tbody>\n",
       "</table>\n",
       "<p>1244 rows × 3 columns</p>\n",
       "</div>"
      ],
      "text/plain": [
       "                TimeSlot  UserID  MovieID\n",
       "0     [1997-09, 1997-10]      11      223\n",
       "1     [1997-09, 1997-10]      12       37\n",
       "2     [1997-09, 1997-10]      18      296\n",
       "3     [1997-09, 1997-10]      20      108\n",
       "4     [1997-09, 1997-10]      22      175\n",
       "...                  ...     ...      ...\n",
       "1239  [1998-03, 1998-04]     926       26\n",
       "1240  [1998-03, 1998-04]     927      174\n",
       "1241  [1998-03, 1998-04]     930      108\n",
       "1242  [1998-03, 1998-04]     931        5\n",
       "1243  [1998-03, 1998-04]     934       79\n",
       "\n",
       "[1244 rows x 3 columns]"
      ]
     },
     "execution_count": 21,
     "metadata": {},
     "output_type": "execute_result"
    }
   ],
   "source": [
    "grouped_df = dataframe.groupby(['TimeSlot', 'UserID'])['MovieID'].count().reset_index()\n",
    "grouped_df"
   ]
  },
  {
   "cell_type": "code",
   "execution_count": 22,
   "metadata": {},
   "outputs": [
    {
     "data": {
      "text/html": [
       "<div>\n",
       "<style scoped>\n",
       "    .dataframe tbody tr th:only-of-type {\n",
       "        vertical-align: middle;\n",
       "    }\n",
       "\n",
       "    .dataframe tbody tr th {\n",
       "        vertical-align: top;\n",
       "    }\n",
       "\n",
       "    .dataframe thead th {\n",
       "        text-align: right;\n",
       "    }\n",
       "</style>\n",
       "<table border=\"1\" class=\"dataframe\">\n",
       "  <thead>\n",
       "    <tr style=\"text-align: right;\">\n",
       "      <th></th>\n",
       "      <th>TimeSlot</th>\n",
       "      <th>mean</th>\n",
       "      <th>std</th>\n",
       "    </tr>\n",
       "  </thead>\n",
       "  <tbody>\n",
       "    <tr>\n",
       "      <th>0</th>\n",
       "      <td>[1997-09, 1997-10]</td>\n",
       "      <td>89.515789</td>\n",
       "      <td>77.359925</td>\n",
       "    </tr>\n",
       "    <tr>\n",
       "      <th>1</th>\n",
       "      <td>[1997-11, 1997-12]</td>\n",
       "      <td>89.952381</td>\n",
       "      <td>89.865311</td>\n",
       "    </tr>\n",
       "    <tr>\n",
       "      <th>2</th>\n",
       "      <td>[1998-01, 1998-02]</td>\n",
       "      <td>76.481707</td>\n",
       "      <td>98.362866</td>\n",
       "    </tr>\n",
       "    <tr>\n",
       "      <th>3</th>\n",
       "      <td>[1998-03, 1998-04]</td>\n",
       "      <td>67.324159</td>\n",
       "      <td>80.920351</td>\n",
       "    </tr>\n",
       "  </tbody>\n",
       "</table>\n",
       "</div>"
      ],
      "text/plain": [
       "             TimeSlot       mean        std\n",
       "0  [1997-09, 1997-10]  89.515789  77.359925\n",
       "1  [1997-11, 1997-12]  89.952381  89.865311\n",
       "2  [1998-01, 1998-02]  76.481707  98.362866\n",
       "3  [1998-03, 1998-04]  67.324159  80.920351"
      ]
     },
     "execution_count": 22,
     "metadata": {},
     "output_type": "execute_result"
    }
   ],
   "source": [
    "result_df = grouped_df.groupby('TimeSlot')['MovieID'].agg(['mean', 'std']).reset_index()\n",
    "result_df"
   ]
  },
  {
   "cell_type": "code",
   "execution_count": 23,
   "metadata": {},
   "outputs": [
    {
     "data": {
      "image/png": "[encoded data removed]",
      "text/plain": [
       "<Figure size 1000x600 with 1 Axes>"
      ]
     },
     "metadata": {},
     "output_type": "display_data"
    }
   ],
   "source": [
    "plt.figure(figsize=(10, 6))\n",
    "plt.errorbar(\n",
    "    result_df['TimeSlot'].astype(str), \n",
    "    result_df['mean'], \n",
    "    yerr=result_df['std'], \n",
    "    capsize=5, \n",
    "    color='mediumseagreen',\n",
    "    elinewidth=0.5\n",
    ")\n",
    "plt.xlabel('Time slot')\n",
    "plt.ylabel('Mean number of rated movies')\n",
    "plt.title('Mean number of rated movies for each user per time slot (2 months) with standard deviation')\n",
    "plt.show()"
   ]
  },
  {
   "cell_type": "code",
   "execution_count": 24,
   "metadata": {},
   "outputs": [
    {
     "data": {
      "text/plain": [
       "80.81850919113627"
      ]
     },
     "execution_count": 24,
     "metadata": {},
     "output_type": "execute_result"
    }
   ],
   "source": [
    "mean = np.mean(result_df['mean'].values)\n",
    "mean"
   ]
  },
  {
   "cell_type": "code",
   "execution_count": null,
   "metadata": {},
   "outputs": [],
   "source": []
  }
 ],
 "metadata": {
  "kernelspec": {
   "display_name": "SCMS",
   "language": "python",
   "name": "python3"
  },
  "language_info": {
   "codemirror_mode": {
    "name": "ipython",
    "version": 3
   },
   "file_extension": ".py",
   "mimetype": "text/x-python",
   "name": "python",
   "nbconvert_exporter": "python",
   "pygments_lexer": "ipython3",
   "version": "3.7.1"
  },
  "orig_nbformat": 4
 },
 "nbformat": 4,
 "nbformat_minor": 2
}
