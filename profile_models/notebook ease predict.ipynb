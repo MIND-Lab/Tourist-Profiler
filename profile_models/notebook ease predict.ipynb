{
 "cells": [
  {
   "cell_type": "code",
   "execution_count": 1,
   "metadata": {},
   "outputs": [
    {
     "data": {
      "text/plain": [
       "False"
      ]
     },
     "execution_count": 1,
     "metadata": {},
     "output_type": "execute_result"
    }
   ],
   "source": [
    "import time\n",
    "import torch\n",
    "import random\n",
    "import numpy as np\n",
    "\n",
    "from Setting import Setting\n",
    "from Dataset import Dataset\n",
    "from Environment import Environment\n",
    "\n",
    "import utils.models as models\n",
    "import utils.metrics as metrics\n",
    "\n",
    "torch.cuda.is_available()"
   ]
  },
  {
   "cell_type": "markdown",
   "metadata": {},
   "source": [
    "# General settings"
   ]
  },
  {
   "cell_type": "code",
   "execution_count": 2,
   "metadata": {},
   "outputs": [],
   "source": [
    "# Set the random seed for reproducibility.\n",
    "random_seed = 1\n",
    "#tf.random.set_random_seed(random_seed)\n",
    "torch.manual_seed(random_seed)\n",
    "random.seed(random_seed)\n",
    "np.random.seed(random_seed)\n",
    "\n",
    "args = Setting()\n",
    "args.windowed_dataset = False\n",
    "device = args.device\n",
    "dataset = Dataset(args.dataset_path, args.batch_size, args.fast_testing)\n",
    "padding_number = dataset.num_items\n",
    "env = Environment(args, dataset, padding_number).to(device)"
   ]
  },
  {
   "cell_type": "markdown",
   "metadata": {},
   "source": [
    "# Import dataset"
   ]
  },
  {
   "cell_type": "code",
   "execution_count": 3,
   "metadata": {},
   "outputs": [
    {
     "data": {
      "text/plain": [
       "torch.Size([70829, 20])"
      ]
     },
     "execution_count": 3,
     "metadata": {},
     "output_type": "execute_result"
    }
   ],
   "source": [
    "train_seq_base_data = env.train_seq_base_data\n",
    "train_seq_base_data.shape"
   ]
  },
  {
   "cell_type": "code",
   "execution_count": 4,
   "metadata": {},
   "outputs": [
    {
     "data": {
      "text/plain": [
       "torch.Size([14913, 20])"
      ]
     },
     "execution_count": 4,
     "metadata": {},
     "output_type": "execute_result"
    }
   ],
   "source": [
    "test_seq_base_data = env.test_seq_base_data\n",
    "test_seq_base_data.shape"
   ]
  },
  {
   "cell_type": "code",
   "execution_count": 5,
   "metadata": {},
   "outputs": [
    {
     "data": {
      "text/plain": [
       "torch.Size([70829, 1])"
      ]
     },
     "execution_count": 5,
     "metadata": {},
     "output_type": "execute_result"
    }
   ],
   "source": [
    "train_seq_target_data = env.train_seq_target_data\n",
    "train_seq_target_data.shape"
   ]
  },
  {
   "cell_type": "code",
   "execution_count": 6,
   "metadata": {},
   "outputs": [
    {
     "data": {
      "text/plain": [
       "torch.Size([70829, 18])"
      ]
     },
     "execution_count": 6,
     "metadata": {},
     "output_type": "execute_result"
    }
   ],
   "source": [
    "train_base_data = env.train_base_data\n",
    "train_base_data.shape"
   ]
  },
  {
   "cell_type": "code",
   "execution_count": 7,
   "metadata": {},
   "outputs": [
    {
     "data": {
      "text/plain": [
       "torch.Size([14913, 18])"
      ]
     },
     "execution_count": 7,
     "metadata": {},
     "output_type": "execute_result"
    }
   ],
   "source": [
    "test_base_data = env.test_base_data\n",
    "test_base_data.shape"
   ]
  },
  {
   "cell_type": "code",
   "execution_count": 8,
   "metadata": {},
   "outputs": [],
   "source": [
    "true_train_data = train_base_data"
   ]
  },
  {
   "cell_type": "code",
   "execution_count": 9,
   "metadata": {},
   "outputs": [],
   "source": [
    "true_test_data = test_base_data"
   ]
  },
  {
   "cell_type": "code",
   "execution_count": 10,
   "metadata": {},
   "outputs": [
    {
     "data": {
      "text/plain": [
       "torch.Size([70829, 18])"
      ]
     },
     "execution_count": 10,
     "metadata": {},
     "output_type": "execute_result"
    }
   ],
   "source": [
    "train_target_data = env.train_target_data\n",
    "train_target_data.shape"
   ]
  },
  {
   "cell_type": "code",
   "execution_count": 11,
   "metadata": {},
   "outputs": [
    {
     "data": {
      "text/plain": [
       "torch.Size([14913, 18])"
      ]
     },
     "execution_count": 11,
     "metadata": {},
     "output_type": "execute_result"
    }
   ],
   "source": [
    "test_target_data = env.test_target_data\n",
    "test_target_data.shape"
   ]
  },
  {
   "cell_type": "code",
   "execution_count": 12,
   "metadata": {},
   "outputs": [
    {
     "name": "stdout",
     "output_type": "stream",
     "text": [
      "torch.Size([70829, 18])\n",
      "torch.Size([70829, 18])\n"
     ]
    }
   ],
   "source": [
    "true_train_data, masked_train_ref = env.mask_data(train_base_data, train_target_data)\n",
    "print(true_train_data.shape)\n",
    "print(masked_train_ref.shape)"
   ]
  },
  {
   "cell_type": "code",
   "execution_count": 13,
   "metadata": {},
   "outputs": [
    {
     "name": "stdout",
     "output_type": "stream",
     "text": [
      "torch.Size([14913, 18])\n",
      "torch.Size([14913, 18])\n"
     ]
    }
   ],
   "source": [
    "true_test_data, masked_test_ref = env.mask_data(test_base_data, test_target_data)\n",
    "print(true_test_data.shape)\n",
    "print(masked_test_ref.shape)"
   ]
  },
  {
   "cell_type": "markdown",
   "metadata": {},
   "source": [
    "# EASE"
   ]
  },
  {
   "cell_type": "code",
   "execution_count": 14,
   "metadata": {},
   "outputs": [],
   "source": [
    "learning_rate = 1e-3\n",
    "weight_decay = 0.00\n",
    "epochs = 20\n",
    "n_users = dataset.n_users\n",
    "n_categories = dataset.n_categories\n",
    "lambda_p = 3000"
   ]
  },
  {
   "cell_type": "markdown",
   "metadata": {},
   "source": [
    "## Functions"
   ]
  },
  {
   "cell_type": "code",
   "execution_count": 15,
   "metadata": {},
   "outputs": [
    {
     "data": {
      "text/plain": [
       "torch.Size([943, 18])"
      ]
     },
     "execution_count": 15,
     "metadata": {},
     "output_type": "execute_result"
    }
   ],
   "source": [
    "# We create a tensor to store the most recent profiles of each user.\n",
    "train_profiles = torch.zeros(n_users, n_categories).to(device)\n",
    "train_profiles.shape"
   ]
  },
  {
   "cell_type": "code",
   "execution_count": 16,
   "metadata": {},
   "outputs": [],
   "source": [
    "for i in range(len(train_seq_base_data)):\n",
    "    # We find the user of the current item.\n",
    "    user_id = int(train_seq_base_data[i][0].item())\n",
    "    # We add the past profile of the user to the train data.\n",
    "    train_profiles[user_id] = train_base_data[i] "
   ]
  },
  {
   "cell_type": "code",
   "execution_count": 17,
   "metadata": {},
   "outputs": [],
   "source": [
    "def train():\n",
    "    # We use the previously computed profiles as train data.\n",
    "    model.fit(train_profiles)"
   ]
  },
  {
   "cell_type": "code",
   "execution_count": 18,
   "metadata": {},
   "outputs": [],
   "source": [
    "def evaluate():\n",
    "    recon_data = []\n",
    "\n",
    "    for i in range(len(test_seq_base_data)):\n",
    "        # We find the user of the current item.\n",
    "        user_id = int(test_seq_base_data[i][0].item())\n",
    "        user_data = test_base_data[i]\n",
    "        user_data = torch.unsqueeze(user_data, axis=0).to(device)\n",
    "\n",
    "        # We reconstruct the user profile.\n",
    "        user_recon_data = model.predict(user_data, user_id=user_id)\n",
    "        recon_data.append(user_recon_data)\n",
    "        \n",
    "        # We add the unmasked true data to the train profiles.\n",
    "        train_profiles[user_id] = test_base_data[i] \n",
    "        \n",
    "        # We compute again the weight matrix B.\n",
    "        model.fit(train_profiles)\n",
    "        \n",
    "    recon_data = torch.vstack(recon_data).to(device)\n",
    "    \n",
    "    # We compute the RMSE values.\n",
    "    rmse_total, rmse_explicit, rmse_implicit = metrics.rmse_with_mask(test_base_data, true_test_data, recon_data, test_target_data, masked_test_ref)\n",
    "    \n",
    "    return rmse_total, rmse_explicit, rmse_implicit"
   ]
  },
  {
   "cell_type": "code",
   "execution_count": 19,
   "metadata": {},
   "outputs": [
    {
     "name": "stdout",
     "output_type": "stream",
     "text": [
      "| Epoch 0 | Total RMSE: 0.8515 ± 0.2387 | Explicit RMSE: 0.8493 ± 0.2355 | Implicit RMSE: 1.6425 ± 1.0592 | \n",
      "| Total time: 8.7714 s. | Train time: 0.0006 s. | Test time: 8.7707 s. | \n"
     ]
    }
   ],
   "source": [
    "model_name = 'ease'\n",
    "\n",
    "#######################################################################\n",
    "# Build the model\n",
    "#######################################################################\n",
    "model = models.EASE(lambda_p)\n",
    "\n",
    "#######################################################################\n",
    "# Training\n",
    "#######################################################################\n",
    "rmse_total_list, rmse_explicit_list, rmse_implicit_list = [], [], []\n",
    "train_times, test_times = [], []\n",
    "for epoch in range(1):\n",
    "    start_train_time = time.time()\n",
    "    train()\n",
    "    end_train_time = time.time() - start_train_time\n",
    "    train_times.append(end_train_time)\n",
    "    \n",
    "    start_test_time = time.time()\n",
    "    rmse_total, rmse_explicit, rmse_implicit = evaluate()\n",
    "    rmse_total_list.append(rmse_total)\n",
    "    rmse_explicit_list.append(rmse_explicit)\n",
    "    rmse_implicit_list.append(rmse_implicit)\n",
    "    end_test_time = time.time() - start_test_time\n",
    "    test_times.append(end_test_time)\n",
    "    \n",
    "    print(\"| Epoch {:d} | Total RMSE: {:5.4f} ± {:5.4f} | \"\n",
    "          \"Explicit RMSE: {:5.4f} ± {:5.4f} | \"\n",
    "          \"Implicit RMSE: {:5.4f} ± {:5.4f} | \".\n",
    "          format(epoch, torch.mean(rmse_total), torch.std(rmse_total),\n",
    "                 torch.mean(rmse_explicit), torch.std(rmse_explicit),\n",
    "                 torch.mean(rmse_implicit), torch.std(rmse_implicit)))\n",
    "print(\"| Total time: {:5.4f} s. | Train time: {:5.4f} s. | \"\n",
    "      \"Test time: {:5.4f} s. | \".\n",
    "      format(np.sum(np.concatenate((train_times, test_times), axis=0)), \n",
    "             np.sum(train_times), \n",
    "             np.sum(test_times)))\n",
    "with open('./models/model_ease_predict.pt', 'wb') as file:\n",
    "    torch.save(model.state_dict(), file)"
   ]
  },
  {
   "cell_type": "code",
   "execution_count": null,
   "metadata": {},
   "outputs": [],
   "source": []
  }
 ],
 "metadata": {
  "kernelspec": {
   "display_name": "SCMS",
   "language": "python",
   "name": "python3"
  },
  "language_info": {
   "codemirror_mode": {
    "name": "ipython",
    "version": 3
   },
   "file_extension": ".py",
   "mimetype": "text/x-python",
   "name": "python",
   "nbconvert_exporter": "python",
   "pygments_lexer": "ipython3",
   "version": "3.7.1"
  },
  "orig_nbformat": 4
 },
 "nbformat": 4,
 "nbformat_minor": 2
}
