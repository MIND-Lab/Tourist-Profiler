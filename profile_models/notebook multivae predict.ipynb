{
 "cells": [
  {
   "cell_type": "code",
   "execution_count": 1,
   "metadata": {},
   "outputs": [
    {
     "data": {
      "text/plain": [
       "False"
      ]
     },
     "execution_count": 1,
     "metadata": {},
     "output_type": "execute_result"
    }
   ],
   "source": [
    "import time\n",
    "import torch\n",
    "import random\n",
    "import numpy as np\n",
    "import pandas as pd\n",
    "import torch.optim as optim\n",
    "import matplotlib.pyplot as plt\n",
    "\n",
    "from Setting import Setting\n",
    "from Dataset import Dataset\n",
    "from Environment import Environment\n",
    "\n",
    "import utils.models as models\n",
    "import utils.metrics as metrics\n",
    "\n",
    "torch.cuda.is_available()"
   ]
  },
  {
   "cell_type": "markdown",
   "metadata": {},
   "source": [
    "# General settings"
   ]
  },
  {
   "cell_type": "code",
   "execution_count": 2,
   "metadata": {},
   "outputs": [],
   "source": [
    "# Set the random seed for reproducibility.\n",
    "random_seed = 1\n",
    "#tf.random.set_random_seed(random_seed)\n",
    "torch.manual_seed(random_seed)\n",
    "random.seed(random_seed)\n",
    "np.random.seed(random_seed)\n",
    "\n",
    "args = Setting()\n",
    "args.windowed_dataset = False\n",
    "device = args.device\n",
    "dataset = Dataset(args.dataset_path, args.batch_size, args.fast_testing)\n",
    "padding_number = dataset.num_items\n",
    "env = Environment(args, dataset, padding_number).to(device)"
   ]
  },
  {
   "cell_type": "markdown",
   "metadata": {},
   "source": [
    "# Import dataset"
   ]
  },
  {
   "cell_type": "code",
   "execution_count": 3,
   "metadata": {},
   "outputs": [
    {
     "data": {
      "text/plain": [
       "torch.Size([70829, 20])"
      ]
     },
     "execution_count": 3,
     "metadata": {},
     "output_type": "execute_result"
    }
   ],
   "source": [
    "train_seq_base_data = env.train_seq_base_data\n",
    "train_seq_base_data.shape"
   ]
  },
  {
   "cell_type": "code",
   "execution_count": 4,
   "metadata": {},
   "outputs": [
    {
     "data": {
      "text/plain": [
       "torch.Size([14913, 20])"
      ]
     },
     "execution_count": 4,
     "metadata": {},
     "output_type": "execute_result"
    }
   ],
   "source": [
    "test_seq_base_data = env.test_seq_base_data\n",
    "test_seq_base_data.shape"
   ]
  },
  {
   "cell_type": "code",
   "execution_count": 5,
   "metadata": {},
   "outputs": [
    {
     "data": {
      "text/plain": [
       "torch.Size([70829, 1])"
      ]
     },
     "execution_count": 5,
     "metadata": {},
     "output_type": "execute_result"
    }
   ],
   "source": [
    "train_seq_target_data = env.train_seq_target_data\n",
    "train_seq_target_data.shape"
   ]
  },
  {
   "cell_type": "code",
   "execution_count": 6,
   "metadata": {},
   "outputs": [
    {
     "data": {
      "text/plain": [
       "torch.Size([70829, 18])"
      ]
     },
     "execution_count": 6,
     "metadata": {},
     "output_type": "execute_result"
    }
   ],
   "source": [
    "train_base_data = env.train_base_data\n",
    "train_base_data.shape"
   ]
  },
  {
   "cell_type": "code",
   "execution_count": 7,
   "metadata": {},
   "outputs": [
    {
     "data": {
      "text/plain": [
       "torch.Size([14913, 18])"
      ]
     },
     "execution_count": 7,
     "metadata": {},
     "output_type": "execute_result"
    }
   ],
   "source": [
    "test_base_data = env.test_base_data\n",
    "test_base_data.shape"
   ]
  },
  {
   "cell_type": "code",
   "execution_count": 8,
   "metadata": {},
   "outputs": [],
   "source": [
    "true_train_data = train_base_data\n",
    "masked_multivae_train_data, masked_multivae_train_ref = env.mask_multivae_data(true_train_data)"
   ]
  },
  {
   "cell_type": "code",
   "execution_count": 9,
   "metadata": {},
   "outputs": [
    {
     "data": {
      "text/plain": [
       "torch.Size([70829, 18])"
      ]
     },
     "execution_count": 9,
     "metadata": {},
     "output_type": "execute_result"
    }
   ],
   "source": [
    "masked_multivae_train_data.shape"
   ]
  },
  {
   "cell_type": "code",
   "execution_count": 10,
   "metadata": {},
   "outputs": [
    {
     "data": {
      "text/plain": [
       "torch.Size([70829, 18])"
      ]
     },
     "execution_count": 10,
     "metadata": {},
     "output_type": "execute_result"
    }
   ],
   "source": [
    "masked_multivae_train_ref.shape"
   ]
  },
  {
   "cell_type": "code",
   "execution_count": 11,
   "metadata": {},
   "outputs": [],
   "source": [
    "true_test_data = test_base_data\n",
    "masked_multivae_test_data, masked_multivae_test_ref = env.mask_multivae_data(true_test_data)"
   ]
  },
  {
   "cell_type": "code",
   "execution_count": 12,
   "metadata": {},
   "outputs": [
    {
     "data": {
      "text/plain": [
       "torch.Size([14913, 18])"
      ]
     },
     "execution_count": 12,
     "metadata": {},
     "output_type": "execute_result"
    }
   ],
   "source": [
    "masked_multivae_test_data.shape"
   ]
  },
  {
   "cell_type": "code",
   "execution_count": 13,
   "metadata": {},
   "outputs": [
    {
     "data": {
      "text/plain": [
       "torch.Size([14913, 18])"
      ]
     },
     "execution_count": 13,
     "metadata": {},
     "output_type": "execute_result"
    }
   ],
   "source": [
    "masked_multivae_test_ref.shape"
   ]
  },
  {
   "cell_type": "code",
   "execution_count": 14,
   "metadata": {},
   "outputs": [
    {
     "data": {
      "text/plain": [
       "torch.Size([70829, 18])"
      ]
     },
     "execution_count": 14,
     "metadata": {},
     "output_type": "execute_result"
    }
   ],
   "source": [
    "train_target_data = env.train_target_data\n",
    "train_target_data.shape"
   ]
  },
  {
   "cell_type": "code",
   "execution_count": 15,
   "metadata": {},
   "outputs": [
    {
     "data": {
      "text/plain": [
       "torch.Size([14913, 18])"
      ]
     },
     "execution_count": 15,
     "metadata": {},
     "output_type": "execute_result"
    }
   ],
   "source": [
    "test_target_data = env.test_target_data\n",
    "test_target_data.shape"
   ]
  },
  {
   "cell_type": "code",
   "execution_count": 16,
   "metadata": {},
   "outputs": [
    {
     "name": "stdout",
     "output_type": "stream",
     "text": [
      "torch.Size([70829, 18])\n",
      "torch.Size([70829, 18])\n"
     ]
    }
   ],
   "source": [
    "true_train_data, masked_train_ref = env.mask_data(train_base_data, train_target_data)\n",
    "print(true_train_data.shape)\n",
    "print(masked_train_ref.shape)"
   ]
  },
  {
   "cell_type": "code",
   "execution_count": 17,
   "metadata": {},
   "outputs": [
    {
     "name": "stdout",
     "output_type": "stream",
     "text": [
      "torch.Size([14913, 18])\n",
      "torch.Size([14913, 18])\n"
     ]
    }
   ],
   "source": [
    "true_test_data, masked_test_ref = env.mask_data(test_base_data, test_target_data)\n",
    "print(true_test_data.shape)\n",
    "print(masked_test_ref.shape)"
   ]
  },
  {
   "cell_type": "markdown",
   "metadata": {},
   "source": [
    "# MultiVAE"
   ]
  },
  {
   "cell_type": "code",
   "execution_count": 18,
   "metadata": {},
   "outputs": [],
   "source": [
    "learning_rate = 1e-3\n",
    "weight_decay = 0.00\n",
    "epochs = 20\n",
    "n_users = dataset.n_users\n",
    "n_categories = dataset.n_categories\n",
    "# The total number of gradient updates for annealing.\n",
    "anneal_steps = 200000\n",
    "# Largest annealing parameter. \n",
    "anneal_cap = 0.2\n",
    "batch_size = 256"
   ]
  },
  {
   "cell_type": "markdown",
   "metadata": {},
   "source": [
    "## Functions"
   ]
  },
  {
   "cell_type": "code",
   "execution_count": 19,
   "metadata": {},
   "outputs": [],
   "source": [
    "def train():\n",
    "    # Turn on training mode.\n",
    "    model.train()\n",
    "    global update_count\n",
    "    N = len(train_seq_base_data)\n",
    "    idxs = list(range(N))\n",
    "    \n",
    "    train_loss_list = []\n",
    "    \n",
    "    for batch_idx, start_idx in enumerate(range(0, N, batch_size)):\n",
    "        end_idx = min(start_idx + batch_size, N)\n",
    "        batch_train_data = train_base_data[idxs[start_idx:end_idx]]\n",
    "        batch_target_data = train_target_data[idxs[start_idx:end_idx]]\n",
    "        batch_masked_train_data = masked_multivae_train_data[idxs[start_idx:end_idx]]\n",
    "\n",
    "        # We compute the annealing value. This can be used in the mse_loss\n",
    "        # to compute the KL divergence as a regularization term.\n",
    "        if anneal_steps > 0:\n",
    "            anneal = min(anneal_cap, 1. * update_count / anneal_steps)\n",
    "        else:\n",
    "            anneal = anneal_cap\n",
    "\n",
    "        optimizer.zero_grad()\n",
    "        # We compute the reconstructed profile and the mean and variance of\n",
    "        # the distribution.\n",
    "        batch_recon_data, mu, logvar = model(batch_masked_train_data)\n",
    "        \n",
    "        # We compute the loss and update the parameters.\n",
    "        loss = mse_loss(batch_recon_data, batch_target_data)\n",
    "        loss.backward()\n",
    "        train_loss_list.append(loss.item())\n",
    "        optimizer.step()\n",
    "        \n",
    "        # We update the count used for the annealing value.\n",
    "        update_count += 1\n",
    " \n",
    "    return train_loss_list"
   ]
  },
  {
   "cell_type": "code",
   "execution_count": 20,
   "metadata": {},
   "outputs": [],
   "source": [
    "def evaluate():\n",
    "    model.eval()\n",
    "    global update_count\n",
    "    N = len(test_seq_base_data)\n",
    "    idxs = list(range(N))\n",
    "    \n",
    "    test_loss_list = []\n",
    "    recon_data = []\n",
    "    \n",
    "    for batch_idx, start_idx in enumerate(range(0, N, batch_size)):\n",
    "        end_idx = min(start_idx + batch_size, N)\n",
    "        batch_test_data = test_base_data[idxs[start_idx:end_idx]]\n",
    "        batch_target_data = test_target_data[idxs[start_idx:end_idx]]\n",
    "        batch_masked_test_data = masked_multivae_test_data[idxs[start_idx:end_idx]]\n",
    "\n",
    "        # We compute the annealing value. This can be used in the mse_loss\n",
    "        # to compute the KL divergence as a regularization term.\n",
    "        if anneal_steps > 0:\n",
    "            anneal = min(anneal_cap, 1. * update_count / anneal_steps)\n",
    "        else:\n",
    "            anneal = anneal_cap\n",
    "            \n",
    "        with torch.no_grad():\n",
    "            # We compute the reconstructed profile and the mean and variance of\n",
    "            # the distribution.\n",
    "            batch_recon_data, mu, logvar = model(batch_masked_test_data)\n",
    "            # We compute the loss but don't update the parameters.\n",
    "            loss = mse_loss(batch_recon_data, batch_target_data)\n",
    "            test_loss_list.append(loss.item())\n",
    "\n",
    "        batch_recon_data = batch_recon_data.detach()\n",
    "        recon_data.append(batch_recon_data)    \n",
    "    \n",
    "    recon_data = torch.vstack(recon_data).to(device)\n",
    "\n",
    "    # We compute the RMSE values.\n",
    "    rmse_total, rmse_explicit, rmse_implicit = metrics.rmse_with_mask(test_base_data, true_test_data, recon_data, test_target_data, masked_test_ref)\n",
    "     \n",
    "    return rmse_total, rmse_explicit, rmse_implicit, test_loss_list"
   ]
  },
  {
   "cell_type": "markdown",
   "metadata": {},
   "source": [
    "# Train"
   ]
  },
  {
   "cell_type": "code",
   "execution_count": 21,
   "metadata": {},
   "outputs": [
    {
     "name": "stdout",
     "output_type": "stream",
     "text": [
      "| Epoch 1 | Total RMSE: 0.8141 ± 0.2964 | Explicit RMSE: 0.8132 ± 0.2961 | Implicit RMSE: 1.0825 ± 0.7465 | \n",
      "| Epoch 2 | Total RMSE: 0.7302 ± 0.2785 | Explicit RMSE: 0.7292 ± 0.2781 | Implicit RMSE: 1.0487 ± 0.6926 | \n",
      "| Epoch 3 | Total RMSE: 0.7119 ± 0.2669 | Explicit RMSE: 0.7109 ± 0.2667 | Implicit RMSE: 1.0177 ± 0.6898 | \n",
      "| Epoch 4 | Total RMSE: 0.7051 ± 0.2643 | Explicit RMSE: 0.7042 ± 0.2641 | Implicit RMSE: 1.0048 ± 0.6900 | \n",
      "| Epoch 5 | Total RMSE: 0.6990 ± 0.2627 | Explicit RMSE: 0.6981 ± 0.2625 | Implicit RMSE: 0.9934 ± 0.6914 | \n",
      "| Epoch 6 | Total RMSE: 0.6961 ± 0.2637 | Explicit RMSE: 0.6951 ± 0.2635 | Implicit RMSE: 0.9977 ± 0.7009 | \n",
      "| Epoch 7 | Total RMSE: 0.6939 ± 0.2628 | Explicit RMSE: 0.6930 ± 0.2625 | Implicit RMSE: 0.9910 ± 0.7120 | \n",
      "| Epoch 8 | Total RMSE: 0.6928 ± 0.2643 | Explicit RMSE: 0.6919 ± 0.2641 | Implicit RMSE: 0.9922 ± 0.7066 | \n",
      "| Epoch 9 | Total RMSE: 0.6920 ± 0.2655 | Explicit RMSE: 0.6911 ± 0.2653 | Implicit RMSE: 0.9990 ± 0.7060 | \n",
      "| Epoch 10 | Total RMSE: 0.6918 ± 0.2667 | Explicit RMSE: 0.6909 ± 0.2665 | Implicit RMSE: 0.9967 ± 0.7048 | \n",
      "| Epoch 11 | Total RMSE: 0.6912 ± 0.2677 | Explicit RMSE: 0.6902 ± 0.2676 | Implicit RMSE: 0.9969 ± 0.7064 | \n",
      "| Epoch 12 | Total RMSE: 0.6907 ± 0.2685 | Explicit RMSE: 0.6897 ± 0.2683 | Implicit RMSE: 1.0000 ± 0.7072 | \n",
      "| Epoch 13 | Total RMSE: 0.6906 ± 0.2687 | Explicit RMSE: 0.6896 ± 0.2685 | Implicit RMSE: 0.9935 ± 0.7068 | \n",
      "| Epoch 14 | Total RMSE: 0.6908 ± 0.2688 | Explicit RMSE: 0.6899 ± 0.2686 | Implicit RMSE: 0.9954 ± 0.7088 | \n",
      "| Epoch 15 | Total RMSE: 0.6906 ± 0.2704 | Explicit RMSE: 0.6896 ± 0.2702 | Implicit RMSE: 0.9967 ± 0.7105 | \n",
      "| Epoch 16 | Total RMSE: 0.6906 ± 0.2707 | Explicit RMSE: 0.6897 ± 0.2705 | Implicit RMSE: 0.9940 ± 0.7113 | \n",
      "| Epoch 17 | Total RMSE: 0.6904 ± 0.2708 | Explicit RMSE: 0.6894 ± 0.2707 | Implicit RMSE: 0.9960 ± 0.7053 | \n",
      "| Epoch 18 | Total RMSE: 0.6905 ± 0.2719 | Explicit RMSE: 0.6896 ± 0.2717 | Implicit RMSE: 0.9929 ± 0.7108 | \n",
      "| Epoch 19 | Total RMSE: 0.6899 ± 0.2709 | Explicit RMSE: 0.6889 ± 0.2707 | Implicit RMSE: 0.9965 ± 0.7091 | \n",
      "| Epoch 20 | Total RMSE: 0.6902 ± 0.2725 | Explicit RMSE: 0.6893 ± 0.2723 | Implicit RMSE: 0.9924 ± 0.7086 | \n",
      "| Total time: 165.4304 s. | Train time: 12.7932 s. | Test time: 152.6372 s. | \n"
     ]
    }
   ],
   "source": [
    "model_name = 'multivae'\n",
    "total_time = time.time()\n",
    "\n",
    "#######################################################################\n",
    "# Build the model\n",
    "#######################################################################\n",
    "p_dims = [8, 16, n_categories]\n",
    "model = models.MultiVAE(p_dims).to(device)\n",
    "optimizer = optim.Adam(model.parameters(), lr=learning_rate, weight_decay=weight_decay)\n",
    "mse_loss = models.CustomMSE(type=\"mse_loss\")\n",
    "update_count = 0\n",
    "\n",
    "#######################################################################\n",
    "# Training\n",
    "#######################################################################\n",
    "train_loss_list, test_loss_list = [], []\n",
    "rmse_total_list, rmse_explicit_list, rmse_implicit_list = [], [], []\n",
    "train_times, test_times = [], []\n",
    "for epoch in range(1, epochs + 1):\n",
    "    start_train_time = time.time()\n",
    "    train_loss = train()\n",
    "    train_loss_list.append(train_loss)\n",
    "    end_train_time = time.time() - start_train_time\n",
    "    train_times.append(end_train_time)\n",
    "    \n",
    "    start_test_time = time.time()\n",
    "    rmse_total, rmse_explicit, rmse_implicit, test_loss = evaluate()\n",
    "    rmse_total_list.append(rmse_total)\n",
    "    rmse_explicit_list.append(rmse_explicit)\n",
    "    rmse_implicit_list.append(rmse_implicit)\n",
    "    test_loss_list.append(test_loss)\n",
    "    end_test_time = time.time() - start_test_time\n",
    "    test_times.append(end_test_time)\n",
    "    \n",
    "    print(\"| Epoch {:d} | Total RMSE: {:5.4f} ± {:5.4f} | \"\n",
    "          \"Explicit RMSE: {:5.4f} ± {:5.4f} | \"\n",
    "          \"Implicit RMSE: {:5.4f} ± {:5.4f} | \".\n",
    "          format(epoch, torch.mean(rmse_total), torch.std(rmse_total),\n",
    "                 torch.mean(rmse_explicit), torch.std(rmse_explicit),\n",
    "                 torch.mean(rmse_implicit), torch.std(rmse_implicit)))\n",
    "    \n",
    "print(\"| Total time: {:5.4f} s. | Train time: {:5.4f} s. | \"\n",
    "      \"Test time: {:5.4f} s. | \".\n",
    "      format(np.sum(np.concatenate((train_times, test_times), axis=0)), \n",
    "             np.sum(train_times), \n",
    "             np.sum(test_times))) \n",
    "\n",
    "with open('./models/model_multivae_predict.pt', 'wb') as file:\n",
    "    torch.save(model.state_dict(), file)"
   ]
  },
  {
   "cell_type": "code",
   "execution_count": 22,
   "metadata": {},
   "outputs": [
    {
     "data": {
      "image/png": "[encoded data removed]",
      "text/plain": [
       "<Figure size 800x400 with 1 Axes>"
      ]
     },
     "metadata": {},
     "output_type": "display_data"
    }
   ],
   "source": [
    "epochs_list = np.arange(epochs)\n",
    "mean_train_loss = np.mean(train_loss_list, axis=1)\n",
    "std_train_loss = np.std(train_loss_list, axis=1)\n",
    "std_low_train_loss = mean_train_loss - std_train_loss\n",
    "std_high_train_loss = mean_train_loss + std_train_loss\n",
    "\n",
    "mean_test_loss = np.mean(test_loss_list, axis=1)\n",
    "std_test_loss = np.std(test_loss_list, axis=1)\n",
    "std_low_test_loss = mean_test_loss - std_test_loss\n",
    "std_high_test_loss = mean_test_loss + std_test_loss\n",
    "\n",
    "fig, axs = plt.subplots(1, 1, figsize=(8, 4))\n",
    "axs.plot(mean_train_loss, c='r', label='Train loss', linewidth=1.0)\n",
    "axs.fill_between(epochs_list, mean_train_loss, std_low_train_loss, color='r', alpha=.05)\n",
    "axs.fill_between(epochs_list, mean_train_loss, std_high_train_loss, color='r', alpha=.05)\n",
    "plt.plot(mean_test_loss, c='b', label='Test loss', linewidth=1.0)\n",
    "axs.fill_between(epochs_list, mean_test_loss, std_low_test_loss, color='b', alpha=.05)\n",
    "axs.fill_between(epochs_list, mean_test_loss, std_high_test_loss, color='b', alpha=.05)\n",
    "plt.legend(bbox_to_anchor=(1.05, 1), loc='upper left')\n",
    "plt.xlabel(\"Epoch\")\n",
    "plt.ylabel(\"MSE loss\")\n",
    "plt.xticks(np.arange(epochs_list.min(), epochs_list.max()+1, 1.0))\n",
    "plt.show()"
   ]
  },
  {
   "cell_type": "code",
   "execution_count": 23,
   "metadata": {},
   "outputs": [
    {
     "data": {
      "image/png": "[encoded data removed]",
      "text/plain": [
       "<Figure size 800x400 with 1 Axes>"
      ]
     },
     "metadata": {},
     "output_type": "display_data"
    }
   ],
   "source": [
    "rmse_total_list = torch.vstack(rmse_total_list)\n",
    "mean_rmse_total = torch.mean(rmse_total_list, dim=1)\n",
    "std_rmse_total = torch.std(rmse_total_list, dim=1)\n",
    "std_low_rmse_total = mean_rmse_total - std_rmse_total\n",
    "std_high_rmse_total = mean_rmse_total + std_rmse_total\n",
    "\n",
    "rmse_explicit_list = torch.vstack(rmse_explicit_list)\n",
    "mean_rmse_explicit = torch.mean(rmse_explicit_list, dim=1)\n",
    "std_rmse_explicit = torch.std(rmse_explicit_list, dim=1)\n",
    "std_low_rmse_explicit = mean_rmse_explicit - std_rmse_explicit\n",
    "std_high_rmse_explicit = mean_rmse_explicit + std_rmse_explicit\n",
    "\n",
    "rmse_implicit_list = torch.vstack(rmse_implicit_list)\n",
    "mean_rmse_implicit = torch.mean(rmse_implicit_list, dim=1)\n",
    "std_rmse_implicit = torch.std(rmse_implicit_list, dim=1)\n",
    "std_low_rmse_implicit = mean_rmse_implicit - std_rmse_implicit\n",
    "std_high_rmse_implicit = mean_rmse_implicit + std_rmse_implicit\n",
    "\n",
    "fig, axs = plt.subplots(1, 1, figsize=(8, 4))\n",
    "axs.plot(mean_rmse_total, c='r', label='Total RMSE', linewidth=1.0)\n",
    "axs.fill_between(epochs_list, mean_rmse_total, std_low_rmse_total, color='r', alpha=.05)\n",
    "axs.fill_between(epochs_list, mean_rmse_total, std_high_rmse_total, color='r', alpha=.05)\n",
    "plt.plot(mean_rmse_explicit, c='b', label='Explicit RMSE', linewidth=1.0)\n",
    "axs.fill_between(epochs_list, mean_rmse_explicit, std_low_rmse_explicit, color='b', alpha=.05)\n",
    "axs.fill_between(epochs_list, mean_rmse_explicit, std_high_rmse_explicit, color='b', alpha=.05)\n",
    "plt.plot(mean_rmse_implicit, c='g', label='Implicit RMSE', linewidth=1.0)\n",
    "axs.fill_between(epochs_list, mean_rmse_implicit, std_low_rmse_implicit, color='g', alpha=.05)\n",
    "axs.fill_between(epochs_list, mean_rmse_implicit, std_high_rmse_implicit, color='g', alpha=.05)\n",
    "plt.legend(bbox_to_anchor=(1.05, 1), loc='upper left')\n",
    "plt.xlabel(\"Epoch\")\n",
    "plt.ylabel(\"RMSE\")\n",
    "plt.xticks(np.arange(epochs_list.min(), epochs_list.max()+1, 1.0))\n",
    "plt.show()"
   ]
  },
  {
   "cell_type": "markdown",
   "metadata": {},
   "source": [
    "# Profile building"
   ]
  },
  {
   "cell_type": "code",
   "execution_count": 24,
   "metadata": {},
   "outputs": [],
   "source": [
    "# Profile building for the users of the train set. \n",
    "N = len(train_seq_base_data)\n",
    "idxs = list(range(N))\n",
    "train_seq_base_profiles = []\n",
    "for batch_idx, start_idx in enumerate(range(0, N, batch_size)):\n",
    "    end_idx = min(start_idx + batch_size, N)\n",
    "    batch_train_data = train_base_data[idxs[start_idx:end_idx]]\n",
    "    batch_masked_train_data = masked_multivae_train_data[idxs[start_idx:end_idx]]\n",
    "\n",
    "    # We compute the annealing value. This can be used in the mse_loss\n",
    "    # to compute the KL divergence as a regularization term.\n",
    "    if anneal_steps > 0:\n",
    "        anneal = min(anneal_cap, 1. * update_count / anneal_steps)\n",
    "    else:\n",
    "        anneal = anneal_cap\n",
    "    \n",
    "    with torch.no_grad():\n",
    "        # We compute the reconstructed profile and the mean and variance of\n",
    "        # the distribution.\n",
    "        batch_recon_data, mu, logvar = model(batch_masked_train_data)\n",
    "        train_seq_base_profiles.append(batch_recon_data)    \n",
    "train_seq_base_profiles = torch.vstack(train_seq_base_profiles).to(device)\n",
    "train_seq_base_profiles = train_seq_base_profiles.numpy()\n",
    "\n",
    "# Profile building for the users of the test set.\n",
    "N = len(test_seq_base_data)\n",
    "idxs = list(range(N))\n",
    "test_seq_base_profiles = []\n",
    "for batch_idx, start_idx in enumerate(range(0, N, batch_size)):\n",
    "    end_idx = min(start_idx + batch_size, N)\n",
    "    batch_test_data = test_base_data[idxs[start_idx:end_idx]]\n",
    "    batch_masked_test_data = masked_multivae_test_data[idxs[start_idx:end_idx]]\n",
    "\n",
    "    # We compute the annealing value. This can be used in the mse_loss\n",
    "    # to compute the KL divergence as a regularization term.\n",
    "    if anneal_steps > 0:\n",
    "        anneal = min(anneal_cap, 1. * update_count / anneal_steps)\n",
    "    else:\n",
    "        anneal = anneal_cap\n",
    "    \n",
    "    with torch.no_grad():\n",
    "        # We compute the reconstructed profile and the mean and variance of\n",
    "        # the distribution.\n",
    "        batch_recon_data, mu, logvar = model(batch_masked_test_data)\n",
    "        test_seq_base_profiles.append(batch_recon_data)    \n",
    "test_seq_base_profiles = torch.vstack(test_seq_base_profiles).to(device)\n",
    "test_seq_base_profiles = test_seq_base_profiles.numpy()\n",
    "\n",
    "dataframe_train_seq_base_profiles = pd.DataFrame(train_seq_base_profiles)\n",
    "dataframe_train_seq_base_profiles.to_csv(f\"{dataset.dataset_path}/preprocessed/train_profiles_multivae_predict.csv\", index=False)\n",
    "dataframe_test_seq_base_profiles = pd.DataFrame(test_seq_base_profiles)\n",
    "dataframe_test_seq_base_profiles.to_csv(f\"{dataset.dataset_path}/preprocessed/test_profiles_multivae_predict.csv\", index=False)"
   ]
  },
  {
   "cell_type": "code",
   "execution_count": null,
   "metadata": {},
   "outputs": [],
   "source": []
  },
  {
   "cell_type": "code",
   "execution_count": null,
   "metadata": {},
   "outputs": [],
   "source": []
  },
  {
   "cell_type": "code",
   "execution_count": null,
   "metadata": {},
   "outputs": [],
   "source": []
  }
 ],
 "metadata": {
  "kernelspec": {
   "display_name": "SCMS",
   "language": "python",
   "name": "python3"
  },
  "language_info": {
   "codemirror_mode": {
    "name": "ipython",
    "version": 3
   },
   "file_extension": ".py",
   "mimetype": "text/x-python",
   "name": "python",
   "nbconvert_exporter": "python",
   "pygments_lexer": "ipython3",
   "version": "3.7.1"
  },
  "orig_nbformat": 4
 },
 "nbformat": 4,
 "nbformat_minor": 2
}
