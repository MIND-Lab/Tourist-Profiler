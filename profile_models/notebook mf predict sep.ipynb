{
 "cells": [
  {
   "cell_type": "code",
   "execution_count": 1,
   "metadata": {},
   "outputs": [
    {
     "data": {
      "text/plain": [
       "False"
      ]
     },
     "execution_count": 1,
     "metadata": {},
     "output_type": "execute_result"
    }
   ],
   "source": [
    "import time\n",
    "import torch\n",
    "import random\n",
    "import numpy as np\n",
    "import pandas as pd\n",
    "import torch.optim as optim\n",
    "import matplotlib.pyplot as plt\n",
    "\n",
    "from Setting import Setting\n",
    "from Dataset import Dataset\n",
    "from Environment import Environment\n",
    "\n",
    "import utils.models as models\n",
    "import utils.metrics as metrics\n",
    "\n",
    "torch.cuda.is_available()"
   ]
  },
  {
   "cell_type": "markdown",
   "metadata": {},
   "source": [
    "# General settings"
   ]
  },
  {
   "cell_type": "code",
   "execution_count": 2,
   "metadata": {},
   "outputs": [],
   "source": [
    "# Set the random seed for reproducibility.\n",
    "random_seed = 1\n",
    "#tf.random.set_random_seed(random_seed)\n",
    "torch.manual_seed(random_seed)\n",
    "random.seed(random_seed)\n",
    "np.random.seed(random_seed)\n",
    "\n",
    "args = Setting()\n",
    "args.windowed_dataset = False\n",
    "device = args.device\n",
    "dataset = Dataset(args.dataset_path, args.batch_size, args.fast_testing)\n",
    "padding_number = dataset.num_items\n",
    "env = Environment(args, dataset, padding_number).to(device)"
   ]
  },
  {
   "cell_type": "markdown",
   "metadata": {},
   "source": [
    "# Import dataset"
   ]
  },
  {
   "cell_type": "code",
   "execution_count": 3,
   "metadata": {},
   "outputs": [
    {
     "data": {
      "text/plain": [
       "torch.Size([73353, 20])"
      ]
     },
     "execution_count": 3,
     "metadata": {},
     "output_type": "execute_result"
    }
   ],
   "source": [
    "train_sep_seq_base_data = env.train_sep_seq_base_data\n",
    "train_sep_seq_base_data.shape"
   ]
  },
  {
   "cell_type": "code",
   "execution_count": 4,
   "metadata": {},
   "outputs": [
    {
     "data": {
      "text/plain": [
       "torch.Size([14077, 20])"
      ]
     },
     "execution_count": 4,
     "metadata": {},
     "output_type": "execute_result"
    }
   ],
   "source": [
    "test_sep_seq_base_data = env.test_sep_seq_base_data\n",
    "test_sep_seq_base_data.shape"
   ]
  },
  {
   "cell_type": "code",
   "execution_count": 5,
   "metadata": {},
   "outputs": [
    {
     "data": {
      "text/plain": [
       "torch.Size([73353, 1])"
      ]
     },
     "execution_count": 5,
     "metadata": {},
     "output_type": "execute_result"
    }
   ],
   "source": [
    "train_sep_seq_target_data = env.train_sep_seq_target_data\n",
    "train_sep_seq_target_data.shape"
   ]
  },
  {
   "cell_type": "code",
   "execution_count": 6,
   "metadata": {},
   "outputs": [
    {
     "data": {
      "text/plain": [
       "torch.Size([73353, 18])"
      ]
     },
     "execution_count": 6,
     "metadata": {},
     "output_type": "execute_result"
    }
   ],
   "source": [
    "train_sep_base_data = env.train_sep_base_data\n",
    "train_sep_base_data.shape"
   ]
  },
  {
   "cell_type": "code",
   "execution_count": 7,
   "metadata": {},
   "outputs": [
    {
     "data": {
      "text/plain": [
       "torch.Size([14077, 18])"
      ]
     },
     "execution_count": 7,
     "metadata": {},
     "output_type": "execute_result"
    }
   ],
   "source": [
    "test_sep_base_data = env.test_sep_base_data\n",
    "test_sep_base_data.shape"
   ]
  },
  {
   "cell_type": "code",
   "execution_count": 8,
   "metadata": {},
   "outputs": [],
   "source": [
    "true_train_data = train_sep_base_data"
   ]
  },
  {
   "cell_type": "code",
   "execution_count": 9,
   "metadata": {},
   "outputs": [],
   "source": [
    "true_test_data = test_sep_base_data"
   ]
  },
  {
   "cell_type": "code",
   "execution_count": 10,
   "metadata": {},
   "outputs": [
    {
     "data": {
      "text/plain": [
       "torch.Size([73353, 18])"
      ]
     },
     "execution_count": 10,
     "metadata": {},
     "output_type": "execute_result"
    }
   ],
   "source": [
    "train_sep_target_data = env.train_sep_target_data\n",
    "train_sep_target_data.shape"
   ]
  },
  {
   "cell_type": "code",
   "execution_count": 11,
   "metadata": {},
   "outputs": [
    {
     "data": {
      "text/plain": [
       "torch.Size([14077, 18])"
      ]
     },
     "execution_count": 11,
     "metadata": {},
     "output_type": "execute_result"
    }
   ],
   "source": [
    "test_sep_target_data = env.test_sep_target_data\n",
    "test_sep_target_data.shape"
   ]
  },
  {
   "cell_type": "code",
   "execution_count": 12,
   "metadata": {},
   "outputs": [
    {
     "name": "stdout",
     "output_type": "stream",
     "text": [
      "torch.Size([73353, 18])\n",
      "torch.Size([73353, 18])\n"
     ]
    }
   ],
   "source": [
    "true_train_data, masked_train_ref = env.mask_data(train_sep_base_data, train_sep_target_data)\n",
    "print(true_train_data.shape)\n",
    "print(masked_train_ref.shape)"
   ]
  },
  {
   "cell_type": "code",
   "execution_count": 13,
   "metadata": {},
   "outputs": [
    {
     "name": "stdout",
     "output_type": "stream",
     "text": [
      "torch.Size([14077, 18])\n",
      "torch.Size([14077, 18])\n"
     ]
    }
   ],
   "source": [
    "true_test_data, masked_test_ref = env.mask_data(test_sep_base_data, test_sep_target_data)\n",
    "print(true_test_data.shape)\n",
    "print(masked_test_ref.shape)"
   ]
  },
  {
   "cell_type": "markdown",
   "metadata": {},
   "source": [
    "# Matrix Factorization"
   ]
  },
  {
   "cell_type": "code",
   "execution_count": 14,
   "metadata": {},
   "outputs": [],
   "source": [
    "learning_rate = 1e-3\n",
    "weight_decay = 0.00\n",
    "epochs = 20\n",
    "n_users = dataset.n_users\n",
    "n_categories = dataset.n_categories\n",
    "emb_dim = 20\n",
    "batch_size = 256"
   ]
  },
  {
   "cell_type": "markdown",
   "metadata": {},
   "source": [
    "## Functions"
   ]
  },
  {
   "cell_type": "code",
   "execution_count": 15,
   "metadata": {},
   "outputs": [],
   "source": [
    "def train_all_categories():\n",
    "    N = len(train_sep_seq_base_data)\n",
    "    idxs = list(range(N))\n",
    "    \n",
    "    train_loss_list = []\n",
    "    for batch_idx, start_idx in enumerate(range(0, N, batch_size)):\n",
    "        end_idx = min(start_idx + batch_size, N)\n",
    "        batch_train_data = train_sep_base_data[idxs[start_idx:end_idx]]\n",
    "        batch_target_data = train_sep_target_data[idxs[start_idx:end_idx]]\n",
    "        batch_train_seq_data = train_sep_seq_base_data[idxs[start_idx:end_idx]]\n",
    "    \n",
    "        batch_user_data = []\n",
    "        for i in range(len(batch_train_seq_data)):\n",
    "            user = int(batch_train_seq_data[i][0].item())\n",
    "            user_data = []\n",
    "            # For each user we add every possible category. In this way we\n",
    "            # can compute the rating for each category of a user profile.\n",
    "            for category in range(n_categories):\n",
    "                user_data.append([user, category])\n",
    "            user_data = torch.tensor(user_data).to(device)\n",
    "            batch_user_data.append(user_data)\n",
    "        batch_user_data = torch.vstack(batch_user_data).to(device)\n",
    "        \n",
    "        # We predict the rating for the categories.\n",
    "        batch_recon_data = model(batch_user_data)\n",
    "        # Since we have every possible category for each user, we can build \n",
    "        # user profiles.\n",
    "        batch_recon_data = torch.reshape(batch_recon_data, (len(batch_train_seq_data), n_categories)).to(device)\n",
    "        optimizer.zero_grad()\n",
    "        # We compute the loss and update the parameters.\n",
    "        loss = mse_loss(batch_recon_data, batch_target_data)\n",
    "        loss.backward()\n",
    "        optimizer.step()\n",
    "        train_loss_list.append(loss.item())\n",
    "    \n",
    "    return train_loss_list"
   ]
  },
  {
   "cell_type": "code",
   "execution_count": 16,
   "metadata": {},
   "outputs": [],
   "source": [
    "def evaluate():\n",
    "    N = len(test_sep_seq_base_data)\n",
    "    idxs = list(range(N))\n",
    "    \n",
    "    recon_data = []\n",
    "    test_loss_list = []\n",
    "    for batch_idx, start_idx in enumerate(range(0, N, batch_size)):\n",
    "        end_idx = min(start_idx + batch_size, N)\n",
    "        batch_test_data = test_sep_base_data[idxs[start_idx:end_idx]]\n",
    "        batch_target_data = test_sep_target_data[idxs[start_idx:end_idx]]\n",
    "        batch_test_seq_data = test_sep_seq_base_data[idxs[start_idx:end_idx]]\n",
    "    \n",
    "        batch_user_data = []\n",
    "        for i in range(len(batch_test_seq_data)):\n",
    "            user = int(batch_test_seq_data[i][0].item())\n",
    "            user_data = []\n",
    "            # For each user we add every possible category. In this way we\n",
    "            # can compute the rating for each category of a user profile.\n",
    "            for category in range(n_categories):\n",
    "                user_data.append([user, category])\n",
    "            user_data = torch.tensor(user_data).to(device)\n",
    "            batch_user_data.append(user_data)\n",
    "        batch_user_data = torch.vstack(batch_user_data).to(device)\n",
    "        \n",
    "        # We predict the rating for the categories.\n",
    "        batch_recon_data = model(batch_user_data)\n",
    "        # Since we have every possible category for each user, we can build \n",
    "        # user profiles.\n",
    "        batch_recon_data = torch.reshape(batch_recon_data.detach(), (len(batch_test_seq_data), n_categories)).to(device)\n",
    "        # We compute the loss but we don't update the parameters.\n",
    "        loss = mse_loss(batch_recon_data, batch_target_data)\n",
    "        test_loss_list.append(loss.item())\n",
    "        recon_data.append(batch_recon_data)\n",
    "    recon_data = torch.vstack(recon_data).to(device)\n",
    "    \n",
    "    # We compute the RMSE values.\n",
    "    rmse_total, rmse_explicit, rmse_implicit = metrics.rmse_with_mask(test_sep_base_data, true_test_data, recon_data, test_sep_target_data, masked_test_ref)\n",
    "     \n",
    "    return rmse_total, rmse_explicit, rmse_implicit, test_loss_list"
   ]
  },
  {
   "cell_type": "markdown",
   "metadata": {},
   "source": [
    "# Train"
   ]
  },
  {
   "cell_type": "code",
   "execution_count": 17,
   "metadata": {},
   "outputs": [
    {
     "name": "stdout",
     "output_type": "stream",
     "text": [
      "| Epoch 1 | Total RMSE: 0.8672 ± 0.2493 | Explicit RMSE: 0.8628 ± 0.2436 | Implicit RMSE: 0.9912 ± 0.6562 | \n",
      "| Epoch 2 | Total RMSE: 0.7749 ± 0.2431 | Explicit RMSE: 0.7700 ± 0.2375 | Implicit RMSE: 0.9534 ± 0.5973 | \n",
      "| Epoch 3 | Total RMSE: 0.7567 ± 0.2483 | Explicit RMSE: 0.7517 ± 0.2428 | Implicit RMSE: 0.9424 ± 0.5944 | \n",
      "| Epoch 4 | Total RMSE: 0.7501 ± 0.2511 | Explicit RMSE: 0.7451 ± 0.2458 | Implicit RMSE: 0.9376 ± 0.5951 | \n",
      "| Epoch 5 | Total RMSE: 0.7475 ± 0.2524 | Explicit RMSE: 0.7426 ± 0.2470 | Implicit RMSE: 0.9352 ± 0.5961 | \n",
      "| Epoch 6 | Total RMSE: 0.7459 ± 0.2532 | Explicit RMSE: 0.7409 ± 0.2479 | Implicit RMSE: 0.9335 ± 0.5971 | \n",
      "| Epoch 7 | Total RMSE: 0.7459 ± 0.2532 | Explicit RMSE: 0.7409 ± 0.2479 | Implicit RMSE: 0.9330 ± 0.5977 | \n",
      "| Epoch 8 | Total RMSE: 0.7438 ± 0.2544 | Explicit RMSE: 0.7388 ± 0.2491 | Implicit RMSE: 0.9312 ± 0.5985 | \n",
      "| Epoch 9 | Total RMSE: 0.7447 ± 0.2538 | Explicit RMSE: 0.7397 ± 0.2486 | Implicit RMSE: 0.9315 ± 0.5988 | \n",
      "| Epoch 10 | Total RMSE: 0.7448 ± 0.2538 | Explicit RMSE: 0.7398 ± 0.2485 | Implicit RMSE: 0.9313 ± 0.5991 | \n",
      "| Epoch 11 | Total RMSE: 0.7428 ± 0.2550 | Explicit RMSE: 0.7378 ± 0.2497 | Implicit RMSE: 0.9297 ± 0.5996 | \n",
      "| Epoch 12 | Total RMSE: 0.7457 ± 0.2532 | Explicit RMSE: 0.7407 ± 0.2479 | Implicit RMSE: 0.9315 ± 0.5993 | \n",
      "| Epoch 13 | Total RMSE: 0.7434 ± 0.2546 | Explicit RMSE: 0.7384 ± 0.2494 | Implicit RMSE: 0.9299 ± 0.5996 | \n",
      "| Epoch 14 | Total RMSE: 0.7444 ± 0.2541 | Explicit RMSE: 0.7394 ± 0.2488 | Implicit RMSE: 0.9305 ± 0.5993 | \n",
      "| Epoch 15 | Total RMSE: 0.7440 ± 0.2544 | Explicit RMSE: 0.7390 ± 0.2492 | Implicit RMSE: 0.9303 ± 0.5994 | \n",
      "| Epoch 16 | Total RMSE: 0.7433 ± 0.2550 | Explicit RMSE: 0.7383 ± 0.2498 | Implicit RMSE: 0.9298 ± 0.5995 | \n",
      "| Epoch 17 | Total RMSE: 0.7438 ± 0.2548 | Explicit RMSE: 0.7388 ± 0.2495 | Implicit RMSE: 0.9302 ± 0.5994 | \n",
      "| Epoch 18 | Total RMSE: 0.7425 ± 0.2557 | Explicit RMSE: 0.7375 ± 0.2505 | Implicit RMSE: 0.9292 ± 0.5999 | \n",
      "| Epoch 19 | Total RMSE: 0.7435 ± 0.2552 | Explicit RMSE: 0.7385 ± 0.2500 | Implicit RMSE: 0.9298 ± 0.5998 | \n",
      "| Epoch 20 | Total RMSE: 0.7419 ± 0.2564 | Explicit RMSE: 0.7369 ± 0.2512 | Implicit RMSE: 0.9286 ± 0.6004 | \n",
      "| Total time: 239.8991 s. | Train time: 59.1990 s. | Test time: 180.7001 s. | \n"
     ]
    }
   ],
   "source": [
    "model_name = 'mf'\n",
    "total_time = time.time()\n",
    "\n",
    "#######################################################################\n",
    "# Build the model\n",
    "#######################################################################\n",
    "model = models.MatrixFactorization(n_users, n_categories, emb_dim).to(device)\n",
    "optimizer = optim.Adam(model.parameters(), lr=learning_rate, weight_decay=weight_decay)\n",
    "mse_loss = models.CustomMSE(type=\"mse_loss\")\n",
    "\n",
    "#######################################################################\n",
    "# Training\n",
    "#######################################################################\n",
    "train_loss_list, test_loss_list = [], []\n",
    "rmse_total_list, rmse_explicit_list, rmse_implicit_list = [], [], []\n",
    "train_times, test_times = [], []\n",
    "for epoch in range(1, epochs + 1):\n",
    "    start_train_time = time.time()\n",
    "    train_loss = train_all_categories()\n",
    "    train_loss_list.append(train_loss)\n",
    "    end_train_time = time.time() - start_train_time\n",
    "    train_times.append(end_train_time)\n",
    "    \n",
    "    start_test_time = time.time()\n",
    "    rmse_total, rmse_explicit, rmse_implicit, test_loss = evaluate()\n",
    "    rmse_total_list.append(rmse_total)\n",
    "    rmse_explicit_list.append(rmse_explicit)\n",
    "    rmse_implicit_list.append(rmse_implicit)\n",
    "    test_loss_list.append(test_loss)\n",
    "    end_test_time = time.time() - start_test_time\n",
    "    test_times.append(end_test_time)\n",
    "    \n",
    "    print(\"| Epoch {:d} | Total RMSE: {:5.4f} ± {:5.4f} | \"\n",
    "          \"Explicit RMSE: {:5.4f} ± {:5.4f} | \"\n",
    "          \"Implicit RMSE: {:5.4f} ± {:5.4f} | \".\n",
    "          format(epoch, torch.mean(rmse_total), torch.std(rmse_total),\n",
    "                 torch.mean(rmse_explicit), torch.std(rmse_explicit),\n",
    "                 torch.mean(rmse_implicit), torch.std(rmse_implicit)))\n",
    "    \n",
    "print(\"| Total time: {:5.4f} s. | Train time: {:5.4f} s. | \"\n",
    "      \"Test time: {:5.4f} s. | \".\n",
    "      format(np.sum(np.concatenate((train_times, test_times), axis=0)), \n",
    "             np.sum(train_times), \n",
    "             np.sum(test_times)))  \n",
    "\n",
    "with open('./models/model_mf_predict_sep.pt', 'wb') as file:\n",
    "    torch.save(model.state_dict(), file)"
   ]
  },
  {
   "cell_type": "code",
   "execution_count": 18,
   "metadata": {},
   "outputs": [
    {
     "data": {
      "image/png": "[encoded data removed]",
      "text/plain": [
       "<Figure size 800x400 with 1 Axes>"
      ]
     },
     "metadata": {},
     "output_type": "display_data"
    }
   ],
   "source": [
    "epochs_list = np.arange(epochs)\n",
    "mean_train_loss = np.mean(train_loss_list, axis=1)\n",
    "std_train_loss = np.std(train_loss_list, axis=1)\n",
    "std_low_train_loss = mean_train_loss - std_train_loss\n",
    "std_high_train_loss = mean_train_loss + std_train_loss\n",
    "\n",
    "mean_test_loss = np.mean(test_loss_list, axis=1)\n",
    "std_test_loss = np.std(test_loss_list, axis=1)\n",
    "std_low_test_loss = mean_test_loss - std_test_loss\n",
    "std_high_test_loss = mean_test_loss + std_test_loss\n",
    "\n",
    "fig, axs = plt.subplots(1, 1, figsize=(8, 4))\n",
    "axs.plot(mean_train_loss, c='r', label='Train loss', linewidth=1.0)\n",
    "axs.fill_between(epochs_list, mean_train_loss, std_low_train_loss, color='r', alpha=.05)\n",
    "axs.fill_between(epochs_list, mean_train_loss, std_high_train_loss, color='r', alpha=.05)\n",
    "plt.plot(mean_test_loss, c='b', label='Test loss', linewidth=1.0)\n",
    "axs.fill_between(epochs_list, mean_test_loss, std_low_test_loss, color='b', alpha=.05)\n",
    "axs.fill_between(epochs_list, mean_test_loss, std_high_test_loss, color='b', alpha=.05)\n",
    "plt.legend(bbox_to_anchor=(1.05, 1), loc='upper left')\n",
    "plt.xlabel(\"Epoch\")\n",
    "plt.ylabel(\"MSE loss\")\n",
    "plt.xticks(np.arange(epochs_list.min(), epochs_list.max()+1, 1.0))\n",
    "plt.show()"
   ]
  },
  {
   "cell_type": "code",
   "execution_count": 19,
   "metadata": {},
   "outputs": [
    {
     "data": {
      "image/png": "[encoded data removed]",
      "text/plain": [
       "<Figure size 800x400 with 1 Axes>"
      ]
     },
     "metadata": {},
     "output_type": "display_data"
    }
   ],
   "source": [
    "rmse_total_list = torch.vstack(rmse_total_list)\n",
    "mean_rmse_total = torch.mean(rmse_total_list, dim=1)\n",
    "std_rmse_total = torch.std(rmse_total_list, dim=1)\n",
    "std_low_rmse_total = mean_rmse_total - std_rmse_total\n",
    "std_high_rmse_total = mean_rmse_total + std_rmse_total\n",
    "\n",
    "rmse_explicit_list = torch.vstack(rmse_explicit_list)\n",
    "mean_rmse_explicit = torch.mean(rmse_explicit_list, dim=1)\n",
    "std_rmse_explicit = torch.std(rmse_explicit_list, dim=1)\n",
    "std_low_rmse_explicit = mean_rmse_explicit - std_rmse_explicit\n",
    "std_high_rmse_explicit = mean_rmse_explicit + std_rmse_explicit\n",
    "\n",
    "rmse_implicit_list = torch.vstack(rmse_implicit_list)\n",
    "mean_rmse_implicit = torch.mean(rmse_implicit_list, dim=1)\n",
    "std_rmse_implicit = torch.std(rmse_implicit_list, dim=1)\n",
    "std_low_rmse_implicit = mean_rmse_implicit - std_rmse_implicit\n",
    "std_high_rmse_implicit = mean_rmse_implicit + std_rmse_implicit\n",
    "\n",
    "fig, axs = plt.subplots(1, 1, figsize=(8, 4))\n",
    "axs.plot(mean_rmse_total, c='r', label='Total RMSE', linewidth=1.0)\n",
    "axs.fill_between(epochs_list, mean_rmse_total, std_low_rmse_total, color='r', alpha=.05)\n",
    "axs.fill_between(epochs_list, mean_rmse_total, std_high_rmse_total, color='r', alpha=.05)\n",
    "plt.plot(mean_rmse_explicit, c='b', label='Explicit RMSE', linewidth=1.0)\n",
    "axs.fill_between(epochs_list, mean_rmse_explicit, std_low_rmse_explicit, color='b', alpha=.05)\n",
    "axs.fill_between(epochs_list, mean_rmse_explicit, std_high_rmse_explicit, color='b', alpha=.05)\n",
    "plt.plot(mean_rmse_implicit, c='g', label='Implicit RMSE', linewidth=1.0)\n",
    "axs.fill_between(epochs_list, mean_rmse_implicit, std_low_rmse_implicit, color='g', alpha=.05)\n",
    "axs.fill_between(epochs_list, mean_rmse_implicit, std_high_rmse_implicit, color='g', alpha=.05)\n",
    "plt.legend(bbox_to_anchor=(1.05, 1), loc='upper left')\n",
    "plt.xlabel(\"Epoch\")\n",
    "plt.ylabel(\"RMSE\")\n",
    "plt.xticks(np.arange(epochs_list.min(), epochs_list.max()+1, 1.0))\n",
    "plt.show()"
   ]
  },
  {
   "cell_type": "markdown",
   "metadata": {},
   "source": [
    "# Profile building"
   ]
  },
  {
   "cell_type": "code",
   "execution_count": 20,
   "metadata": {},
   "outputs": [],
   "source": [
    "# Profile building for the users of the train set. \n",
    "N = len(train_sep_seq_base_data)\n",
    "idxs = list(range(N))\n",
    "train_sep_seq_base_profiles = []\n",
    "for batch_idx, start_idx in enumerate(range(0, N, batch_size)):\n",
    "    end_idx = min(start_idx + batch_size, N)\n",
    "    batch_train_data = train_sep_base_data[idxs[start_idx:end_idx]]\n",
    "    batch_train_seq_data = train_sep_seq_base_data[idxs[start_idx:end_idx]]\n",
    "\n",
    "    batch_user_data = []\n",
    "    for i in range(len(batch_train_seq_data)):\n",
    "        user = int(batch_train_seq_data[i][0].item())\n",
    "        user_data = []\n",
    "        for category in range(n_categories):\n",
    "            user_data.append([user, category])\n",
    "        user_data = torch.tensor(user_data).to(device)\n",
    "        batch_user_data.append(user_data)\n",
    "    batch_user_data = torch.vstack(batch_user_data).to(device)\n",
    "    \n",
    "    batch_recon_data = model(batch_user_data)\n",
    "    batch_recon_data = torch.reshape(batch_recon_data.detach(), (len(batch_train_seq_data), n_categories)).to(device)\n",
    "    train_sep_seq_base_profiles.append(batch_recon_data)\n",
    "train_sep_seq_base_profiles = torch.vstack(train_sep_seq_base_profiles).to(device)\n",
    "train_sep_seq_base_profiles = train_sep_seq_base_profiles.numpy()\n",
    "\n",
    "# Profile building for the users of the test set.\n",
    "N = len(test_sep_seq_base_data)\n",
    "idxs = list(range(N))\n",
    "test_sep_seq_base_profiles = []\n",
    "for batch_idx, start_idx in enumerate(range(0, N, batch_size)):\n",
    "    end_idx = min(start_idx + batch_size, N)\n",
    "    batch_test_data = test_sep_base_data[idxs[start_idx:end_idx]]\n",
    "    batch_test_seq_data = test_sep_seq_base_data[idxs[start_idx:end_idx]]\n",
    "\n",
    "    batch_user_data = []\n",
    "    for i in range(len(batch_test_seq_data)):\n",
    "        user = int(batch_test_seq_data[i][0].item())\n",
    "        user_data = []\n",
    "        for category in range(n_categories):\n",
    "            user_data.append([user, category])\n",
    "        user_data = torch.tensor(user_data).to(device)\n",
    "        batch_user_data.append(user_data)\n",
    "    batch_user_data = torch.vstack(batch_user_data).to(device)\n",
    "    \n",
    "    batch_recon_data = model(batch_user_data)\n",
    "    batch_recon_data = torch.reshape(batch_recon_data.detach(), (len(batch_test_seq_data), n_categories)).to(device)\n",
    "    test_sep_seq_base_profiles.append(batch_recon_data)\n",
    "test_sep_seq_base_profiles = torch.vstack(test_sep_seq_base_profiles).to(device)\n",
    "test_sep_seq_base_profiles = test_sep_seq_base_profiles.numpy()\n",
    "\n",
    "dataframe_train_seq_base_profiles = pd.DataFrame(train_sep_seq_base_profiles)\n",
    "dataframe_train_seq_base_profiles.to_csv(f\"{dataset.dataset_path}/preprocessed/train_sep_profiles_mf_predict.csv\", index=False)\n",
    "dataframe_test_seq_base_profiles = pd.DataFrame(test_sep_seq_base_profiles)\n",
    "dataframe_test_seq_base_profiles.to_csv(f\"{dataset.dataset_path}/preprocessed/test_sep_profiles_mf_predict.csv\", index=False)"
   ]
  }
 ],
 "metadata": {
  "kernelspec": {
   "display_name": "SCMS",
   "language": "python",
   "name": "python3"
  },
  "language_info": {
   "codemirror_mode": {
    "name": "ipython",
    "version": 3
   },
   "file_extension": ".py",
   "mimetype": "text/x-python",
   "name": "python",
   "nbconvert_exporter": "python",
   "pygments_lexer": "ipython3",
   "version": "3.7.1"
  },
  "orig_nbformat": 4
 },
 "nbformat": 4,
 "nbformat_minor": 2
}
